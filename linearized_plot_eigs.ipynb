{
 "cells": [
  {
   "cell_type": "code",
   "execution_count": 2,
   "metadata": {},
   "outputs": [],
   "source": [
    "import torch\n",
    "import numpy as np\n",
    "torch.set_default_tensor_type(torch.DoubleTensor)"
   ]
  },
  {
   "cell_type": "code",
   "execution_count": 3,
   "metadata": {},
   "outputs": [],
   "source": [
    "from ScalingDimensions import get_scaling_dimensions\n",
    "import glob"
   ]
  },
  {
   "cell_type": "code",
   "execution_count": 4,
   "metadata": {},
   "outputs": [
    {
     "name": "stdout",
     "output_type": "stream",
     "text": [
      "['data/hotrg_gilt_X24_lTRG_L10.pkl', 'data/hotrg_gilt_X24_lTRG_L20.pkl', 'data/hotrg_gilt_X24_lTRG_gilt_L10.pkl', 'data/hotrg_gilt_X24_lTRG_gilt_L20.pkl', 'data/hotrg_gilt_X32_lTRG_gilt_L20.pkl', 'data/hotrg_gilt_X44_lTRG_gilt_L20.pkl', 'data/tnr_X16_lTRG_L10.pkl']\n"
     ]
    }
   ],
   "source": [
    "filenames=glob.glob('data/*_lTRG_*.pkl')\n",
    "filenames.sort()\n",
    "print(filenames)"
   ]
  },
  {
   "cell_type": "code",
   "execution_count": 5,
   "metadata": {},
   "outputs": [
    {
     "name": "stdout",
     "output_type": "stream",
     "text": [
      "data/hotrg_gilt_X24_lTRG_L10.pkl\n",
      "[-0.          0.12965908  1.03529772  1.15595028  1.15717154  2.01043118\n",
      "  2.0142153   2.02085522  2.05754861  2.05842916  2.06849423  2.18765264\n",
      "  2.25298147  2.26697495  2.27549406  2.2993119 ]\n",
      "data/hotrg_gilt_X24_lTRG_L20.pkl\n",
      "[-0.          0.1232471   1.03527199  1.16221508  1.16270198  2.01278687\n",
      "  2.01687249  2.01807897  2.05567953  2.05730837  2.11476426  2.16073306\n",
      "  2.22751374  2.22751374  2.25520859  2.25520859]\n",
      "data/hotrg_gilt_X24_lTRG_gilt_L10.pkl\n",
      "[-0.          0.12789779  1.00792272  1.1311525   1.14864262  1.98467098\n",
      "  2.01041944  2.01426294  2.02863967  2.14498724  2.20183428  2.21892974\n",
      "  2.52361641  2.66642187  2.70067199  2.79904799]\n",
      "data/hotrg_gilt_X24_lTRG_gilt_L20.pkl\n",
      "[-0.          0.12196331  1.00277016  1.13318029  1.15124793  1.99937928\n",
      "  2.00144872  2.00498986  2.05131944  2.12225375  2.19956295  2.20385723\n",
      "  2.50791672  2.68852379  2.69886046  2.79544067]\n",
      "data/hotrg_gilt_X32_lTRG_gilt_L20.pkl\n",
      "[-0.          0.1224544   1.00082477  1.13217895  1.15057559  1.98889105\n",
      "  2.00065802  2.00492317  2.04296709  2.11796548  2.19314457  2.20362104\n",
      "  2.5060963   2.68240463  2.69242225  2.79634372]\n",
      "data/hotrg_gilt_X44_lTRG_gilt_L20.pkl\n",
      "[-0.          0.12245848  1.00069367  1.1321323   1.15060473  1.98799536\n",
      "  2.00065798  2.00492276  2.04207509  2.117875    2.19305979  2.20413216\n",
      "  2.50365401  2.65710962  2.69131685  2.79744701]\n",
      "data/tnr_X16_lTRG_L10.pkl\n",
      "[-0.          0.12527481  1.06895592  1.20741207  1.21498783  2.00961978\n",
      "  2.04040283  2.04158245  2.12023457  2.12190899  2.16195785  2.2188127\n",
      "  2.48118463  2.51330136  2.54815336  2.61514213]\n"
     ]
    }
   ],
   "source": [
    "for filename in sorted(filenames):\n",
    "    print(filename)\n",
    "    options,sr,ur=torch.load(filename)\n",
    "    #sort sr\n",
    "    sr,ur=sr.abs()[sr.abs().argsort(descending=True)],ur[:,sr.abs().argsort(descending=True)]\n",
    "    # detect if there are cyl or lTRG in filename\n",
    "    if 'cyl' in filename:\n",
    "        scaling=np.exp(2*np.pi/4)\n",
    "    elif 'lTRG' in filename:\n",
    "        scaling=2\n",
    "    else:\n",
    "        assert False\n",
    "    print(get_scaling_dimensions(sr,scaling=scaling).cpu().numpy())"
   ]
  },
  {
   "cell_type": "code",
   "execution_count": null,
   "metadata": {},
   "outputs": [],
   "source": []
  }
 ],
 "metadata": {
  "kernelspec": {
   "display_name": "tf-gpu",
   "language": "python",
   "name": "tf-gpu"
  },
  "orig_nbformat": 4
 },
 "nbformat": 4,
 "nbformat_minor": 2
}
