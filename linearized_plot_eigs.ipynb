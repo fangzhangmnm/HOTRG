{
 "cells": [
  {
   "cell_type": "code",
   "execution_count": 11,
   "metadata": {},
   "outputs": [],
   "source": [
    "import torch\n",
    "import numpy as np\n",
    "torch.set_default_tensor_type(torch.DoubleTensor)"
   ]
  },
  {
   "cell_type": "code",
   "execution_count": 18,
   "metadata": {},
   "outputs": [],
   "source": [
    "from ScalingDimensions import get_scaling_dimensions\n",
    "import glob"
   ]
  },
  {
   "cell_type": "code",
   "execution_count": 25,
   "metadata": {},
   "outputs": [
    {
     "name": "stdout",
     "output_type": "stream",
     "text": [
      "['data/hotrg_X24_L10_eigs_cyl.pkl', 'data/hotrg_X24_L10_eigs_lTRG.pkl', 'data/hotrg_X24_L20_eigs_cyl.pkl', 'data/hotrg_X24_L20_eigs_lTRG.pkl', 'data/hotrg_gilt_X24_L10_eigs_cyl.pkl', 'data/hotrg_gilt_X24_L20_eigs_cyl.pkl', 'data/hotrg_gilt_X24_L20_eigs_lTRG.pkl', 'data/hotrg_gilt_X24_L20_gilt_eigs_lTRG.pkl', 'data/hotrg_gilt_X24_L20_mysvd_eigs_lTRG.pkl', 'data/tnr_X16_L10_eigs_cyl.pkl']\n"
     ]
    }
   ],
   "source": [
    "filenames=glob.glob('data/*_eigs_*.pkl')\n",
    "filenames=[f for f in filenames if 'options' not in f]\n",
    "filenames.sort()\n",
    "print(filenames)"
   ]
  },
  {
   "cell_type": "code",
   "execution_count": 26,
   "metadata": {},
   "outputs": [
    {
     "name": "stdout",
     "output_type": "stream",
     "text": [
      "data/hotrg_X24_L10_eigs_cyl.pkl\n",
      "[-0.          0.12504969  1.00058231  1.12580121  1.12580121  2.00200345\n",
      "  2.00217322  2.00251519  2.00251519  2.12713135  2.12728986  2.13042278\n",
      "  3.00574234  3.00593107  3.0071489   3.0071489 ]\n",
      "data/hotrg_X24_L10_eigs_lTRG.pkl\n",
      "[-0.          0.13833645  0.88088521  1.03173751  1.03239657  1.57252128\n",
      "  1.58299621  1.63191734  1.6987472   1.70264389  1.70552356  1.77899227\n",
      "  1.87661491  1.88035609  1.88473274  1.88788649]\n",
      "data/hotrg_X24_L20_eigs_cyl.pkl\n",
      "[-0.          0.1342949   1.00939631  1.13045887  1.13045887  2.0505682\n",
      "  2.05346399  2.07110129  2.07110129  2.1931819   2.20777561  2.26390586\n",
      "  2.96292238  2.96540582  2.96540582  2.96830341]\n",
      "data/hotrg_X24_L20_eigs_lTRG.pkl\n",
      "[-0.          0.15140648  0.99233267  1.11033435  1.11049432  1.78448484\n",
      "  1.7858353   1.82413202  1.85566772  1.86202627  1.86873968  1.90573894\n",
      "  1.91609749  1.93532491  1.93773254  1.93868571]\n",
      "data/hotrg_gilt_X24_L10_eigs_cyl.pkl\n",
      "[-0.          0.12511879  1.00289972  1.12843831  1.1284428   2.00720874\n",
      "  2.00787595  2.0095038   2.00951035  2.13421558  2.13660447  2.13833424\n",
      "  3.01824705  3.02210122  3.0222745   3.0223236 ]\n",
      "data/hotrg_gilt_X24_L20_eigs_cyl.pkl\n",
      "[-0.          0.1217476   1.00603313  1.13595376  1.13601785  2.01463718\n",
      "  2.01517456  2.01661452  2.01665324  2.13728982  2.15022919  2.15110918\n",
      "  3.02895882  3.03722894  3.03754313  3.03772975]\n",
      "data/hotrg_gilt_X24_L20_eigs_lTRG.pkl\n",
      "[-0.          0.13581331  0.85046722  1.01070115  1.01215832  1.48749118\n",
      "  1.49998267  1.52727762  1.61160898  1.63125983  1.63422828  1.63990598\n",
      "  1.66942898  1.67808797  1.67870291  1.68249184]\n",
      "data/hotrg_gilt_X24_L20_gilt_eigs_lTRG.pkl\n",
      "[-0.          0.14190955  0.84091836  0.99645055  1.00037558  1.44041907\n",
      "  1.44613909  1.45517075  1.46727511  1.47661936  1.50911721  1.5542025\n",
      "  1.55874266  1.57435713  1.58005154  1.5856037 ]\n",
      "data/hotrg_gilt_X24_L20_mysvd_eigs_lTRG.pkl\n",
      "[-0.          0.13581331  0.85046722  1.01080442  1.01205515  1.4922889\n",
      "  1.49887741  1.52368293  1.61166472  1.63136309  1.63510049  1.63889587\n",
      "  1.67088614  1.67714681  1.678562    1.68211784]\n",
      "data/tnr_X16_L10_eigs_cyl.pkl\n",
      "[-0.          0.11465731  1.00169398  1.13693847  1.13693847  2.00123823\n",
      "  2.00137717  2.00184498  2.00184498  2.11674586  2.13634376  2.13713588\n",
      "  3.00074459  3.00074459  3.00101503  3.00315197]\n"
     ]
    }
   ],
   "source": [
    "for filename in sorted(filenames):\n",
    "    print(filename)\n",
    "    sr,ur=torch.load(filename)\n",
    "    #sort sr\n",
    "    sr,ur=sr.abs()[sr.abs().argsort(descending=True)],ur[:,sr.abs().argsort(descending=True)]\n",
    "    # detect if there are cyl or lTRG in filename\n",
    "    if 'cyl' in filename:\n",
    "        scaling=np.exp(2*np.pi/4)\n",
    "    elif 'lTRG' in filename:\n",
    "        scaling=2\n",
    "    else:\n",
    "        assert False\n",
    "    print(get_scaling_dimensions(sr,scaling=scaling).cpu().numpy())"
   ]
  },
  {
   "cell_type": "code",
   "execution_count": null,
   "metadata": {},
   "outputs": [],
   "source": [
    "data/hotrg_gilt_X24_L20_mysvd_eigs_lTRG.pkl\n",
    "[-0.          0.13581331  0.85046722  1.01080442  1.01205515  1.4922889\n",
    "  1.49887741  1.52368293  1.61166472  1.63136309  1.63510049  1.63889587\n",
    "  1.67088614  1.67714681  1.678562    1.68211784]\n",
    "data/hotrg_gilt_X24_L20_eigs_lTRG.pkl\n",
    "[-0.          0.13581331  0.85046722  1.01070115  1.01215832  1.48749118\n",
    "  1.49998267  1.52727762  1.61160898  1.63125983  1.63422828  1.63990598\n",
    "  1.66942898  1.67808797  1.67870291  1.68249184]"
   ]
  }
 ],
 "metadata": {
  "kernelspec": {
   "display_name": "tf-gpu",
   "language": "python",
   "name": "tf-gpu"
  },
  "orig_nbformat": 4
 },
 "nbformat": 4,
 "nbformat_minor": 2
}
