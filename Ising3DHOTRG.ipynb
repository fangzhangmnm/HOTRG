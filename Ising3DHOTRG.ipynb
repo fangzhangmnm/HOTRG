{
 "cells": [
  {
   "attachments": {},
   "cell_type": "markdown",
   "metadata": {},
   "source": [
    "references\n",
    "\n",
    "- Boundary Criticality of the 3D O(N) Model: From Normal to Extraordinary\n",
    "- Extraordinary-log surface phase transition in the three-dimensional XY model"
   ]
  },
  {
   "cell_type": "code",
   "execution_count": null,
   "metadata": {},
   "outputs": [],
   "source": []
  },
  {
   "cell_type": "code",
   "execution_count": 80,
   "metadata": {},
   "outputs": [],
   "source": [
    "from opt_einsum import contract\n",
    "import torch\n",
    "torch.set_default_tensor_type(torch.cuda.DoubleTensor)\n",
    "import numpy as np\n",
    "from tqdm.auto import tqdm\n",
    "import pandas as pd\n",
    "import matplotlib.pyplot as plt"
   ]
  },
  {
   "cell_type": "code",
   "execution_count": 89,
   "metadata": {},
   "outputs": [],
   "source": [
    "import importlib\n",
    "import HOTRGZ2,TNModels\n",
    "importlib.reload(HOTRGZ2)\n",
    "importlib.reload(TNModels)\n",
    "from TNModels import Ising3D,Ising2D,Models\n",
    "from HOTRGZ2 import HOTRG_layers,forward_observable_tensor,trace_tensor,trace_two_tensors,forward_observalbe_tensor_moments,forward_observable_tensors"
   ]
  },
  {
   "attachments": {},
   "cell_type": "markdown",
   "metadata": {},
   "source": [
    "# Try HOTRG Ising3D"
   ]
  },
  {
   "cell_type": "code",
   "execution_count": 142,
   "metadata": {},
   "outputs": [
    {
     "name": "stdout",
     "output_type": "stream",
     "text": [
      "{'beta': 0.22138627052307125}\n",
      "Generating HOTRG layers\n"
     ]
    },
    {
     "data": {
      "application/vnd.jupyter.widget-view+json": {
       "model_id": "ef88b5c08c9e431299823b712820b6d3",
       "version_major": 2,
       "version_minor": 0
      },
      "text/plain": [
       "  0%|          | 0/30 [00:00<?, ?it/s]"
      ]
     },
     "metadata": {},
     "output_type": "display_data"
    },
    {
     "name": "stdout",
     "output_type": "stream",
     "text": [
      "HOTRG layers generated\n"
     ]
    }
   ],
   "source": [
    "params=torch.load('./data/ising3d_hotrg_X8_Tc')\n",
    "print(params)\n",
    "model=Ising3D(params)\n",
    "T0=model.get_T0()\n",
    "layers,Ts,logTotals=HOTRG_layers(T0,max_dim=8,nLayers=30,return_tensors=True)"
   ]
  },
  {
   "cell_type": "code",
   "execution_count": 140,
   "metadata": {},
   "outputs": [
    {
     "data": {
      "application/vnd.jupyter.widget-view+json": {
       "model_id": "9e54e3bb38af41c6b3733843bab327c8",
       "version_major": 2,
       "version_minor": 0
      },
      "text/plain": [
       "  0%|          | 0/32 [00:00<?, ?it/s]"
      ]
     },
     "metadata": {},
     "output_type": "display_data"
    }
   ],
   "source": [
    "filename='./data/ising3d_hotrg_X10_corr'\n",
    "T0_op,checkerboard=model.get_observables()['magnetization']\n",
    "data=[]\n",
    "for r in tqdm(np.geomspace(2,1023,32)):\n",
    "    theta=np.random.uniform(0,.5*np.pi)\n",
    "    phi=np.random.uniform(0,.5*np.pi)\n",
    "    dx,dy,dz=int(r*np.sin(theta)*np.cos(phi)),int(r*np.sin(theta)*np.sin(phi)),int(r*np.cos(theta))\n",
    "    x1,y1,z1=np.random.randint(0,1024-dx),np.random.randint(0,1024-dy),np.random.randint(0,1024-dz)\n",
    "    x2,y2,z2=x1+dx,y1+dy,z1+dz\n",
    "    T,T_op,logTotal=forward_observable_tensors(T0,[T0_op,T0_op],[(x1,y1,z1),(x2,y2,z2)],layers,cached_Ts=Ts,user_tqdm=False)\n",
    "    corr=trace_tensor(T_op)/trace_tensor(T)\n",
    "    data.append({'corr':corr.item(),\n",
    "                 'x1':x1,'y1':y1,'z1':z1,\n",
    "                    'x2':x2,'y2':y2,'z2':z2,\n",
    "    })\n",
    "# save \n",
    "torch.save(data,filename)\n"
   ]
  },
  {
   "cell_type": "code",
   "execution_count": 141,
   "metadata": {},
   "outputs": [
    {
     "data": {
      "image/png": "[encoded data removed]",
      "text/plain": [
       "<Figure size 432x288 with 1 Axes>"
      ]
     },
     "metadata": {
      "needs_background": "light"
     },
     "output_type": "display_data"
    }
   ],
   "source": [
    "curve=pd.DataFrame(torch.load('./data/ising3d_hotrg_X10_corr'))\n",
    "curve['r']=np.sqrt((curve['x1']-curve['x2'])**2+(curve['y1']-curve['y2'])**2+(curve['z1']-curve['z2'])**2)\n",
    "\n",
    "import scipy.stats\n",
    "slope,intercept,r_value,p_value,std_err=scipy.stats.linregress(np.log(curve['r']),np.log(np.abs(curve['corr'])))\n",
    "\n",
    "\n",
    "plt.plot(curve['r'],np.abs(curve['corr']),'o',label='data')\n",
    "plt.plot(curve['r'],np.exp(intercept)*curve['r']**slope,label=f'fit: {slope:.2f}')\n",
    "plt.legend()\n",
    "plt.xscale('log')\n",
    "plt.yscale('log')\n",
    "plt.xlabel('r')\n",
    "plt.ylabel('correlation function')\n",
    "plt.ylim([1e-7,1])\n",
    "plt.title('Ising 3D, X=10, Tc')\n",
    "plt.show()"
   ]
  },
  {
   "cell_type": "code",
   "execution_count": 95,
   "metadata": {},
   "outputs": [],
   "source": [
    "\n",
    "from HOSVD import _HOSVD_layer_3D,gauge_invariant_norm"
   ]
  },
  {
   "cell_type": "code",
   "execution_count": 98,
   "metadata": {},
   "outputs": [
    {
     "data": {
      "application/vnd.jupyter.widget-view+json": {
       "model_id": "a1fa2829a33b40e08202ea394c033724",
       "version_major": 2,
       "version_minor": 0
      },
      "text/plain": [
       "  0%|          | 0/20 [00:00<?, ?it/s]"
      ]
     },
     "metadata": {},
     "output_type": "display_data"
    }
   ],
   "source": [
    "def _XTRG_layer_3D(Ta,Tb,max_dim):\n",
    "    Tn,layer=_HOSVD_layer_3D(Ta,Tb,max_dim=max_dim)\n",
    "    Tn=contract('abcdio->ioabcd',Tn)\n",
    "    return Tn,layer\n",
    "\n",
    "def XTRG_3D_defect(T0,T0_def,max_dim,nLayers):\n",
    "    T,T_op,logTotal=T0,T0_def,0\n",
    "    for i in tqdm(range(nLayers),leave=False):\n",
    "        norm=gauge_invariant_norm(T)\n",
    "        logTotal=2*(logTotal+norm.log())\n",
    "        T,T_op=T/norm,T_op/norm\n",
    "        T_op=_XTRG_layer_3D(T_op,T,max_dim=max_dim)[0]\n",
    "        T=_XTRG_layer_3D(T,T,max_dim=max_dim)[0]\n",
    "    return T,T_op\n",
    "\n",
    "T,T_def=XTRG_3D_defect(T0,T0_op,max_dim=16,nLayers=20)"
   ]
  },
  {
   "cell_type": "code",
   "execution_count": null,
   "metadata": {},
   "outputs": [],
   "source": []
  }
 ],
 "metadata": {
  "kernelspec": {
   "display_name": "tf-gpu",
   "language": "python",
   "name": "tf-gpu"
  },
  "language_info": {
   "codemirror_mode": {
    "name": "ipython",
    "version": 3
   },
   "file_extension": ".py",
   "mimetype": "text/x-python",
   "name": "python",
   "nbconvert_exporter": "python",
   "pygments_lexer": "ipython3",
   "version": "3.9.15"
  },
  "orig_nbformat": 4
 },
 "nbformat": 4,
 "nbformat_minor": 2
}
