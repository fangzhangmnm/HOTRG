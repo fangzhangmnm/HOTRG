{
 "cells": [
  {
   "cell_type": "code",
   "execution_count": 1,
   "id": "d500d313",
   "metadata": {},
   "outputs": [],
   "source": [
    "import matplotlib.pylab\n",
    "import matplotlib.pyplot as plt\n",
    "import pandas as pd\n",
    "import numpy as np\n",
    "from opt_einsum import contract,contract_path\n",
    "from tqdm.auto import tqdm\n",
    "import dacite\n",
    "import torch\n",
    "from scipy.optimize import curve_fit\n",
    "from functools import partial,wraps,reduce\n",
    "def _toN(t):\n",
    "    return t.detach().cpu().tolist()\n",
    "def _toT(t):\n",
    "    return torch.as_tensor(t)\n",
    "torch.set_default_tensor_type(torch.cuda.DoubleTensor)"
   ]
  },
  {
   "cell_type": "code",
   "execution_count": 2,
   "id": "797956b9",
   "metadata": {},
   "outputs": [],
   "source": [
    "import importlib\n",
    "import HOTRGZ2,TNModels,GILT,utils,ScalingDimensions,fix_gauge\n",
    "importlib.reload(fix_gauge)\n",
    "importlib.reload(HOTRGZ2)\n",
    "importlib.reload(TNModels)\n",
    "importlib.reload(ScalingDimensions)\n",
    "importlib.reload(GILT)\n",
    "importlib.reload(utils)\n",
    "from HOTRGZ2 import forward_observable_tensor,forward_observable_tensors,trace_tensor,trace_two_tensors,get_lattice_size,get_dist_torus_2D\n",
    "from HOTRGZ2 import HOTRG_layers,GILT_options,MCF_options\n",
    "from TNModels import Ising2D,AKLT2D,AKLT2DStrange\n",
    "from ScalingDimensions import show_effective_rank,show_diff,show_scaling_dimensions,show_asymmetry"
   ]
  },
  {
   "cell_type": "markdown",
   "id": "d805413e",
   "metadata": {},
   "source": [
    "# Magnetization Curve"
   ]
  },
  {
   "cell_type": "code",
   "execution_count": 4,
   "id": "74327561",
   "metadata": {
    "scrolled": true
   },
   "outputs": [
    {
     "data": {
      "application/vnd.jupyter.widget-view+json": {
       "model_id": "",
       "version_major": 2,
       "version_minor": 0
      },
      "text/plain": [
       "  0%|          | 0/9 [00:00<?, ?it/s]"
      ]
     },
     "metadata": {},
     "output_type": "display_data"
    },
    {
     "data": {
      "application/vnd.jupyter.widget-view+json": {
       "model_id": "",
       "version_major": 2,
       "version_minor": 0
      },
      "text/plain": [
       "  0%|          | 0/60 [00:00<?, ?it/s]"
      ]
     },
     "metadata": {},
     "output_type": "display_data"
    },
    {
     "data": {
      "application/vnd.jupyter.widget-view+json": {
       "model_id": "",
       "version_major": 2,
       "version_minor": 0
      },
      "text/plain": [
       "0it [00:00, ?it/s]"
      ]
     },
     "metadata": {},
     "output_type": "display_data"
    },
    {
     "data": {
      "application/vnd.jupyter.widget-view+json": {
       "model_id": "",
       "version_major": 2,
       "version_minor": 0
      },
      "text/plain": [
       "  0%|          | 0/60 [00:00<?, ?it/s]"
      ]
     },
     "metadata": {},
     "output_type": "display_data"
    },
    {
     "data": {
      "application/vnd.jupyter.widget-view+json": {
       "model_id": "",
       "version_major": 2,
       "version_minor": 0
      },
      "text/plain": [
       "  0%|          | 0/60 [00:00<?, ?it/s]"
      ]
     },
     "metadata": {},
     "output_type": "display_data"
    },
    {
     "data": {
      "application/vnd.jupyter.widget-view+json": {
       "model_id": "",
       "version_major": 2,
       "version_minor": 0
      },
      "text/plain": [
       "0it [00:00, ?it/s]"
      ]
     },
     "metadata": {},
     "output_type": "display_data"
    },
    {
     "data": {
      "application/vnd.jupyter.widget-view+json": {
       "model_id": "",
       "version_major": 2,
       "version_minor": 0
      },
      "text/plain": [
       "  0%|          | 0/60 [00:00<?, ?it/s]"
      ]
     },
     "metadata": {},
     "output_type": "display_data"
    },
    {
     "data": {
      "application/vnd.jupyter.widget-view+json": {
       "model_id": "",
       "version_major": 2,
       "version_minor": 0
      },
      "text/plain": [
       "  0%|          | 0/60 [00:00<?, ?it/s]"
      ]
     },
     "metadata": {},
     "output_type": "display_data"
    },
    {
     "data": {
      "application/vnd.jupyter.widget-view+json": {
       "model_id": "",
       "version_major": 2,
       "version_minor": 0
      },
      "text/plain": [
       "0it [00:00, ?it/s]"
      ]
     },
     "metadata": {},
     "output_type": "display_data"
    },
    {
     "data": {
      "application/vnd.jupyter.widget-view+json": {
       "model_id": "",
       "version_major": 2,
       "version_minor": 0
      },
      "text/plain": [
       "  0%|          | 0/60 [00:00<?, ?it/s]"
      ]
     },
     "metadata": {},
     "output_type": "display_data"
    },
    {
     "data": {
      "application/vnd.jupyter.widget-view+json": {
       "model_id": "",
       "version_major": 2,
       "version_minor": 0
      },
      "text/plain": [
       "  0%|          | 0/60 [00:00<?, ?it/s]"
      ]
     },
     "metadata": {},
     "output_type": "display_data"
    },
    {
     "data": {
      "application/vnd.jupyter.widget-view+json": {
       "model_id": "",
       "version_major": 2,
       "version_minor": 0
      },
      "text/plain": [
       "0it [00:00, ?it/s]"
      ]
     },
     "metadata": {},
     "output_type": "display_data"
    },
    {
     "data": {
      "application/vnd.jupyter.widget-view+json": {
       "model_id": "",
       "version_major": 2,
       "version_minor": 0
      },
      "text/plain": [
       "  0%|          | 0/60 [00:00<?, ?it/s]"
      ]
     },
     "metadata": {},
     "output_type": "display_data"
    },
    {
     "data": {
      "application/vnd.jupyter.widget-view+json": {
       "model_id": "",
       "version_major": 2,
       "version_minor": 0
      },
      "text/plain": [
       "  0%|          | 0/60 [00:00<?, ?it/s]"
      ]
     },
     "metadata": {},
     "output_type": "display_data"
    },
    {
     "data": {
      "application/vnd.jupyter.widget-view+json": {
       "model_id": "",
       "version_major": 2,
       "version_minor": 0
      },
      "text/plain": [
       "0it [00:00, ?it/s]"
      ]
     },
     "metadata": {},
     "output_type": "display_data"
    },
    {
     "data": {
      "application/vnd.jupyter.widget-view+json": {
       "model_id": "",
       "version_major": 2,
       "version_minor": 0
      },
      "text/plain": [
       "  0%|          | 0/60 [00:00<?, ?it/s]"
      ]
     },
     "metadata": {},
     "output_type": "display_data"
    },
    {
     "data": {
      "application/vnd.jupyter.widget-view+json": {
       "model_id": "",
       "version_major": 2,
       "version_minor": 0
      },
      "text/plain": [
       "  0%|          | 0/60 [00:00<?, ?it/s]"
      ]
     },
     "metadata": {},
     "output_type": "display_data"
    },
    {
     "data": {
      "application/vnd.jupyter.widget-view+json": {
       "model_id": "",
       "version_major": 2,
       "version_minor": 0
      },
      "text/plain": [
       "0it [00:00, ?it/s]"
      ]
     },
     "metadata": {},
     "output_type": "display_data"
    },
    {
     "data": {
      "application/vnd.jupyter.widget-view+json": {
       "model_id": "",
       "version_major": 2,
       "version_minor": 0
      },
      "text/plain": [
       "  0%|          | 0/60 [00:00<?, ?it/s]"
      ]
     },
     "metadata": {},
     "output_type": "display_data"
    },
    {
     "data": {
      "application/vnd.jupyter.widget-view+json": {
       "model_id": "",
       "version_major": 2,
       "version_minor": 0
      },
      "text/plain": [
       "  0%|          | 0/60 [00:00<?, ?it/s]"
      ]
     },
     "metadata": {},
     "output_type": "display_data"
    },
    {
     "data": {
      "application/vnd.jupyter.widget-view+json": {
       "model_id": "",
       "version_major": 2,
       "version_minor": 0
      },
      "text/plain": [
       "0it [00:00, ?it/s]"
      ]
     },
     "metadata": {},
     "output_type": "display_data"
    },
    {
     "data": {
      "application/vnd.jupyter.widget-view+json": {
       "model_id": "",
       "version_major": 2,
       "version_minor": 0
      },
      "text/plain": [
       "  0%|          | 0/60 [00:00<?, ?it/s]"
      ]
     },
     "metadata": {},
     "output_type": "display_data"
    },
    {
     "data": {
      "application/vnd.jupyter.widget-view+json": {
       "model_id": "",
       "version_major": 2,
       "version_minor": 0
      },
      "text/plain": [
       "  0%|          | 0/60 [00:00<?, ?it/s]"
      ]
     },
     "metadata": {},
     "output_type": "display_data"
    },
    {
     "data": {
      "application/vnd.jupyter.widget-view+json": {
       "model_id": "",
       "version_major": 2,
       "version_minor": 0
      },
      "text/plain": [
       "0it [00:00, ?it/s]"
      ]
     },
     "metadata": {},
     "output_type": "display_data"
    },
    {
     "data": {
      "application/vnd.jupyter.widget-view+json": {
       "model_id": "",
       "version_major": 2,
       "version_minor": 0
      },
      "text/plain": [
       "  0%|          | 0/60 [00:00<?, ?it/s]"
      ]
     },
     "metadata": {},
     "output_type": "display_data"
    },
    {
     "data": {
      "application/vnd.jupyter.widget-view+json": {
       "model_id": "",
       "version_major": 2,
       "version_minor": 0
      },
      "text/plain": [
       "  0%|          | 0/60 [00:00<?, ?it/s]"
      ]
     },
     "metadata": {},
     "output_type": "display_data"
    },
    {
     "data": {
      "application/vnd.jupyter.widget-view+json": {
       "model_id": "",
       "version_major": 2,
       "version_minor": 0
      },
      "text/plain": [
       "0it [00:00, ?it/s]"
      ]
     },
     "metadata": {},
     "output_type": "display_data"
    },
    {
     "data": {
      "application/vnd.jupyter.widget-view+json": {
       "model_id": "",
       "version_major": 2,
       "version_minor": 0
      },
      "text/plain": [
       "  0%|          | 0/60 [00:00<?, ?it/s]"
      ]
     },
     "metadata": {},
     "output_type": "display_data"
    }
   ],
   "source": [
    "data=pd.DataFrame()\n",
    "options={\n",
    "    'nLayers':60,\n",
    "    'max_dim':12,\n",
    "    'gilt_enabled':True,\n",
    "    'gilt_eps':8e-7,\n",
    "    'gilt_nIter':1,\n",
    "    'mcf_enabled':True,\n",
    "    'mcf_eps':1e-6,\n",
    "    'mcf_max_iter':50,\n",
    "}\n",
    "\n",
    "Model=Ising2D\n",
    "sweeping_param_name='beta'\n",
    "sweeping_param_midpoint=0.44068679350977147\n",
    "sweeping_param_halfrange=0.00001\n",
    "\n",
    "#Model=AKLT2D\n",
    "#sweeping_param_name='a2'\n",
    "#sweeping_param_midpoint=2.86522\n",
    "#sweeping_param_halfrange=.01\n",
    "\n",
    "for param in tqdm(np.linspace(-sweeping_param_halfrange,sweeping_param_halfrange,9)+sweeping_param_midpoint,leave=False):\n",
    "    params={sweeping_param_name:param}\n",
    "    model=Model(params)\n",
    "    dimR=None\n",
    "    \n",
    "    layers,Ts,logTotals=HOTRG_layers(model.get_T0(),dimR=dimR,\n",
    "                            max_dim=options['max_dim'],nLayers=options['nLayers'],\n",
    "                            options=options,\n",
    "                            return_tensors=True)\n",
    "    \n",
    "    rows=[]\n",
    "    for iLayer in range(len(Ts)):\n",
    "        T,logTotal=Ts[iLayer],logTotals[iLayer]\n",
    "        logZ=_toN((torch.log(trace_tensor(T))+logTotal)/2**iLayer)\n",
    "        rows.append({\n",
    "            **params,\n",
    "            **options,\n",
    "            'layer':iLayer,\n",
    "            'logZ':logZ,\n",
    "        })\n",
    "        \n",
    "    for observable in model.get_observables():\n",
    "        Ts,T_ops,logTotals=forward_observable_tensor(model.get_T0(),observable.T0,\n",
    "                                        layers=layers,checkerboard=observable.checkerboard,\n",
    "                                        return_layers=True,\n",
    "                                        cached_Ts=Ts)\n",
    "        for iLayer in range(len(Ts)):\n",
    "            T,T_op=Ts[iLayer],T_ops[iLayer]\n",
    "            rows[iLayer][observable.name]=_toN((trace_two_tensors(T_op)/trace_two_tensors(T))**.5)\n",
    "            rows[iLayer][observable.name+'_onepoint']=_toN((trace_two_tensors(T_op)/trace_two_tensors(T))**.5)\n",
    "        \n",
    "        \n",
    "    data=data.append(rows,ignore_index=True)\n",
    "#display(data)\n",
    "\n"
   ]
  },
  {
   "cell_type": "code",
   "execution_count": 5,
   "id": "d7365ab2",
   "metadata": {
    "scrolled": false
   },
   "outputs": [
    {
     "data": {
      "image/png": "[encoded data removed]",
      "text/plain": [
       "<Figure size 432x288 with 1 Axes>"
      ]
     },
     "metadata": {
      "needs_background": "light"
     },
     "output_type": "display_data"
    },
    {
     "data": {
      "image/png": "[encoded data removed]",
      "text/plain": [
       "<Figure size 432x288 with 1 Axes>"
      ]
     },
     "metadata": {
      "needs_background": "light"
     },
     "output_type": "display_data"
    }
   ],
   "source": [
    "if sweeping_param_name == 'beta':\n",
    "    data['T']=1./data['beta']\n",
    "    sweeping_param_name='T'\n",
    "    \n",
    "observable_names=[observable.name for observable in model.get_observables()]\n",
    "    \n",
    "if 'magnetizationX' in observable_names:\n",
    "    data['magnetizationXY']=(data['magnetizationX']**2+data['magnetizationY']**2)**.5\n",
    "    data['magnetizationXY_onepoint']=(data['magnetizationX_onepoint']**2+data['magnetizationY_onepoint']**2)**.5\n",
    "    observable_names.append('magnetizationXY')\n",
    "\n",
    "data1=data[(data['layer']==options['nLayers'])]\n",
    "plt.plot(data1[sweeping_param_name],data1['logZ'],'.',color='black')\n",
    "plt.xlabel('T')\n",
    "plt.ylabel('logZ')\n",
    "plt.title(f'{type(model).__name__} logZ\\n{options}')\n",
    "plt.show()\n",
    "\n",
    "\n",
    "for observable_name in observable_names:\n",
    "    data1=data[(data['layer']==options['nLayers'])]\n",
    "    plt.plot(data1[sweeping_param_name],data1[observable_name+'_onepoint'],'x',color='grey')\n",
    "    plt.plot(data1[sweeping_param_name],data1[observable_name],'.',color='black')\n",
    "    plt.xlabel(sweeping_param_name)\n",
    "    plt.ylabel(observable_name)\n",
    "    plt.title(f'{type(model).__name__} {observable_name}\\n{options}')\n",
    "    plt.show()\n",
    "    "
   ]
  },
  {
   "cell_type": "markdown",
   "id": "28b8370e",
   "metadata": {},
   "source": [
    "# TRG Evolution"
   ]
  },
  {
   "cell_type": "code",
   "execution_count": 101,
   "id": "287c289c",
   "metadata": {
    "scrolled": false
   },
   "outputs": [
    {
     "data": {
      "application/vnd.jupyter.widget-view+json": {
       "model_id": "",
       "version_major": 2,
       "version_minor": 0
      },
      "text/plain": [
       "  0%|          | 0/60 [00:00<?, ?it/s]"
      ]
     },
     "metadata": {},
     "output_type": "display_data"
    },
    {
     "data": {
      "application/vnd.jupyter.widget-view+json": {
       "model_id": "e9fd4f2252fb49bda1d01cd17c82585e",
       "version_major": 2,
       "version_minor": 0
      },
      "text/plain": [
       "  0%|          | 0/61 [00:00<?, ?it/s]"
      ]
     },
     "metadata": {},
     "output_type": "display_data"
    },
    {
     "data": {
      "image/png": "[encoded data removed]",
      "text/plain": [
       "<Figure size 432x288 with 1 Axes>"
      ]
     },
     "metadata": {
      "needs_background": "light"
     },
     "output_type": "display_data"
    },
    {
     "data": {
      "application/vnd.jupyter.widget-view+json": {
       "model_id": "df88a28cd9304af4ba61f392d54fd3b4",
       "version_major": 2,
       "version_minor": 0
      },
      "text/plain": [
       "  0%|          | 0/61 [00:00<?, ?it/s]"
      ]
     },
     "metadata": {},
     "output_type": "display_data"
    },
    {
     "data": {
      "image/png": "[encoded data removed]",
      "text/plain": [
       "<Figure size 432x288 with 1 Axes>"
      ]
     },
     "metadata": {
      "needs_background": "light"
     },
     "output_type": "display_data"
    },
    {
     "data": {
      "image/png": "[encoded data removed]",
      "text/plain": [
       "<Figure size 432x288 with 1 Axes>"
      ]
     },
     "metadata": {
      "needs_background": "light"
     },
     "output_type": "display_data"
    },
    {
     "data": {
      "image/png": "[encoded data removed]",
      "text/plain": [
       "<Figure size 432x288 with 1 Axes>"
      ]
     },
     "metadata": {
      "needs_background": "light"
     },
     "output_type": "display_data"
    },
    {
     "data": {
      "image/png": "[encoded data removed]",
      "text/plain": [
       "<Figure size 432x288 with 1 Axes>"
      ]
     },
     "metadata": {
      "needs_background": "light"
     },
     "output_type": "display_data"
    }
   ],
   "source": [
    "data=pd.DataFrame()\n",
    "options={\n",
    "    'nLayers':60,\n",
    "    'max_dim':12,\n",
    "    'gilt_enabled':False,\n",
    "    'gilt_eps':8e-7,\n",
    "    'gilt_nIter':1,\n",
    "    #'gilt_record_S':True,\n",
    "    'mcf_enabled':True,\n",
    "    #'mcf_enabled_unitary':True,\n",
    "    'mcf_eps':1e-6,\n",
    "    'mcf_max_iter':50,\n",
    "    #'hotrg_sanity_check':True,\n",
    "    #'hotrg_sanity_check_tol':1e-7,\n",
    "}\n",
    "\n",
    "#params=AKLT2D.get_default_params()\n",
    "#params['a2']=2.86522\n",
    "#params['a2']=2.86521\n",
    "#model=AKLT2D(params)\n",
    "#T0=model.get_T0()\n",
    "#T0_op1,T0_op2,checkerboard=model.get_ST0(2),model.get_ST0(2),True\n",
    "#correlator_name='SZSZ'\n",
    "\n",
    "\n",
    "params=Ising2D.get_default_params()\n",
    "#params['beta']-=.00001\n",
    "model=Ising2D(params)\n",
    "T0=model.get_T0()\n",
    "T0_op1,T0_op2,checkerboard=model.get_SZT0(),model.get_SZT0(),False\n",
    "\n",
    "\n",
    "\n",
    "reference_scaling_dimensions=[0.125,1,1.125,2]\n",
    "reference_center_charge=.5\n",
    "\n",
    "#dimR=model.get_dimR()\n",
    "dimR=None\n",
    "\n",
    "layers,Ts,logTotals=HOTRG_layers(T0,dimR=dimR,\n",
    "                        max_dim=options['max_dim'],nLayers=options['nLayers'],\n",
    "                        options=options,\n",
    "                        return_tensors=True)\n",
    "#Ts_new,T_ops,logTotals=forward_observable_tensor(T0,T0_op1,\n",
    "#                        layers=layers,checkerboard=model.observable_checkerboard,\n",
    "#                        return_layers=True,\n",
    "#                        cached_Ts=None)\n",
    "\n",
    "#print(trace_two_tensors(T_ops[-1]))\n",
    "    \n",
    "#print(max((a-b).norm() for a,b in zip(Ts,Ts_new)))\n",
    "show_diff(Ts,stride=2)\n",
    "#show_diff(fix_gauge.fix_gauges1(Ts,is_HOTRG=True),stride=2)\n",
    "#show_effective_rank(Ts)\n",
    "curve=show_scaling_dimensions(Ts,loop_length=2,is_HOTRG=True,reference_scaling_dimensions=reference_scaling_dimensions,reference_center_charge=reference_center_charge)\n",
    "show_asymmetry(Ts)"
   ]
  },
  {
   "cell_type": "code",
   "execution_count": 94,
   "id": "6de5150f",
   "metadata": {},
   "outputs": [
    {
     "data": {
      "text/plain": [
       "{'nLayers': 60,\n",
       " 'max_dim': 12,\n",
       " 'gilt_enabled': True,\n",
       " 'gilt_eps': 8e-07,\n",
       " 'gilt_nIter': 1,\n",
       " 'mcf_enabled': True,\n",
       " 'mcf_eps': 1e-06,\n",
       " 'mcf_max_iter': 50}"
      ]
     },
     "execution_count": 94,
     "metadata": {},
     "output_type": "execute_result"
    }
   ],
   "source": [
    "options"
   ]
  },
  {
   "cell_type": "markdown",
   "id": "fa961ab2",
   "metadata": {},
   "source": [
    "# correlators"
   ]
  },
  {
   "cell_type": "code",
   "execution_count": 99,
   "id": "49fef49f",
   "metadata": {
    "scrolled": true
   },
   "outputs": [
    {
     "data": {
      "application/vnd.jupyter.widget-view+json": {
       "model_id": "c3c7e36c6aa4460987c5ccac26dae6ff",
       "version_major": 2,
       "version_minor": 0
      },
      "text/plain": [
       "  0%|          | 0/50 [00:00<?, ?it/s]"
      ]
     },
     "metadata": {},
     "output_type": "display_data"
    },
    {
     "data": {
      "application/vnd.jupyter.widget-view+json": {
       "model_id": "",
       "version_major": 2,
       "version_minor": 0
      },
      "text/plain": [
       "  0%|          | 0/60 [00:00<?, ?it/s]"
      ]
     },
     "metadata": {},
     "output_type": "display_data"
    },
    {
     "data": {
      "application/vnd.jupyter.widget-view+json": {
       "model_id": "",
       "version_major": 2,
       "version_minor": 0
      },
      "text/plain": [
       "  0%|          | 0/60 [00:00<?, ?it/s]"
      ]
     },
     "metadata": {},
     "output_type": "display_data"
    },
    {
     "data": {
      "application/vnd.jupyter.widget-view+json": {
       "model_id": "",
       "version_major": 2,
       "version_minor": 0
      },
      "text/plain": [
       "  0%|          | 0/60 [00:00<?, ?it/s]"
      ]
     },
     "metadata": {},
     "output_type": "display_data"
    },
    {
     "data": {
      "application/vnd.jupyter.widget-view+json": {
       "model_id": "",
       "version_major": 2,
       "version_minor": 0
      },
      "text/plain": [
       "  0%|          | 0/60 [00:00<?, ?it/s]"
      ]
     },
     "metadata": {},
     "output_type": "display_data"
    },
    {
     "data": {
      "application/vnd.jupyter.widget-view+json": {
       "model_id": "",
       "version_major": 2,
       "version_minor": 0
      },
      "text/plain": [
       "  0%|          | 0/60 [00:00<?, ?it/s]"
      ]
     },
     "metadata": {},
     "output_type": "display_data"
    },
    {
     "data": {
      "application/vnd.jupyter.widget-view+json": {
       "model_id": "",
       "version_major": 2,
       "version_minor": 0
      },
      "text/plain": [
       "  0%|          | 0/60 [00:00<?, ?it/s]"
      ]
     },
     "metadata": {},
     "output_type": "display_data"
    },
    {
     "data": {
      "application/vnd.jupyter.widget-view+json": {
       "model_id": "",
       "version_major": 2,
       "version_minor": 0
      },
      "text/plain": [
       "  0%|          | 0/60 [00:00<?, ?it/s]"
      ]
     },
     "metadata": {},
     "output_type": "display_data"
    },
    {
     "data": {
      "application/vnd.jupyter.widget-view+json": {
       "model_id": "",
       "version_major": 2,
       "version_minor": 0
      },
      "text/plain": [
       "  0%|          | 0/60 [00:00<?, ?it/s]"
      ]
     },
     "metadata": {},
     "output_type": "display_data"
    },
    {
     "data": {
      "application/vnd.jupyter.widget-view+json": {
       "model_id": "",
       "version_major": 2,
       "version_minor": 0
      },
      "text/plain": [
       "  0%|          | 0/60 [00:00<?, ?it/s]"
      ]
     },
     "metadata": {},
     "output_type": "display_data"
    },
    {
     "data": {
      "application/vnd.jupyter.widget-view+json": {
       "model_id": "",
       "version_major": 2,
       "version_minor": 0
      },
      "text/plain": [
       "  0%|          | 0/60 [00:00<?, ?it/s]"
      ]
     },
     "metadata": {},
     "output_type": "display_data"
    },
    {
     "data": {
      "application/vnd.jupyter.widget-view+json": {
       "model_id": "",
       "version_major": 2,
       "version_minor": 0
      },
      "text/plain": [
       "  0%|          | 0/60 [00:00<?, ?it/s]"
      ]
     },
     "metadata": {},
     "output_type": "display_data"
    },
    {
     "data": {
      "application/vnd.jupyter.widget-view+json": {
       "model_id": "",
       "version_major": 2,
       "version_minor": 0
      },
      "text/plain": [
       "  0%|          | 0/60 [00:00<?, ?it/s]"
      ]
     },
     "metadata": {},
     "output_type": "display_data"
    },
    {
     "data": {
      "application/vnd.jupyter.widget-view+json": {
       "model_id": "",
       "version_major": 2,
       "version_minor": 0
      },
      "text/plain": [
       "  0%|          | 0/60 [00:00<?, ?it/s]"
      ]
     },
     "metadata": {},
     "output_type": "display_data"
    },
    {
     "data": {
      "application/vnd.jupyter.widget-view+json": {
       "model_id": "",
       "version_major": 2,
       "version_minor": 0
      },
      "text/plain": [
       "  0%|          | 0/60 [00:00<?, ?it/s]"
      ]
     },
     "metadata": {},
     "output_type": "display_data"
    },
    {
     "data": {
      "application/vnd.jupyter.widget-view+json": {
       "model_id": "",
       "version_major": 2,
       "version_minor": 0
      },
      "text/plain": [
       "  0%|          | 0/60 [00:00<?, ?it/s]"
      ]
     },
     "metadata": {},
     "output_type": "display_data"
    },
    {
     "data": {
      "application/vnd.jupyter.widget-view+json": {
       "model_id": "",
       "version_major": 2,
       "version_minor": 0
      },
      "text/plain": [
       "  0%|          | 0/60 [00:00<?, ?it/s]"
      ]
     },
     "metadata": {},
     "output_type": "display_data"
    },
    {
     "data": {
      "application/vnd.jupyter.widget-view+json": {
       "model_id": "",
       "version_major": 2,
       "version_minor": 0
      },
      "text/plain": [
       "  0%|          | 0/60 [00:00<?, ?it/s]"
      ]
     },
     "metadata": {},
     "output_type": "display_data"
    },
    {
     "data": {
      "application/vnd.jupyter.widget-view+json": {
       "model_id": "",
       "version_major": 2,
       "version_minor": 0
      },
      "text/plain": [
       "  0%|          | 0/60 [00:00<?, ?it/s]"
      ]
     },
     "metadata": {},
     "output_type": "display_data"
    },
    {
     "data": {
      "application/vnd.jupyter.widget-view+json": {
       "model_id": "",
       "version_major": 2,
       "version_minor": 0
      },
      "text/plain": [
       "  0%|          | 0/60 [00:00<?, ?it/s]"
      ]
     },
     "metadata": {},
     "output_type": "display_data"
    },
    {
     "data": {
      "application/vnd.jupyter.widget-view+json": {
       "model_id": "",
       "version_major": 2,
       "version_minor": 0
      },
      "text/plain": [
       "  0%|          | 0/60 [00:00<?, ?it/s]"
      ]
     },
     "metadata": {},
     "output_type": "display_data"
    },
    {
     "data": {
      "application/vnd.jupyter.widget-view+json": {
       "model_id": "",
       "version_major": 2,
       "version_minor": 0
      },
      "text/plain": [
       "  0%|          | 0/60 [00:00<?, ?it/s]"
      ]
     },
     "metadata": {},
     "output_type": "display_data"
    },
    {
     "data": {
      "application/vnd.jupyter.widget-view+json": {
       "model_id": "",
       "version_major": 2,
       "version_minor": 0
      },
      "text/plain": [
       "  0%|          | 0/60 [00:00<?, ?it/s]"
      ]
     },
     "metadata": {},
     "output_type": "display_data"
    },
    {
     "data": {
      "application/vnd.jupyter.widget-view+json": {
       "model_id": "",
       "version_major": 2,
       "version_minor": 0
      },
      "text/plain": [
       "  0%|          | 0/60 [00:00<?, ?it/s]"
      ]
     },
     "metadata": {},
     "output_type": "display_data"
    },
    {
     "data": {
      "application/vnd.jupyter.widget-view+json": {
       "model_id": "",
       "version_major": 2,
       "version_minor": 0
      },
      "text/plain": [
       "  0%|          | 0/60 [00:00<?, ?it/s]"
      ]
     },
     "metadata": {},
     "output_type": "display_data"
    },
    {
     "data": {
      "application/vnd.jupyter.widget-view+json": {
       "model_id": "",
       "version_major": 2,
       "version_minor": 0
      },
      "text/plain": [
       "  0%|          | 0/60 [00:00<?, ?it/s]"
      ]
     },
     "metadata": {},
     "output_type": "display_data"
    },
    {
     "data": {
      "application/vnd.jupyter.widget-view+json": {
       "model_id": "",
       "version_major": 2,
       "version_minor": 0
      },
      "text/plain": [
       "  0%|          | 0/60 [00:00<?, ?it/s]"
      ]
     },
     "metadata": {},
     "output_type": "display_data"
    },
    {
     "data": {
      "application/vnd.jupyter.widget-view+json": {
       "model_id": "",
       "version_major": 2,
       "version_minor": 0
      },
      "text/plain": [
       "  0%|          | 0/60 [00:00<?, ?it/s]"
      ]
     },
     "metadata": {},
     "output_type": "display_data"
    },
    {
     "data": {
      "application/vnd.jupyter.widget-view+json": {
       "model_id": "",
       "version_major": 2,
       "version_minor": 0
      },
      "text/plain": [
       "  0%|          | 0/60 [00:00<?, ?it/s]"
      ]
     },
     "metadata": {},
     "output_type": "display_data"
    },
    {
     "data": {
      "application/vnd.jupyter.widget-view+json": {
       "model_id": "",
       "version_major": 2,
       "version_minor": 0
      },
      "text/plain": [
       "  0%|          | 0/60 [00:00<?, ?it/s]"
      ]
     },
     "metadata": {},
     "output_type": "display_data"
    },
    {
     "data": {
      "application/vnd.jupyter.widget-view+json": {
       "model_id": "",
       "version_major": 2,
       "version_minor": 0
      },
      "text/plain": [
       "  0%|          | 0/60 [00:00<?, ?it/s]"
      ]
     },
     "metadata": {},
     "output_type": "display_data"
    },
    {
     "data": {
      "application/vnd.jupyter.widget-view+json": {
       "model_id": "",
       "version_major": 2,
       "version_minor": 0
      },
      "text/plain": [
       "  0%|          | 0/60 [00:00<?, ?it/s]"
      ]
     },
     "metadata": {},
     "output_type": "display_data"
    },
    {
     "data": {
      "application/vnd.jupyter.widget-view+json": {
       "model_id": "",
       "version_major": 2,
       "version_minor": 0
      },
      "text/plain": [
       "  0%|          | 0/60 [00:00<?, ?it/s]"
      ]
     },
     "metadata": {},
     "output_type": "display_data"
    },
    {
     "data": {
      "application/vnd.jupyter.widget-view+json": {
       "model_id": "",
       "version_major": 2,
       "version_minor": 0
      },
      "text/plain": [
       "  0%|          | 0/60 [00:00<?, ?it/s]"
      ]
     },
     "metadata": {},
     "output_type": "display_data"
    },
    {
     "data": {
      "application/vnd.jupyter.widget-view+json": {
       "model_id": "",
       "version_major": 2,
       "version_minor": 0
      },
      "text/plain": [
       "  0%|          | 0/60 [00:00<?, ?it/s]"
      ]
     },
     "metadata": {},
     "output_type": "display_data"
    },
    {
     "data": {
      "application/vnd.jupyter.widget-view+json": {
       "model_id": "",
       "version_major": 2,
       "version_minor": 0
      },
      "text/plain": [
       "  0%|          | 0/60 [00:00<?, ?it/s]"
      ]
     },
     "metadata": {},
     "output_type": "display_data"
    },
    {
     "data": {
      "application/vnd.jupyter.widget-view+json": {
       "model_id": "",
       "version_major": 2,
       "version_minor": 0
      },
      "text/plain": [
       "  0%|          | 0/60 [00:00<?, ?it/s]"
      ]
     },
     "metadata": {},
     "output_type": "display_data"
    },
    {
     "data": {
      "application/vnd.jupyter.widget-view+json": {
       "model_id": "",
       "version_major": 2,
       "version_minor": 0
      },
      "text/plain": [
       "  0%|          | 0/60 [00:00<?, ?it/s]"
      ]
     },
     "metadata": {},
     "output_type": "display_data"
    },
    {
     "data": {
      "application/vnd.jupyter.widget-view+json": {
       "model_id": "",
       "version_major": 2,
       "version_minor": 0
      },
      "text/plain": [
       "  0%|          | 0/60 [00:00<?, ?it/s]"
      ]
     },
     "metadata": {},
     "output_type": "display_data"
    },
    {
     "data": {
      "application/vnd.jupyter.widget-view+json": {
       "model_id": "",
       "version_major": 2,
       "version_minor": 0
      },
      "text/plain": [
       "  0%|          | 0/60 [00:00<?, ?it/s]"
      ]
     },
     "metadata": {},
     "output_type": "display_data"
    },
    {
     "data": {
      "application/vnd.jupyter.widget-view+json": {
       "model_id": "",
       "version_major": 2,
       "version_minor": 0
      },
      "text/plain": [
       "  0%|          | 0/60 [00:00<?, ?it/s]"
      ]
     },
     "metadata": {},
     "output_type": "display_data"
    },
    {
     "data": {
      "application/vnd.jupyter.widget-view+json": {
       "model_id": "",
       "version_major": 2,
       "version_minor": 0
      },
      "text/plain": [
       "  0%|          | 0/60 [00:00<?, ?it/s]"
      ]
     },
     "metadata": {},
     "output_type": "display_data"
    },
    {
     "data": {
      "application/vnd.jupyter.widget-view+json": {
       "model_id": "",
       "version_major": 2,
       "version_minor": 0
      },
      "text/plain": [
       "  0%|          | 0/60 [00:00<?, ?it/s]"
      ]
     },
     "metadata": {},
     "output_type": "display_data"
    },
    {
     "data": {
      "application/vnd.jupyter.widget-view+json": {
       "model_id": "",
       "version_major": 2,
       "version_minor": 0
      },
      "text/plain": [
       "  0%|          | 0/60 [00:00<?, ?it/s]"
      ]
     },
     "metadata": {},
     "output_type": "display_data"
    },
    {
     "data": {
      "application/vnd.jupyter.widget-view+json": {
       "model_id": "",
       "version_major": 2,
       "version_minor": 0
      },
      "text/plain": [
       "  0%|          | 0/60 [00:00<?, ?it/s]"
      ]
     },
     "metadata": {},
     "output_type": "display_data"
    },
    {
     "data": {
      "application/vnd.jupyter.widget-view+json": {
       "model_id": "",
       "version_major": 2,
       "version_minor": 0
      },
      "text/plain": [
       "  0%|          | 0/60 [00:00<?, ?it/s]"
      ]
     },
     "metadata": {},
     "output_type": "display_data"
    },
    {
     "data": {
      "application/vnd.jupyter.widget-view+json": {
       "model_id": "",
       "version_major": 2,
       "version_minor": 0
      },
      "text/plain": [
       "  0%|          | 0/60 [00:00<?, ?it/s]"
      ]
     },
     "metadata": {},
     "output_type": "display_data"
    },
    {
     "data": {
      "application/vnd.jupyter.widget-view+json": {
       "model_id": "",
       "version_major": 2,
       "version_minor": 0
      },
      "text/plain": [
       "  0%|          | 0/60 [00:00<?, ?it/s]"
      ]
     },
     "metadata": {},
     "output_type": "display_data"
    },
    {
     "data": {
      "application/vnd.jupyter.widget-view+json": {
       "model_id": "",
       "version_major": 2,
       "version_minor": 0
      },
      "text/plain": [
       "  0%|          | 0/60 [00:00<?, ?it/s]"
      ]
     },
     "metadata": {},
     "output_type": "display_data"
    },
    {
     "data": {
      "application/vnd.jupyter.widget-view+json": {
       "model_id": "",
       "version_major": 2,
       "version_minor": 0
      },
      "text/plain": [
       "  0%|          | 0/60 [00:00<?, ?it/s]"
      ]
     },
     "metadata": {},
     "output_type": "display_data"
    },
    {
     "data": {
      "application/vnd.jupyter.widget-view+json": {
       "model_id": "",
       "version_major": 2,
       "version_minor": 0
      },
      "text/plain": [
       "  0%|          | 0/60 [00:00<?, ?it/s]"
      ]
     },
     "metadata": {},
     "output_type": "display_data"
    }
   ],
   "source": [
    "data=pd.DataFrame()\n",
    "\n",
    "correlator_name=r'$\\langle\\phi(0)\\phi(r,\\theta)\\rangle$'\n",
    "coordss=[]\n",
    "for i in range(50):\n",
    "    lattice_size=get_lattice_size(len(layers),spacial_dim=len(T0.shape)//2)\n",
    "    th=np.random.uniform(0,np.pi/2)\n",
    "    r=np.exp(np.random.uniform(np.log(1),np.log(min(lattice_size))))\n",
    "    x,y=int(np.abs(r*np.cos(th))),int(np.abs(r*np.sin(th)))\n",
    "    coordss.append((x,y))\n",
    "    #x,y=int(lattice_size[0]-r),0\n",
    "    #coordss.append((x,y))\n",
    "    #x,y=int(r),0\n",
    "    #coordss.append((x,y))\n",
    "\n",
    "for coords in tqdm(coordss):\n",
    "    if not(all(isinstance(c,int) and 0<=c and c<s for c,s in zip(coords,lattice_size))):continue\n",
    "    if all(c==0 for c in coords):continue\n",
    "        \n",
    "\n",
    "    T,T_op12,logTotal=forward_observable_tensors(T0,[T0_op1,T0_op2],[(0,)*len(coords),coords],\\\n",
    "                               layers=layers,checkerboard=checkerboard,\\\n",
    "                               cached_Ts=Ts)\n",
    "    correlation=_toN(trace_tensor(T_op12)/trace_tensor(T))\n",
    "    newRow={**params,\n",
    "        **options,\n",
    "        'x':coords[0],'y':coords[1],\n",
    "        'correlation':correlation,}\n",
    "    \n",
    "    data=data.append(newRow,ignore_index=True)\n",
    "#data"
   ]
  },
  {
   "cell_type": "code",
   "execution_count": 100,
   "id": "dd81d151",
   "metadata": {
    "scrolled": false
   },
   "outputs": [
    {
     "data": {
      "image/png": "[encoded data removed]",
      "text/plain": [
       "<Figure size 432x288 with 1 Axes>"
      ]
     },
     "metadata": {
      "needs_background": "light"
     },
     "output_type": "display_data"
    }
   ],
   "source": [
    "assert(all(data['correlation']>=-1e-7))\n",
    "\n",
    "data['dist']=get_dist_torus_2D(data['x'].to_numpy(),data['y'].to_numpy(),lattice_size)\n",
    "data['correlation_abs']=np.abs(data['correlation'])\n",
    "\n",
    "\n",
    "data['theta']=np.arctan2(data['x'],data['y'])\n",
    "\n",
    "\n",
    "def ansatz1(x,A,zeta,delta): #high temperature\n",
    "    return A*np.exp(-x/zeta)*x**(-2*delta)\n",
    "ansatz1_eq='{0:.2e}e^(-x/ζ)/x^(2 Δ),ζ={1:.2e},Δ={2:.3f}'\n",
    "ansatz1_p0=(1,100,0.1)\n",
    "\n",
    "def ansatz3(x,A,zeta,delta,n): #low temperature\n",
    "    return A*(1+(zeta/x)**n)**(2*delta/n)\n",
    "ansatz3_eq='{0:.2e}(1+(ζ/x)^n)^(2 ∆/n),ζ={1:.2e},∆={2:.3f},n={3:.1f}'\n",
    "ansatz3_p0=(1,100,0.1,2)\n",
    "\n",
    "def ansatz4(x,A,zeta,delta):  #low temperature\n",
    "    return A*(1/zeta+1/x)**(2*delta)\n",
    "ansatz4_eq='{0:.2e}(1/ζ+1/x)^(2 ∆),ζ={1:.2e},∆={2:.3f}'\n",
    "ansatz4_p0=(1,100,0.1)\n",
    "\n",
    "def ansatz5(x,A,zeta,delta,m0):  #low temperature nikko\n",
    "    return A*np.exp(-x/zeta)*x**(-2*delta)+m0**2\n",
    "ansatz5_eq='{0:.2e}e^(-x/ζ)/x^(2 Δ)+m0^2,ζ={1:.2e},Δ={2:.3f},m0={3:.3f}'\n",
    "ansatz5_p0=(1,1000,0.1,0.1)\n",
    "\n",
    "\n",
    "    \n",
    "\n",
    "def loglog(foo):\n",
    "    @wraps(foo)\n",
    "    def goo(logX,*p):\n",
    "        return np.log(foo(np.exp(logX),*p))\n",
    "    return goo\n",
    "\n",
    "\n",
    "if data['correlation_abs'].min()<1e-5:\n",
    "    ansatz,ansatz_eq,ansatz_p0=ansatz1,ansatz1_eq,ansatz1_p0\n",
    "    threshold=min(data[data['correlation_abs']>1e-2]['dist'].max(),2**(options['nLayers']//2-5))\n",
    "else:\n",
    "    #ansatz,ansatz_eq,ansatz_p0=ansatz3,ansatz3_eq,ansatz3_p0\n",
    "    ansatz,ansatz_eq,ansatz_p0=ansatz4,ansatz4_eq,ansatz4_p0\n",
    "    #ansatz,ansatz_eq,ansatz_p0=ansatz5,ansatz5_eq,ansatz5_p0\n",
    "    threshold=2**(options['nLayers']//2-5)\n",
    "\n",
    "data1=data[(data['dist']<threshold)].sort_values('dist')\n",
    "\n",
    "try:\n",
    "    p,cov=curve_fit(loglog(ansatz),np.log(data1['dist']),np.log(data1['correlation_abs']),p0=ansatz_p0,maxfev=10000)\n",
    "except Exception as err:\n",
    "    print(err)\n",
    "    p,cov=None,None\n",
    "\n",
    "data1=data.sort_values('dist')\n",
    "plt.scatter(data1['dist'],data1['correlation_abs'],c=data1['theta'])\n",
    "if p is not None:\n",
    "    ls=np.geomspace(data1['dist'].min(),data1['dist'].max())\n",
    "    plt.plot(ls,ansatz(ls,*p),'-',label=ansatz_eq.format(*p))\n",
    "    plt.legend()\n",
    "#plt.axvline(threshold,color='black')\n",
    "plt.axvspan(1,threshold, alpha=0.2)\n",
    "plt.xscale('log')\n",
    "plt.yscale('log')\n",
    "plt.xlabel('distance')\n",
    "plt.ylabel('correlator')\n",
    "plt.ylim([max(1e-5,data['correlation_abs'].min()*.5),data['correlation'].max()*1.5])\n",
    "#plt.title(f'{type(model).__name__} HOTRG {correlator_name}\\n{params}\\n{options}')\n",
    "plt.title(f'{type(model).__name__} {correlator_name}\\n{params}\\n{ {k:options[k] for k in [\"max_dim\",\"gilt_enabled\",\"gilt_eps\"]} }')\n",
    "plt.show()"
   ]
  },
  {
   "cell_type": "code",
   "execution_count": 22,
   "id": "b802ec07",
   "metadata": {},
   "outputs": [],
   "source": [
    "#data_highT=data"
   ]
  },
  {
   "cell_type": "markdown",
   "id": "19c0d4c8",
   "metadata": {},
   "source": [
    "# correlators on a torus"
   ]
  },
  {
   "cell_type": "code",
   "execution_count": 70,
   "id": "d7c87424",
   "metadata": {},
   "outputs": [
    {
     "data": {
      "application/vnd.jupyter.widget-view+json": {
       "model_id": "0512d6bba70b46e88bf312cc2fa5c5c3",
       "version_major": 2,
       "version_minor": 0
      },
      "text/plain": [
       "  0%|          | 0/30 [00:00<?, ?it/s]"
      ]
     },
     "metadata": {},
     "output_type": "display_data"
    },
    {
     "data": {
      "application/vnd.jupyter.widget-view+json": {
       "model_id": "",
       "version_major": 2,
       "version_minor": 0
      },
      "text/plain": [
       "  0%|          | 0/20 [00:00<?, ?it/s]"
      ]
     },
     "metadata": {},
     "output_type": "display_data"
    },
    {
     "data": {
      "application/vnd.jupyter.widget-view+json": {
       "model_id": "",
       "version_major": 2,
       "version_minor": 0
      },
      "text/plain": [
       "  0%|          | 0/20 [00:00<?, ?it/s]"
      ]
     },
     "metadata": {},
     "output_type": "display_data"
    },
    {
     "data": {
      "application/vnd.jupyter.widget-view+json": {
       "model_id": "",
       "version_major": 2,
       "version_minor": 0
      },
      "text/plain": [
       "  0%|          | 0/20 [00:00<?, ?it/s]"
      ]
     },
     "metadata": {},
     "output_type": "display_data"
    },
    {
     "data": {
      "application/vnd.jupyter.widget-view+json": {
       "model_id": "",
       "version_major": 2,
       "version_minor": 0
      },
      "text/plain": [
       "  0%|          | 0/20 [00:00<?, ?it/s]"
      ]
     },
     "metadata": {},
     "output_type": "display_data"
    },
    {
     "data": {
      "application/vnd.jupyter.widget-view+json": {
       "model_id": "",
       "version_major": 2,
       "version_minor": 0
      },
      "text/plain": [
       "  0%|          | 0/20 [00:00<?, ?it/s]"
      ]
     },
     "metadata": {},
     "output_type": "display_data"
    },
    {
     "data": {
      "application/vnd.jupyter.widget-view+json": {
       "model_id": "",
       "version_major": 2,
       "version_minor": 0
      },
      "text/plain": [
       "  0%|          | 0/20 [00:00<?, ?it/s]"
      ]
     },
     "metadata": {},
     "output_type": "display_data"
    },
    {
     "data": {
      "application/vnd.jupyter.widget-view+json": {
       "model_id": "",
       "version_major": 2,
       "version_minor": 0
      },
      "text/plain": [
       "  0%|          | 0/20 [00:00<?, ?it/s]"
      ]
     },
     "metadata": {},
     "output_type": "display_data"
    },
    {
     "data": {
      "application/vnd.jupyter.widget-view+json": {
       "model_id": "",
       "version_major": 2,
       "version_minor": 0
      },
      "text/plain": [
       "  0%|          | 0/20 [00:00<?, ?it/s]"
      ]
     },
     "metadata": {},
     "output_type": "display_data"
    },
    {
     "data": {
      "application/vnd.jupyter.widget-view+json": {
       "model_id": "",
       "version_major": 2,
       "version_minor": 0
      },
      "text/plain": [
       "  0%|          | 0/20 [00:00<?, ?it/s]"
      ]
     },
     "metadata": {},
     "output_type": "display_data"
    },
    {
     "data": {
      "application/vnd.jupyter.widget-view+json": {
       "model_id": "",
       "version_major": 2,
       "version_minor": 0
      },
      "text/plain": [
       "  0%|          | 0/20 [00:00<?, ?it/s]"
      ]
     },
     "metadata": {},
     "output_type": "display_data"
    },
    {
     "data": {
      "application/vnd.jupyter.widget-view+json": {
       "model_id": "",
       "version_major": 2,
       "version_minor": 0
      },
      "text/plain": [
       "  0%|          | 0/20 [00:00<?, ?it/s]"
      ]
     },
     "metadata": {},
     "output_type": "display_data"
    },
    {
     "data": {
      "application/vnd.jupyter.widget-view+json": {
       "model_id": "",
       "version_major": 2,
       "version_minor": 0
      },
      "text/plain": [
       "  0%|          | 0/20 [00:00<?, ?it/s]"
      ]
     },
     "metadata": {},
     "output_type": "display_data"
    },
    {
     "data": {
      "application/vnd.jupyter.widget-view+json": {
       "model_id": "",
       "version_major": 2,
       "version_minor": 0
      },
      "text/plain": [
       "  0%|          | 0/20 [00:00<?, ?it/s]"
      ]
     },
     "metadata": {},
     "output_type": "display_data"
    },
    {
     "data": {
      "application/vnd.jupyter.widget-view+json": {
       "model_id": "",
       "version_major": 2,
       "version_minor": 0
      },
      "text/plain": [
       "  0%|          | 0/20 [00:00<?, ?it/s]"
      ]
     },
     "metadata": {},
     "output_type": "display_data"
    },
    {
     "data": {
      "application/vnd.jupyter.widget-view+json": {
       "model_id": "",
       "version_major": 2,
       "version_minor": 0
      },
      "text/plain": [
       "  0%|          | 0/20 [00:00<?, ?it/s]"
      ]
     },
     "metadata": {},
     "output_type": "display_data"
    },
    {
     "data": {
      "application/vnd.jupyter.widget-view+json": {
       "model_id": "",
       "version_major": 2,
       "version_minor": 0
      },
      "text/plain": [
       "  0%|          | 0/20 [00:00<?, ?it/s]"
      ]
     },
     "metadata": {},
     "output_type": "display_data"
    },
    {
     "data": {
      "application/vnd.jupyter.widget-view+json": {
       "model_id": "",
       "version_major": 2,
       "version_minor": 0
      },
      "text/plain": [
       "  0%|          | 0/20 [00:00<?, ?it/s]"
      ]
     },
     "metadata": {},
     "output_type": "display_data"
    },
    {
     "data": {
      "application/vnd.jupyter.widget-view+json": {
       "model_id": "",
       "version_major": 2,
       "version_minor": 0
      },
      "text/plain": [
       "  0%|          | 0/20 [00:00<?, ?it/s]"
      ]
     },
     "metadata": {},
     "output_type": "display_data"
    },
    {
     "data": {
      "application/vnd.jupyter.widget-view+json": {
       "model_id": "",
       "version_major": 2,
       "version_minor": 0
      },
      "text/plain": [
       "  0%|          | 0/20 [00:00<?, ?it/s]"
      ]
     },
     "metadata": {},
     "output_type": "display_data"
    },
    {
     "data": {
      "application/vnd.jupyter.widget-view+json": {
       "model_id": "",
       "version_major": 2,
       "version_minor": 0
      },
      "text/plain": [
       "  0%|          | 0/20 [00:00<?, ?it/s]"
      ]
     },
     "metadata": {},
     "output_type": "display_data"
    },
    {
     "data": {
      "application/vnd.jupyter.widget-view+json": {
       "model_id": "",
       "version_major": 2,
       "version_minor": 0
      },
      "text/plain": [
       "  0%|          | 0/20 [00:00<?, ?it/s]"
      ]
     },
     "metadata": {},
     "output_type": "display_data"
    },
    {
     "data": {
      "application/vnd.jupyter.widget-view+json": {
       "model_id": "",
       "version_major": 2,
       "version_minor": 0
      },
      "text/plain": [
       "  0%|          | 0/20 [00:00<?, ?it/s]"
      ]
     },
     "metadata": {},
     "output_type": "display_data"
    },
    {
     "data": {
      "application/vnd.jupyter.widget-view+json": {
       "model_id": "",
       "version_major": 2,
       "version_minor": 0
      },
      "text/plain": [
       "  0%|          | 0/20 [00:00<?, ?it/s]"
      ]
     },
     "metadata": {},
     "output_type": "display_data"
    },
    {
     "data": {
      "application/vnd.jupyter.widget-view+json": {
       "model_id": "",
       "version_major": 2,
       "version_minor": 0
      },
      "text/plain": [
       "  0%|          | 0/20 [00:00<?, ?it/s]"
      ]
     },
     "metadata": {},
     "output_type": "display_data"
    },
    {
     "data": {
      "application/vnd.jupyter.widget-view+json": {
       "model_id": "",
       "version_major": 2,
       "version_minor": 0
      },
      "text/plain": [
       "  0%|          | 0/20 [00:00<?, ?it/s]"
      ]
     },
     "metadata": {},
     "output_type": "display_data"
    },
    {
     "data": {
      "application/vnd.jupyter.widget-view+json": {
       "model_id": "",
       "version_major": 2,
       "version_minor": 0
      },
      "text/plain": [
       "  0%|          | 0/20 [00:00<?, ?it/s]"
      ]
     },
     "metadata": {},
     "output_type": "display_data"
    },
    {
     "data": {
      "application/vnd.jupyter.widget-view+json": {
       "model_id": "",
       "version_major": 2,
       "version_minor": 0
      },
      "text/plain": [
       "  0%|          | 0/20 [00:00<?, ?it/s]"
      ]
     },
     "metadata": {},
     "output_type": "display_data"
    },
    {
     "data": {
      "application/vnd.jupyter.widget-view+json": {
       "model_id": "",
       "version_major": 2,
       "version_minor": 0
      },
      "text/plain": [
       "  0%|          | 0/20 [00:00<?, ?it/s]"
      ]
     },
     "metadata": {},
     "output_type": "display_data"
    },
    {
     "data": {
      "application/vnd.jupyter.widget-view+json": {
       "model_id": "",
       "version_major": 2,
       "version_minor": 0
      },
      "text/plain": [
       "  0%|          | 0/20 [00:00<?, ?it/s]"
      ]
     },
     "metadata": {},
     "output_type": "display_data"
    },
    {
     "data": {
      "application/vnd.jupyter.widget-view+json": {
       "model_id": "",
       "version_major": 2,
       "version_minor": 0
      },
      "text/plain": [
       "  0%|          | 0/20 [00:00<?, ?it/s]"
      ]
     },
     "metadata": {},
     "output_type": "display_data"
    }
   ],
   "source": [
    "data=pd.DataFrame()\n",
    "\n",
    "correlator_name=r'$\\langle\\phi(0,0)\\phi(x,0)\\rangle$'\n",
    "coordss=[]\n",
    "layers1=layers[:20]\n",
    "for i in range(15):\n",
    "    lattice_size=get_lattice_size(len(layers1),spacial_dim=len(T0.shape)//2)\n",
    "    r=np.exp(np.random.uniform(np.log(1),np.log(min(lattice_size))))\n",
    "    x,y=int(r),0\n",
    "    coordss.append((x,y))\n",
    "    x,y=int(lattice_size[0]-1-r),0\n",
    "    coordss.append((x,y))\n",
    "\n",
    "for coords in tqdm(coordss):\n",
    "    if not(all(isinstance(c,int) and 0<=c and c<s for c,s in zip(coords,lattice_size))):continue\n",
    "    if all(c==0 for c in coords):continue\n",
    "        \n",
    "\n",
    "    T,T_op12,logTotal=forward_observable_tensors(T0,[T0_op1,T0_op2],[(0,)*len(coords),coords],\\\n",
    "                               layers=layers1,checkerboard=checkerboard,\\\n",
    "                               cached_Ts=Ts)\n",
    "    correlation=_toN(trace_tensor(T_op12)/trace_tensor(T))\n",
    "    newRow={**params,\n",
    "        **options,\n",
    "        'x':coords[0],'y':coords[1],\n",
    "        'correlation':correlation,}\n",
    "    \n",
    "    data=data.append(newRow,ignore_index=True)"
   ]
  },
  {
   "cell_type": "code",
   "execution_count": 73,
   "id": "16072e16",
   "metadata": {},
   "outputs": [],
   "source": [
    "data_torus=data"
   ]
  },
  {
   "cell_type": "code",
   "execution_count": 74,
   "id": "fe6bf1ed",
   "metadata": {},
   "outputs": [
    {
     "data": {
      "image/png": "[encoded data removed]",
      "text/plain": [
       "<Figure size 432x288 with 1 Axes>"
      ]
     },
     "metadata": {
      "needs_background": "light"
     },
     "output_type": "display_data"
    },
    {
     "name": "stdout",
     "output_type": "stream",
     "text": [
      "{'nLayers': 60, 'max_dim': 24, 'gilt_enabled': False, 'gilt_eps': 8e-07, 'gilt_nIter': 1, 'mcf_enabled': False, 'mcf_eps': 1e-06, 'mcf_max_iter': 50}\n"
     ]
    }
   ],
   "source": [
    "assert(all(data['correlation']>=-1e-7))\n",
    "\n",
    "data['dist']=get_dist_torus_2D(data['x'].to_numpy(),data['y'].to_numpy(),lattice_size)\n",
    "data['correlation_abs']=np.abs(data['correlation'])\n",
    "\n",
    "\n",
    "data['theta']=np.arctan2(data['x'],data['y'])\n",
    "\n",
    "\n",
    "\n",
    "\n",
    "plt.scatter(data['x'],data['correlation_abs'])\n",
    "plt.xlabel('x')\n",
    "plt.ylabel('correlator')\n",
    "plt.ylim([max(1e-5,data['correlation_abs'].min()*.5),data['correlation'].max()*1.5])\n",
    "#plt.title(f'{type(model).__name__} HOTRG {correlator_name}\\n{params}\\n{options}')\n",
    "plt.title(f'{type(model).__name__} {correlator_name}\\n{params}\\n{ {k:options[k] for k in [\"gilt_enabled\"]} }')\n",
    "plt.show()\n",
    "print(options)"
   ]
  },
  {
   "cell_type": "code",
   "execution_count": 32,
   "id": "70d97b45",
   "metadata": {},
   "outputs": [
    {
     "data": {
      "text/plain": [
       "beta                   0.440687\n",
       "h                           0.0\n",
       "nLayers                    60.0\n",
       "max_dim                    24.0\n",
       "gilt_enabled               True\n",
       "gilt_eps               0.000001\n",
       "gilt_nIter                  1.0\n",
       "mcf_enabled                True\n",
       "mcf_eps                0.000001\n",
       "mcf_max_iter               50.0\n",
       "x                  1073741812.0\n",
       "y                           0.0\n",
       "correlation            0.003739\n",
       "dist                       12.0\n",
       "correlation_abs        0.003739\n",
       "theta                  1.570796\n",
       "Name: 94, dtype: object"
      ]
     },
     "execution_count": 32,
     "metadata": {},
     "output_type": "execute_result"
    }
   ],
   "source": [
    "data.iloc[94]"
   ]
  },
  {
   "cell_type": "markdown",
   "id": "94ba99f6",
   "metadata": {},
   "source": [
    "# diagonal TRG method"
   ]
  },
  {
   "cell_type": "code",
   "execution_count": 17,
   "id": "a616154c",
   "metadata": {
    "scrolled": false
   },
   "outputs": [
    {
     "data": {
      "application/vnd.jupyter.widget-view+json": {
       "model_id": "",
       "version_major": 2,
       "version_minor": 0
      },
      "text/plain": [
       "  0%|          | 0/60 [00:00<?, ?it/s]"
      ]
     },
     "metadata": {},
     "output_type": "display_data"
    },
    {
     "data": {
      "application/vnd.jupyter.widget-view+json": {
       "model_id": "c6b1465d25414e7cab9c30bad9bebeae",
       "version_major": 2,
       "version_minor": 0
      },
      "text/plain": [
       "  0%|          | 0/61 [00:00<?, ?it/s]"
      ]
     },
     "metadata": {},
     "output_type": "display_data"
    },
    {
     "data": {
      "image/png": "[encoded data removed]",
      "text/plain": [
       "<Figure size 432x288 with 1 Axes>"
      ]
     },
     "metadata": {
      "needs_background": "light"
     },
     "output_type": "display_data"
    },
    {
     "data": {
      "application/vnd.jupyter.widget-view+json": {
       "model_id": "a1dbad94d61e43788c5ce598702432fa",
       "version_major": 2,
       "version_minor": 0
      },
      "text/plain": [
       "  0%|          | 0/61 [00:00<?, ?it/s]"
      ]
     },
     "metadata": {},
     "output_type": "display_data"
    },
    {
     "data": {
      "image/png": "[encoded data removed]",
      "text/plain": [
       "<Figure size 432x288 with 1 Axes>"
      ]
     },
     "metadata": {
      "needs_background": "light"
     },
     "output_type": "display_data"
    },
    {
     "data": {
      "application/vnd.jupyter.widget-view+json": {
       "model_id": "420d1bc17b004946af9a92d41cfc1d01",
       "version_major": 2,
       "version_minor": 0
      },
      "text/plain": [
       "  0%|          | 0/61 [00:00<?, ?it/s]"
      ]
     },
     "metadata": {},
     "output_type": "display_data"
    },
    {
     "data": {
      "image/png": "[encoded data removed]",
      "text/plain": [
       "<Figure size 432x288 with 1 Axes>"
      ]
     },
     "metadata": {
      "needs_background": "light"
     },
     "output_type": "display_data"
    },
    {
     "data": {
      "image/png": "[encoded data removed]",
      "text/plain": [
       "<Figure size 432x288 with 1 Axes>"
      ]
     },
     "metadata": {
      "needs_background": "light"
     },
     "output_type": "display_data"
    },
    {
     "data": {
      "image/png": "[encoded data removed]",
      "text/plain": [
       "<Figure size 432x288 with 1 Axes>"
      ]
     },
     "metadata": {
      "needs_background": "light"
     },
     "output_type": "display_data"
    }
   ],
   "source": [
    "options={\n",
    "    'nLayers':60,\n",
    "    'max_dim':12,\n",
    "    'gilt_enabled':True,\n",
    "    'gilt_eps':8e-7,\n",
    "    'gilt_nIter':1,\n",
    "    'gilt_TRG_method':'A',\n",
    "}\n",
    "gilt_options=GILT_options(**{k[5:]:v for k,v in options.items() if k[:5]=='gilt_'})\n",
    "\n",
    "\n",
    "#critical beta: 0.44068679350977147\n",
    "params={'beta':.4409}\n",
    "#params={'beta':0.44068679350977147}#critical\n",
    "model=Ising2D(params)\n",
    "\n",
    "\n",
    "\n",
    "Ts,logNorms=evolve_TRG_GILT_2D(model.get_T0(),\n",
    "                               nLayers=options['nLayers'],max_dim=options['max_dim'],\n",
    "                               options=gilt_options,\n",
    "                               return_layers=True)\n",
    "show_effective_rank(Ts)\n",
    "show_diff(Ts)\n",
    "curve=show_scaling_dimensions(Ts,loop_length=2,reference_scaling_dimensions=[0.125,1,1.125,2],reference_center_charge=.5)\n",
    "# two_pass seems give higher cT: one_pass=.440606 two_pass=.440618 ref=.440686 max_dim=8\n",
    "# not spliting insertion greatly changes cT: one_pass=.440298 two_pass=.440803 max_dim=8"
   ]
  },
  {
   "cell_type": "code",
   "execution_count": null,
   "id": "2fa79b4e",
   "metadata": {},
   "outputs": [],
   "source": []
  },
  {
   "cell_type": "code",
   "execution_count": 61,
   "id": "d745dd56",
   "metadata": {},
   "outputs": [
    {
     "data": {
      "image/png": "[encoded data removed]",
      "text/plain": [
       "<Figure size 432x288 with 1 Axes>"
      ]
     },
     "metadata": {
      "needs_background": "light"
     },
     "output_type": "display_data"
    },
    {
     "name": "stderr",
     "output_type": "stream",
     "text": [
      "/home/wenhan/jupyter/SRG/IsingSolutions.py:24: IntegrationWarning: The occurrence of roundoff error is detected, which prevents \n",
      "  the requested tolerance from being achieved.  The error may be \n",
      "  underestimated.\n",
      "  I,abserr=scipy.integrate.quad(integrant,0,pi,epsabs=0,epsrel=1e-12)\n"
     ]
    },
    {
     "data": {
      "image/png": "[encoded data removed]",
      "text/plain": [
       "<Figure size 432x288 with 1 Axes>"
      ]
     },
     "metadata": {
      "needs_background": "light"
     },
     "output_type": "display_data"
    }
   ],
   "source": [
    "\n",
    "import IsingSolutions\n",
    "importlib.reload(IsingSolutions)\n",
    "from IsingSolutions import Ising2DExactSolution,Ising3DMonteCarlo\n",
    "\n",
    "solution=Ising2DExactSolution()\n",
    "nLayers=int(max(data['layer']))\n",
    "\n",
    "def relerr(x,ref):\n",
    "    return abs(x-ref)/abs(ref)\n",
    "\n",
    "def abserr(x,ref):\n",
    "    return abs(x-ref)\n",
    "\n",
    "ls=np.linspace(min(data['beta'])-.0001,max(data['beta'])+.0001)\n",
    "\n",
    "\n",
    "plt.plot(1/ls,solution.magnetization(ls))\n",
    "data1=data[(data['layer']==nLayers)]\n",
    "plt.plot(1/data1['beta'],data1['magnetization'],'.',color='black')\n",
    "#plt.plot(1/data1['beta'],data1['magnetization1'],'x')\n",
    "plt.xlabel('T')\n",
    "plt.ylabel('Magnetization')\n",
    "plt.title(f'{type(model).__name__} HOTRG\\n{options}')\n",
    "plt.show()\n",
    "\n",
    "plt.plot(1/ls,solution.logZ(ls))\n",
    "data1=data[(data['layer']==nLayers)]\n",
    "plt.plot(1/data1['beta'],data1['logZ'],'.',color='black')\n",
    "plt.xlabel('T')\n",
    "plt.ylabel('logZ')\n",
    "plt.title(f'{type(model).__name__} HOTRG\\n{options}')\n",
    "plt.show()\n",
    "    \n"
   ]
  },
  {
   "cell_type": "code",
   "execution_count": null,
   "id": "9040852a",
   "metadata": {},
   "outputs": [],
   "source": []
  },
  {
   "cell_type": "code",
   "execution_count": null,
   "id": "08c9ca91",
   "metadata": {},
   "outputs": [],
   "source": []
  },
  {
   "cell_type": "code",
   "execution_count": null,
   "id": "0cca359c",
   "metadata": {},
   "outputs": [],
   "source": []
  },
  {
   "cell_type": "code",
   "execution_count": null,
   "id": "6364a74c",
   "metadata": {},
   "outputs": [],
   "source": []
  },
  {
   "cell_type": "code",
   "execution_count": 202,
   "id": "8b508d6a",
   "metadata": {},
   "outputs": [],
   "source": [
    "from utils import show_tensor_ijkl,show_tensor_ikjl"
   ]
  },
  {
   "cell_type": "code",
   "execution_count": null,
   "id": "39e7a3ce",
   "metadata": {
    "scrolled": false
   },
   "outputs": [
    {
     "data": {
      "image/png": "[encoded data removed]",
      "text/plain": [
       "<Figure size 432x288 with 1 Axes>"
      ]
     },
     "metadata": {
      "needs_background": "light"
     },
     "output_type": "display_data"
    },
    {
     "data": {
      "image/png": "[encoded data removed]",
      "text/plain": [
       "<Figure size 432x288 with 1 Axes>"
      ]
     },
     "metadata": {
      "needs_background": "light"
     },
     "output_type": "display_data"
    }
   ],
   "source": [
    "\n",
    "from fix_gauge import fix_unitary_gauge\n",
    "from HOTRGZ2 import reflect_tensor_axis,permute_tensor_axis\n",
    "T=Ts[20];\n",
    "show_tensor_ikjl(T,max_dim=4);plt.show()\n",
    "show_tensor_ijkl(T,max_dim=4);plt.show()\n",
    "print(T.norm(),T.max())\n",
    "#Tref=reflect_tensor_axis(T)\n",
    "Tref=permute_tensor_axis(T)\n",
    "#T,_=fix_unitary_gauge(T,Tref)\n",
    "\n",
    "\n",
    "show_tensor_ikjl(Tref,max_dim=4);plt.show()\n",
    "show_tensor_ijkl(Tref,max_dim=4);plt.show()\n",
    "\n",
    "show_tensor_ijkl(T-Tref,max_dim=4);plt.show()\n",
    "show_tensor_ikjl(T-Tref,max_dim=4);plt.show()\n",
    "print((T-Tref).norm(),(T-Tref).max())"
   ]
  }
 ],
 "metadata": {
  "kernelspec": {
   "display_name": "firstEnv",
   "language": "python",
   "name": "firstenv"
  },
  "language_info": {
   "codemirror_mode": {
    "name": "ipython",
    "version": 3
   },
   "file_extension": ".py",
   "mimetype": "text/x-python",
   "name": "python",
   "nbconvert_exporter": "python",
   "pygments_lexer": "ipython3",
   "version": "3.9.7"
  }
 },
 "nbformat": 4,
 "nbformat_minor": 5
}
