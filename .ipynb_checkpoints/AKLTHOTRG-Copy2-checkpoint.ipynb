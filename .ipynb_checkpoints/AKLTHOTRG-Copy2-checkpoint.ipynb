{
 "cells": [
  {
   "cell_type": "code",
   "execution_count": 1,
   "id": "75350d3c",
   "metadata": {},
   "outputs": [],
   "source": [
    "%reset -sf\n",
    "import torch\n",
    "from torch.utils.checkpoint import checkpoint\n",
    "import numpy as np\n",
    "import matplotlib.pyplot as plt\n",
    "import pandas as pd\n",
    "from tqdm.auto import tqdm\n",
    "from opt_einsum import contract\n",
    "from torch.profiler import profile, record_function, ProfilerActivity\n",
    "def _toN(t):\n",
    "    return t.detach().cpu().numpy()\n",
    "def printDiff(name,value,ref):\n",
    "    if ref is not None:\n",
    "        print(name+':',value,'diff(abs):',value-ref)\n",
    "    else:\n",
    "        print(name+':',value)"
   ]
  },
  {
   "cell_type": "markdown",
   "id": "2a36b32a",
   "metadata": {},
   "source": [
    "# SRG BaseClass"
   ]
  },
  {
   "cell_type": "code",
   "execution_count": 2,
   "id": "3a5e2c55",
   "metadata": {
    "scrolled": true
   },
   "outputs": [],
   "source": [
    "class SRG(torch.nn.Module):\n",
    "    def __init__(self,params,options):\n",
    "        super(SRG,self).__init__()\n",
    "        self.dtype=options.get('dtype',torch.float64)\n",
    "        self.device=options.get('device','cpu')\n",
    "        self.max_dim=options.get('max_dim',16)\n",
    "        self.nLayers=options.get('nLayers',10)\n",
    "        self.use_checkpoint=options.get('use_checkpoint',True)\n",
    "        self.observable_checkerboard=False\n",
    "        \n",
    "        self.params=torch.nn.ParameterDict({\n",
    "            k:torch.nn.Parameter(torch.tensor(v,dtype=self.dtype,device=self.device)) for k,v in params.items()\n",
    "        })\n",
    "        self.current_logZ=0\n",
    "        \n",
    "    def __str__(self):\n",
    "        rtval=\"\"\n",
    "        for k,v in self.params.items():\n",
    "            rtval+=k+':'+v+'\\n'\n",
    "        rtval+='dtype:'+self.dtype+'\\n'\n",
    "        rtval+='device:'+self.device+'\\n'\n",
    "        rtval+='max_dim:'+self.max_dim+'\\n'\n",
    "        rtval+='nLayers:'+self.nLayers+'\\n'\n",
    "        rtval+='nSite:'+2**nLayers+'\\n'\n",
    "    def toT(self,t):\n",
    "        return torch.tensor(t,dtype=self.dtype,device=self.device)\n",
    "    def generate_random_Isometry(self,dim1,dim2):\n",
    "        dim=max(dim1,dim2)\n",
    "        A=torch.randn(dim,dim,dtype=self.dtype,device=self.device)\n",
    "        U=torch.matrix_exp(A-A.t())\n",
    "        U=U[:dim1,:dim2]\n",
    "        return U\n",
    "    \n",
    "    def TRG_same_T(self,T,*w):\n",
    "        return self.TRG(T,T,*w)\n",
    "    \n",
    "    def forward_tensor(self):\n",
    "        logTotal=0\n",
    "        T=self.get_T0()\n",
    "        for i in range(self.nLayers):\n",
    "            w=self.ws[(i*self.w_per_layer):((i+1)*self.w_per_layer)]\n",
    "            if self.use_checkpoint:\n",
    "                T=torch.utils.checkpoint.checkpoint(self.TRG_same_T,T,*w)\n",
    "            else:\n",
    "                T=self.TRG_same_T(T,*w)\n",
    "                \n",
    "            norm=torch.linalg.norm(T)\n",
    "            T=T/norm\n",
    "            logTotal=2*logTotal+torch.log(norm)\n",
    "        return T,logTotal\n",
    "    \n",
    "    def forward_tensor_with_observable(self,T_op):\n",
    "        logTotal=0\n",
    "        T=self.get_T0()\n",
    "        for i in range(self.nLayers):\n",
    "            w=self.ws[(i*self.w_per_layer):((i+1)*self.w_per_layer)]\n",
    "            if self.use_checkpoint:\n",
    "                T1=torch.utils.checkpoint.checkpoint(self.TRG_same_T,T,*w)\n",
    "                T2=torch.utils.checkpoint.checkpoint(self.TRG,T,T_op,*w)\n",
    "                T3=torch.utils.checkpoint.checkpoint(self.TRG,T_op,T,*w)\n",
    "            else:\n",
    "                T1=self.TRG_same_T(T,*w)\n",
    "                T2=self.TRG(T,T_op,*w)\n",
    "                T3=self.TRG(T_op,T,*w)\n",
    "            if self.observable_checkerboard and i<self.spacial_dim:\n",
    "                T3=-T3\n",
    "\n",
    "            T,T_op=T1,(T2+T3)/2\n",
    "            norm=torch.linalg.norm(T)\n",
    "            T,T_op=T/norm,T_op/norm\n",
    "            logTotal=2*logTotal+torch.log(norm)\n",
    "        return T,T_op,logTotal\n",
    "    \n",
    "    \n",
    "    def dlogZ(self,param):\n",
    "        self.requires_grad_(False)\n",
    "        self.params[param].requires_grad_(True)\n",
    "        self.zero_grad()\n",
    "        logZ=self.forward()\n",
    "        logZ.backward()\n",
    "        result=_toN(self.params[param].grad)\n",
    "        self.params[param].requires_grad_(False)\n",
    "        return result\n",
    "    \n",
    "    def update_single_layer(self,layer):\n",
    "        self.requires_grad_(False)\n",
    "        \n",
    "        for i in range(layer*self.w_per_layer,(layer+1)*self.w_per_layer):\n",
    "            self.ws[i].requires_grad_(True)\n",
    "        self.zero_grad()\n",
    "        \n",
    "        logZ=self.forward()\n",
    "        logZ.backward()\n",
    "        \n",
    "        with torch.no_grad():\n",
    "            for i in range(layer*self.w_per_layer,(layer+1)*self.w_per_layer):\n",
    "                E=self.ws[i].grad\n",
    "                dim1,dim2=E.shape[0],E.shape[2]\n",
    "                E=E.reshape(dim1*dim1,dim2)\n",
    "                U,S,Vh=torch.linalg.svd(E,full_matrices=False)\n",
    "                UVh=U@Vh\n",
    "                del U,S,Vh\n",
    "                #UVh=svd2UVh(E)\n",
    "                self.ws[i].data=UVh.reshape(dim1,dim1,dim2)\n",
    "                del E,UVh\n",
    "                \n",
    "        torch.cuda.empty_cache()\n",
    "        self.current_logZ=_toN(logZ)\n",
    "        \n",
    "    def optimize(self,nIter,ref_logZ=None):\n",
    "        torch.cuda.empty_cache()\n",
    "        if nIter>1:\n",
    "            pbar2=tqdm(range(nIter), leave=False)\n",
    "            pbar2.set_postfix({k:_toN(v) for k,v in self.params.items()})\n",
    "        else:\n",
    "            pbar2=range(nIter)\n",
    "        for i in pbar2:\n",
    "            pbar=tqdm(range(self.nLayers-1,-1,-1), leave=False)\n",
    "            for j in pbar:\n",
    "                self.update_single_layer(j)\n",
    "                if ref_logZ is not None:\n",
    "                    pbar.set_postfix({\"diff\":self.current_logZ-ref_logZ})\n",
    "                else:\n",
    "                    pbar.set_postfix({\"logZ\":self.current_logZ})\n",
    "                torch.cuda.empty_cache()\n",
    "        #printDiff('logZ',toN(forward(params,ws)),ref_logZ)\n",
    "        torch.cuda.empty_cache()\n",
    "        #lock all grads\n",
    "        for param in self.params.values(): \n",
    "            param.requires_grad_(False)\n",
    "        for i in range(self.nLayers): #slightly faster\n",
    "            self.ws[i].requires_grad_(False)"
   ]
  },
  {
   "cell_type": "code",
   "execution_count": 4,
   "id": "80b0e9b2",
   "metadata": {},
   "outputs": [],
   "source": [
    "class HOTRG(SRG):\n",
    "    def __init__(self,params,options):\n",
    "        super(HOTRG,self).__init__(params,options)\n",
    "    \n",
    "    def create_params(self,start_dim,spacial_dim):\n",
    "        ws=[]\n",
    "        bond_dim=[start_dim]*spacial_dim\n",
    "        for i in range(self.nLayers):\n",
    "            for j in range(1,spacial_dim):\n",
    "                old_dim=bond_dim[j]\n",
    "                new_dim=min(old_dim**2,self.max_dim)\n",
    "                U=self.generate_random_Isometry(old_dim**2,new_dim).view(old_dim,old_dim,new_dim)\n",
    "                ws.append(U.detach())\n",
    "                bond_dim[j]=new_dim\n",
    "            bond_dim=bond_dim[1:]+[bond_dim[0]]\n",
    "        self.ws=torch.nn.ParameterList([\n",
    "            torch.nn.Parameter(v) for v in ws\n",
    "        ])\n",
    "        self.w_per_layer=spacial_dim-1\n",
    "        self.spacial_dim=spacial_dim\n",
    "        \n",
    "    def HOTRG2D(self,T1,T2,w):\n",
    "        return contract('ijkl,jmno,kna,lob->abim',T1,T2,w,w)#contract and rotate\n",
    "    \n",
    "    def HOTRG3D(self,T1,T2,w1,w2):\n",
    "        return contract('ijklmn,jopqrs,kpa,lqb,mrc,nsd->abcdio',T1,T2,w1,w1,w2,w2)#contract and rotate\n",
    "    \n",
    "    def forward(self):\n",
    "        T,logTotal=self.forward_tensor()\n",
    "        contract_all=[i for i in range(len(T.shape)//2) for j in range(2)]\n",
    "        Z=contract(T,contract_all)\n",
    "        return (torch.log(Z)+logTotal)/2**self.nLayers\n",
    "    \n",
    "    def forward_with_observable(self,T_op):\n",
    "        T,T_op,_=self.forward_tensor_with_observable(T_op)\n",
    "        contract_all=[i for i in range(len(T.shape)//2) for j in range(2)]\n",
    "        Z=contract(T,contract_all)\n",
    "        Z_op=contract(T_op,contract_all)\n",
    "        return Z_op/Z"
   ]
  },
  {
   "cell_type": "markdown",
   "id": "e5382206",
   "metadata": {},
   "source": [
    "# AKLT Public"
   ]
  },
  {
   "cell_type": "code",
   "execution_count": 5,
   "id": "e632eb86",
   "metadata": {},
   "outputs": [
    {
     "name": "stdout",
     "output_type": "stream",
     "text": [
      "[[1. 0. 0. 0. 0. 0. 0. 0. 0. 0. 0. 0. 0. 0. 0. 0.]\n",
      " [0. 1. 1. 0. 1. 0. 0. 0. 1. 0. 0. 0. 0. 0. 0. 0.]\n",
      " [0. 0. 0. 1. 0. 1. 1. 0. 0. 1. 1. 0. 1. 0. 0. 0.]\n",
      " [0. 0. 0. 0. 0. 0. 0. 1. 0. 0. 0. 1. 0. 1. 1. 0.]\n",
      " [0. 0. 0. 0. 0. 0. 0. 0. 0. 0. 0. 0. 0. 0. 0. 1.]]\n",
      "[[1.         0.         0.         0.         0.         0.\n",
      "  0.         0.        ]\n",
      " [0.         0.57735027 0.57735027 0.         0.57735027 0.\n",
      "  0.         0.        ]\n",
      " [0.         0.         0.         0.57735027 0.         0.57735027\n",
      "  0.57735027 0.        ]\n",
      " [0.         0.         0.         0.         0.         0.\n",
      "  0.         1.        ]]\n",
      "[[ 0.  1.]\n",
      " [-1.  0.]]\n"
     ]
    }
   ],
   "source": [
    "from scipy.special import comb\n",
    "def get_CG_no_normalization(n):\n",
    "    if n==0:\n",
    "        return np.eye(1)\n",
    "    CG=np.zeros((n+1,)+(2,)*n)\n",
    "    for i in range(2**n):\n",
    "        indices=tuple(map(int,bin(i)[2:].zfill(n)))\n",
    "        m=np.sum(indices)\n",
    "        CG[(m,)+indices]=1\n",
    "    return CG\n",
    "def get_CG(n):\n",
    "    if n==0:\n",
    "        return np.eye(1)\n",
    "    CG=np.zeros((n+1,)+(2,)*n)\n",
    "    for i in range(2**n):\n",
    "        indices=tuple(map(int,bin(i)[2:].zfill(n)))\n",
    "        m=np.sum(indices)\n",
    "        CG[(m,)+indices]=1/np.sqrt(comb(n,m))\n",
    "    return CG\n",
    "def get_Singlet():\n",
    "    return np.array([[0,1.],[-1.,0]])\n",
    "\n",
    "print(get_CG_no_normalization(4).reshape(5,-1))\n",
    "print(get_CG(3).reshape(4,-1))\n",
    "assert get_CG(3).shape==(4,2,2,2)\n",
    "assert np.isclose(get_CG(3).reshape(4,-1)@get_CG(3).reshape(4,-1).T,torch.eye(4)).all()\n",
    "print(get_Singlet())\n",
    "assert np.isclose(get_Singlet()@get_Singlet(),-torch.eye(2)).all()\n",
    "assert (get_Singlet()==-get_Singlet().T).all()"
   ]
  },
  {
   "cell_type": "markdown",
   "id": "fe90f8ca",
   "metadata": {},
   "source": [
    "# AKLT 2D"
   ]
  },
  {
   "cell_type": "code",
   "execution_count": 5,
   "id": "bb57eeba",
   "metadata": {},
   "outputs": [],
   "source": [
    "class AKLT2D(HOTRG):\n",
    "    default_params={'a1':np.sqrt(6)/2,'a2':np.sqrt(6)}\n",
    "    def __init__(self,params,options):\n",
    "        super(AKLT2D,self).__init__(params,options)\n",
    "        self.create_params(start_dim=4,spacial_dim=2)\n",
    "        self.TRG=self.HOTRG2D\n",
    "        self.observable_checkerboard=True\n",
    "        \n",
    "        \n",
    "    def get_T0(self):\n",
    "        projector=self.toT(get_CG_no_normalization(4))\n",
    "        singlet=self.toT([[0,-1],[1,0]])\n",
    "        ac0,ac1,ac2=self.toT(1),self.params['a1'],self.params['a2']\n",
    "        deform=torch.stack([ac2,ac1,ac0,ac1,ac2])\n",
    "        node=contract('aijkl,im,kn,a->amjnl',projector,singlet,singlet,deform)\n",
    "        return contract('aijkl,amnop->imjnkolp',node,node).reshape(4,4,4,4)#UDLR\n",
    "\n",
    "    def get_SZT0(self):\n",
    "        projector=self.toT(get_CG_no_normalization(4))\n",
    "        singlet=self.toT([[0,-1],[1,0]])\n",
    "        ac0,ac1,ac2=self.toT(1),self.params['a1'],self.params['a2']\n",
    "        deform=torch.stack([ac2,ac1,ac0,ac1,ac2])\n",
    "        node=contract('aijkl,im,kn,a->amjnl',projector,singlet,singlet,deform)\n",
    "        op=self.toT([2,1,0,-1,-2])\n",
    "        return contract('aijkl,amnop,a->imjnkolp',node,node,op).reshape(4,4,4,4)#UDLR\n",
    "    \n",
    "    def get_magnetization(self):\n",
    "        with torch.no_grad():\n",
    "            return _toN(torch.abs(self.forward_with_observable(self.get_SZT0())))"
   ]
  },
  {
   "cell_type": "markdown",
   "id": "a5c6e8bc",
   "metadata": {},
   "source": [
    "## Test"
   ]
  },
  {
   "cell_type": "code",
   "execution_count": 6,
   "id": "631410a6",
   "metadata": {},
   "outputs": [
    {
     "name": "stdout",
     "output_type": "stream",
     "text": [
      "{'dtype': torch.float32, 'device': 'cuda:1', 'max_dim': 15, 'nLayers': 10, 'use_checkpoint': True}\n"
     ]
    },
    {
     "data": {
      "application/vnd.jupyter.widget-view+json": {
       "model_id": "1aa8f506b272499aab804e90ab9c2e51",
       "version_major": 2,
       "version_minor": 0
      },
      "text/plain": [
       "  0%|          | 0/5 [00:00<?, ?it/s]"
      ]
     },
     "metadata": {},
     "output_type": "display_data"
    },
    {
     "data": {
      "application/vnd.jupyter.widget-view+json": {
       "model_id": "",
       "version_major": 2,
       "version_minor": 0
      },
      "text/plain": [
       "  0%|          | 0/10 [00:00<?, ?it/s]"
      ]
     },
     "metadata": {},
     "output_type": "display_data"
    },
    {
     "name": "stderr",
     "output_type": "stream",
     "text": [
      "/home/wenhan/anaconda3/envs/tensorflow/lib/python3.9/site-packages/torch/utils/checkpoint.py:25: UserWarning: None of the inputs have requires_grad=True. Gradients will be None\n",
      "  warnings.warn(\"None of the inputs have requires_grad=True. Gradients will be None\")\n"
     ]
    },
    {
     "name": "stdout",
     "output_type": "stream",
     "text": [
      "a1 : 0 a2 : 1.5 iter : 1 logZ : 0.96268237 magnetization : 0.0040483885 \n"
     ]
    },
    {
     "data": {
      "application/vnd.jupyter.widget-view+json": {
       "model_id": "",
       "version_major": 2,
       "version_minor": 0
      },
      "text/plain": [
       "  0%|          | 0/10 [00:00<?, ?it/s]"
      ]
     },
     "metadata": {},
     "output_type": "display_data"
    },
    {
     "name": "stdout",
     "output_type": "stream",
     "text": [
      "a1 : 0 a2 : 1.5 iter : 2 logZ : 1.0302583 magnetization : 0.0012686474 \n"
     ]
    },
    {
     "data": {
      "application/vnd.jupyter.widget-view+json": {
       "model_id": "",
       "version_major": 2,
       "version_minor": 0
      },
      "text/plain": [
       "  0%|          | 0/10 [00:00<?, ?it/s]"
      ]
     },
     "metadata": {},
     "output_type": "display_data"
    },
    {
     "name": "stdout",
     "output_type": "stream",
     "text": [
      "a1 : 0 a2 : 1.5 iter : 3 logZ : 1.0311179 magnetization : 0.00032208717 \n"
     ]
    },
    {
     "data": {
      "application/vnd.jupyter.widget-view+json": {
       "model_id": "",
       "version_major": 2,
       "version_minor": 0
      },
      "text/plain": [
       "  0%|          | 0/10 [00:00<?, ?it/s]"
      ]
     },
     "metadata": {},
     "output_type": "display_data"
    },
    {
     "name": "stdout",
     "output_type": "stream",
     "text": [
      "a1 : 0 a2 : 1.5 iter : 4 logZ : 1.0311438 magnetization : 0.0002055106 \n"
     ]
    },
    {
     "data": {
      "application/vnd.jupyter.widget-view+json": {
       "model_id": "",
       "version_major": 2,
       "version_minor": 0
      },
      "text/plain": [
       "  0%|          | 0/10 [00:00<?, ?it/s]"
      ]
     },
     "metadata": {},
     "output_type": "display_data"
    },
    {
     "name": "stdout",
     "output_type": "stream",
     "text": [
      "a1 : 0 a2 : 1.5 iter : 5 logZ : 1.031148 magnetization : 0.00011724186 \n"
     ]
    },
    {
     "data": {
      "application/vnd.jupyter.widget-view+json": {
       "model_id": "0995abac11a94419addad7579ab5b0dd",
       "version_major": 2,
       "version_minor": 0
      },
      "text/plain": [
       "  0%|          | 0/5 [00:00<?, ?it/s]"
      ]
     },
     "metadata": {},
     "output_type": "display_data"
    },
    {
     "data": {
      "application/vnd.jupyter.widget-view+json": {
       "model_id": "",
       "version_major": 2,
       "version_minor": 0
      },
      "text/plain": [
       "  0%|          | 0/10 [00:00<?, ?it/s]"
      ]
     },
     "metadata": {},
     "output_type": "display_data"
    },
    {
     "name": "stdout",
     "output_type": "stream",
     "text": [
      "a1 : 0 a2 : 3 iter : 1 logZ : 2.1774142 magnetization : 1.998811 \n"
     ]
    },
    {
     "data": {
      "application/vnd.jupyter.widget-view+json": {
       "model_id": "",
       "version_major": 2,
       "version_minor": 0
      },
      "text/plain": [
       "  0%|          | 0/10 [00:00<?, ?it/s]"
      ]
     },
     "metadata": {},
     "output_type": "display_data"
    },
    {
     "name": "stdout",
     "output_type": "stream",
     "text": [
      "a1 : 0 a2 : 3 iter : 2 logZ : 2.1973817 magnetization : 1.9986675 \n"
     ]
    },
    {
     "data": {
      "application/vnd.jupyter.widget-view+json": {
       "model_id": "",
       "version_major": 2,
       "version_minor": 0
      },
      "text/plain": [
       "  0%|          | 0/10 [00:00<?, ?it/s]"
      ]
     },
     "metadata": {},
     "output_type": "display_data"
    },
    {
     "name": "stdout",
     "output_type": "stream",
     "text": [
      "a1 : 0 a2 : 3 iter : 3 logZ : 2.1973844 magnetization : 1.9986649 \n"
     ]
    },
    {
     "data": {
      "application/vnd.jupyter.widget-view+json": {
       "model_id": "",
       "version_major": 2,
       "version_minor": 0
      },
      "text/plain": [
       "  0%|          | 0/10 [00:00<?, ?it/s]"
      ]
     },
     "metadata": {},
     "output_type": "display_data"
    },
    {
     "name": "stdout",
     "output_type": "stream",
     "text": [
      "a1 : 0 a2 : 3 iter : 4 logZ : 2.1973834 magnetization : 1.9986638 \n"
     ]
    },
    {
     "data": {
      "application/vnd.jupyter.widget-view+json": {
       "model_id": "",
       "version_major": 2,
       "version_minor": 0
      },
      "text/plain": [
       "  0%|          | 0/10 [00:00<?, ?it/s]"
      ]
     },
     "metadata": {},
     "output_type": "display_data"
    },
    {
     "name": "stdout",
     "output_type": "stream",
     "text": [
      "a1 : 0 a2 : 3 iter : 5 logZ : 2.197384 magnetization : 1.9986644 \n"
     ]
    },
    {
     "data": {
      "image/png": "[encoded data removed]",
      "text/plain": [
       "<Figure size 432x288 with 1 Axes>"
      ]
     },
     "metadata": {
      "needs_background": "light"
     },
     "output_type": "display_data"
    }
   ],
   "source": [
    "options={\n",
    "    'dtype':torch.float32,\n",
    "    'device':'cuda:1',\n",
    "    'max_dim':15, # 50 for float32\n",
    "    'nLayers':10,\n",
    "    'use_checkpoint':True\n",
    "}\n",
    "print(options)\n",
    "\n",
    "data=pd.DataFrame()\n",
    "for a2 in [1.5,3]:\n",
    "    params={'a1':0,'a2':a2}\n",
    "    srg=AKLT2D(params,options)\n",
    "    \n",
    "    for _iter in tqdm(range(5)):\n",
    "        srg.optimize(1)\n",
    "        newRow={'a1':params['a1'],'a2':params['a2'],'iter':_iter+1,'logZ':srg.current_logZ,'magnetization':srg.get_magnetization()}\n",
    "        for k,v in newRow.items():\n",
    "            print(k,':',v,end=' ')\n",
    "        print()\n",
    "        data=data.append(newRow,ignore_index=True)\n",
    "        data.to_csv('saved_data.csv')\n",
    "\n",
    "plt.plot(data['iter'],data['logZ'],'.')\n",
    "plt.plot(data['iter'],np.abs(data['magnetization']),'.')\n",
    "plt.xlabel(f'iter {params}')\n",
    "plt.ylabel('value')\n",
    "plt.legend(['logZ','magnetization'])\n",
    "plt.title('convergence of SRG')\n",
    "plt.show()\n"
   ]
  },
  {
   "cell_type": "markdown",
   "id": "c7e34402",
   "metadata": {},
   "source": [
    "# AKLT 3D"
   ]
  },
  {
   "cell_type": "code",
   "execution_count": 6,
   "id": "af828d3a",
   "metadata": {},
   "outputs": [],
   "source": [
    "class AKLT3D(HOTRG):\n",
    "    default_params={'a1':np.sqrt(20/15),'a2':np.sqrt(20/6),'a3':np.sqrt(20/1)}\n",
    "    def __init__(self,params,options):\n",
    "        super(AKLT3D,self).__init__(params,options)\n",
    "        self.create_params(start_dim=4,spacial_dim=3)\n",
    "        self.TRG=self.HOTRG3D\n",
    "        self.observable_checkerboard=True\n",
    "        \n",
    "    def get_T0(self):\n",
    "        projector=self.toT(get_CG_no_normalization(6))\n",
    "        singlet=self.toT([[0,-1],[1,0]])\n",
    "        ac0,ac1,ac2,ac3=self.toT(1),self.params['a1'],self.params['a2'],self.params['a3']\n",
    "        deform=torch.stack([ac3,ac2,ac1,ac0,ac1,ac2,ac3])\n",
    "        node=contract('aijklmn,io,kp,mq,a->aojplqn',projector,singlet,singlet,singlet,deform)\n",
    "        return contract('aijklmn,aopqrst->iojpkqlrmsnt',node,node).reshape(4,4,4,4,4,4)#UDLRFB\n",
    "\n",
    "    def get_SZT0(self):\n",
    "        projector=self.toT(get_CG_no_normalization(6))\n",
    "        singlet=self.toT([[0,-1],[1,0]])\n",
    "        ac0,ac1,ac2,ac3=self.toT(1),self.params['a1'],self.params['a2'],self.params['a3']\n",
    "        deform=torch.stack([ac3,ac2,ac1,ac0,ac1,ac2,ac3])\n",
    "        node=contract('aijklmn,io,kp,mq,a->aojplqn',projector,singlet,singlet,singlet,deform)\n",
    "        op=self.toT([3,2,1,0,-1,-2,-3])\n",
    "        return contract('aijklmn,aopqrst,a->iojpkqlrmsnt',node,node,op).reshape(4,4,4,4,4,4)#UDLRFB\n",
    "    \n",
    "    def get_magnetization(self):\n",
    "        with torch.no_grad():\n",
    "            return _toN(torch.abs(self.forward_with_observable(self.get_SZT0())))"
   ]
  },
  {
   "cell_type": "markdown",
   "id": "511ea9b4",
   "metadata": {},
   "source": [
    "# Test"
   ]
  },
  {
   "cell_type": "code",
   "execution_count": 8,
   "id": "3c8b0913",
   "metadata": {},
   "outputs": [
    {
     "name": "stdout",
     "output_type": "stream",
     "text": [
      "{'dtype': torch.float32, 'device': 'cuda:0', 'max_dim': 9, 'nLayers': 20, 'use_checkpoint': True}\n"
     ]
    },
    {
     "data": {
      "application/vnd.jupyter.widget-view+json": {
       "model_id": "268cdb355169493dbb66e8e556da376a",
       "version_major": 2,
       "version_minor": 0
      },
      "text/plain": [
       "  0%|          | 0/5 [00:00<?, ?it/s]"
      ]
     },
     "metadata": {},
     "output_type": "display_data"
    },
    {
     "data": {
      "application/vnd.jupyter.widget-view+json": {
       "model_id": "",
       "version_major": 2,
       "version_minor": 0
      },
      "text/plain": [
       "  0%|          | 0/20 [00:00<?, ?it/s]"
      ]
     },
     "metadata": {},
     "output_type": "display_data"
    },
    {
     "name": "stderr",
     "output_type": "stream",
     "text": [
      "/home/wenhan/anaconda3/envs/tensorflow/lib/python3.9/site-packages/torch/utils/checkpoint.py:25: UserWarning: None of the inputs have requires_grad=True. Gradients will be None\n",
      "  warnings.warn(\"None of the inputs have requires_grad=True. Gradients will be None\")\n"
     ]
    },
    {
     "name": "stdout",
     "output_type": "stream",
     "text": [
      "a1 : 1.1547005383792515 a2 : 1.8257418583505538 a3 : 4.47213595499958 iter : 1 logZ : 2.5102084 magnetization : 2.5677452 \n"
     ]
    },
    {
     "data": {
      "application/vnd.jupyter.widget-view+json": {
       "model_id": "",
       "version_major": 2,
       "version_minor": 0
      },
      "text/plain": [
       "  0%|          | 0/20 [00:00<?, ?it/s]"
      ]
     },
     "metadata": {},
     "output_type": "display_data"
    },
    {
     "name": "stdout",
     "output_type": "stream",
     "text": [
      "a1 : 1.1547005383792515 a2 : 1.8257418583505538 a3 : 4.47213595499958 iter : 2 logZ : nan magnetization : 2.645212 \n"
     ]
    },
    {
     "data": {
      "application/vnd.jupyter.widget-view+json": {
       "model_id": "",
       "version_major": 2,
       "version_minor": 0
      },
      "text/plain": [
       "  0%|          | 0/20 [00:00<?, ?it/s]"
      ]
     },
     "metadata": {},
     "output_type": "display_data"
    },
    {
     "name": "stdout",
     "output_type": "stream",
     "text": [
      "a1 : 1.1547005383792515 a2 : 1.8257418583505538 a3 : 4.47213595499958 iter : 3 logZ : 3.112243 magnetization : 2.6171567 \n"
     ]
    },
    {
     "data": {
      "application/vnd.jupyter.widget-view+json": {
       "model_id": "",
       "version_major": 2,
       "version_minor": 0
      },
      "text/plain": [
       "  0%|          | 0/20 [00:00<?, ?it/s]"
      ]
     },
     "metadata": {},
     "output_type": "display_data"
    },
    {
     "name": "stdout",
     "output_type": "stream",
     "text": [
      "a1 : 1.1547005383792515 a2 : 1.8257418583505538 a3 : 4.47213595499958 iter : 4 logZ : 3.1136107 magnetization : 2.599793 \n"
     ]
    },
    {
     "data": {
      "application/vnd.jupyter.widget-view+json": {
       "model_id": "",
       "version_major": 2,
       "version_minor": 0
      },
      "text/plain": [
       "  0%|          | 0/20 [00:00<?, ?it/s]"
      ]
     },
     "metadata": {},
     "output_type": "display_data"
    },
    {
     "name": "stdout",
     "output_type": "stream",
     "text": [
      "a1 : 1.1547005383792515 a2 : 1.8257418583505538 a3 : 4.47213595499958 iter : 5 logZ : 3.1138358 magnetization : 2.5930178 \n"
     ]
    },
    {
     "data": {
      "image/png": "[encoded data removed]",
      "text/plain": [
       "<Figure size 432x288 with 1 Axes>"
      ]
     },
     "metadata": {
      "needs_background": "light"
     },
     "output_type": "display_data"
    }
   ],
   "source": [
    "options={\n",
    "    'dtype':torch.float32,\n",
    "    'device':'cuda:0',\n",
    "    'max_dim':9, # 12 for float32\n",
    "    'nLayers':20,\n",
    "    'use_checkpoint':True\n",
    "}\n",
    "print(options)\n",
    "\n",
    "data=pd.DataFrame()\n",
    "for a3 in [2]:\n",
    "    #params={'a1':0,'a2':0,'a3':a3}\n",
    "    params=AKLT3D.default_params\n",
    "    srg=AKLT3D(params,options)\n",
    "    \n",
    "    for _iter in tqdm(range(5)):\n",
    "        srg.optimize(1)\n",
    "        newRow={'a1':params['a1'],'a2':params['a2'],'a3':params['a3'],'iter':_iter+1,'logZ':srg.current_logZ,'magnetization':srg.get_magnetization()}\n",
    "        for k,v in newRow.items():\n",
    "            print(k,':',v,end=' ')\n",
    "        print()\n",
    "        data=data.append(newRow,ignore_index=True)\n",
    "        data.to_csv('saved_data.csv')\n",
    "\n",
    "plt.plot(data['iter'],data['logZ'],'.')\n",
    "plt.plot(data['iter'],np.abs(data['magnetization']),'.')\n",
    "plt.xlabel(f'iter {params}')\n",
    "plt.ylabel('value')\n",
    "plt.legend(['logZ','magnetization'])\n",
    "plt.title('convergence of SRG')\n",
    "plt.show()\n",
    "\n"
   ]
  },
  {
   "cell_type": "code",
   "execution_count": null,
   "id": "862f601a",
   "metadata": {},
   "outputs": [],
   "source": []
  }
 ],
 "metadata": {
  "kernelspec": {
   "display_name": "firstEnv",
   "language": "python",
   "name": "firstenv"
  },
  "language_info": {
   "codemirror_mode": {
    "name": "ipython",
    "version": 3
   },
   "file_extension": ".py",
   "mimetype": "text/x-python",
   "name": "python",
   "nbconvert_exporter": "python",
   "pygments_lexer": "ipython3",
   "version": "3.9.7"
  }
 },
 "nbformat": 4,
 "nbformat_minor": 5
}
