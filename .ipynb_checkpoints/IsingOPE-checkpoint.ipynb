{
 "cells": [
  {
   "cell_type": "code",
   "execution_count": 3,
   "id": "33318155",
   "metadata": {},
   "outputs": [],
   "source": [
    "import sympy as sy"
   ]
  },
  {
   "cell_type": "code",
   "execution_count": 8,
   "id": "e3f84386",
   "metadata": {},
   "outputs": [],
   "source": [
    "x,y,z,w=sy.symbols('x y z w')"
   ]
  },
  {
   "cell_type": "code",
   "execution_count": 9,
   "id": "464a5c32",
   "metadata": {},
   "outputs": [],
   "source": [
    "zinv,winv=z/(z**2+w**2),w/(z**2+w**2)"
   ]
  },
  {
   "cell_type": "code",
   "execution_count": 13,
   "id": "58710975",
   "metadata": {},
   "outputs": [
    {
     "data": {
      "text/latex": [
       "$\\displaystyle \\frac{0.5 \\left(x^{2} + y^{2}\\right)^{0.375}}{\\sqrt{w^{2} + z^{2}} \\sqrt{\\left(w - y\\right)^{2} + \\left(- x + z\\right)^{2}}}$"
      ],
      "text/plain": [
       "0.5*(x**2 + y**2)**0.375/(sqrt(w**2 + z**2)*sqrt((w - y)**2 + (-x + z)**2))"
      ]
     },
     "execution_count": 13,
     "metadata": {},
     "output_type": "execute_result"
    }
   ],
   "source": [
    "def dist(x,y):\n",
    "    return sp.sqrt(x**2+y**2)\n",
    "def corr_sse(x,y,z,w):\n",
    "    return 1/2*dist(x,y)**(3/4)/dist(z,w)/dist(z-x,w-y)\n",
    "corr_sse(x,y,z,w)"
   ]
  },
  {
   "cell_type": "code",
   "execution_count": null,
   "id": "10144434",
   "metadata": {},
   "outputs": [],
   "source": []
  }
 ],
 "metadata": {
  "kernelspec": {
   "display_name": "tensorflow2",
   "language": "python",
   "name": "tensorflow2"
  },
  "language_info": {
   "codemirror_mode": {
    "name": "ipython",
    "version": 3
   },
   "file_extension": ".py",
   "mimetype": "text/x-python",
   "name": "python",
   "nbconvert_exporter": "python",
   "pygments_lexer": "ipython3",
   "version": "3.9.15"
  }
 },
 "nbformat": 4,
 "nbformat_minor": 5
}
