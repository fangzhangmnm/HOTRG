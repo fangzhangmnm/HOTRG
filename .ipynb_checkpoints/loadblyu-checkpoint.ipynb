{
 "cells": [
  {
   "cell_type": "code",
   "execution_count": 6,
   "id": "17d7ae8b",
   "metadata": {},
   "outputs": [],
   "source": [
    "import os\n",
    "import pickle as pkl"
   ]
  },
  {
   "cell_type": "code",
   "execution_count": 4,
   "id": "c3ba122d",
   "metadata": {},
   "outputs": [
    {
     "data": {
      "text/plain": [
       "['As', 'otherTs.pkl']"
      ]
     },
     "execution_count": 4,
     "metadata": {},
     "output_type": "execute_result"
    }
   ],
   "source": [
    "datadir1='./tensorRGflow-brucelyu/out/gilt_hotrg22_flow/eps6e-05_chi16/'\n",
    "datadir2='./tensorRGflow-brucelyu/analysisCodes/data/gilt_hotrg22_flow/eps6e-05_chi16/'\n",
    "\n",
    "os.listdir(datadir2)"
   ]
  },
  {
   "cell_type": "code",
   "execution_count": 8,
   "id": "31d4f731",
   "metadata": {},
   "outputs": [],
   "source": [
    "with open(datadir2+'/otherTs.pkl','rb') as f:\n",
    "    Anorm,isomlist,RABslist,RABshlist=pkl.load(f)"
   ]
  },
  {
   "cell_type": "code",
   "execution_count": 13,
   "id": "538e412a",
   "metadata": {
    "scrolled": false
   },
   "outputs": [
    {
     "data": {
      "text/plain": [
       "numpy.ndarray"
      ]
     },
     "execution_count": 13,
     "metadata": {},
     "output_type": "execute_result"
    }
   ],
   "source": [
    "type(isomlist[0][0])"
   ]
  },
  {
   "cell_type": "code",
   "execution_count": null,
   "id": "db6e90c2",
   "metadata": {},
   "outputs": [],
   "source": [
    "\n",
    "def halfHOTRG(B, A, chi, direction = \"v\", verbose = True, cg_eps = 1e-6,\n",
    "              isjax = False, evenTrunc = False):\n",
    "    \"\"\"\n",
    "    Perform half of the HOTRG coarse graining\n",
    "    \"\"\"\n",
    "\n",
    "    if direction == \"v\":\n",
    "        if verbose:\n",
    "            print(\"Coarse graining in y direction...\")\n",
    "        # determine the isometry that squeezes legs in y direction\n",
    "        if not isjax:\n",
    "            w, dw, SP1err = yProjectorAB(B, A, chi, cg_eps,\n",
    "                                         evenTrunc = evenTrunc)\n",
    "        else:\n",
    "            w, dw, SP1err = yProjectorAB(B, A, chi, isjax = True)\n",
    "        if verbose:\n",
    "            print(\"Spectrum of B @ A is:\")\n",
    "            dwarr = dw / dw.max()\n",
    "            dwarr = np.abs(dwarr.to_ndarray())\n",
    "            dwarr = - np.sort(-dwarr)\n",
    "            print(dwarr[:10])\n",
    "            print(\"Bound dimension in y direction is {:d}\".format(len(dw)))\n",
    "            print(\"Truncation error would be {:.3e}\".format(SP1err))\n",
    "            print(\"Perform contraction along y direction...\")\n",
    "        # contraction\n",
    "        if not isjax:\n",
    "            Ap = ncon([B, A, w.conjugate(), w],\n",
    "                  [[1,4,-3,2],[3,5,2,-4],[1,3,-1],[4,5,-2]])\n",
    "        else:\n",
    "            Ap = jncon([B, A, w, w],\n",
    "                  [[1,4,-3,2],[3,5,2,-4],[1,3,-1],[4,5,-2]])\n",
    "        if verbose:\n",
    "            print(\"Contraction in y direction finished!\\n\")\n",
    "    elif direction == \"h\":\n",
    "        if verbose:\n",
    "            print(\"Coarse graining in x direction...\")\n",
    "        if not isjax:\n",
    "            w,dw,SP2err = xProjectorAB(B, A, chi, cg_eps,\n",
    "                                       evenTrunc = evenTrunc)\n",
    "        else:\n",
    "            w,dw,SP2err = xProjectorAB(B, A, chi, isjax = True)\n",
    "        if verbose:\n",
    "            print(\"Spectrum of B @ A is:\")\n",
    "            dwarr = dw / dw.max()\n",
    "            dwarr = np.abs(dwarr.to_ndarray())\n",
    "            dwarr = - np.sort(-dwarr)\n",
    "            print(dwarr[:10])\n",
    "            print(\"Bound dimension in y direction is {:d}\".format(len(dw)))\n",
    "            print(\"Truncation error would be {:.3e}\".format(SP2err))\n",
    "            print(\"Perform contraction along x direction...\")\n",
    "        # contraction\n",
    "        if not isjax:\n",
    "            Ap = ncon([B, A, w.conjugate(), w],\n",
    "                   [[-1,2,1,4],[2,-2,3,5],[1,3,-3],[4,5,-4]])\n",
    "        else:\n",
    "            Ap = jncon([B, A, w, w],\n",
    "                   [[-1,2,1,4],[2,-2,3,5],[1,3,-3],[4,5,-4]])\n",
    "        if verbose:\n",
    "            print(\"Contraction in x direction finished!\\n\")\n",
    "    else:\n",
    "        raise ValueError(\"variable direction can only choose between h and v.\")\n",
    "    return Ap, w\n"
   ]
  },
  {
   "cell_type": "code",
   "execution_count": null,
   "id": "46e624c0",
   "metadata": {},
   "outputs": [],
   "source": [
    "## The isometric tensors are given, contract them with original tensors\n",
    "\n",
    "def doHalfHOTRGknownWV(B, A, w, direction = \"v\"):\n",
    "    B = convertAbeBack(B)\n",
    "    A = convertAbeBack(A)\n",
    "    if direction == \"v\":\n",
    "        Ap = jncon([B, A, w.conjugate(), w],\n",
    "                  [[1,4,-3,2],[3,5,2,-4],[1,3,-1],[4,5,-2]])\n",
    "    elif direction == \"h\":\n",
    "        Ap = jncon([B, A, w.conjugate(), w],\n",
    "                   [[-1,2,1,4],[2,-2,3,5],[1,3,-3],[4,5,-4]])\n",
    "    else:\n",
    "        raise ValueError(\"Variable direction can only choose between h and v.\")\n",
    "    return Ap\n"
   ]
  },
  {
   "cell_type": "code",
   "execution_count": null,
   "id": "8f192a3d",
   "metadata": {},
   "outputs": [],
   "source": [
    "def diffGiltHOTRG(A, Anorm, isom, RABs, RABsh, scaleN = 20,\n",
    "               isom_corr = False):\n",
    "    \"\"\"\n",
    "    Similar as diffRGnew, but designed for Gilt-HOTRG-imp version\n",
    "    \"\"\"\n",
    "    # define the invariant tensor where the magnetitute is properly taken care of\n",
    "    Ainv = Anorm**(-1/3) * A\n",
    "    # read of isometries and R matrices used in Gilt\n",
    "    w, v = isom\n",
    "    RAl, RAr, RBl, RBr = RABs[2:]\n",
    "    RAlh, RArh, RBlh, RBrh = RABsh[2:]\n",
    "    # convert everything to numpy.array for consistent, since we will\n",
    "    # fall back to ordinary tensor multiplication in the calculation here\n",
    "    Ainv = convertAbeBack(Ainv)\n",
    "    N1, N2, N3, N4 = Ainv.shape\n",
    "    w = convertAbeBack(w)\n",
    "    v = convertAbeBack(v)\n",
    "    RAl = convertAbeBack(RAl)\n",
    "    RAr = convertAbeBack(RAr)\n",
    "    RBl = convertAbeBack(RBl)\n",
    "    RBr = convertAbeBack(RBr)\n",
    "\n",
    "    RAlh = convertAbeBack(RAlh)\n",
    "    RArh = convertAbeBack(RArh)\n",
    "    RBlh = convertAbeBack(RBlh)\n",
    "    RBrh = convertAbeBack(RBrh)\n",
    "\n",
    "    # define the RG equation\n",
    "    def equationRG(psiA):\n",
    "        Aorg = psiA.reshape(N1,N2,N3,N4)\n",
    "        # Gilt before y-contraction\n",
    "        Ap = jncon([Aorg, RAl, RAr], [[1, 2, -3, -4], [1,-1], [2,-2]])\n",
    "        Bp = jncon([Aorg, RBl, RBr], [[1, 2, -3, -4], [1,-1], [2,-2]])\n",
    "        # perform HOTRG y-contraction\n",
    "        if not isom_corr:\n",
    "            Ap = doHalfHOTRGknownWV(Bp, Ap, w, direction = \"v\")\n",
    "        else:\n",
    "            chiH = w.shape[2]\n",
    "            Ap = halfHOTRG(Bp, Ap, chiH, direction = \"v\", verbose = False,\n",
    "                           isjax = True)[0]\n",
    "        # Gilt before x-contraction\n",
    "        App = jncon([Ap, RAlh, RArh], [[-1,-2,3,4], [4,-4], [3,-3]])\n",
    "        Bpp = jncon([Ap, RBlh, RBrh], [[-1,-2,3,4], [4,-4], [3,-3]])\n",
    "        # perform HOTRG x-contraction\n",
    "        if not isom_corr:\n",
    "            Ap = doHalfHOTRGknownWV(Bpp, App, v, direction = \"h\")\n",
    "        else:\n",
    "            chiV = v.shape[2]\n",
    "            Ap = halfHOTRG(Bpp, App, chiV, direction = \"h\", verbose = False,\n",
    "                           isjax = True)[0]\n",
    "        psiAp = Ap.reshape(N1 * N2 * N3 * N4)\n",
    "        return psiAp\n",
    "    # linearlized the RG equation to get response matrix\n",
    "    dimA = N1 * N2 * N3 * N4\n",
    "    psiA = Ainv.reshape(dimA)\n",
    "    psiAp, responseMat = jax.linearize(equationRG, psiA)\n",
    "    # calculate its eigenvalues\n",
    "    RGhyperM = LinearOperator((dimA,dimA), matvec = responseMat)\n",
    "    dtemp = np.sort(abs(eigs(RGhyperM, k=scaleN,\n",
    "                    which='LM', return_eigenvectors=False)))\n",
    "    dtemp = dtemp[::-1]\n",
    "    # calculate scaling dimensions\n",
    "    scDims = -np.log2(abs(dtemp/dtemp[0]))\n",
    "    return scDims"
   ]
  }
 ],
 "metadata": {
  "kernelspec": {
   "display_name": "tf-gpu",
   "language": "python",
   "name": "tf-gpu"
  },
  "language_info": {
   "codemirror_mode": {
    "name": "ipython",
    "version": 3
   },
   "file_extension": ".py",
   "mimetype": "text/x-python",
   "name": "python",
   "nbconvert_exporter": "python",
   "pygments_lexer": "ipython3",
   "version": "3.9.15"
  }
 },
 "nbformat": 4,
 "nbformat_minor": 5
}
