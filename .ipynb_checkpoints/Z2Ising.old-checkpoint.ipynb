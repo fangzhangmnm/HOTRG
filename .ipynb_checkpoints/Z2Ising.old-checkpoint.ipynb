{
 "cells": [
  {
   "cell_type": "code",
   "execution_count": 459,
   "id": "e7d45302",
   "metadata": {},
   "outputs": [],
   "source": [
    "%reset -sf"
   ]
  },
  {
   "cell_type": "code",
   "execution_count": 460,
   "id": "c2622168",
   "metadata": {},
   "outputs": [],
   "source": [
    "import torch\n",
    "from torch.utils.checkpoint import checkpoint\n",
    "import numpy as np\n",
    "from opt_einsum import contract\n",
    "from tqdm.auto import tqdm\n",
    "\n",
    "def _toN(t):\n",
    "    if isinstance(t,list):\n",
    "        return np.array([_toN(x) for x in t])\n",
    "    else:\n",
    "        return np.array(t.detach().cpu()) if isinstance(t,torch.Tensor) else np.array(t)\n",
    "        \n",
    "def _toT(t):\n",
    "    return torch.tensor(t) if not isinstance(t,torch.Tensor) else t\n",
    "torch.cuda.set_device(1)\n",
    "torch.set_default_tensor_type('torch.cuda.DoubleTensor')"
   ]
  },
  {
   "cell_type": "code",
   "execution_count": 461,
   "id": "4fb6c586",
   "metadata": {},
   "outputs": [
    {
     "name": "stdout",
     "output_type": "stream",
     "text": [
      "tensor(8.1351e-16)\n",
      "tensor(4.6903e-16)\n"
     ]
    }
   ],
   "source": [
    "def Ising_T0(beta,h):\n",
    "    beta,h=_toT(beta),_toT(h)\n",
    "    a=torch.sqrt(torch.cosh(beta))\n",
    "    b=torch.sqrt(torch.sinh(beta))\n",
    "    c=torch.exp(beta*h)\n",
    "    w=torch.stack([torch.stack([a,a]),torch.stack([b,-b])])\n",
    "    z=torch.stack([c,1/c])\n",
    "    return contract('iA,jA,kA,lA,A->ijkl',w,w,w,w,z)#UDLR\n",
    "\n",
    "def Ising_SZT0(beta,h):\n",
    "    beta,h=_toT(beta),_toT(h)\n",
    "    a=torch.sqrt(torch.cosh(beta))\n",
    "    b=torch.sqrt(torch.sinh(beta))\n",
    "    c=torch.exp(beta*h)\n",
    "    w=torch.stack([torch.stack([a,a]),torch.stack([b,-b])])\n",
    "    z=torch.stack([c,-1/c])\n",
    "    return contract('iA,jA,kA,lA,A->ijkl',w,w,w,w,z)#UDLR\n",
    "\n",
    "R=_toT(np.diag([1.,-1.]))\n",
    "T=Ising_T0(1.,0.)\n",
    "print(torch.norm(contract('abcd,aA,bB,cC,dD->ABCD',T,R,R,R,R)-T))\n",
    "T=Ising_SZT0(1.,0.)\n",
    "print(torch.norm(contract('abcd,aA,bB,cC,dD->ABCD',T,R,R,R,R)+T))"
   ]
  },
  {
   "cell_type": "code",
   "execution_count": 462,
   "id": "6fb49674",
   "metadata": {
    "scrolled": true
   },
   "outputs": [
    {
     "data": {
      "text/plain": [
       "(tensor([[1., 0., 0., 0.],\n",
       "         [0., 0., 0., 1.],\n",
       "         [0., 1., 0., 0.],\n",
       "         [0., 0., 1., 0.]]),\n",
       " 2,\n",
       " 2)"
      ]
     },
     "execution_count": 462,
     "metadata": {},
     "output_type": "execute_result"
    }
   ],
   "source": [
    "def RepMat(dimV1R1,dimV1R2,dimV2R1,dimV2R2):\n",
    "    dimV1=dimV1R1+dimV1R2\n",
    "    dimV2=dimV2R1+dimV2R2\n",
    "    P=torch.zeros([dimV1*dimV2,dimV1,dimV2])\n",
    "    counter=0\n",
    "    for i in range(dimV1R1):\n",
    "        for j in range(dimV2R1):\n",
    "            P[counter,i,j]=1\n",
    "            counter+=1\n",
    "    for i in range(dimV1R2):\n",
    "        for j in range(dimV2R2):\n",
    "            P[counter,dimV1R1+i,dimV2R1+j]=1\n",
    "            counter+=1\n",
    "    dimR1=counter\n",
    "    for i in range(dimV1R1):\n",
    "        for j in range(dimV2R2):\n",
    "            P[counter,i,dimV2R1+j]=1\n",
    "            counter+=1\n",
    "    for i in range(dimV1R2):\n",
    "        for j in range(dimV2R1):\n",
    "            P[counter,dimV1R1+i,j]=1\n",
    "            counter+=1\n",
    "    dimR2=counter-dimR1\n",
    "    P=P.reshape(dimV1*dimV2,-1)\n",
    "    return P,dimR1,dimR2\n",
    "RepMat(1,1,1,1)"
   ]
  },
  {
   "cell_type": "code",
   "execution_count": 463,
   "id": "1e4bf8d5",
   "metadata": {
    "scrolled": true
   },
   "outputs": [],
   "source": [
    "def HOTRG_get_w(MM,dimRn1,dimRn2,max_dim):\n",
    "    MM1,MM2=MM[:dimRn1,:dimRn1],MM[dimRn1:,dimRn1:]\n",
    "    S1,U1=torch.linalg.eigh(MM1)#ascending, U S Uh=MM\n",
    "    S2,U2=torch.linalg.eigh(MM2)\n",
    "    S,U=[S1,S2],[U1,U2]\n",
    "    max_dim=min(max_dim,dimRn1+dimRn2)\n",
    "    chosenEigens=sorted([(-s,0,i) for i,s in enumerate(S1)]+[(-s,1,i) for i,s in enumerate(S2)])[:max_dim]\n",
    "    chosenEigens.sort(key=lambda x:x[1])\n",
    "    \n",
    "    shift=[0,dimRn1]\n",
    "    dim=[dimRn1,dimRn2]\n",
    "    dimRnn=[0,0]\n",
    "    w=torch.zeros((max_dim,dimRn1+dimRn2))\n",
    "    for i,(s,rep,col) in enumerate(chosenEigens):\n",
    "        w[i,shift[rep]:shift[rep]+dim[rep]]=U[rep][:,col]\n",
    "        dimRnn[rep]+=1\n",
    "    return w,dimRnn[0],dimRnn[1]\n",
    "    \n",
    "    \n",
    "def HOTRG(T,dimR1,dimR2,max_dim):\n",
    "    P,dimRn1,dimRn2=RepMat(dimR1,dimR2,dimR1,dimR2)\n",
    "    #print(dimR1,dimR2,dimRn1,dimRn2)\n",
    "    MM=contract('ijkl,jmno,ipql,pmro->knqr',T,T,T.conj(),T.conj()).reshape((dimRn1+dimRn2,dimRn1+dimRn2))\n",
    "    MM=P@MM@P.T.conj()\n",
    "    w,dimRnn1,dimRnn2=HOTRG_get_w(MM,dimRn1,dimRn2,max_dim)\n",
    "    #display(MM,w@MM@w.T.conj())\n",
    "    w=(w@P).reshape(-1,dimR1+dimR2,dimR1+dimR2)\n",
    "    \n",
    "    Tn=contract('ijkl,jmno,akn,blo->abim',T,T,w,w.conj())\n",
    "    \n",
    "    #print([dimR1,dimR2],dimRnn)\n",
    "    return Tn,w,dimRnn1,dimRnn2"
   ]
  },
  {
   "cell_type": "code",
   "execution_count": 464,
   "id": "59c1a2f8",
   "metadata": {},
   "outputs": [
    {
     "name": "stdout",
     "output_type": "stream",
     "text": [
      "tensor(1.4141) tensor(128.7154)\n"
     ]
    }
   ],
   "source": [
    "def calc_isometries_HOTRG(T,dimR,max_dim,nLayers):\n",
    "    #dimR[dir][rep]\n",
    "    ws=[]\n",
    "    logTotal=0\n",
    "    for layer in range(nLayers):\n",
    "        T,w,dimRn1,dimRn2=HOTRG(T,dimR[1][0],dimR[1][1],max_dim)\n",
    "        dimR=[[dimRn1,dimRn2],dimR[0]]\n",
    "        ws.append({'isometry':w,'multipilicity':[dimRn1,dimRn2]})\n",
    "        norm=torch.linalg.norm(T)\n",
    "        T=T/norm\n",
    "        logTotal=2*logTotal+torch.log(norm)\n",
    "    return T,logTotal,ws\n",
    "\n",
    "T0,T0_op=Ising_T0(1.,0.),Ising_SZT0(1.,0.)\n",
    "T,logTotal,ws=calc_isometries_HOTRG(T0,[[1,1],[1,1]],max_dim=4,nLayers=6)\n",
    "Z=contract('aabb',T)\n",
    "logTotal+=torch.log(Z)\n",
    "print(Z,logTotal)"
   ]
  },
  {
   "cell_type": "code",
   "execution_count": 465,
   "id": "51be4a62",
   "metadata": {},
   "outputs": [
    {
     "name": "stdout",
     "output_type": "stream",
     "text": [
      "tensor(3.3472e-15)\n",
      "---\n",
      "tensor(1.4141)\n"
     ]
    }
   ],
   "source": [
    "def evolve_tensor(T,T_op,ws):\n",
    "    logTotal=0\n",
    "    Z,Z_op=[],[]\n",
    "    for layer in range(len(ws)):\n",
    "        w=ws[layer]['isometry']\n",
    "        T1=contract('ijkl,jmno,akn,blo->abim',T,T,w,w.conj())\n",
    "        T2=contract('ijkl,jmno,akn,blo->abim',T,T_op,w,w.conj())\n",
    "        T3=contract('ijkl,jmno,akn,blo->abim',T_op,T,w,w.conj())\n",
    "        norm=torch.linalg.norm(T1)\n",
    "        T,T_op=T1/norm,(T2+T3)/(2*norm)\n",
    "        logTotal=2*logTotal+torch.log(norm)\n",
    "        Z.append(contract('aabb',T))\n",
    "        Z_op.append(contract('aabb',T_op))\n",
    "    return T,T_op,logTotal,Z,Z_op\n",
    "\n",
    "T,T_op,logTotal,Z,Z_op=evolve_tensor(T0,T0_op,ws)\n",
    "print(contract('aabb',T_op))\n",
    "print('---')\n",
    "print(contract('aabb',T))"
   ]
  },
  {
   "cell_type": "code",
   "execution_count": 467,
   "id": "2f32c1b2",
   "metadata": {},
   "outputs": [
    {
     "data": {
      "application/vnd.jupyter.widget-view+json": {
       "model_id": "eb4017b756ee4a62b6bef48f924b1e54",
       "version_major": 2,
       "version_minor": 0
      },
      "text/plain": [
       "  0%|          | 0/31 [00:00<?, ?it/s]"
      ]
     },
     "metadata": {},
     "output_type": "display_data"
    }
   ],
   "source": [
    "import pandas as pd\n",
    "from tqdm.auto import tqdm\n",
    "\n",
    "max_dim=4\n",
    "nLayers=15\n",
    "\n",
    "curve=pd.DataFrame()\n",
    "for beta in tqdm(np.linspace(.4,.5,31)):\n",
    "    with torch.no_grad():\n",
    "        T0,T0_op=Ising_T0(beta,0),Ising_SZT0(beta,0)\n",
    "        dimR=[[1,1],[1,1]]\n",
    "        T,logTotal,ws=calc_isometries_HOTRG(T0,dimR,max_dim=max_dim,nLayers=nLayers)\n",
    "        T,T_op,logTotal,Z,Z_op=evolve_tensor(T0,T0_op,ws)\n",
    "        T_op_2fold=contract('ijkk,jill',T_op,T_op)\n",
    "        T_2fold=contract('ijkk,jill',T,T)\n",
    "        m=torch.sqrt(T_op_2fold/T_2fold)\n",
    "        logZ=(logTotal+torch.log(Z[-1]))/2**nLayers\n",
    "        newRow={'beta':beta,'logZ':logZ,'Z':Z,'Z_op':Z_op,'m':m,'T_op_2fold':T_op_2fold}\n",
    "        newRow={k:_toN(v) for k,v in newRow.items()}\n",
    "        curve=curve.append(newRow,ignore_index=True)\n",
    "    \n"
   ]
  },
  {
   "cell_type": "code",
   "execution_count": 468,
   "id": "c72f39f2",
   "metadata": {
    "scrolled": true
   },
   "outputs": [
    {
     "data": {
      "image/png": "[encoded data removed]",
      "text/plain": [
       "<Figure size 432x288 with 1 Axes>"
      ]
     },
     "metadata": {
      "needs_background": "light"
     },
     "output_type": "display_data"
    }
   ],
   "source": [
    "from IsingSolutions import Ising2DExactSolution\n",
    "ising2DExactSolution=Ising2DExactSolution()\n",
    "curve['logZ_ref']=ising2DExactSolution.logZ(curve['beta'])\n",
    "curve['m_ref']=ising2DExactSolution.magnetization(curve['beta'])\n",
    "import matplotlib.pyplot as plt\n",
    "for label in ['m','m_ref']:\n",
    "    plt.plot(curve['beta'],np.abs(curve[label]),'.-',label=label)\n",
    "plt.legend()\n",
    "plt.show()"
   ]
  },
  {
   "cell_type": "code",
   "execution_count": 469,
   "id": "3548dd46",
   "metadata": {},
   "outputs": [
    {
     "ename": "SyntaxError",
     "evalue": "invalid character '：' (U+FF1A) (3808757377.py, line 1)",
     "output_type": "error",
     "traceback": [
      "\u001b[0;36m  File \u001b[0;32m\"/tmp/ipykernel_474741/3808757377.py\"\u001b[0;36m, line \u001b[0;32m1\u001b[0m\n\u001b[0;31m    可以研究的东西：各分块矩阵随trg的变化率\u001b[0m\n\u001b[0m           ^\u001b[0m\n\u001b[0;31mSyntaxError\u001b[0m\u001b[0;31m:\u001b[0m invalid character '：' (U+FF1A)\n"
     ]
    }
   ],
   "source": [
    "可以研究的东西：各分块矩阵随trg的变化率"
   ]
  },
  {
   "cell_type": "code",
   "execution_count": null,
   "id": "8785e73c",
   "metadata": {},
   "outputs": [],
   "source": []
  },
  {
   "cell_type": "code",
   "execution_count": null,
   "id": "2f288cd9",
   "metadata": {},
   "outputs": [],
   "source": []
  },
  {
   "cell_type": "code",
   "execution_count": null,
   "id": "eac824c7",
   "metadata": {},
   "outputs": [],
   "source": []
  },
  {
   "cell_type": "code",
   "execution_count": 223,
   "id": "9d800539",
   "metadata": {},
   "outputs": [
    {
     "data": {
      "image/png": "[encoded data removed]",
      "text/plain": [
       "<Figure size 432x288 with 4 Axes>"
      ]
     },
     "metadata": {
      "needs_background": "light"
     },
     "output_type": "display_data"
    },
    {
     "name": "stdout",
     "output_type": "stream",
     "text": [
      "critical_beta 0.4406867935097715\n"
     ]
    }
   ],
   "source": [
    "ising2dExactSolution.display()"
   ]
  },
  {
   "cell_type": "markdown",
   "id": "9c665a4c",
   "metadata": {},
   "source": [
    "#### "
   ]
  }
 ],
 "metadata": {
  "kernelspec": {
   "display_name": "firstEnv",
   "language": "python",
   "name": "firstenv"
  },
  "language_info": {
   "codemirror_mode": {
    "name": "ipython",
    "version": 3
   },
   "file_extension": ".py",
   "mimetype": "text/x-python",
   "name": "python",
   "nbconvert_exporter": "python",
   "pygments_lexer": "ipython3",
   "version": "3.9.7"
  }
 },
 "nbformat": 4,
 "nbformat_minor": 5
}
