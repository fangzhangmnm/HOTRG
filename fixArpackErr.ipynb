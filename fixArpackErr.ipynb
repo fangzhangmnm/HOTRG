{
 "cells": [
  {
   "cell_type": "code",
   "execution_count": 14,
   "id": "314d0c4f",
   "metadata": {},
   "outputs": [],
   "source": [
    "import numpy as np\n",
    "from tqdm.auto import tqdm\n",
    "import scipy.sparse.linalg\n",
    "from scipy.sparse.linalg import LinearOperator,aslinearoperator\n",
    "from functorch import jvp,vjp\n",
    "from math import prod\n",
    "import torch\n",
    "from opt_einsum import contract\n",
    "from scipy.sparse.linalg import eigsh,svds"
   ]
  },
  {
   "cell_type": "code",
   "execution_count": 15,
   "id": "5de62b57",
   "metadata": {},
   "outputs": [],
   "source": [
    "def get_linearized_cylinder(T0):\n",
    "    dimT=prod(T0.shape)\n",
    "    pbar=tqdm()\n",
    "    def matvec(v):\n",
    "        shape0=v.shape\n",
    "        v=v.reshape(T0.shape)\n",
    "        v=contract('iIab,jJbc,kKcd,lLda,IJKL->ijkl',T0,T0,T0,T0,v).reshape(-1)\n",
    "        pbar.update(1)\n",
    "        return v.reshape(shape0)\n",
    "    def rmatvec(v):\n",
    "        shape0=v.shape\n",
    "        v=v.reshape(T0.shape)\n",
    "        v=contract('iIab,jJbc,kKcd,lLda,ijkl->IJKL',T0,T0,T0,T0,v.conj()).conj().reshape(-1)\n",
    "        pbar.update(1)\n",
    "        return v.reshape(shape0)\n",
    "    return LinearOperator(shape=(dimT,dimT),matvec=matvec,rmatvec=rmatvec)"
   ]
  },
  {
   "cell_type": "code",
   "execution_count": 16,
   "id": "b13ce221",
   "metadata": {},
   "outputs": [
    {
     "data": {
      "application/vnd.jupyter.widget-view+json": {
       "model_id": "25fb2f05b17d4a39bdc40047c0d9b768",
       "version_major": 2,
       "version_minor": 0
      },
      "text/plain": [
       "0it [00:00, ?it/s]"
      ]
     },
     "metadata": {},
     "output_type": "display_data"
    }
   ],
   "source": [
    "T=np.random.randn(6,6,6,6)\n",
    "\n",
    "M=get_linearized_cylinder(T)"
   ]
  },
  {
   "cell_type": "code",
   "execution_count": null,
   "id": "ef5e73e0",
   "metadata": {},
   "outputs": [],
   "source": [
    "svds(M,k=16,ncv=32,return_singular_vectors=False)"
   ]
  },
  {
   "cell_type": "code",
   "execution_count": null,
   "id": "617b0057",
   "metadata": {},
   "outputs": [],
   "source": []
  }
 ],
 "metadata": {
  "kernelspec": {
   "display_name": "firstEnv",
   "language": "python",
   "name": "firstenv"
  },
  "language_info": {
   "codemirror_mode": {
    "name": "ipython",
    "version": 3
   },
   "file_extension": ".py",
   "mimetype": "text/x-python",
   "name": "python",
   "nbconvert_exporter": "python",
   "pygments_lexer": "ipython3",
   "version": "3.9.7"
  }
 },
 "nbformat": 4,
 "nbformat_minor": 5
}
