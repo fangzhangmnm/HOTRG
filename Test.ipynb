{
 "cells": [
  {
   "cell_type": "code",
   "execution_count": 47,
   "id": "a3dc1c34",
   "metadata": {},
   "outputs": [],
   "source": [
    "import numpy as np\n",
    "from opt_einsum import contract\n",
    "import torch"
   ]
  },
  {
   "cell_type": "code",
   "execution_count": 54,
   "id": "f9904473",
   "metadata": {},
   "outputs": [],
   "source": [
    "def Gilt(EEh,gilt_eps=1e-6,gilt_nIter=2,gilt_split_insertion=True,**args):\n",
    "    d=EEh.shape[0]\n",
    "    uu,vvh=torch.eye(d),torch.eye(d)\n",
    "    for _iter in range(gilt_nIter):\n",
    "        if _iter==0:\n",
    "            U,S,_=svd(EEh.reshape(d**2,d**2))\n",
    "        else:\n",
    "            uvUS=contract('aA,Bb,abc,c->ABc',u,vh,U,S).reshape(d**2,d**2)\n",
    "            U,S,_=svd(uvUS)\n",
    "        U=U.reshape(d,d,d**2)\n",
    "        t=contract('aac->c',U)\n",
    "        t=t*(S**2/(S**2+gilt_eps**2))\n",
    "        Q=contract('abc,c->ab',U,t)\n",
    "        if gilt_split_insertion:\n",
    "            u,vh=Split_Matrix(Q)\n",
    "        else:\n",
    "            # not make sense, introduces numerical error!\n",
    "            u,vh=Q,torch.eye(d)\n",
    "        uu,vvh=uu@u,vh@vvh\n",
    "    return uu,vvh\n",
    "def Gilt_Cube(A1,A2,A3,A4,A5,A6,A7,A8,**args):\n",
    "    #   A5+------+A6\n",
    "    #     |`.    |`.            0\n",
    "    #     | A1+-u  v-+A2      5`|  \n",
    "    #     |   |  |   |        2-o-3  \n",
    "    #   A7+---|--+A8 |          |`4\n",
    "    #      `. |   `. |          1\n",
    "    #       A3+------+A4\n",
    "    A1i=[None,'13',None,'u',None,'15']\n",
    "    A2i=[None,'24','v',None,None,'26']\n",
    "    A3i=['13',None,None,'34',None,'37']\n",
    "    A4i=['24',None,'34',None,None,'48']\n",
    "    A5i=[None,'57',None,'56','15',None]\n",
    "    A6i=[None,'68','56',None,'26',None]\n",
    "    A7i=['57',None,None,'78','37',None]\n",
    "    A8i=['68',None,'78',None,'48',None]\n",
    "    EEh=Gilt_getEEh([A1,A2,A3,A4,A5,A6,A7,A8],[A1i,A2i,A3i,A4i,A5i,A6i,A7i,A8i],**args)\n",
    "    u,vh=Gilt(EEh,**args)\n",
    "    A1,A2=contract('ijklmn,lL->ijkLmn',A1,u),contract('ijklmn,Kk->ijKlmn',A2,vh)\n",
    "    \n",
    "A=torch.rand([6]*6)"
   ]
  },
  {
   "cell_type": "code",
   "execution_count": null,
   "id": "a99426b8",
   "metadata": {},
   "outputs": [],
   "source": [
    "A.size"
   ]
  },
  {
   "cell_type": "code",
   "execution_count": 36,
   "id": "caab4d01",
   "metadata": {},
   "outputs": [],
   "source": [
    "import IsingSolutions"
   ]
  },
  {
   "cell_type": "code",
   "execution_count": 37,
   "id": "503ffd23",
   "metadata": {},
   "outputs": [
    {
     "data": {
      "text/plain": [
       "['Ising2DExactSolution',\n",
       " 'Ising3DMonteCarlo',\n",
       " '__all__',\n",
       " '__builtins__',\n",
       " '__cached__',\n",
       " '__doc__',\n",
       " '__file__',\n",
       " '__loader__',\n",
       " '__name__',\n",
       " '__package__',\n",
       " '__spec__',\n",
       " 'abserr',\n",
       " 'cos',\n",
       " 'cosh',\n",
       " 'ising2d',\n",
       " 'ising3d',\n",
       " 'log',\n",
       " 'np',\n",
       " 'pi',\n",
       " 'plt',\n",
       " 'relerr',\n",
       " 'scipy',\n",
       " 'sinh',\n",
       " 'sqrt']"
      ]
     },
     "execution_count": 37,
     "metadata": {},
     "output_type": "execute_result"
    }
   ],
   "source": [
    "dir(IsingSolutions)"
   ]
  },
  {
   "cell_type": "code",
   "execution_count": null,
   "id": "18eddb2b",
   "metadata": {},
   "outputs": [],
   "source": []
  }
 ],
 "metadata": {
  "kernelspec": {
   "display_name": "firstEnv",
   "language": "python",
   "name": "firstenv"
  },
  "language_info": {
   "codemirror_mode": {
    "name": "ipython",
    "version": 3
   },
   "file_extension": ".py",
   "mimetype": "text/x-python",
   "name": "python",
   "nbconvert_exporter": "python",
   "pygments_lexer": "ipython3",
   "version": "3.9.7"
  }
 },
 "nbformat": 4,
 "nbformat_minor": 5
}
