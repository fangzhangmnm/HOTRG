{
 "cells": [
  {
   "cell_type": "code",
   "execution_count": 1,
   "metadata": {},
   "outputs": [],
   "source": [
    "import torch\n",
    "import numpy as np\n",
    "torch.set_default_tensor_type(torch.DoubleTensor)"
   ]
  },
  {
   "cell_type": "code",
   "execution_count": 3,
   "metadata": {},
   "outputs": [],
   "source": [
    "from ScalingDimensions import get_scaling_dimensions\n",
    "import glob"
   ]
  },
  {
   "cell_type": "code",
   "execution_count": 7,
   "metadata": {},
   "outputs": [
    {
     "name": "stdout",
     "output_type": "stream",
     "text": [
      "['data/hotrg_gilt_X16_lTRG_full_L20.pth', 'data/hotrg_gilt_X16_lTRG_gilt_L20.pth', 'data/hotrg_gilt_X16_lTRG_gilt_bigger_L20.pth', 'data/hotrg_gilt_X16_lTRG_gilt_smaller_L20.pth', 'data/hotrg_gilt_X16_lTRG_gilt_twice_L20.pth', 'data/hotrg_gilt_X24_lTRG_L10.pth', 'data/hotrg_gilt_X24_lTRG_L20.pth', 'data/hotrg_gilt_X24_lTRG_full_L20.pth', 'data/hotrg_gilt_X24_lTRG_gilt_L10.pth', 'data/hotrg_gilt_X24_lTRG_gilt_L20.pth', 'data/hotrg_gilt_X24_lTRG_gilt_bigger_L20.pth', 'data/hotrg_gilt_X24_lTRG_gilt_jax_L20.pth', 'data/hotrg_gilt_X32_lTRG_gilt_L20.pth', 'data/hotrg_gilt_X44_lTRG_gilt_L20.pth', 'data/tnr_X16_lTRG_L10.pth']\n"
     ]
    }
   ],
   "source": [
    "filenames=glob.glob('data/*_lTRG_*.pth')\n",
    "filenames.sort()\n",
    "print(filenames)"
   ]
  },
  {
   "cell_type": "code",
   "execution_count": 9,
   "metadata": {},
   "outputs": [
    {
     "name": "stdout",
     "output_type": "stream",
     "text": [
      "data/hotrg_gilt_X24_lTRG_gilt_L20.pth\n",
      "[0.         0.12196331 1.00277016 1.13318029 1.15124793 1.99937928\n",
      " 2.00144872 2.00498986 2.05131944 2.12225375 2.19956295 2.20385723\n",
      " 2.50791672 2.68852379 2.69886046 2.79544067 2.82892917 2.8309576\n",
      " 2.85063072 2.85063072 3.01852565 3.10114665 3.10114665 3.10322619]\n",
      "data/hotrg_X24_lTRG_L20.pth\n"
     ]
    },
    {
     "ename": "FileNotFoundError",
     "evalue": "[Errno 2] No such file or directory: 'data/hotrg_X24_lTRG_L20.pth'",
     "output_type": "error",
     "traceback": [
      "\u001b[0;31m---------------------------------------------------------------------------\u001b[0m",
      "\u001b[0;31mFileNotFoundError\u001b[0m                         Traceback (most recent call last)",
      "Cell \u001b[0;32mIn[9], line 5\u001b[0m\n\u001b[1;32m      3\u001b[0m \u001b[39mfor\u001b[39;00m filename \u001b[39min\u001b[39;00m filenames:\n\u001b[1;32m      4\u001b[0m     \u001b[39mprint\u001b[39m(filename)\n\u001b[0;32m----> 5\u001b[0m     options,sr,ur\u001b[39m=\u001b[39mtorch\u001b[39m.\u001b[39;49mload(filename)\n\u001b[1;32m      6\u001b[0m     \u001b[39m#sort sr\u001b[39;00m\n\u001b[1;32m      7\u001b[0m     sr,ur\u001b[39m=\u001b[39msr\u001b[39m.\u001b[39mabs()[sr\u001b[39m.\u001b[39mabs()\u001b[39m.\u001b[39margsort(descending\u001b[39m=\u001b[39m\u001b[39mTrue\u001b[39;00m)],ur[:,sr\u001b[39m.\u001b[39mabs()\u001b[39m.\u001b[39margsort(descending\u001b[39m=\u001b[39m\u001b[39mTrue\u001b[39;00m)]\n",
      "File \u001b[0;32m~/anaconda3/envs/tf-gpu/lib/python3.9/site-packages/torch/serialization.py:771\u001b[0m, in \u001b[0;36mload\u001b[0;34m(f, map_location, pickle_module, weights_only, **pickle_load_args)\u001b[0m\n\u001b[1;32m    768\u001b[0m \u001b[39mif\u001b[39;00m \u001b[39m'\u001b[39m\u001b[39mencoding\u001b[39m\u001b[39m'\u001b[39m \u001b[39mnot\u001b[39;00m \u001b[39min\u001b[39;00m pickle_load_args\u001b[39m.\u001b[39mkeys():\n\u001b[1;32m    769\u001b[0m     pickle_load_args[\u001b[39m'\u001b[39m\u001b[39mencoding\u001b[39m\u001b[39m'\u001b[39m] \u001b[39m=\u001b[39m \u001b[39m'\u001b[39m\u001b[39mutf-8\u001b[39m\u001b[39m'\u001b[39m\n\u001b[0;32m--> 771\u001b[0m \u001b[39mwith\u001b[39;00m _open_file_like(f, \u001b[39m'\u001b[39;49m\u001b[39mrb\u001b[39;49m\u001b[39m'\u001b[39;49m) \u001b[39mas\u001b[39;00m opened_file:\n\u001b[1;32m    772\u001b[0m     \u001b[39mif\u001b[39;00m _is_zipfile(opened_file):\n\u001b[1;32m    773\u001b[0m         \u001b[39m# The zipfile reader is going to advance the current file position.\u001b[39;00m\n\u001b[1;32m    774\u001b[0m         \u001b[39m# If we want to actually tail call to torch.jit.load, we need to\u001b[39;00m\n\u001b[1;32m    775\u001b[0m         \u001b[39m# reset back to the original position.\u001b[39;00m\n\u001b[1;32m    776\u001b[0m         orig_position \u001b[39m=\u001b[39m opened_file\u001b[39m.\u001b[39mtell()\n",
      "File \u001b[0;32m~/anaconda3/envs/tf-gpu/lib/python3.9/site-packages/torch/serialization.py:270\u001b[0m, in \u001b[0;36m_open_file_like\u001b[0;34m(name_or_buffer, mode)\u001b[0m\n\u001b[1;32m    268\u001b[0m \u001b[39mdef\u001b[39;00m \u001b[39m_open_file_like\u001b[39m(name_or_buffer, mode):\n\u001b[1;32m    269\u001b[0m     \u001b[39mif\u001b[39;00m _is_path(name_or_buffer):\n\u001b[0;32m--> 270\u001b[0m         \u001b[39mreturn\u001b[39;00m _open_file(name_or_buffer, mode)\n\u001b[1;32m    271\u001b[0m     \u001b[39melse\u001b[39;00m:\n\u001b[1;32m    272\u001b[0m         \u001b[39mif\u001b[39;00m \u001b[39m'\u001b[39m\u001b[39mw\u001b[39m\u001b[39m'\u001b[39m \u001b[39min\u001b[39;00m mode:\n",
      "File \u001b[0;32m~/anaconda3/envs/tf-gpu/lib/python3.9/site-packages/torch/serialization.py:251\u001b[0m, in \u001b[0;36m_open_file.__init__\u001b[0;34m(self, name, mode)\u001b[0m\n\u001b[1;32m    250\u001b[0m \u001b[39mdef\u001b[39;00m \u001b[39m__init__\u001b[39m(\u001b[39mself\u001b[39m, name, mode):\n\u001b[0;32m--> 251\u001b[0m     \u001b[39msuper\u001b[39m(_open_file, \u001b[39mself\u001b[39m)\u001b[39m.\u001b[39m\u001b[39m__init__\u001b[39m(\u001b[39mopen\u001b[39;49m(name, mode))\n",
      "\u001b[0;31mFileNotFoundError\u001b[0m: [Errno 2] No such file or directory: 'data/hotrg_X24_lTRG_L20.pth'"
     ]
    }
   ],
   "source": [
    "filenames=['data/hotrg_gilt_X24_lTRG_gilt_L20.pth','data/hotrg_X24_lTRG_L20.pth']\n",
    "\n",
    "for filename in filenames:\n",
    "    print(filename)\n",
    "    options,sr,ur=torch.load(filename)\n",
    "    #sort sr\n",
    "    sr,ur=sr.abs()[sr.abs().argsort(descending=True)],ur[:,sr.abs().argsort(descending=True)]\n",
    "    # detect if there are cyl or lTRG in filename\n",
    "    if 'cyl' in filename:\n",
    "        scaling=np.exp(2*np.pi/4)\n",
    "    elif 'lTRG' in filename:\n",
    "        scaling=2\n",
    "    else:\n",
    "        assert False\n",
    "    print(get_scaling_dimensions(sr,scaling=scaling).cpu().numpy())"
   ]
  },
  {
   "cell_type": "code",
   "execution_count": 12,
   "metadata": {},
   "outputs": [],
   "source": [
    "# 'data/tnr_X16_cyl_L10.pkl'\n",
    "\n",
    "# tensor([-0.0000, 0.1135, 1.0016, 1.1382, 1.1382, 2.0007, 2.0008, 2.0013, 2.0013,\n",
    "#         2.1146, 2.1372, 2.1381, 2.9999, 2.9999, 3.0002, 3.0022, 3.0024, 3.1128,\n",
    "#         3.1128, 3.1153, 3.1153, 3.1381, 3.1381, 3.9991, 3.9992, 3.9998, 4.0002,\n",
    "#         4.0009, 4.0009, 4.0050, 4.0064, 4.0064, 4.1117, 4.1121, 4.1136, 4.1175,\n",
    "#         4.1192, 4.1397, 4.1408, 4.1412, 4.1416, 4.9973, 4.9993, 4.9993, 4.9998,\n",
    "#         4.9998, 5.0025, 5.0027, 5.0036, 5.0082, 5.0082, 5.0087, 5.0148, 5.0149,\n",
    "#         5.1096, 5.1096, 5.1110, 5.1110, 5.1142, 5.1142, 5.1270, 5.1270, 5.1427,\n",
    "#         5.1427, 5.1445, 5.1445, 5.1464, 5.1464, 5.9685, 5.9925, 5.9925, 5.9951,\n",
    "#         5.9982, 5.9983, 5.9994, 6.0037, 6.0037, 6.0067, 6.0079, 6.0079, 6.0095,\n",
    "#         6.0100, 6.0152, 6.0173, 6.0173, 6.0182, 6.0208, 6.0277, 6.0277, 6.0804,\n",
    "#         6.0950, 6.1054, 6.1064, 6.1095, 6.1105, 6.1226, 6.1227, 6.1383, 6.1385,\n",
    "#         6.1415, 6.1419, 6.1425, 6.1427, 6.1456, 6.1477, 6.1506, 6.1514, 6.1524,\n",
    "#         6.1552, 6.1620, 6.1704, 6.9418, 6.9546, 6.9546, 6.9883, 6.9883, 6.9892,\n",
    "#         6.9897, 6.9982, 6.9982, 7.0027, 7.0029, 7.0052, 7.0097, 7.0097, 7.0104,\n",
    "#         7.0104, 7.0110])\n",
    "\n",
    "# 0     1           id\n",
    "# .125      1       sig\n",
    "# 1     1           eps\n",
    "# 1.125     2       sig_x,sig_y\n",
    "# 2     4           Tx,Ty,eps_x,eps_y\n",
    "# 2.125     3       sig_xx,sig_xy,sig_yy(maybe not since nabla sig = ???)\n",
    "# 3     5           ???\n",
    "# 3.125     6     \n",
    "# 4     9\n",
    "# 4.125     9\n",
    "# 5     13\n",
    "# 5.125     14\n",
    "# 6     21\n",
    "# 6.125     22\n",
    "# 7     >=17\n"
   ]
  },
  {
   "cell_type": "code",
   "execution_count": 11,
   "metadata": {},
   "outputs": [
    {
     "name": "stdout",
     "output_type": "stream",
     "text": [
      "data/hotrg_gilt_X16_lTRG_full_L20.pkl\n",
      "[-0.          0.071477    0.99691186  2.0002131   2.00873313  2.42951552\n",
      "  2.75055589  2.75055589  2.98006294  2.98006294  3.12803049  3.1584131\n",
      "  3.29839066  3.42239914  3.70105023  3.70105023]\n",
      "data/hotrg_gilt_X16_lTRG_gilt_L20.pkl\n",
      "[-0.          0.11995082  1.00180437  1.13582099  1.15481655  1.99576896\n",
      "  2.00233854  2.00669269  2.04588261  2.10818954  2.18327519  2.19187483\n",
      "  2.49193817  2.63421834  2.64835348  2.74716519]\n",
      "data/hotrg_gilt_X16_lTRG_gilt_bigger_L20.pkl\n",
      "[-0.          0.1321596   1.01792547  1.13359254  1.17793837  1.96881471\n",
      "  1.97233382  2.09122772  2.19176137  2.19762802  2.26041907  2.42322706\n",
      "  2.7392025   2.77536722  2.84642895  2.91396813]\n",
      "data/hotrg_gilt_X16_lTRG_gilt_smaller_L20.pkl\n",
      "[-0.          0.11976946  1.03758599  1.16365785  1.16387197  2.03629349\n",
      "  2.04291916  2.04891025  2.05034375  2.10090918  2.1743825   2.1743825\n",
      "  2.2447926   2.2790924   2.37489976  2.42074356]\n",
      "data/hotrg_gilt_X16_lTRG_gilt_twice_L20.pkl\n",
      "[-0.          0.12000192  1.00694757  1.14070813  1.17346413  1.98048934\n",
      "  2.01774212  2.01976729  2.04959948  2.13276532  2.15215146  2.20209665\n",
      "  2.44436059  2.5215824   2.5959267   2.5959267 ]\n",
      "data/hotrg_gilt_X24_lTRG_L10.pkl\n",
      "[-0.          0.12965908  1.03529772  1.15595028  1.15717154  2.01043118\n",
      "  2.0142153   2.02085522  2.05754861  2.05842916  2.06849423  2.18765264\n",
      "  2.25298147  2.26697495  2.27549406  2.2993119 ]\n",
      "data/hotrg_gilt_X24_lTRG_L20.pkl\n",
      "[-0.          0.1232471   1.03527199  1.16221508  1.16270198  2.01278687\n",
      "  2.01687249  2.01807897  2.05567953  2.05730837  2.11476426  2.16073306\n",
      "  2.22751374  2.22751374  2.25520859  2.25520859]\n",
      "data/hotrg_gilt_X24_lTRG_full_L20.pkl\n",
      "[-0.          0.09077105  0.99855097  1.99850383  2.00698488  2.73696236\n",
      "  2.81635248  2.81635248  3.01678934  3.13181002  3.15410609  3.15410609\n",
      "  3.32230909  3.44274708  3.75424907  3.86516815]\n",
      "data/hotrg_gilt_X24_lTRG_gilt_L10.pkl\n",
      "[-0.          0.12789779  1.00792272  1.1311525   1.14864262  1.98467098\n",
      "  2.01041944  2.01426294  2.02863967  2.14498724  2.20183428  2.21892974\n",
      "  2.52361641  2.66642187  2.70067199  2.79904799]\n",
      "data/hotrg_gilt_X24_lTRG_gilt_L20.pkl\n",
      "[-0.          0.12196331  1.00277016  1.13318029  1.15124793  1.99937928\n",
      "  2.00144872  2.00498986  2.05131944  2.12225375  2.19956295  2.20385723\n",
      "  2.50791672  2.68852379  2.69886046  2.79544067  2.82892917  2.8309576\n",
      "  2.85063072  2.85063072  3.01852565  3.10114665  3.10114665  3.10322619]\n",
      "data/hotrg_gilt_X24_lTRG_gilt_bigger_L20.pkl\n",
      "[-0.          0.12269566  1.0164274   1.14847593  1.1554608   1.97704031\n",
      "  1.98292089  2.07744562  2.11547091  2.18418955  2.24984205  2.33234447\n",
      "  2.6325343   2.72119428  2.72119428  2.88236867  2.88993365  2.9322658\n",
      "  2.96524644  3.01300787  3.03241096  3.05836724  3.05836724  3.07533432]\n",
      "data/hotrg_gilt_X24_lTRG_gilt_jax_L20.pkl\n",
      "[-0.          0.12196331  1.00277016  1.13318029  1.15124793  1.99937928\n",
      "  2.00144872  2.00498986  2.05131944  2.12225375  2.19956295  2.20385723\n",
      "  2.50791672  2.68852379  2.69886046  2.79544067]\n",
      "data/hotrg_gilt_X32_lTRG_gilt_L20.pkl\n",
      "[-0.          0.1224544   1.00082477  1.13217895  1.15057559  1.98889105\n",
      "  2.00065802  2.00492317  2.04296709  2.11796548  2.19314457  2.20362104\n",
      "  2.5060963   2.68240463  2.69242225  2.79634372]\n",
      "data/hotrg_gilt_X44_lTRG_gilt_L20.pkl\n",
      "[-0.          0.12245848  1.00069367  1.1321323   1.15060473  1.98799536\n",
      "  2.00065798  2.00492276  2.04207509  2.117875    2.19305979  2.20413216\n",
      "  2.50365401  2.65710962  2.69131685  2.79744701]\n",
      "data/tnr_X16_lTRG_L10.pkl\n",
      "[-0.          0.12527481  1.06895592  1.20741207  1.21498783  2.00961978\n",
      "  2.04040283  2.04158245  2.12023457  2.12190899  2.16195785  2.2188127\n",
      "  2.48118463  2.51330136  2.54815336  2.61514213]\n"
     ]
    }
   ],
   "source": [
    "for filename in sorted(filenames):\n",
    "    print(filename)\n",
    "    options,sr,ur=torch.load(filename)\n",
    "    #sort sr\n",
    "    sr,ur=sr.abs()[sr.abs().argsort(descending=True)],ur[:,sr.abs().argsort(descending=True)]\n",
    "    # detect if there are cyl or lTRG in filename\n",
    "    if 'cyl' in filename:\n",
    "        scaling=np.exp(2*np.pi/4)\n",
    "    elif 'lTRG' in filename:\n",
    "        scaling=2\n",
    "    else:\n",
    "        assert False\n",
    "    print(get_scaling_dimensions(sr,scaling=scaling).cpu().numpy())"
   ]
  },
  {
   "cell_type": "code",
   "execution_count": null,
   "metadata": {},
   "outputs": [],
   "source": []
  }
 ],
 "metadata": {
  "kernelspec": {
   "display_name": "tf-gpu",
   "language": "python",
   "name": "tf-gpu"
  },
  "language_info": {
   "codemirror_mode": {
    "name": "ipython",
    "version": 3
   },
   "file_extension": ".py",
   "mimetype": "text/x-python",
   "name": "python",
   "nbconvert_exporter": "python",
   "pygments_lexer": "ipython3",
   "version": "3.9.15"
  },
  "orig_nbformat": 4,
  "vscode": {
   "interpreter": {
    "hash": "290ca843ed4e373177a40a12867399d06f98eef90a593236e21573dfbc92bc66"
   }
  }
 },
 "nbformat": 4,
 "nbformat_minor": 2
}
