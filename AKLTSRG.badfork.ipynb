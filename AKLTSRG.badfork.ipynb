{
 "cells": [
  {
   "cell_type": "code",
   "execution_count": 47,
   "id": "499853ac",
   "metadata": {},
   "outputs": [],
   "source": [
    "%reset -sf"
   ]
  },
  {
   "cell_type": "code",
   "execution_count": 86,
   "id": "75350d3c",
   "metadata": {},
   "outputs": [],
   "source": [
    "import torch\n",
    "from torch.utils.checkpoint import checkpoint\n",
    "import numpy as np\n",
    "import matplotlib.pyplot as plt\n",
    "import pandas as pd\n",
    "from tqdm.auto import tqdm\n",
    "from opt_einsum import contract\n",
    "from torch.profiler import profile, record_function, ProfilerActivity\n",
    "def _toN(t):\n",
    "    return t.detach().cpu().numpy()\n",
    "def printDiff(name,value,ref):\n",
    "    if ref is not None:\n",
    "        print(name+':',value,'diff(abs):',value-ref)\n",
    "    else:\n",
    "        print(name+':',value)\n",
    "    \n",
    "import ast\n",
    "def eval_np_array_literal(array_string):\n",
    "    array_string = ','.join(array_string.replace('[ ', '[').split())\n",
    "    return np.array(ast.literal_eval(array_string))\n"
   ]
  },
  {
   "cell_type": "markdown",
   "id": "2a36b32a",
   "metadata": {},
   "source": [
    "# SRG BaseClass"
   ]
  },
  {
   "cell_type": "code",
   "execution_count": 91,
   "id": "3a5e2c55",
   "metadata": {
    "scrolled": true
   },
   "outputs": [],
   "source": [
    "# SRG BaseClass, can be used for HOTRG-like and XTRG-like contraction\n",
    "class SRG(torch.nn.Module):\n",
    "    def __init__(self,params,options):\n",
    "        super(SRG,self).__init__()\n",
    "        self.dtype={'float64':torch.float64,'float32':torch.float32}[options.get('dtype','float64')]\n",
    "        self.device=options.get('device','cpu')\n",
    "        self.max_dim=options.get('max_dim',16)\n",
    "        self.nLayers=options.get('nLayers',20)\n",
    "        self.use_checkpoint=options.get('use_checkpoint',True)\n",
    "        self.observable_checkerboard=False\n",
    "        \n",
    "        self.params=torch.nn.ParameterDict({\n",
    "            k:torch.nn.Parameter(torch.tensor(v,dtype=self.dtype,device=self.device)) for k,v in params.items()\n",
    "        })\n",
    "        self.persistent={}\n",
    "        self.persistent['logZ']=0\n",
    "        \n",
    "    def __str__(self):\n",
    "        rtval=\"\"\n",
    "        for k,v in self.params.items():\n",
    "            rtval+=k+':'+v+'\\n'\n",
    "        rtval+='dtype:'+self.dtype+'\\n'\n",
    "        rtval+='device:'+self.device+'\\n'\n",
    "        rtval+='max_dim:'+self.max_dim+'\\n'\n",
    "        rtval+='nLayers:'+self.nLayers+'\\n'\n",
    "        rtval+='nSite:'+2**nLayers+'\\n'\n",
    "        \n",
    "    def set_params(self,params):\n",
    "        self.params=torch.nn.ParameterDict({\n",
    "            k:torch.nn.Parameter(torch.tensor(v,dtype=self.dtype,device=self.device)) for k,v in params.items()\n",
    "        })\n",
    "        \n",
    "    def toT(self,t):\n",
    "        return torch.tensor(t,dtype=self.dtype,device=self.device)\n",
    "    \n",
    "    def generate_random_Isometry(self,dim1,dim2):\n",
    "        dim=max(dim1,dim2)\n",
    "        A=torch.randn(dim,dim,dtype=self.dtype,device=self.device)\n",
    "        U=torch.matrix_exp(A-A.t())\n",
    "        U=U[:dim1,:dim2]\n",
    "        return U\n",
    "    \n",
    "    def TRG_same_T(self,T,*w):\n",
    "        return self.TRG(T,T,*w)\n",
    "    \n",
    "    def _checkpoint(self,F,*ww):\n",
    "        requires_grad=False\n",
    "        for w in ww:\n",
    "            if w.requires_grad:\n",
    "                requires_grad=True\n",
    "        if self.use_checkpoint and requires_grad:\n",
    "            return torch.utils.checkpoint.checkpoint(F,*ww)\n",
    "        else:\n",
    "            return F(*ww)\n",
    "    \n",
    "    def forward_tensor(self,nLayers):\n",
    "        logTotal=0\n",
    "        T=self.get_T0()\n",
    "        for i in range(nLayers):\n",
    "            w=self.ws[(i*self.w_per_layer):((i+1)*self.w_per_layer)]\n",
    "            T=self._checkpoint(self.TRG_same_T,T,*w)\n",
    "                \n",
    "            norm=torch.linalg.norm(T)\n",
    "            T=T/norm\n",
    "            logTotal=2*logTotal+torch.log(norm)\n",
    "        return T,logTotal\n",
    "    \n",
    "    def forward_tensor_with_observable(self,nLayers,T_op,contract_method=None,start_layer=0):\n",
    "        T=self.get_T0()\n",
    "        for i in range(start_layer):\n",
    "            w=self.ws[(i*self.w_per_layer):((i+1)*self.w_per_layer)]\n",
    "            T=self._checkpoint(self.TRG_same_T,T,*w)\n",
    "            \n",
    "        logTotal=0\n",
    "        print(nLayers)\n",
    "        contracted=torch.zeros(nLayers,dtype=self.dtype,device=self.device)\n",
    "        for i in range(start_layer,nLayers):\n",
    "            w=self.ws[(i*self.w_per_layer):((i+1)*self.w_per_layer)]\n",
    "            T1=self._checkpoint(self.TRG_same_T,T,*w)\n",
    "            T2=self._checkpoint(self.TRG,T,T_op,*w)\n",
    "            T3=self._checkpoint(self.TRG,T_op,T,*w)\n",
    "            if self.observable_checkerboard and i<self.spacial_dim:\n",
    "                T3=-T3\n",
    "\n",
    "            T,T_op=T1,(T2+T3)/2\n",
    "            norm=torch.linalg.norm(T)\n",
    "            T,T_op=T/norm,T_op/norm\n",
    "            logTotal=2*logTotal+torch.log(norm)\n",
    "            \n",
    "            if contract_method is not None:\n",
    "                Z=contract(T,contract_method)\n",
    "                Z_op=contract(T_op,contract_method)\n",
    "                contracted[i]=Z_op/Z\n",
    "            \n",
    "        return T,T_op,logTotal,contracted\n",
    "    \n",
    "    \n",
    "    #def dlogZ(self,param):\n",
    "    #    self.requires_grad_(False)\n",
    "    #    self.params[param].requires_grad_(True)\n",
    "    #    self.zero_grad()\n",
    "    #    logZ=self.forward(self.nLayers+self.nLayers_HOSVD)\n",
    "    #    logZ.backward()\n",
    "    #    result=_toN(self.params[param].grad)\n",
    "    #    self.params[param].requires_grad_(False)\n",
    "    #    return result\n",
    "    \n",
    "    def update_single_layer(self,layer):\n",
    "        self.requires_grad_(False)\n",
    "        \n",
    "        for i in range(layer*self.w_per_layer,(layer+1)*self.w_per_layer):\n",
    "            self.ws[i].requires_grad_(True)\n",
    "        self.zero_grad()\n",
    "        \n",
    "        logZ=self.forward(self.nLayers)\n",
    "        logZ.backward()\n",
    "        \n",
    "        with torch.no_grad():\n",
    "            for i in range(layer*self.w_per_layer,(layer+1)*self.w_per_layer):\n",
    "                E=self.ws[i].grad\n",
    "                dim1,dim2=E.shape[0],E.shape[2]\n",
    "                E=E.reshape(dim1*dim1,dim2)\n",
    "                U,S,Vh=torch.linalg.svd(E,full_matrices=False)\n",
    "                UVh=U@Vh\n",
    "                #UVh=svd2UVh(E)\n",
    "                del U,S,Vh,E\n",
    "                \n",
    "                #calculate diff\n",
    "                UVh_old=self.ws[i].reshape(dim1*dim1,dim2)\n",
    "                self.ws_diff[i]=_toN(torch.norm(UVh_old.t()@UVh@UVh.t()@UVh_old-torch.eye(dim2,device=UVh.device)))\n",
    "                del UVh_old\n",
    "                    \n",
    "                self.ws[i].data=UVh.reshape(dim1,dim1,dim2)\n",
    "                del UVh\n",
    "                torch.cuda.empty_cache()\n",
    "        return _toN(logZ)\n",
    "        \n",
    "    def optimize(self,nIter):\n",
    "        self.ws_diff=np.zeros(len(self.ws))\n",
    "        \n",
    "        torch.cuda.empty_cache()\n",
    "        if nIter>1:\n",
    "            pbar2=tqdm(range(nIter), leave=False)\n",
    "            pbar2.set_postfix({k:_toN(v) for k,v in self.params.items()})\n",
    "        else:\n",
    "            pbar2=range(nIter)\n",
    "        for i in pbar2:\n",
    "            pbar=tqdm([*range(self.nLayers-1,-1,-1)]+[*range(self.nLayers)], leave=False)\n",
    "            for j in pbar:\n",
    "                ws_shape=self.ws[j*self.w_per_layer].shape\n",
    "                if ws_shape[0]**2>ws_shape[2]:\n",
    "                    self.logZ=self.update_single_layer(j)\n",
    "                #else:\n",
    "                #    print(f'Skip layer {j} shape={ws_shape}')\n",
    "        #lock all grads\n",
    "        for param in self.params.values(): \n",
    "            param.requires_grad_(False)\n",
    "        for i in range(self.nLayers): #slightly faster\n",
    "            self.ws[i].requires_grad_(False)\n",
    "        \n",
    "        self.logZ_diff=np.abs(self.persistent['logZ']-self.logZ)\n",
    "        self.persistent['logZ']=self.logZ\n",
    "        \n",
    "        # normalized by layer weight, number of elements in tensor\n",
    "        # NOT USED but multiply by number of elements in last tensor to better match the effects in output\n",
    "        self.ws_diff_normalized=np.zeros(len(self.ws))\n",
    "        for i in range(self.nLayers):\n",
    "            for j in range(self.w_per_layer):\n",
    "                ij=i*self.w_per_layer+j\n",
    "                self.ws_diff_normalized[ij]=self.ws_diff[ij]/2**i#/torch.numel(self.ws[ij])*torch.numel(self.ws[-1])\n",
    "        # ignore the last layers we take trace directly\n",
    "        # use 10-norm so layers of large error has beter contribution       \n",
    "        self.ws_diff_total=np.average(self.ws_diff_normalized[:-self.w_per_layer*self.spacial_dim])\n"
   ]
  },
  {
   "cell_type": "code",
   "execution_count": 92,
   "id": "80b0e9b2",
   "metadata": {},
   "outputs": [],
   "source": [
    "class HOTRG(SRG):\n",
    "    def __init__(self,params,options):\n",
    "        super(HOTRG,self).__init__(params,options)\n",
    "        self.nLayers_HOSVD=options.get('nLayers_HOSVD',0)\n",
    "        self.persistent['magnetization']=0\n",
    "        self.persistent['energy']=0\n",
    "    \n",
    "    def create_isometries(self,start_dim,spacial_dim):\n",
    "        ws=[]\n",
    "        bond_dim=[start_dim]*spacial_dim\n",
    "        for i in range(self.nLayers+self.nLayers_HOSVD):\n",
    "            for j in range(1,spacial_dim):\n",
    "                old_dim=bond_dim[j]\n",
    "                new_dim=min(old_dim**2,self.max_dim)\n",
    "                U=self.generate_random_Isometry(old_dim**2,new_dim).view(old_dim,old_dim,new_dim)\n",
    "                ws.append(U.detach())\n",
    "                bond_dim[j]=new_dim\n",
    "            bond_dim=bond_dim[1:]+[bond_dim[0]]\n",
    "        self.ws=torch.nn.ParameterList([\n",
    "            torch.nn.Parameter(v) for v in ws\n",
    "        ])\n",
    "        self.w_per_layer=spacial_dim-1\n",
    "        self.spacial_dim=spacial_dim\n",
    "        self.TRG={2:self.HOTRG2D,3:self.HOTRG3D}[self.spacial_dim]\n",
    "        self.HOSVD={2:self.HOSVD2D,3:self.HOSVD3D}[self.spacial_dim]\n",
    "        self.ws_diff_normalized=np.zeros(len(self.ws))\n",
    "        self.ws_diff=np.zeros(len(self.ws))\n",
    "        self.ws_diff_total=0\n",
    "        \n",
    "        \n",
    "    def HOTRG2D(self,T1,T2,w):\n",
    "        return contract('ijkl,jmno,kna,lob->abim',T1,T2,w,w)#contract and rotate\n",
    "    \n",
    "    def HOTRG3D(self,T1,T2,w1,w2):\n",
    "        return contract('ijklmn,jopqrs,kpa,lqb,mrc,nsd->abcdio',T1,T2,w1,w1,w2,w2)#contract and rotate\n",
    "    \n",
    "    def HOSVD2D(self,T1,T2):\n",
    "        MM1=contract('ijkl,jmno,ipql,pmro->knqr',T1,T2,T1.conj(),T2.conj()).reshape(T1.shape[2]*T2.shape[2],-1)\n",
    "        S1,U1=torch.linalg.eigh(MM1) #S1 ascending U S Uh=MM\n",
    "        eps1=torch.sum(torch.abs(S1[-self.max_dim:])) # might be slightly minus due to numerical error\n",
    "        \n",
    "        MM2=contract('ijkl,jmno,ipql,pmro->knqr',T1.transpose(2,3),T2.transpose(2,3),T1.conj().transpose(2,3),T2.conj().transpose(2,3)).reshape(T1.shape[3]*T2.shape[3],-1)\n",
    "        S2,U2=torch.linalg.eigh(MM2)\n",
    "        eps2=torch.sum(torch.abs(S2[-self.max_dim:]))\n",
    "\n",
    "        S,U=(S1,U1) if eps1<eps2 else (S2,U2)\n",
    "        w=U[:,-self.max_dim:].reshape(T1.shape[2],T2.shape[2],-1)\n",
    "        return contract('ijkl,jmno,kna,lob->abim',T1,T2,w,w),[w]\n",
    "    \n",
    "    def HOSVD3D(self,T1,T2):\n",
    "        #print(T1.shape)\n",
    "        MM1=contract('ijklmn,jopqrs,itulmn,tovqrs->kpuv',T1,T2,T1.conj(),T2.conj()).reshape(T1.shape[2]*T2.shape[2],-1)\n",
    "        S1,U1=torch.linalg.eigh(MM1) #S1 ascending U S Uh=MM\n",
    "        eps1=torch.sum(torch.abs(S1[-self.max_dim:])) # might be slightly minus due to numerical error\n",
    "        \n",
    "        MM2=contract('ijklmn,jopqrs,itulmn,tovqrs->kpuv',T1.transpose(2,3),T2.transpose(2,3),T1.conj().transpose(2,3),T2.conj().transpose(2,3)).reshape(T1.shape[3]*T2.shape[3],-1)\n",
    "        S2,U2=torch.linalg.eigh(MM2)\n",
    "        eps2=torch.sum(torch.abs(S2[-self.max_dim:]))\n",
    "\n",
    "        S,U=(S1,U1) if eps1<eps2 else (S2,U2)\n",
    "        w1=U[:,-self.max_dim:].reshape(T1.shape[2],T2.shape[2],-1)\n",
    "        \n",
    "        MM1=contract('ijklmn,jopqrs,itklun,topqvs->mruv',T1,T2,T1.conj(),T2.conj()).reshape(T1.shape[4]*T2.shape[4],-1)\n",
    "        S1,U1=torch.linalg.eigh(MM1) #S1 ascending U S Uh=MM\n",
    "        eps1=torch.sum(torch.abs(S1[-self.max_dim:])) # might be slightly minus due to numerical error\n",
    "        \n",
    "        MM2=contract('ijklmn,jopqrs,itklun,topqvs->mruv',T1.transpose(4,5),T2.transpose(4,5),T1.conj().transpose(4,5),T2.conj().transpose(4,5)).reshape(T1.shape[5]*T2.shape[5],-1)\n",
    "        S2,U2=torch.linalg.eigh(MM2)\n",
    "        eps2=torch.sum(torch.abs(S2[-self.max_dim:]))\n",
    "\n",
    "        S,U=(S1,U1) if eps1<eps2 else (S2,U2)\n",
    "        w2=U[:,-self.max_dim:].reshape(T1.shape[4],T2.shape[4],-1)\n",
    "        #print(w1.shape,w2.shape)\n",
    "        \n",
    "        return contract('ijklmn,jopqrs,kpa,lqb,mrc,nsd->abcdio',T1,T2,w1,w1,w2,w2),[w1,w2]\n",
    "    \n",
    "    \n",
    "    def generate_isometries_HOSVD(self):\n",
    "        with torch.no_grad():\n",
    "            logTotal=0\n",
    "            T=self.get_T0()\n",
    "            for i in tqdm(range(self.nLayers+self.nLayers_HOSVD), leave=False):\n",
    "                T,ww=self.HOSVD(T,T)\n",
    "                for j in range(self.w_per_layer):\n",
    "                    self.ws[i*self.w_per_layer+j].data=ww[j]\n",
    "                norm=torch.linalg.norm(T)\n",
    "                T=T/norm\n",
    "                logTotal=2*logTotal+torch.log(norm)\n",
    "\n",
    "            contract_all=[i for i in range(len(T.shape)//2) for j in range(2)]\n",
    "            Z=contract(T,contract_all)\n",
    "            self.persistent['logZ']=self.logZ=_toN((torch.log(Z)+logTotal)/2**self.nLayers)\n",
    "    \n",
    "    def forward(self,nLayers):\n",
    "        T,logTotal=self.forward_tensor(nLayers)\n",
    "        contract_all=[i for i in range(len(T.shape)//2) for j in range(2)]\n",
    "        Z=contract(T,contract_all)\n",
    "        return (torch.log(Z)+logTotal)/2**nLayers\n",
    "    \n",
    "    def forward_with_observable(self,T_op,nLayers,start_layer=0):\n",
    "        contract_method=[i for i in range(len(T_op.shape)//2) for j in range(2)]\n",
    "        _,_,_,contracted=self.forward_tensor_with_observable(T_op,nLayers,contract_method=contract_method,start_layer=start_layer)\n",
    "        return contracted,contracted[-1]\n",
    "    \n",
    "    #def forward_and_HOTRG(self):\n",
    "    #    T,logTotal=self.forward_tensor()\n",
    "    #    for i in range(self.nLayers_HOSVD):\n",
    "    #        #T,_=self.HOSVD(T,T)\n",
    "    #        ws=\n",
    "    #        T=self.TRG(T,T,*ws)\n",
    "    #        norm=torch.linalg.norm(T)\n",
    "    #        T=T/norm\n",
    "    #        logTotal=2*logTotal+torch.log(norm)\n",
    "    #    contract_all=[i for i in range(len(T.shape)//2) for j in range(2)]\n",
    "    #    Z=contract(T,contract_all)\n",
    "    #    return (torch.log(Z)+logTotal)/2**(self.nLayers+self.nLayers_HOSVD)\n",
    "    #\n",
    "    #def forward_with_observable_and_HOTRG(self,T_op,start_layer=0):\n",
    "    #    contract_method=[i for i in range(len(T_op.shape)//2) for j in range(2)]\n",
    "    #    T,T_op,logTotal,contracted=self.forward_tensor_with_observable(T_op,contract_method=contract_method,start_layer=start_layer)\n",
    "    #    \n",
    "    #    for i in range(self.nLayers_HOSVD):\n",
    "    #        T1,ws=self.HOSVD(T,T)\n",
    "    #        T2=self.TRG(T,T_op,*ws)\n",
    "    #        T3=self.TRG(T_op,T,*ws)\n",
    "    #        \n",
    "    #        T,T_op=T1,(T2+T3)/2\n",
    "    #        norm=torch.linalg.norm(T)\n",
    "    #        T,T_op=T/norm,T_op/norm\n",
    "    #        logTotal=2*logTotal+torch.log(norm)\n",
    "    #        \n",
    "    #    Z=contract(T,contract_method)\n",
    "    #    Z_op=contract(T_op,contract_method)\n",
    "    #    \n",
    "    #    return contracted,Z_op/Z\n",
    "    \n",
    "    def calc_logZ(self):\n",
    "        with torch.no_grad():\n",
    "            self.logZ=_toN(self.forward(self.nLayers+self.nLayers_HOSVD))\n",
    "            self.logZ_diff=np.abs(self.persistent['logZ']-self.logZ)\n",
    "            self.persistent['logZ']=self.logZ\n",
    "    \n",
    "    def calc_magnetization(self):\n",
    "        with torch.no_grad():\n",
    "            a,b=self.forward_with_observable(self.get_SZT0(),self.nLayers+self.nLayers_HOSVD)\n",
    "            self.magnetization_per_layer=_toN(torch.abs(a))\n",
    "            self.magnetization=_toN(torch.abs(b))\n",
    "            self.magnetization_diff=np.abs(self.persistent['magnetization']-self.magnetization)\n",
    "            self.persistent['magnetization']=self.magnetization\n",
    "            \n",
    "    def calc_energy(self):\n",
    "        with torch.no_grad():\n",
    "            a,b=self.forward_with_observable(self.get_ET1(),self.nLayers+self.nLayers_HOSVD,start_layer=1)\n",
    "            self.energy_per_layer=_toN(a)\n",
    "            self.energy=_toN(b)\n",
    "            self.energy_diff=np.abs(self.persistent['energy']-self.energy)\n",
    "            self.persistent['energy']=self.energy\n",
    "            \n",
    "            \n",
    "def NewRow(model,params,options):\n",
    "    return {**params,**options,\n",
    "                'logZ':model.logZ,\n",
    "                'logZ_diff':model.logZ_diff,\n",
    "                'magnetization':model.magnetization,\n",
    "                'magnetization_diff':model.magnetization_diff,\n",
    "                'magnetization_per_layer':model.magnetization_per_layer.copy(),\n",
    "                'energy':model.energy,\n",
    "                'energy_diff':model.energy_diff,\n",
    "                'energy_per_layer':model.energy_per_layer.copy(),\n",
    "                'ws_diff_total':model.ws_diff_total,\n",
    "                'ws_diff':model.ws_diff.copy(),\n",
    "                'ws_diff_normalized':model.ws_diff_normalized.copy(),\n",
    "               }\n",
    "\n"
   ]
  },
  {
   "cell_type": "markdown",
   "id": "2d6cd768",
   "metadata": {},
   "source": [
    "# Ising"
   ]
  },
  {
   "cell_type": "code",
   "execution_count": 93,
   "id": "0fae7741",
   "metadata": {},
   "outputs": [],
   "source": [
    "class Ising2D(HOTRG):\n",
    "    default_params={'beta':0.4406867935097715,'h':0}\n",
    "    def __init__(self,params,options):\n",
    "        super(Ising2D,self).__init__(params,options)\n",
    "        self.create_isometries(start_dim=2,spacial_dim=2)\n",
    "        #self.TRG=self.HOTRG2D\n",
    "        self.observable_checkerboard=False\n",
    "        #self.persistent['magnetization']=0\n",
    "        \n",
    "    def get_T0(self):\n",
    "        beta,h=self.params['beta'],self.params['h']\n",
    "        a=torch.sqrt(torch.cosh(beta))\n",
    "        b=torch.sqrt(torch.sinh(beta))\n",
    "        W=torch.stack([torch.stack([a,b]),torch.stack([a,-b])])\n",
    "        sz=torch.stack([torch.exp(beta*h),torch.exp(-beta*h)])\n",
    "        return contract('Ai,Aj,Ak,Al,A->ijkl',W,W,W,W,sz)#UDLR\n",
    "    \n",
    "    def get_SZT0(self):\n",
    "        beta,h=self.params['beta'],self.params['h']\n",
    "        a=torch.sqrt(torch.cosh(beta))\n",
    "        b=torch.sqrt(torch.sinh(beta))\n",
    "        W=torch.stack([torch.stack([a,b]),torch.stack([a,-b])])\n",
    "        sz=torch.stack([torch.exp(beta*h),-torch.exp(-beta*h)])\n",
    "        return contract('Ai,Aj,Ak,Al,A->ijkl',W,W,W,W,sz)#UDLR\n",
    "    \n",
    "    def get_ET1(self):\n",
    "        beta,h=self.params['beta'],self.params['h']\n",
    "        a=torch.sqrt(torch.cosh(beta))\n",
    "        b=torch.sqrt(torch.sinh(beta))\n",
    "        W=torch.stack([torch.stack([a,b]),torch.stack([a,-b])])\n",
    "        sz=torch.stack([torch.exp(beta*h),torch.exp(-beta*h)])\n",
    "        nBonds=self.toT(self.spacial_dim)#each site correspond to one spin and two bonds\n",
    "        Eij=torch.stack([torch.stack([-nBonds-h,nBonds]),torch.stack([nBonds,-nBonds+h])]) # shouldn't x2\n",
    "        w=self.ws[0]\n",
    "        #'ijkl,jmno,kna,lob->abim'\n",
    "        return contract('Ai,Aj,Ak,Al,A,Bj,Bm,Bn,Bo,B,AB,kna,lob->abim',W,W,W,W,sz,W,W,W,W,sz,Eij,w,w)\n",
    "\n",
    "class Ising3D(HOTRG):\n",
    "    default_params={'beta':0.2216544,'h':0}\n",
    "    def __init__(self,params,options):\n",
    "        super(Ising3D,self).__init__(params,options)\n",
    "        self.create_isometries(start_dim=2,spacial_dim=3)\n",
    "        #self.TRG=self.HOTRG3D\n",
    "        self.observable_checkerboard=False\n",
    "        #self.persistent['magnetization']=0\n",
    "        \n",
    "    def get_T0(self):\n",
    "        beta,h=self.params['beta'],self.params['h']\n",
    "        a=torch.sqrt(torch.cosh(beta))\n",
    "        b=torch.sqrt(torch.sinh(beta))\n",
    "        W=torch.stack([torch.stack([a,b]),torch.stack([a,-b])])\n",
    "        sz=torch.stack([torch.exp(beta*h),torch.exp(-beta*h)])\n",
    "        return contract('Ai,Aj,Ak,Al,Am,An,A->ijklmn',W,W,W,W,W,W,sz)\n",
    "    \n",
    "    def get_SZT0(self):\n",
    "        beta,h=self.params['beta'],self.params['h']\n",
    "        a=torch.sqrt(torch.cosh(beta))\n",
    "        b=torch.sqrt(torch.sinh(beta))\n",
    "        W=torch.stack([torch.stack([a,b]),torch.stack([a,-b])])\n",
    "        sz=torch.stack([torch.exp(beta*h),-torch.exp(-beta*h)])\n",
    "        return contract('Ai,Aj,Ak,Al,Am,An,A->ijklmn',W,W,W,W,W,W,sz)\n",
    "    \n",
    "    def get_ET1(self):\n",
    "        beta,h=self.params['beta'],self.params['h']\n",
    "        a=torch.sqrt(torch.cosh(beta))\n",
    "        b=torch.sqrt(torch.sinh(beta))\n",
    "        W=torch.stack([torch.stack([a,b]),torch.stack([a,-b])])\n",
    "        sz=torch.stack([torch.exp(beta*h),torch.exp(-beta*h)])\n",
    "        nBonds=self.toT(self.spacial_dim)#each site correspond to one spin and three bonds\n",
    "        Eij=torch.stack([torch.stack([-nBonds-h,nBonds]),torch.stack([nBonds,-nBonds+h])]) # shouldn't x2\n",
    "        w1,w2=self.ws[0],self.ws[1]\n",
    "        #'ijklmn,jopqrs,kpa,lqb,mrc,nsd->abcdio'\n",
    "        return contract('Ai,Aj,Ak,Al,Am,An,A,Bj,Bo,Bp,Bq,Br,Bs,B,AB,kpa,lqb,mrc,nsd->abcdio',W,W,W,W,W,W,sz,W,W,W,W,W,W,sz,Eij,w1,w1,w2,w2)"
   ]
  },
  {
   "cell_type": "markdown",
   "id": "6db3e398",
   "metadata": {},
   "source": [
    "# ising2d test"
   ]
  },
  {
   "cell_type": "code",
   "execution_count": 94,
   "id": "cc7df4f9",
   "metadata": {
    "scrolled": true
   },
   "outputs": [
    {
     "data": {
      "application/vnd.jupyter.widget-view+json": {
       "model_id": "7fccc890947e4df18122b76bdff10748",
       "version_major": 2,
       "version_minor": 0
      },
      "text/plain": [
       "  0%|          | 0/10 [00:00<?, ?it/s]"
      ]
     },
     "metadata": {},
     "output_type": "display_data"
    },
    {
     "data": {
      "application/vnd.jupyter.widget-view+json": {
       "model_id": "",
       "version_major": 2,
       "version_minor": 0
      },
      "text/plain": [
       "  0%|          | 0/40 [00:00<?, ?it/s]"
      ]
     },
     "metadata": {},
     "output_type": "display_data"
    },
    {
     "name": "stdout",
     "output_type": "stream",
     "text": [
      "tensor([[[[9.9710e-04, 1.4957e+00],\n",
      "          [1.4957e+00, 3.9578e-04]],\n",
      "\n",
      "         [[1.4957e+00, 3.9578e-04],\n",
      "          [3.9578e-04, 5.9369e-01]]],\n",
      "\n",
      "\n",
      "        [[[1.4957e+00, 3.9578e-04],\n",
      "          [3.9578e-04, 5.9369e-01]],\n",
      "\n",
      "         [[3.9578e-04, 5.9369e-01],\n",
      "          [5.9369e-01, 1.5710e-04]]]], device='cuda:1', dtype=torch.float64)\n"
     ]
    },
    {
     "ename": "TypeError",
     "evalue": "zeros() received an invalid combination of arguments - got (Tensor, device=str, dtype=torch.dtype), but expected one of:\n * (tuple of ints size, *, tuple of names names, torch.dtype dtype, torch.layout layout, torch.device device, bool pin_memory, bool requires_grad)\n * (tuple of ints size, *, Tensor out, torch.dtype dtype, torch.layout layout, torch.device device, bool pin_memory, bool requires_grad)\n",
     "output_type": "error",
     "traceback": [
      "\u001b[0;31m---------------------------------------------------------------------------\u001b[0m",
      "\u001b[0;31mTypeError\u001b[0m                                 Traceback (most recent call last)",
      "\u001b[0;32m/tmp/ipykernel_2937/798832006.py\u001b[0m in \u001b[0;36m<module>\u001b[0;34m\u001b[0m\n\u001b[1;32m      6\u001b[0m \u001b[0;34m\u001b[0m\u001b[0m\n\u001b[1;32m      7\u001b[0m     \u001b[0mising\u001b[0m\u001b[0;34m.\u001b[0m\u001b[0mcalc_logZ\u001b[0m\u001b[0;34m(\u001b[0m\u001b[0;34m)\u001b[0m\u001b[0;34m\u001b[0m\u001b[0;34m\u001b[0m\u001b[0m\n\u001b[0;32m----> 8\u001b[0;31m     \u001b[0mising\u001b[0m\u001b[0;34m.\u001b[0m\u001b[0mcalc_magnetization\u001b[0m\u001b[0;34m(\u001b[0m\u001b[0;34m)\u001b[0m\u001b[0;34m\u001b[0m\u001b[0;34m\u001b[0m\u001b[0m\n\u001b[0m\u001b[1;32m      9\u001b[0m     \u001b[0mising\u001b[0m\u001b[0;34m.\u001b[0m\u001b[0mcalc_energy\u001b[0m\u001b[0;34m(\u001b[0m\u001b[0;34m)\u001b[0m\u001b[0;34m\u001b[0m\u001b[0;34m\u001b[0m\u001b[0m\n\u001b[1;32m     10\u001b[0m     \u001b[0mlogZ\u001b[0m\u001b[0;34m=\u001b[0m\u001b[0mising\u001b[0m\u001b[0;34m.\u001b[0m\u001b[0mlogZ\u001b[0m\u001b[0;34m\u001b[0m\u001b[0;34m\u001b[0m\u001b[0m\n",
      "\u001b[0;32m/tmp/ipykernel_2937/1079288997.py\u001b[0m in \u001b[0;36mcalc_magnetization\u001b[0;34m(self)\u001b[0m\n\u001b[1;32m    143\u001b[0m     \u001b[0;32mdef\u001b[0m \u001b[0mcalc_magnetization\u001b[0m\u001b[0;34m(\u001b[0m\u001b[0mself\u001b[0m\u001b[0;34m)\u001b[0m\u001b[0;34m:\u001b[0m\u001b[0;34m\u001b[0m\u001b[0;34m\u001b[0m\u001b[0m\n\u001b[1;32m    144\u001b[0m         \u001b[0;32mwith\u001b[0m \u001b[0mtorch\u001b[0m\u001b[0;34m.\u001b[0m\u001b[0mno_grad\u001b[0m\u001b[0;34m(\u001b[0m\u001b[0;34m)\u001b[0m\u001b[0;34m:\u001b[0m\u001b[0;34m\u001b[0m\u001b[0;34m\u001b[0m\u001b[0m\n\u001b[0;32m--> 145\u001b[0;31m             \u001b[0ma\u001b[0m\u001b[0;34m,\u001b[0m\u001b[0mb\u001b[0m\u001b[0;34m=\u001b[0m\u001b[0mself\u001b[0m\u001b[0;34m.\u001b[0m\u001b[0mforward_with_observable\u001b[0m\u001b[0;34m(\u001b[0m\u001b[0mself\u001b[0m\u001b[0;34m.\u001b[0m\u001b[0mget_SZT0\u001b[0m\u001b[0;34m(\u001b[0m\u001b[0;34m)\u001b[0m\u001b[0;34m,\u001b[0m\u001b[0mself\u001b[0m\u001b[0;34m.\u001b[0m\u001b[0mnLayers\u001b[0m\u001b[0;34m+\u001b[0m\u001b[0mself\u001b[0m\u001b[0;34m.\u001b[0m\u001b[0mnLayers_HOSVD\u001b[0m\u001b[0;34m)\u001b[0m\u001b[0;34m\u001b[0m\u001b[0;34m\u001b[0m\u001b[0m\n\u001b[0m\u001b[1;32m    146\u001b[0m             \u001b[0mself\u001b[0m\u001b[0;34m.\u001b[0m\u001b[0mmagnetization_per_layer\u001b[0m\u001b[0;34m=\u001b[0m\u001b[0m_toN\u001b[0m\u001b[0;34m(\u001b[0m\u001b[0mtorch\u001b[0m\u001b[0;34m.\u001b[0m\u001b[0mabs\u001b[0m\u001b[0;34m(\u001b[0m\u001b[0ma\u001b[0m\u001b[0;34m)\u001b[0m\u001b[0;34m)\u001b[0m\u001b[0;34m\u001b[0m\u001b[0;34m\u001b[0m\u001b[0m\n\u001b[1;32m    147\u001b[0m             \u001b[0mself\u001b[0m\u001b[0;34m.\u001b[0m\u001b[0mmagnetization\u001b[0m\u001b[0;34m=\u001b[0m\u001b[0m_toN\u001b[0m\u001b[0;34m(\u001b[0m\u001b[0mtorch\u001b[0m\u001b[0;34m.\u001b[0m\u001b[0mabs\u001b[0m\u001b[0;34m(\u001b[0m\u001b[0mb\u001b[0m\u001b[0;34m)\u001b[0m\u001b[0;34m)\u001b[0m\u001b[0;34m\u001b[0m\u001b[0;34m\u001b[0m\u001b[0m\n",
      "\u001b[0;32m/tmp/ipykernel_2937/1079288997.py\u001b[0m in \u001b[0;36mforward_with_observable\u001b[0;34m(self, T_op, nLayers, start_layer)\u001b[0m\n\u001b[1;32m    100\u001b[0m     \u001b[0;32mdef\u001b[0m \u001b[0mforward_with_observable\u001b[0m\u001b[0;34m(\u001b[0m\u001b[0mself\u001b[0m\u001b[0;34m,\u001b[0m\u001b[0mT_op\u001b[0m\u001b[0;34m,\u001b[0m\u001b[0mnLayers\u001b[0m\u001b[0;34m,\u001b[0m\u001b[0mstart_layer\u001b[0m\u001b[0;34m=\u001b[0m\u001b[0;36m0\u001b[0m\u001b[0;34m)\u001b[0m\u001b[0;34m:\u001b[0m\u001b[0;34m\u001b[0m\u001b[0;34m\u001b[0m\u001b[0m\n\u001b[1;32m    101\u001b[0m         \u001b[0mcontract_method\u001b[0m\u001b[0;34m=\u001b[0m\u001b[0;34m[\u001b[0m\u001b[0mi\u001b[0m \u001b[0;32mfor\u001b[0m \u001b[0mi\u001b[0m \u001b[0;32min\u001b[0m \u001b[0mrange\u001b[0m\u001b[0;34m(\u001b[0m\u001b[0mlen\u001b[0m\u001b[0;34m(\u001b[0m\u001b[0mT_op\u001b[0m\u001b[0;34m.\u001b[0m\u001b[0mshape\u001b[0m\u001b[0;34m)\u001b[0m\u001b[0;34m//\u001b[0m\u001b[0;36m2\u001b[0m\u001b[0;34m)\u001b[0m \u001b[0;32mfor\u001b[0m \u001b[0mj\u001b[0m \u001b[0;32min\u001b[0m \u001b[0mrange\u001b[0m\u001b[0;34m(\u001b[0m\u001b[0;36m2\u001b[0m\u001b[0;34m)\u001b[0m\u001b[0;34m]\u001b[0m\u001b[0;34m\u001b[0m\u001b[0;34m\u001b[0m\u001b[0m\n\u001b[0;32m--> 102\u001b[0;31m         \u001b[0m_\u001b[0m\u001b[0;34m,\u001b[0m\u001b[0m_\u001b[0m\u001b[0;34m,\u001b[0m\u001b[0m_\u001b[0m\u001b[0;34m,\u001b[0m\u001b[0mcontracted\u001b[0m\u001b[0;34m=\u001b[0m\u001b[0mself\u001b[0m\u001b[0;34m.\u001b[0m\u001b[0mforward_tensor_with_observable\u001b[0m\u001b[0;34m(\u001b[0m\u001b[0mT_op\u001b[0m\u001b[0;34m,\u001b[0m\u001b[0mnLayers\u001b[0m\u001b[0;34m,\u001b[0m\u001b[0mcontract_method\u001b[0m\u001b[0;34m=\u001b[0m\u001b[0mcontract_method\u001b[0m\u001b[0;34m,\u001b[0m\u001b[0mstart_layer\u001b[0m\u001b[0;34m=\u001b[0m\u001b[0mstart_layer\u001b[0m\u001b[0;34m)\u001b[0m\u001b[0;34m\u001b[0m\u001b[0;34m\u001b[0m\u001b[0m\n\u001b[0m\u001b[1;32m    103\u001b[0m         \u001b[0;32mreturn\u001b[0m \u001b[0mcontracted\u001b[0m\u001b[0;34m,\u001b[0m\u001b[0mcontracted\u001b[0m\u001b[0;34m[\u001b[0m\u001b[0;34m-\u001b[0m\u001b[0;36m1\u001b[0m\u001b[0;34m]\u001b[0m\u001b[0;34m\u001b[0m\u001b[0;34m\u001b[0m\u001b[0m\n\u001b[1;32m    104\u001b[0m \u001b[0;34m\u001b[0m\u001b[0m\n",
      "\u001b[0;32m/tmp/ipykernel_2937/2157502788.py\u001b[0m in \u001b[0;36mforward_tensor_with_observable\u001b[0;34m(self, nLayers, T_op, contract_method, start_layer)\u001b[0m\n\u001b[1;32m     74\u001b[0m         \u001b[0mlogTotal\u001b[0m\u001b[0;34m=\u001b[0m\u001b[0;36m0\u001b[0m\u001b[0;34m\u001b[0m\u001b[0;34m\u001b[0m\u001b[0m\n\u001b[1;32m     75\u001b[0m         \u001b[0mprint\u001b[0m\u001b[0;34m(\u001b[0m\u001b[0mnLayers\u001b[0m\u001b[0;34m)\u001b[0m\u001b[0;34m\u001b[0m\u001b[0;34m\u001b[0m\u001b[0m\n\u001b[0;32m---> 76\u001b[0;31m         \u001b[0mcontracted\u001b[0m\u001b[0;34m=\u001b[0m\u001b[0mtorch\u001b[0m\u001b[0;34m.\u001b[0m\u001b[0mzeros\u001b[0m\u001b[0;34m(\u001b[0m\u001b[0mnLayers\u001b[0m\u001b[0;34m,\u001b[0m\u001b[0mdtype\u001b[0m\u001b[0;34m=\u001b[0m\u001b[0mself\u001b[0m\u001b[0;34m.\u001b[0m\u001b[0mdtype\u001b[0m\u001b[0;34m,\u001b[0m\u001b[0mdevice\u001b[0m\u001b[0;34m=\u001b[0m\u001b[0mself\u001b[0m\u001b[0;34m.\u001b[0m\u001b[0mdevice\u001b[0m\u001b[0;34m)\u001b[0m\u001b[0;34m\u001b[0m\u001b[0;34m\u001b[0m\u001b[0m\n\u001b[0m\u001b[1;32m     77\u001b[0m         \u001b[0;32mfor\u001b[0m \u001b[0mi\u001b[0m \u001b[0;32min\u001b[0m \u001b[0mrange\u001b[0m\u001b[0;34m(\u001b[0m\u001b[0mstart_layer\u001b[0m\u001b[0;34m,\u001b[0m\u001b[0mnLayers\u001b[0m\u001b[0;34m)\u001b[0m\u001b[0;34m:\u001b[0m\u001b[0;34m\u001b[0m\u001b[0;34m\u001b[0m\u001b[0m\n\u001b[1;32m     78\u001b[0m             \u001b[0mw\u001b[0m\u001b[0;34m=\u001b[0m\u001b[0mself\u001b[0m\u001b[0;34m.\u001b[0m\u001b[0mws\u001b[0m\u001b[0;34m[\u001b[0m\u001b[0;34m(\u001b[0m\u001b[0mi\u001b[0m\u001b[0;34m*\u001b[0m\u001b[0mself\u001b[0m\u001b[0;34m.\u001b[0m\u001b[0mw_per_layer\u001b[0m\u001b[0;34m)\u001b[0m\u001b[0;34m:\u001b[0m\u001b[0;34m(\u001b[0m\u001b[0;34m(\u001b[0m\u001b[0mi\u001b[0m\u001b[0;34m+\u001b[0m\u001b[0;36m1\u001b[0m\u001b[0;34m)\u001b[0m\u001b[0;34m*\u001b[0m\u001b[0mself\u001b[0m\u001b[0;34m.\u001b[0m\u001b[0mw_per_layer\u001b[0m\u001b[0;34m)\u001b[0m\u001b[0;34m]\u001b[0m\u001b[0;34m\u001b[0m\u001b[0;34m\u001b[0m\u001b[0m\n",
      "\u001b[0;31mTypeError\u001b[0m: zeros() received an invalid combination of arguments - got (Tensor, device=str, dtype=torch.dtype), but expected one of:\n * (tuple of ints size, *, tuple of names names, torch.dtype dtype, torch.layout layout, torch.device device, bool pin_memory, bool requires_grad)\n * (tuple of ints size, *, Tensor out, torch.dtype dtype, torch.layout layout, torch.device device, bool pin_memory, bool requires_grad)\n"
     ]
    }
   ],
   "source": [
    "curve=pd.DataFrame()\n",
    "for beta in tqdm(np.linspace(.42,.5,10)):\n",
    "    ising=Ising2D({'beta':beta,'h':1e-3},{'nLayers':20,'max_dim':16,'device':'cuda:1','nLayers_HOSVD':20})\n",
    "    \n",
    "    ising.generate_isometries_HOSVD()\n",
    "    \n",
    "    ising.calc_logZ()\n",
    "    ising.calc_magnetization()\n",
    "    ising.calc_energy()\n",
    "    logZ=ising.logZ\n",
    "    m=ising.magnetization\n",
    "    E=ising.energy\n",
    "    \n",
    "    nsrgIter=0\n",
    "    if nsrgIter>0:\n",
    "        ising.optimize(nsrgIter)\n",
    "    ising.calc_logZ()\n",
    "    ising.calc_magnetization()\n",
    "    logZ1=ising.logZ\n",
    "    m1=ising.magnetization\n",
    "    E1=ising.energy\n",
    "    \n",
    "    curve=curve.append({'beta':beta,'logZ':logZ,'logZ1':logZ1,'magnetization':m,'magnetization1':m1,'energy':E,'energy1':E1},ignore_index=True)\n",
    "    \n",
    "    #ising.optimize(2)"
   ]
  },
  {
   "cell_type": "code",
   "execution_count": 85,
   "id": "af37b52c",
   "metadata": {},
   "outputs": [
    {
     "data": {
      "image/png": "[encoded data removed]",
      "text/plain": [
       "<Figure size 432x288 with 4 Axes>"
      ]
     },
     "metadata": {
      "needs_background": "light"
     },
     "output_type": "display_data"
    },
    {
     "name": "stdout",
     "output_type": "stream",
     "text": [
      "critical_beta 0.4406867935097715\n"
     ]
    },
    {
     "data": {
      "image/png": "[encoded data removed]",
      "text/plain": [
       "<Figure size 432x288 with 1 Axes>"
      ]
     },
     "metadata": {
      "needs_background": "light"
     },
     "output_type": "display_data"
    },
    {
     "data": {
      "image/png": "[encoded data removed]",
      "text/plain": [
       "<Figure size 432x288 with 1 Axes>"
      ]
     },
     "metadata": {
      "needs_background": "light"
     },
     "output_type": "display_data"
    },
    {
     "data": {
      "image/png": "[encoded data removed]",
      "text/plain": [
       "<Figure size 432x288 with 1 Axes>"
      ]
     },
     "metadata": {
      "needs_background": "light"
     },
     "output_type": "display_data"
    }
   ],
   "source": [
    "from IsingSolutions import Ising2DExactSolution\n",
    "ising2dExactSolution=Ising2DExactSolution()\n",
    "ising2dExactSolution.display()\n",
    "\n",
    "plt.plot(curve['beta'],curve['logZ'],'.',label='HOTRG')\n",
    "plt.plot(curve['beta'],curve['logZ1'],'+',label=f'SRG {nsrgIter} steps')\n",
    "plt.plot(curve['beta'],ising2dExactSolution.logZ(curve['beta']),label='reference')\n",
    "plt.legend()\n",
    "plt.title(f'logZ d={ising.max_dim}')\n",
    "plt.show()\n",
    "\n",
    "\n",
    "plt.plot(curve['beta'],curve['magnetization'],'.',label='HOTRG')\n",
    "plt.plot(curve['beta'],curve['magnetization1'],'+',label=f'SRG {nsrgIter} steps')\n",
    "plt.plot(curve['beta'],ising2dExactSolution.magnetization(curve['beta']),label='reference')\n",
    "plt.legend()\n",
    "plt.title(f'magnetization d={ising.max_dim}')\n",
    "plt.show()\n",
    "\n",
    "plt.plot(curve['beta'],curve['energy'],'.',label='HOTRG')\n",
    "plt.plot(curve['beta'],curve['energy1'],'+',label=f'SRG {nsrgIter} steps')\n",
    "plt.plot(curve['beta'],-ising2dExactSolution.dlogZ(curve['beta']),label='reference') #E=-dlogZ/dbeta\n",
    "plt.legend()\n",
    "plt.title(f'energy d={ising.max_dim}')\n",
    "plt.show()\n"
   ]
  },
  {
   "cell_type": "markdown",
   "id": "fe90f8ca",
   "metadata": {},
   "source": [
    "# AKLT "
   ]
  },
  {
   "cell_type": "code",
   "execution_count": 29,
   "id": "bb57eeba",
   "metadata": {},
   "outputs": [],
   "source": [
    "from scipy.special import comb\n",
    "def get_CG_no_normalization(n):\n",
    "    if n==0:\n",
    "        return np.eye(1)\n",
    "    CG=np.zeros((n+1,)+(2,)*n)\n",
    "    for i in range(2**n):\n",
    "        indices=tuple(map(int,bin(i)[2:].zfill(n)))\n",
    "        m=np.sum(indices)\n",
    "        CG[(m,)+indices]=1\n",
    "    return CG\n",
    "def get_CG(n):\n",
    "    if n==0:\n",
    "        return np.eye(1)\n",
    "    CG=np.zeros((n+1,)+(2,)*n)\n",
    "    for i in range(2**n):\n",
    "        indices=tuple(map(int,bin(i)[2:].zfill(n)))\n",
    "        m=np.sum(indices)\n",
    "        CG[(m,)+indices]=1/np.sqrt(comb(n,m))\n",
    "    return CG\n",
    "def get_Singlet():\n",
    "    return np.array([[0,1.],[-1.,0]])\n",
    "\n",
    "\n",
    "class AKLT2D(HOTRG):\n",
    "    default_params={'a1':np.sqrt(6)/2,'a2':np.sqrt(6)}\n",
    "    def __init__(self,params,options):\n",
    "        super(AKLT2D,self).__init__(params,options)\n",
    "        self.create_isometries(start_dim=4,spacial_dim=2)\n",
    "        #self.TRG=self.HOTRG2D\n",
    "        self.observable_checkerboard=True\n",
    "        #self.persistent['magnetization']=0\n",
    "        \n",
    "    def get_T0(self):\n",
    "        projector=self.toT(get_CG_no_normalization(4))\n",
    "        singlet=self.toT([[0,-1],[1,0]])\n",
    "        ac0,ac1,ac2=self.toT(1),self.params['a1'],self.params['a2']\n",
    "        deform=torch.stack([ac2,ac1,ac0,ac1,ac2])\n",
    "        #deform=torch.stack([ac2*(1-2e-6),ac1*(1-1e-6),ac0,ac1*(1+1e-6),ac2*(1+2e-6)])\n",
    "        node=contract('aijkl,im,kn,a->amjnl',projector,singlet,singlet,deform)\n",
    "        return contract('aijkl,amnop->imjnkolp',node,node).reshape(4,4,4,4)#UDLR\n",
    "\n",
    "    def get_SZT0(self):\n",
    "        projector=self.toT(get_CG_no_normalization(4))\n",
    "        singlet=self.toT([[0,-1],[1,0]])\n",
    "        ac0,ac1,ac2=self.toT(1),self.params['a1'],self.params['a2']\n",
    "        deform=torch.stack([ac2,ac1,ac0,ac1,ac2])\n",
    "        #deform=torch.stack([ac2*(1-2e-6),ac1*(1-1e-6),ac0,ac1*(1+1e-6),ac2*(1+2e-6)])\n",
    "        node=contract('aijkl,im,kn,a->amjnl',projector,singlet,singlet,deform)\n",
    "        op=self.toT([2,1,0,-1,-2])\n",
    "        return contract('aijkl,amnop,a->imjnkolp',node,node,op).reshape(4,4,4,4)#UDLR\n",
    "    \n",
    "\n",
    "class AKLT3D(HOTRG):\n",
    "    default_params={'a1':np.sqrt(20/15),'a2':np.sqrt(20/6),'a3':np.sqrt(20/1)}\n",
    "    def __init__(self,params,options):\n",
    "        super(AKLT3D,self).__init__(params,options)\n",
    "        self.create_isometries(start_dim=4,spacial_dim=3)\n",
    "        #self.TRG=self.HOTRG3D\n",
    "        self.observable_checkerboard=True\n",
    "        #self.persistent['magnetization']=0\n",
    "        \n",
    "    def get_T0(self):\n",
    "        projector=self.toT(get_CG_no_normalization(6))\n",
    "        singlet=self.toT([[0,-1],[1,0]])\n",
    "        ac0,ac1,ac2,ac3=self.toT(1),self.params['a1'],self.params['a2'],self.params['a3']\n",
    "        deform=torch.stack([ac3,ac2,ac1,ac0,ac1,ac2,ac3])\n",
    "        #deform=torch.stack([ac3*(1-3e-6),ac2*(1-2e-6),ac1*(1-1e-6),ac0,ac1*(1+1e-6),ac2*(1+2e-6),ac3*(1+3e-6)])\n",
    "        node=contract('aijklmn,io,kp,mq,a->aojplqn',projector,singlet,singlet,singlet,deform)\n",
    "        return contract('aijklmn,aopqrst->iojpkqlrmsnt',node,node).reshape(4,4,4,4,4,4)#UDLRFB\n",
    "\n",
    "    def get_SZT0(self):\n",
    "        projector=self.toT(get_CG_no_normalization(6))\n",
    "        singlet=self.toT([[0,-1],[1,0]])\n",
    "        ac0,ac1,ac2,ac3=self.toT(1),self.params['a1'],self.params['a2'],self.params['a3']\n",
    "        deform=torch.stack([ac3,ac2,ac1,ac0,ac1,ac2,ac3])\n",
    "        #deform=torch.stack([ac3*(1-3e-6),ac2*(1-2e-6),ac1*(1-1e-6),ac0,ac1*(1+1e-6),ac2*(1+2e-6),ac3*(1+3e-6)])\n",
    "        node=contract('aijklmn,io,kp,mq,a->aojplqn',projector,singlet,singlet,singlet,deform)\n",
    "        op=self.toT([3,2,1,0,-1,-2,-3])\n",
    "        return contract('aijklmn,aopqrst,a->iojpkqlrmsnt',node,node,op).reshape(4,4,4,4,4,4)#UDLRFB\n",
    "    \n"
   ]
  },
  {
   "cell_type": "code",
   "execution_count": 31,
   "id": "a870b7a1",
   "metadata": {},
   "outputs": [
    {
     "data": {
      "application/vnd.jupyter.widget-view+json": {
       "model_id": "",
       "version_major": 2,
       "version_minor": 0
      },
      "text/plain": [
       "  0%|          | 0/60 [00:00<?, ?it/s]"
      ]
     },
     "metadata": {},
     "output_type": "display_data"
    },
    {
     "name": "stdout",
     "output_type": "stream",
     "text": [
      "2.6971773616213186\n"
     ]
    }
   ],
   "source": [
    "options={\n",
    "    'dtype':'float64',\n",
    "    'device':'cuda:1',\n",
    "    'max_dim':10, # 10 discussed with wei\n",
    "    'nLayers':60, # 30\n",
    "    'use_checkpoint':True\n",
    "}\n",
    "params=AKLT3D.default_params\n",
    "params['a3']=4.8\n",
    "model=AKLT3D(params,options)\n",
    "model.generate_isometries_HOSVD()\n",
    "\n",
    "model.calc_logZ()\n",
    "model.calc_magnetization()\n",
    "print(model.magnetization)"
   ]
  },
  {
   "cell_type": "code",
   "execution_count": null,
   "id": "f75b3cb6",
   "metadata": {},
   "outputs": [],
   "source": []
  },
  {
   "cell_type": "markdown",
   "id": "dcb55637",
   "metadata": {},
   "source": [
    "# Testing"
   ]
  },
  {
   "cell_type": "code",
   "execution_count": 96,
   "id": "932c6a83",
   "metadata": {},
   "outputs": [
    {
     "name": "stderr",
     "output_type": "stream",
     "text": [
      "/tmp/ipykernel_29744/1228470821.py:14: UserWarning: Skipped existed datapoint notebook[+2.5000000]\n",
      "  warnings.warn('Skipped existed datapoint '+name)\n",
      "/tmp/ipykernel_29744/1228470821.py:14: UserWarning: Skipped existed datapoint notebook[+2.7000000]\n",
      "  warnings.warn('Skipped existed datapoint '+name)\n",
      "/tmp/ipykernel_29744/1228470821.py:14: UserWarning: Skipped existed datapoint notebook[+2.9000000]\n",
      "  warnings.warn('Skipped existed datapoint '+name)\n",
      "/tmp/ipykernel_29744/1228470821.py:14: UserWarning: Skipped existed datapoint notebook[+3.1000000]\n",
      "  warnings.warn('Skipped existed datapoint '+name)\n"
     ]
    }
   ],
   "source": [
    "options={\n",
    "    'dtype':'float64',\n",
    "    'device':'cuda:0',\n",
    "    'max_dim':16, # 50 for float32\n",
    "    'nLayers':20,\n",
    "    'use_checkpoint':True\n",
    "}\n",
    "alist=[2.5,2.7,2.9,3.1]\n",
    "for a in alist:\n",
    "    datapoint_name=f'{script_name}[{a:+.7f}]'\n",
    "    params=AKLT2D.default_params\n",
    "    params['a2']=a\n",
    "    CreateDataPoint(datapoint_name,params,options, override=False)\n"
   ]
  },
  {
   "cell_type": "code",
   "execution_count": 97,
   "id": "b29ebab8",
   "metadata": {},
   "outputs": [
    {
     "name": "stdout",
     "output_type": "stream",
     "text": [
      "Training notebook[+2.5000000] iter 0\n",
      "{'a1': 1.224744871391589, 'a2': 2.5}\n",
      "{'dtype': 'float64', 'device': 'cuda:0', 'max_dim': 16, 'nLayers': 20, 'use_checkpoint': True}\n"
     ]
    },
    {
     "data": {
      "application/vnd.jupyter.widget-view+json": {
       "model_id": "",
       "version_major": 2,
       "version_minor": 0
      },
      "text/plain": [
       "  0%|          | 0/40 [00:00<?, ?it/s]"
      ]
     },
     "metadata": {},
     "output_type": "display_data"
    },
    {
     "name": "stdout",
     "output_type": "stream",
     "text": [
      "Training notebook[+2.7000000] iter 0\n",
      "{'a1': 1.224744871391589, 'a2': 2.7}\n",
      "{'dtype': 'float64', 'device': 'cuda:0', 'max_dim': 16, 'nLayers': 20, 'use_checkpoint': True}\n"
     ]
    },
    {
     "data": {
      "application/vnd.jupyter.widget-view+json": {
       "model_id": "",
       "version_major": 2,
       "version_minor": 0
      },
      "text/plain": [
       "  0%|          | 0/40 [00:00<?, ?it/s]"
      ]
     },
     "metadata": {},
     "output_type": "display_data"
    },
    {
     "name": "stdout",
     "output_type": "stream",
     "text": [
      "Training notebook[+2.9000000] iter 0\n",
      "{'a1': 1.224744871391589, 'a2': 2.9}\n",
      "{'dtype': 'float64', 'device': 'cuda:0', 'max_dim': 16, 'nLayers': 20, 'use_checkpoint': True}\n"
     ]
    },
    {
     "data": {
      "application/vnd.jupyter.widget-view+json": {
       "model_id": "",
       "version_major": 2,
       "version_minor": 0
      },
      "text/plain": [
       "  0%|          | 0/40 [00:00<?, ?it/s]"
      ]
     },
     "metadata": {},
     "output_type": "display_data"
    },
    {
     "name": "stdout",
     "output_type": "stream",
     "text": [
      "Training notebook[+3.1000000] iter 0\n",
      "{'a1': 1.224744871391589, 'a2': 3.1}\n",
      "{'dtype': 'float64', 'device': 'cuda:0', 'max_dim': 16, 'nLayers': 20, 'use_checkpoint': True}\n"
     ]
    },
    {
     "data": {
      "application/vnd.jupyter.widget-view+json": {
       "model_id": "",
       "version_major": 2,
       "version_minor": 0
      },
      "text/plain": [
       "  0%|          | 0/40 [00:00<?, ?it/s]"
      ]
     },
     "metadata": {},
     "output_type": "display_data"
    },
    {
     "name": "stdout",
     "output_type": "stream",
     "text": [
      "Training notebook[+2.5000000] iter 1\n",
      "{'a1': 1.224744871391589, 'a2': 2.5}\n",
      "{'dtype': 'float64', 'device': 'cuda:0', 'max_dim': 16, 'nLayers': 20, 'use_checkpoint': True}\n"
     ]
    },
    {
     "data": {
      "application/vnd.jupyter.widget-view+json": {
       "model_id": "",
       "version_major": 2,
       "version_minor": 0
      },
      "text/plain": [
       "  0%|          | 0/40 [00:00<?, ?it/s]"
      ]
     },
     "metadata": {},
     "output_type": "display_data"
    },
    {
     "name": "stdout",
     "output_type": "stream",
     "text": [
      "Training notebook[+2.7000000] iter 1\n",
      "{'a1': 1.224744871391589, 'a2': 2.7}\n",
      "{'dtype': 'float64', 'device': 'cuda:0', 'max_dim': 16, 'nLayers': 20, 'use_checkpoint': True}\n"
     ]
    },
    {
     "data": {
      "application/vnd.jupyter.widget-view+json": {
       "model_id": "",
       "version_major": 2,
       "version_minor": 0
      },
      "text/plain": [
       "  0%|          | 0/40 [00:00<?, ?it/s]"
      ]
     },
     "metadata": {},
     "output_type": "display_data"
    },
    {
     "name": "stdout",
     "output_type": "stream",
     "text": [
      "Training notebook[+2.9000000] iter 1\n",
      "{'a1': 1.224744871391589, 'a2': 2.9}\n",
      "{'dtype': 'float64', 'device': 'cuda:0', 'max_dim': 16, 'nLayers': 20, 'use_checkpoint': True}\n"
     ]
    },
    {
     "data": {
      "application/vnd.jupyter.widget-view+json": {
       "model_id": "",
       "version_major": 2,
       "version_minor": 0
      },
      "text/plain": [
       "  0%|          | 0/40 [00:00<?, ?it/s]"
      ]
     },
     "metadata": {},
     "output_type": "display_data"
    },
    {
     "name": "stdout",
     "output_type": "stream",
     "text": [
      "Training notebook[+3.1000000] iter 1\n",
      "{'a1': 1.224744871391589, 'a2': 3.1}\n",
      "{'dtype': 'float64', 'device': 'cuda:0', 'max_dim': 16, 'nLayers': 20, 'use_checkpoint': True}\n"
     ]
    },
    {
     "data": {
      "application/vnd.jupyter.widget-view+json": {
       "model_id": "",
       "version_major": 2,
       "version_minor": 0
      },
      "text/plain": [
       "  0%|          | 0/40 [00:00<?, ?it/s]"
      ]
     },
     "metadata": {},
     "output_type": "display_data"
    },
    {
     "name": "stdout",
     "output_type": "stream",
     "text": [
      "Training notebook[+2.5000000] iter 2\n",
      "{'a1': 1.224744871391589, 'a2': 2.5}\n",
      "{'dtype': 'float64', 'device': 'cuda:0', 'max_dim': 16, 'nLayers': 20, 'use_checkpoint': True}\n"
     ]
    },
    {
     "data": {
      "application/vnd.jupyter.widget-view+json": {
       "model_id": "",
       "version_major": 2,
       "version_minor": 0
      },
      "text/plain": [
       "  0%|          | 0/40 [00:00<?, ?it/s]"
      ]
     },
     "metadata": {},
     "output_type": "display_data"
    },
    {
     "name": "stdout",
     "output_type": "stream",
     "text": [
      "Training notebook[+2.7000000] iter 2\n",
      "{'a1': 1.224744871391589, 'a2': 2.7}\n",
      "{'dtype': 'float64', 'device': 'cuda:0', 'max_dim': 16, 'nLayers': 20, 'use_checkpoint': True}\n"
     ]
    },
    {
     "data": {
      "application/vnd.jupyter.widget-view+json": {
       "model_id": "",
       "version_major": 2,
       "version_minor": 0
      },
      "text/plain": [
       "  0%|          | 0/40 [00:00<?, ?it/s]"
      ]
     },
     "metadata": {},
     "output_type": "display_data"
    },
    {
     "name": "stdout",
     "output_type": "stream",
     "text": [
      "Training notebook[+2.9000000] iter 2\n",
      "{'a1': 1.224744871391589, 'a2': 2.9}\n",
      "{'dtype': 'float64', 'device': 'cuda:0', 'max_dim': 16, 'nLayers': 20, 'use_checkpoint': True}\n"
     ]
    },
    {
     "data": {
      "application/vnd.jupyter.widget-view+json": {
       "model_id": "",
       "version_major": 2,
       "version_minor": 0
      },
      "text/plain": [
       "  0%|          | 0/40 [00:00<?, ?it/s]"
      ]
     },
     "metadata": {},
     "output_type": "display_data"
    },
    {
     "name": "stdout",
     "output_type": "stream",
     "text": [
      "Training notebook[+3.1000000] iter 2\n",
      "{'a1': 1.224744871391589, 'a2': 3.1}\n",
      "{'dtype': 'float64', 'device': 'cuda:0', 'max_dim': 16, 'nLayers': 20, 'use_checkpoint': True}\n"
     ]
    },
    {
     "data": {
      "application/vnd.jupyter.widget-view+json": {
       "model_id": "",
       "version_major": 2,
       "version_minor": 0
      },
      "text/plain": [
       "  0%|          | 0/40 [00:00<?, ?it/s]"
      ]
     },
     "metadata": {},
     "output_type": "display_data"
    },
    {
     "name": "stdout",
     "output_type": "stream",
     "text": [
      "Training notebook[+2.5000000] iter 3\n",
      "{'a1': 1.224744871391589, 'a2': 2.5}\n",
      "{'dtype': 'float64', 'device': 'cuda:0', 'max_dim': 16, 'nLayers': 20, 'use_checkpoint': True}\n"
     ]
    },
    {
     "data": {
      "application/vnd.jupyter.widget-view+json": {
       "model_id": "",
       "version_major": 2,
       "version_minor": 0
      },
      "text/plain": [
       "  0%|          | 0/40 [00:00<?, ?it/s]"
      ]
     },
     "metadata": {},
     "output_type": "display_data"
    },
    {
     "name": "stdout",
     "output_type": "stream",
     "text": [
      "Training notebook[+2.7000000] iter 3\n",
      "{'a1': 1.224744871391589, 'a2': 2.7}\n",
      "{'dtype': 'float64', 'device': 'cuda:0', 'max_dim': 16, 'nLayers': 20, 'use_checkpoint': True}\n"
     ]
    },
    {
     "data": {
      "application/vnd.jupyter.widget-view+json": {
       "model_id": "",
       "version_major": 2,
       "version_minor": 0
      },
      "text/plain": [
       "  0%|          | 0/40 [00:00<?, ?it/s]"
      ]
     },
     "metadata": {},
     "output_type": "display_data"
    },
    {
     "name": "stdout",
     "output_type": "stream",
     "text": [
      "Training notebook[+2.9000000] iter 3\n",
      "{'a1': 1.224744871391589, 'a2': 2.9}\n",
      "{'dtype': 'float64', 'device': 'cuda:0', 'max_dim': 16, 'nLayers': 20, 'use_checkpoint': True}\n"
     ]
    },
    {
     "data": {
      "application/vnd.jupyter.widget-view+json": {
       "model_id": "",
       "version_major": 2,
       "version_minor": 0
      },
      "text/plain": [
       "  0%|          | 0/40 [00:00<?, ?it/s]"
      ]
     },
     "metadata": {},
     "output_type": "display_data"
    },
    {
     "name": "stdout",
     "output_type": "stream",
     "text": [
      "Training notebook[+3.1000000] iter 3\n",
      "{'a1': 1.224744871391589, 'a2': 3.1}\n",
      "{'dtype': 'float64', 'device': 'cuda:0', 'max_dim': 16, 'nLayers': 20, 'use_checkpoint': True}\n"
     ]
    },
    {
     "data": {
      "application/vnd.jupyter.widget-view+json": {
       "model_id": "",
       "version_major": 2,
       "version_minor": 0
      },
      "text/plain": [
       "  0%|          | 0/40 [00:00<?, ?it/s]"
      ]
     },
     "metadata": {},
     "output_type": "display_data"
    },
    {
     "name": "stdout",
     "output_type": "stream",
     "text": [
      "Training notebook[+2.5000000] iter 4\n",
      "{'a1': 1.224744871391589, 'a2': 2.5}\n",
      "{'dtype': 'float64', 'device': 'cuda:0', 'max_dim': 16, 'nLayers': 20, 'use_checkpoint': True}\n"
     ]
    },
    {
     "data": {
      "application/vnd.jupyter.widget-view+json": {
       "model_id": "",
       "version_major": 2,
       "version_minor": 0
      },
      "text/plain": [
       "  0%|          | 0/40 [00:00<?, ?it/s]"
      ]
     },
     "metadata": {},
     "output_type": "display_data"
    },
    {
     "name": "stdout",
     "output_type": "stream",
     "text": [
      "Training notebook[+2.7000000] iter 4\n",
      "{'a1': 1.224744871391589, 'a2': 2.7}\n",
      "{'dtype': 'float64', 'device': 'cuda:0', 'max_dim': 16, 'nLayers': 20, 'use_checkpoint': True}\n"
     ]
    },
    {
     "data": {
      "application/vnd.jupyter.widget-view+json": {
       "model_id": "",
       "version_major": 2,
       "version_minor": 0
      },
      "text/plain": [
       "  0%|          | 0/40 [00:00<?, ?it/s]"
      ]
     },
     "metadata": {},
     "output_type": "display_data"
    },
    {
     "name": "stdout",
     "output_type": "stream",
     "text": [
      "Training notebook[+2.9000000] iter 4\n",
      "{'a1': 1.224744871391589, 'a2': 2.9}\n",
      "{'dtype': 'float64', 'device': 'cuda:0', 'max_dim': 16, 'nLayers': 20, 'use_checkpoint': True}\n"
     ]
    },
    {
     "data": {
      "application/vnd.jupyter.widget-view+json": {
       "model_id": "",
       "version_major": 2,
       "version_minor": 0
      },
      "text/plain": [
       "  0%|          | 0/40 [00:00<?, ?it/s]"
      ]
     },
     "metadata": {},
     "output_type": "display_data"
    },
    {
     "name": "stdout",
     "output_type": "stream",
     "text": [
      "Training notebook[+3.1000000] iter 4\n",
      "{'a1': 1.224744871391589, 'a2': 3.1}\n",
      "{'dtype': 'float64', 'device': 'cuda:0', 'max_dim': 16, 'nLayers': 20, 'use_checkpoint': True}\n"
     ]
    },
    {
     "data": {
      "application/vnd.jupyter.widget-view+json": {
       "model_id": "",
       "version_major": 2,
       "version_minor": 0
      },
      "text/plain": [
       "  0%|          | 0/40 [00:00<?, ?it/s]"
      ]
     },
     "metadata": {},
     "output_type": "display_data"
    },
    {
     "name": "stdout",
     "output_type": "stream",
     "text": [
      "Training notebook[+2.5000000] iter 5\n",
      "{'a1': 1.224744871391589, 'a2': 2.5}\n",
      "{'dtype': 'float64', 'device': 'cuda:0', 'max_dim': 16, 'nLayers': 20, 'use_checkpoint': True}\n"
     ]
    },
    {
     "data": {
      "application/vnd.jupyter.widget-view+json": {
       "model_id": "",
       "version_major": 2,
       "version_minor": 0
      },
      "text/plain": [
       "  0%|          | 0/40 [00:00<?, ?it/s]"
      ]
     },
     "metadata": {},
     "output_type": "display_data"
    },
    {
     "name": "stdout",
     "output_type": "stream",
     "text": [
      "Training notebook[+2.7000000] iter 5\n",
      "{'a1': 1.224744871391589, 'a2': 2.7}\n",
      "{'dtype': 'float64', 'device': 'cuda:0', 'max_dim': 16, 'nLayers': 20, 'use_checkpoint': True}\n"
     ]
    },
    {
     "data": {
      "application/vnd.jupyter.widget-view+json": {
       "model_id": "",
       "version_major": 2,
       "version_minor": 0
      },
      "text/plain": [
       "  0%|          | 0/40 [00:00<?, ?it/s]"
      ]
     },
     "metadata": {},
     "output_type": "display_data"
    },
    {
     "name": "stdout",
     "output_type": "stream",
     "text": [
      "Training notebook[+2.9000000] iter 5\n",
      "{'a1': 1.224744871391589, 'a2': 2.9}\n",
      "{'dtype': 'float64', 'device': 'cuda:0', 'max_dim': 16, 'nLayers': 20, 'use_checkpoint': True}\n"
     ]
    },
    {
     "data": {
      "application/vnd.jupyter.widget-view+json": {
       "model_id": "",
       "version_major": 2,
       "version_minor": 0
      },
      "text/plain": [
       "  0%|          | 0/40 [00:00<?, ?it/s]"
      ]
     },
     "metadata": {},
     "output_type": "display_data"
    },
    {
     "name": "stdout",
     "output_type": "stream",
     "text": [
      "Training notebook[+3.1000000] iter 5\n",
      "{'a1': 1.224744871391589, 'a2': 3.1}\n",
      "{'dtype': 'float64', 'device': 'cuda:0', 'max_dim': 16, 'nLayers': 20, 'use_checkpoint': True}\n"
     ]
    },
    {
     "data": {
      "application/vnd.jupyter.widget-view+json": {
       "model_id": "",
       "version_major": 2,
       "version_minor": 0
      },
      "text/plain": [
       "  0%|          | 0/40 [00:00<?, ?it/s]"
      ]
     },
     "metadata": {},
     "output_type": "display_data"
    },
    {
     "name": "stdout",
     "output_type": "stream",
     "text": [
      "Training notebook[+2.5000000] iter 6\n",
      "{'a1': 1.224744871391589, 'a2': 2.5}\n",
      "{'dtype': 'float64', 'device': 'cuda:0', 'max_dim': 16, 'nLayers': 20, 'use_checkpoint': True}\n"
     ]
    },
    {
     "data": {
      "application/vnd.jupyter.widget-view+json": {
       "model_id": "",
       "version_major": 2,
       "version_minor": 0
      },
      "text/plain": [
       "  0%|          | 0/40 [00:00<?, ?it/s]"
      ]
     },
     "metadata": {},
     "output_type": "display_data"
    },
    {
     "name": "stdout",
     "output_type": "stream",
     "text": [
      "Training notebook[+2.7000000] iter 6\n",
      "{'a1': 1.224744871391589, 'a2': 2.7}\n",
      "{'dtype': 'float64', 'device': 'cuda:0', 'max_dim': 16, 'nLayers': 20, 'use_checkpoint': True}\n"
     ]
    },
    {
     "data": {
      "application/vnd.jupyter.widget-view+json": {
       "model_id": "",
       "version_major": 2,
       "version_minor": 0
      },
      "text/plain": [
       "  0%|          | 0/40 [00:00<?, ?it/s]"
      ]
     },
     "metadata": {},
     "output_type": "display_data"
    },
    {
     "name": "stdout",
     "output_type": "stream",
     "text": [
      "Training notebook[+2.9000000] iter 6\n",
      "{'a1': 1.224744871391589, 'a2': 2.9}\n",
      "{'dtype': 'float64', 'device': 'cuda:0', 'max_dim': 16, 'nLayers': 20, 'use_checkpoint': True}\n"
     ]
    },
    {
     "data": {
      "application/vnd.jupyter.widget-view+json": {
       "model_id": "",
       "version_major": 2,
       "version_minor": 0
      },
      "text/plain": [
       "  0%|          | 0/40 [00:00<?, ?it/s]"
      ]
     },
     "metadata": {},
     "output_type": "display_data"
    },
    {
     "name": "stdout",
     "output_type": "stream",
     "text": [
      "Training notebook[+3.1000000] iter 6\n",
      "{'a1': 1.224744871391589, 'a2': 3.1}\n",
      "{'dtype': 'float64', 'device': 'cuda:0', 'max_dim': 16, 'nLayers': 20, 'use_checkpoint': True}\n"
     ]
    },
    {
     "data": {
      "application/vnd.jupyter.widget-view+json": {
       "model_id": "",
       "version_major": 2,
       "version_minor": 0
      },
      "text/plain": [
       "  0%|          | 0/40 [00:00<?, ?it/s]"
      ]
     },
     "metadata": {},
     "output_type": "display_data"
    },
    {
     "name": "stdout",
     "output_type": "stream",
     "text": [
      "Training notebook[+2.5000000] iter 7\n",
      "{'a1': 1.224744871391589, 'a2': 2.5}\n",
      "{'dtype': 'float64', 'device': 'cuda:0', 'max_dim': 16, 'nLayers': 20, 'use_checkpoint': True}\n"
     ]
    },
    {
     "data": {
      "application/vnd.jupyter.widget-view+json": {
       "model_id": "",
       "version_major": 2,
       "version_minor": 0
      },
      "text/plain": [
       "  0%|          | 0/40 [00:00<?, ?it/s]"
      ]
     },
     "metadata": {},
     "output_type": "display_data"
    },
    {
     "name": "stdout",
     "output_type": "stream",
     "text": [
      "Training notebook[+2.7000000] iter 7\n",
      "{'a1': 1.224744871391589, 'a2': 2.7}\n",
      "{'dtype': 'float64', 'device': 'cuda:0', 'max_dim': 16, 'nLayers': 20, 'use_checkpoint': True}\n"
     ]
    },
    {
     "data": {
      "application/vnd.jupyter.widget-view+json": {
       "model_id": "",
       "version_major": 2,
       "version_minor": 0
      },
      "text/plain": [
       "  0%|          | 0/40 [00:00<?, ?it/s]"
      ]
     },
     "metadata": {},
     "output_type": "display_data"
    },
    {
     "name": "stdout",
     "output_type": "stream",
     "text": [
      "Training notebook[+2.9000000] iter 7\n",
      "{'a1': 1.224744871391589, 'a2': 2.9}\n",
      "{'dtype': 'float64', 'device': 'cuda:0', 'max_dim': 16, 'nLayers': 20, 'use_checkpoint': True}\n"
     ]
    },
    {
     "data": {
      "application/vnd.jupyter.widget-view+json": {
       "model_id": "",
       "version_major": 2,
       "version_minor": 0
      },
      "text/plain": [
       "  0%|          | 0/40 [00:00<?, ?it/s]"
      ]
     },
     "metadata": {},
     "output_type": "display_data"
    },
    {
     "name": "stdout",
     "output_type": "stream",
     "text": [
      "Training notebook[+3.1000000] iter 7\n",
      "{'a1': 1.224744871391589, 'a2': 3.1}\n",
      "{'dtype': 'float64', 'device': 'cuda:0', 'max_dim': 16, 'nLayers': 20, 'use_checkpoint': True}\n"
     ]
    },
    {
     "data": {
      "application/vnd.jupyter.widget-view+json": {
       "model_id": "",
       "version_major": 2,
       "version_minor": 0
      },
      "text/plain": [
       "  0%|          | 0/40 [00:00<?, ?it/s]"
      ]
     },
     "metadata": {},
     "output_type": "display_data"
    },
    {
     "name": "stdout",
     "output_type": "stream",
     "text": [
      "Training notebook[+2.5000000] iter 8\n",
      "{'a1': 1.224744871391589, 'a2': 2.5}\n",
      "{'dtype': 'float64', 'device': 'cuda:0', 'max_dim': 16, 'nLayers': 20, 'use_checkpoint': True}\n"
     ]
    },
    {
     "data": {
      "application/vnd.jupyter.widget-view+json": {
       "model_id": "",
       "version_major": 2,
       "version_minor": 0
      },
      "text/plain": [
       "  0%|          | 0/40 [00:00<?, ?it/s]"
      ]
     },
     "metadata": {},
     "output_type": "display_data"
    },
    {
     "name": "stdout",
     "output_type": "stream",
     "text": [
      "Training notebook[+2.7000000] iter 8\n",
      "{'a1': 1.224744871391589, 'a2': 2.7}\n",
      "{'dtype': 'float64', 'device': 'cuda:0', 'max_dim': 16, 'nLayers': 20, 'use_checkpoint': True}\n"
     ]
    },
    {
     "data": {
      "application/vnd.jupyter.widget-view+json": {
       "model_id": "",
       "version_major": 2,
       "version_minor": 0
      },
      "text/plain": [
       "  0%|          | 0/40 [00:00<?, ?it/s]"
      ]
     },
     "metadata": {},
     "output_type": "display_data"
    },
    {
     "name": "stdout",
     "output_type": "stream",
     "text": [
      "Training notebook[+2.9000000] iter 8\n",
      "{'a1': 1.224744871391589, 'a2': 2.9}\n",
      "{'dtype': 'float64', 'device': 'cuda:0', 'max_dim': 16, 'nLayers': 20, 'use_checkpoint': True}\n"
     ]
    },
    {
     "data": {
      "application/vnd.jupyter.widget-view+json": {
       "model_id": "",
       "version_major": 2,
       "version_minor": 0
      },
      "text/plain": [
       "  0%|          | 0/40 [00:00<?, ?it/s]"
      ]
     },
     "metadata": {},
     "output_type": "display_data"
    },
    {
     "name": "stdout",
     "output_type": "stream",
     "text": [
      "Training notebook[+3.1000000] iter 8\n",
      "{'a1': 1.224744871391589, 'a2': 3.1}\n",
      "{'dtype': 'float64', 'device': 'cuda:0', 'max_dim': 16, 'nLayers': 20, 'use_checkpoint': True}\n"
     ]
    },
    {
     "data": {
      "application/vnd.jupyter.widget-view+json": {
       "model_id": "",
       "version_major": 2,
       "version_minor": 0
      },
      "text/plain": [
       "  0%|          | 0/40 [00:00<?, ?it/s]"
      ]
     },
     "metadata": {},
     "output_type": "display_data"
    },
    {
     "name": "stdout",
     "output_type": "stream",
     "text": [
      "Training notebook[+2.5000000] iter 9\n",
      "{'a1': 1.224744871391589, 'a2': 2.5}\n",
      "{'dtype': 'float64', 'device': 'cuda:0', 'max_dim': 16, 'nLayers': 20, 'use_checkpoint': True}\n"
     ]
    },
    {
     "data": {
      "application/vnd.jupyter.widget-view+json": {
       "model_id": "",
       "version_major": 2,
       "version_minor": 0
      },
      "text/plain": [
       "  0%|          | 0/40 [00:00<?, ?it/s]"
      ]
     },
     "metadata": {},
     "output_type": "display_data"
    },
    {
     "name": "stdout",
     "output_type": "stream",
     "text": [
      "Training notebook[+2.7000000] iter 9\n",
      "{'a1': 1.224744871391589, 'a2': 2.7}\n",
      "{'dtype': 'float64', 'device': 'cuda:0', 'max_dim': 16, 'nLayers': 20, 'use_checkpoint': True}\n"
     ]
    },
    {
     "data": {
      "application/vnd.jupyter.widget-view+json": {
       "model_id": "",
       "version_major": 2,
       "version_minor": 0
      },
      "text/plain": [
       "  0%|          | 0/40 [00:00<?, ?it/s]"
      ]
     },
     "metadata": {},
     "output_type": "display_data"
    },
    {
     "name": "stdout",
     "output_type": "stream",
     "text": [
      "Training notebook[+2.9000000] iter 9\n",
      "{'a1': 1.224744871391589, 'a2': 2.9}\n",
      "{'dtype': 'float64', 'device': 'cuda:0', 'max_dim': 16, 'nLayers': 20, 'use_checkpoint': True}\n"
     ]
    },
    {
     "data": {
      "application/vnd.jupyter.widget-view+json": {
       "model_id": "",
       "version_major": 2,
       "version_minor": 0
      },
      "text/plain": [
       "  0%|          | 0/40 [00:00<?, ?it/s]"
      ]
     },
     "metadata": {},
     "output_type": "display_data"
    },
    {
     "name": "stdout",
     "output_type": "stream",
     "text": [
      "Training notebook[+3.1000000] iter 9\n",
      "{'a1': 1.224744871391589, 'a2': 3.1}\n",
      "{'dtype': 'float64', 'device': 'cuda:0', 'max_dim': 16, 'nLayers': 20, 'use_checkpoint': True}\n"
     ]
    },
    {
     "data": {
      "application/vnd.jupyter.widget-view+json": {
       "model_id": "",
       "version_major": 2,
       "version_minor": 0
      },
      "text/plain": [
       "  0%|          | 0/40 [00:00<?, ?it/s]"
      ]
     },
     "metadata": {},
     "output_type": "display_data"
    },
    {
     "name": "stdout",
     "output_type": "stream",
     "text": [
      "Training notebook[+2.5000000] iter 10\n",
      "{'a1': 1.224744871391589, 'a2': 2.5}\n",
      "{'dtype': 'float64', 'device': 'cuda:0', 'max_dim': 16, 'nLayers': 20, 'use_checkpoint': True}\n"
     ]
    },
    {
     "data": {
      "application/vnd.jupyter.widget-view+json": {
       "model_id": "",
       "version_major": 2,
       "version_minor": 0
      },
      "text/plain": [
       "  0%|          | 0/40 [00:00<?, ?it/s]"
      ]
     },
     "metadata": {},
     "output_type": "display_data"
    },
    {
     "name": "stdout",
     "output_type": "stream",
     "text": [
      "Training notebook[+2.7000000] iter 10\n",
      "{'a1': 1.224744871391589, 'a2': 2.7}\n",
      "{'dtype': 'float64', 'device': 'cuda:0', 'max_dim': 16, 'nLayers': 20, 'use_checkpoint': True}\n"
     ]
    },
    {
     "data": {
      "application/vnd.jupyter.widget-view+json": {
       "model_id": "",
       "version_major": 2,
       "version_minor": 0
      },
      "text/plain": [
       "  0%|          | 0/40 [00:00<?, ?it/s]"
      ]
     },
     "metadata": {},
     "output_type": "display_data"
    },
    {
     "name": "stdout",
     "output_type": "stream",
     "text": [
      "Training notebook[+2.9000000] iter 10\n",
      "{'a1': 1.224744871391589, 'a2': 2.9}\n",
      "{'dtype': 'float64', 'device': 'cuda:0', 'max_dim': 16, 'nLayers': 20, 'use_checkpoint': True}\n"
     ]
    },
    {
     "data": {
      "application/vnd.jupyter.widget-view+json": {
       "model_id": "",
       "version_major": 2,
       "version_minor": 0
      },
      "text/plain": [
       "  0%|          | 0/40 [00:00<?, ?it/s]"
      ]
     },
     "metadata": {},
     "output_type": "display_data"
    },
    {
     "name": "stdout",
     "output_type": "stream",
     "text": [
      "Training notebook[+3.1000000] iter 10\n",
      "{'a1': 1.224744871391589, 'a2': 3.1}\n",
      "{'dtype': 'float64', 'device': 'cuda:0', 'max_dim': 16, 'nLayers': 20, 'use_checkpoint': True}\n"
     ]
    },
    {
     "data": {
      "application/vnd.jupyter.widget-view+json": {
       "model_id": "",
       "version_major": 2,
       "version_minor": 0
      },
      "text/plain": [
       "  0%|          | 0/40 [00:00<?, ?it/s]"
      ]
     },
     "metadata": {},
     "output_type": "display_data"
    },
    {
     "name": "stdout",
     "output_type": "stream",
     "text": [
      "Training notebook[+2.5000000] iter 11\n",
      "{'a1': 1.224744871391589, 'a2': 2.5}\n",
      "{'dtype': 'float64', 'device': 'cuda:0', 'max_dim': 16, 'nLayers': 20, 'use_checkpoint': True}\n"
     ]
    },
    {
     "data": {
      "application/vnd.jupyter.widget-view+json": {
       "model_id": "",
       "version_major": 2,
       "version_minor": 0
      },
      "text/plain": [
       "  0%|          | 0/40 [00:00<?, ?it/s]"
      ]
     },
     "metadata": {},
     "output_type": "display_data"
    },
    {
     "name": "stdout",
     "output_type": "stream",
     "text": [
      "Training notebook[+2.7000000] iter 11\n",
      "{'a1': 1.224744871391589, 'a2': 2.7}\n",
      "{'dtype': 'float64', 'device': 'cuda:0', 'max_dim': 16, 'nLayers': 20, 'use_checkpoint': True}\n"
     ]
    },
    {
     "data": {
      "application/vnd.jupyter.widget-view+json": {
       "model_id": "",
       "version_major": 2,
       "version_minor": 0
      },
      "text/plain": [
       "  0%|          | 0/40 [00:00<?, ?it/s]"
      ]
     },
     "metadata": {},
     "output_type": "display_data"
    },
    {
     "name": "stdout",
     "output_type": "stream",
     "text": [
      "Training notebook[+2.9000000] iter 11\n",
      "{'a1': 1.224744871391589, 'a2': 2.9}\n",
      "{'dtype': 'float64', 'device': 'cuda:0', 'max_dim': 16, 'nLayers': 20, 'use_checkpoint': True}\n"
     ]
    },
    {
     "data": {
      "application/vnd.jupyter.widget-view+json": {
       "model_id": "",
       "version_major": 2,
       "version_minor": 0
      },
      "text/plain": [
       "  0%|          | 0/40 [00:00<?, ?it/s]"
      ]
     },
     "metadata": {},
     "output_type": "display_data"
    },
    {
     "name": "stdout",
     "output_type": "stream",
     "text": [
      "Training notebook[+3.1000000] iter 11\n",
      "{'a1': 1.224744871391589, 'a2': 3.1}\n",
      "{'dtype': 'float64', 'device': 'cuda:0', 'max_dim': 16, 'nLayers': 20, 'use_checkpoint': True}\n"
     ]
    },
    {
     "data": {
      "application/vnd.jupyter.widget-view+json": {
       "model_id": "",
       "version_major": 2,
       "version_minor": 0
      },
      "text/plain": [
       "  0%|          | 0/40 [00:00<?, ?it/s]"
      ]
     },
     "metadata": {},
     "output_type": "display_data"
    },
    {
     "name": "stdout",
     "output_type": "stream",
     "text": [
      "Training notebook[+2.5000000] iter 12\n",
      "{'a1': 1.224744871391589, 'a2': 2.5}\n",
      "{'dtype': 'float64', 'device': 'cuda:0', 'max_dim': 16, 'nLayers': 20, 'use_checkpoint': True}\n"
     ]
    },
    {
     "data": {
      "application/vnd.jupyter.widget-view+json": {
       "model_id": "",
       "version_major": 2,
       "version_minor": 0
      },
      "text/plain": [
       "  0%|          | 0/40 [00:00<?, ?it/s]"
      ]
     },
     "metadata": {},
     "output_type": "display_data"
    },
    {
     "name": "stdout",
     "output_type": "stream",
     "text": [
      "Training notebook[+2.7000000] iter 12\n",
      "{'a1': 1.224744871391589, 'a2': 2.7}\n",
      "{'dtype': 'float64', 'device': 'cuda:0', 'max_dim': 16, 'nLayers': 20, 'use_checkpoint': True}\n"
     ]
    },
    {
     "data": {
      "application/vnd.jupyter.widget-view+json": {
       "model_id": "",
       "version_major": 2,
       "version_minor": 0
      },
      "text/plain": [
       "  0%|          | 0/40 [00:00<?, ?it/s]"
      ]
     },
     "metadata": {},
     "output_type": "display_data"
    },
    {
     "name": "stdout",
     "output_type": "stream",
     "text": [
      "Training notebook[+2.9000000] iter 12\n",
      "{'a1': 1.224744871391589, 'a2': 2.9}\n",
      "{'dtype': 'float64', 'device': 'cuda:0', 'max_dim': 16, 'nLayers': 20, 'use_checkpoint': True}\n"
     ]
    },
    {
     "data": {
      "application/vnd.jupyter.widget-view+json": {
       "model_id": "",
       "version_major": 2,
       "version_minor": 0
      },
      "text/plain": [
       "  0%|          | 0/40 [00:00<?, ?it/s]"
      ]
     },
     "metadata": {},
     "output_type": "display_data"
    },
    {
     "name": "stdout",
     "output_type": "stream",
     "text": [
      "Training notebook[+3.1000000] iter 12\n",
      "{'a1': 1.224744871391589, 'a2': 3.1}\n",
      "{'dtype': 'float64', 'device': 'cuda:0', 'max_dim': 16, 'nLayers': 20, 'use_checkpoint': True}\n"
     ]
    },
    {
     "data": {
      "application/vnd.jupyter.widget-view+json": {
       "model_id": "",
       "version_major": 2,
       "version_minor": 0
      },
      "text/plain": [
       "  0%|          | 0/40 [00:00<?, ?it/s]"
      ]
     },
     "metadata": {},
     "output_type": "display_data"
    },
    {
     "name": "stdout",
     "output_type": "stream",
     "text": [
      "Training notebook[+2.5000000] iter 13\n",
      "{'a1': 1.224744871391589, 'a2': 2.5}\n",
      "{'dtype': 'float64', 'device': 'cuda:0', 'max_dim': 16, 'nLayers': 20, 'use_checkpoint': True}\n"
     ]
    },
    {
     "data": {
      "application/vnd.jupyter.widget-view+json": {
       "model_id": "",
       "version_major": 2,
       "version_minor": 0
      },
      "text/plain": [
       "  0%|          | 0/40 [00:00<?, ?it/s]"
      ]
     },
     "metadata": {},
     "output_type": "display_data"
    },
    {
     "name": "stdout",
     "output_type": "stream",
     "text": [
      "Training notebook[+2.7000000] iter 13\n",
      "{'a1': 1.224744871391589, 'a2': 2.7}\n",
      "{'dtype': 'float64', 'device': 'cuda:0', 'max_dim': 16, 'nLayers': 20, 'use_checkpoint': True}\n"
     ]
    },
    {
     "data": {
      "application/vnd.jupyter.widget-view+json": {
       "model_id": "",
       "version_major": 2,
       "version_minor": 0
      },
      "text/plain": [
       "  0%|          | 0/40 [00:00<?, ?it/s]"
      ]
     },
     "metadata": {},
     "output_type": "display_data"
    },
    {
     "name": "stdout",
     "output_type": "stream",
     "text": [
      "Training notebook[+2.9000000] iter 13\n",
      "{'a1': 1.224744871391589, 'a2': 2.9}\n",
      "{'dtype': 'float64', 'device': 'cuda:0', 'max_dim': 16, 'nLayers': 20, 'use_checkpoint': True}\n"
     ]
    },
    {
     "data": {
      "application/vnd.jupyter.widget-view+json": {
       "model_id": "",
       "version_major": 2,
       "version_minor": 0
      },
      "text/plain": [
       "  0%|          | 0/40 [00:00<?, ?it/s]"
      ]
     },
     "metadata": {},
     "output_type": "display_data"
    },
    {
     "name": "stdout",
     "output_type": "stream",
     "text": [
      "Training notebook[+3.1000000] iter 13\n",
      "{'a1': 1.224744871391589, 'a2': 3.1}\n",
      "{'dtype': 'float64', 'device': 'cuda:0', 'max_dim': 16, 'nLayers': 20, 'use_checkpoint': True}\n"
     ]
    },
    {
     "data": {
      "application/vnd.jupyter.widget-view+json": {
       "model_id": "",
       "version_major": 2,
       "version_minor": 0
      },
      "text/plain": [
       "  0%|          | 0/40 [00:00<?, ?it/s]"
      ]
     },
     "metadata": {},
     "output_type": "display_data"
    },
    {
     "name": "stdout",
     "output_type": "stream",
     "text": [
      "Training notebook[+2.5000000] iter 14\n",
      "{'a1': 1.224744871391589, 'a2': 2.5}\n",
      "{'dtype': 'float64', 'device': 'cuda:0', 'max_dim': 16, 'nLayers': 20, 'use_checkpoint': True}\n"
     ]
    },
    {
     "data": {
      "application/vnd.jupyter.widget-view+json": {
       "model_id": "",
       "version_major": 2,
       "version_minor": 0
      },
      "text/plain": [
       "  0%|          | 0/40 [00:00<?, ?it/s]"
      ]
     },
     "metadata": {},
     "output_type": "display_data"
    },
    {
     "name": "stdout",
     "output_type": "stream",
     "text": [
      "Training notebook[+2.7000000] iter 14\n",
      "{'a1': 1.224744871391589, 'a2': 2.7}\n",
      "{'dtype': 'float64', 'device': 'cuda:0', 'max_dim': 16, 'nLayers': 20, 'use_checkpoint': True}\n"
     ]
    },
    {
     "data": {
      "application/vnd.jupyter.widget-view+json": {
       "model_id": "",
       "version_major": 2,
       "version_minor": 0
      },
      "text/plain": [
       "  0%|          | 0/40 [00:00<?, ?it/s]"
      ]
     },
     "metadata": {},
     "output_type": "display_data"
    },
    {
     "name": "stdout",
     "output_type": "stream",
     "text": [
      "Training notebook[+2.9000000] iter 14\n",
      "{'a1': 1.224744871391589, 'a2': 2.9}\n",
      "{'dtype': 'float64', 'device': 'cuda:0', 'max_dim': 16, 'nLayers': 20, 'use_checkpoint': True}\n"
     ]
    },
    {
     "data": {
      "application/vnd.jupyter.widget-view+json": {
       "model_id": "",
       "version_major": 2,
       "version_minor": 0
      },
      "text/plain": [
       "  0%|          | 0/40 [00:00<?, ?it/s]"
      ]
     },
     "metadata": {},
     "output_type": "display_data"
    },
    {
     "name": "stdout",
     "output_type": "stream",
     "text": [
      "Training notebook[+3.1000000] iter 14\n",
      "{'a1': 1.224744871391589, 'a2': 3.1}\n",
      "{'dtype': 'float64', 'device': 'cuda:0', 'max_dim': 16, 'nLayers': 20, 'use_checkpoint': True}\n"
     ]
    },
    {
     "data": {
      "application/vnd.jupyter.widget-view+json": {
       "model_id": "",
       "version_major": 2,
       "version_minor": 0
      },
      "text/plain": [
       "  0%|          | 0/40 [00:00<?, ?it/s]"
      ]
     },
     "metadata": {},
     "output_type": "display_data"
    },
    {
     "name": "stdout",
     "output_type": "stream",
     "text": [
      "Training notebook[+2.5000000] iter 15\n",
      "{'a1': 1.224744871391589, 'a2': 2.5}\n",
      "{'dtype': 'float64', 'device': 'cuda:0', 'max_dim': 16, 'nLayers': 20, 'use_checkpoint': True}\n"
     ]
    },
    {
     "data": {
      "application/vnd.jupyter.widget-view+json": {
       "model_id": "",
       "version_major": 2,
       "version_minor": 0
      },
      "text/plain": [
       "  0%|          | 0/40 [00:00<?, ?it/s]"
      ]
     },
     "metadata": {},
     "output_type": "display_data"
    },
    {
     "name": "stdout",
     "output_type": "stream",
     "text": [
      "Training notebook[+2.7000000] iter 15\n",
      "{'a1': 1.224744871391589, 'a2': 2.7}\n",
      "{'dtype': 'float64', 'device': 'cuda:0', 'max_dim': 16, 'nLayers': 20, 'use_checkpoint': True}\n"
     ]
    },
    {
     "data": {
      "application/vnd.jupyter.widget-view+json": {
       "model_id": "",
       "version_major": 2,
       "version_minor": 0
      },
      "text/plain": [
       "  0%|          | 0/40 [00:00<?, ?it/s]"
      ]
     },
     "metadata": {},
     "output_type": "display_data"
    },
    {
     "name": "stdout",
     "output_type": "stream",
     "text": [
      "Training notebook[+2.9000000] iter 15\n",
      "{'a1': 1.224744871391589, 'a2': 2.9}\n",
      "{'dtype': 'float64', 'device': 'cuda:0', 'max_dim': 16, 'nLayers': 20, 'use_checkpoint': True}\n"
     ]
    },
    {
     "data": {
      "application/vnd.jupyter.widget-view+json": {
       "model_id": "",
       "version_major": 2,
       "version_minor": 0
      },
      "text/plain": [
       "  0%|          | 0/40 [00:00<?, ?it/s]"
      ]
     },
     "metadata": {},
     "output_type": "display_data"
    },
    {
     "name": "stdout",
     "output_type": "stream",
     "text": [
      "Training notebook[+3.1000000] iter 15\n",
      "{'a1': 1.224744871391589, 'a2': 3.1}\n",
      "{'dtype': 'float64', 'device': 'cuda:0', 'max_dim': 16, 'nLayers': 20, 'use_checkpoint': True}\n"
     ]
    },
    {
     "data": {
      "application/vnd.jupyter.widget-view+json": {
       "model_id": "",
       "version_major": 2,
       "version_minor": 0
      },
      "text/plain": [
       "  0%|          | 0/40 [00:00<?, ?it/s]"
      ]
     },
     "metadata": {},
     "output_type": "display_data"
    },
    {
     "name": "stdout",
     "output_type": "stream",
     "text": [
      "Training notebook[+2.5000000] iter 16\n",
      "{'a1': 1.224744871391589, 'a2': 2.5}\n",
      "{'dtype': 'float64', 'device': 'cuda:0', 'max_dim': 16, 'nLayers': 20, 'use_checkpoint': True}\n"
     ]
    },
    {
     "data": {
      "application/vnd.jupyter.widget-view+json": {
       "model_id": "",
       "version_major": 2,
       "version_minor": 0
      },
      "text/plain": [
       "  0%|          | 0/40 [00:00<?, ?it/s]"
      ]
     },
     "metadata": {},
     "output_type": "display_data"
    },
    {
     "name": "stdout",
     "output_type": "stream",
     "text": [
      "Training notebook[+2.7000000] iter 16\n",
      "{'a1': 1.224744871391589, 'a2': 2.7}\n",
      "{'dtype': 'float64', 'device': 'cuda:0', 'max_dim': 16, 'nLayers': 20, 'use_checkpoint': True}\n"
     ]
    },
    {
     "data": {
      "application/vnd.jupyter.widget-view+json": {
       "model_id": "",
       "version_major": 2,
       "version_minor": 0
      },
      "text/plain": [
       "  0%|          | 0/40 [00:00<?, ?it/s]"
      ]
     },
     "metadata": {},
     "output_type": "display_data"
    },
    {
     "name": "stdout",
     "output_type": "stream",
     "text": [
      "Training notebook[+2.9000000] iter 16\n",
      "{'a1': 1.224744871391589, 'a2': 2.9}\n",
      "{'dtype': 'float64', 'device': 'cuda:0', 'max_dim': 16, 'nLayers': 20, 'use_checkpoint': True}\n"
     ]
    },
    {
     "data": {
      "application/vnd.jupyter.widget-view+json": {
       "model_id": "",
       "version_major": 2,
       "version_minor": 0
      },
      "text/plain": [
       "  0%|          | 0/40 [00:00<?, ?it/s]"
      ]
     },
     "metadata": {},
     "output_type": "display_data"
    },
    {
     "name": "stdout",
     "output_type": "stream",
     "text": [
      "Training notebook[+3.1000000] iter 16\n",
      "{'a1': 1.224744871391589, 'a2': 3.1}\n",
      "{'dtype': 'float64', 'device': 'cuda:0', 'max_dim': 16, 'nLayers': 20, 'use_checkpoint': True}\n"
     ]
    },
    {
     "data": {
      "application/vnd.jupyter.widget-view+json": {
       "model_id": "",
       "version_major": 2,
       "version_minor": 0
      },
      "text/plain": [
       "  0%|          | 0/40 [00:00<?, ?it/s]"
      ]
     },
     "metadata": {},
     "output_type": "display_data"
    },
    {
     "name": "stdout",
     "output_type": "stream",
     "text": [
      "Training notebook[+2.5000000] iter 17\n",
      "{'a1': 1.224744871391589, 'a2': 2.5}\n",
      "{'dtype': 'float64', 'device': 'cuda:0', 'max_dim': 16, 'nLayers': 20, 'use_checkpoint': True}\n"
     ]
    },
    {
     "data": {
      "application/vnd.jupyter.widget-view+json": {
       "model_id": "",
       "version_major": 2,
       "version_minor": 0
      },
      "text/plain": [
       "  0%|          | 0/40 [00:00<?, ?it/s]"
      ]
     },
     "metadata": {},
     "output_type": "display_data"
    },
    {
     "name": "stdout",
     "output_type": "stream",
     "text": [
      "Training notebook[+2.7000000] iter 17\n",
      "{'a1': 1.224744871391589, 'a2': 2.7}\n",
      "{'dtype': 'float64', 'device': 'cuda:0', 'max_dim': 16, 'nLayers': 20, 'use_checkpoint': True}\n"
     ]
    },
    {
     "data": {
      "application/vnd.jupyter.widget-view+json": {
       "model_id": "",
       "version_major": 2,
       "version_minor": 0
      },
      "text/plain": [
       "  0%|          | 0/40 [00:00<?, ?it/s]"
      ]
     },
     "metadata": {},
     "output_type": "display_data"
    },
    {
     "name": "stdout",
     "output_type": "stream",
     "text": [
      "Training notebook[+2.9000000] iter 17\n",
      "{'a1': 1.224744871391589, 'a2': 2.9}\n",
      "{'dtype': 'float64', 'device': 'cuda:0', 'max_dim': 16, 'nLayers': 20, 'use_checkpoint': True}\n"
     ]
    },
    {
     "data": {
      "application/vnd.jupyter.widget-view+json": {
       "model_id": "",
       "version_major": 2,
       "version_minor": 0
      },
      "text/plain": [
       "  0%|          | 0/40 [00:00<?, ?it/s]"
      ]
     },
     "metadata": {},
     "output_type": "display_data"
    },
    {
     "name": "stdout",
     "output_type": "stream",
     "text": [
      "Training notebook[+3.1000000] iter 17\n",
      "{'a1': 1.224744871391589, 'a2': 3.1}\n",
      "{'dtype': 'float64', 'device': 'cuda:0', 'max_dim': 16, 'nLayers': 20, 'use_checkpoint': True}\n"
     ]
    },
    {
     "data": {
      "application/vnd.jupyter.widget-view+json": {
       "model_id": "",
       "version_major": 2,
       "version_minor": 0
      },
      "text/plain": [
       "  0%|          | 0/40 [00:00<?, ?it/s]"
      ]
     },
     "metadata": {},
     "output_type": "display_data"
    },
    {
     "name": "stdout",
     "output_type": "stream",
     "text": [
      "Training notebook[+2.5000000] iter 18\n",
      "{'a1': 1.224744871391589, 'a2': 2.5}\n",
      "{'dtype': 'float64', 'device': 'cuda:0', 'max_dim': 16, 'nLayers': 20, 'use_checkpoint': True}\n"
     ]
    },
    {
     "data": {
      "application/vnd.jupyter.widget-view+json": {
       "model_id": "",
       "version_major": 2,
       "version_minor": 0
      },
      "text/plain": [
       "  0%|          | 0/40 [00:00<?, ?it/s]"
      ]
     },
     "metadata": {},
     "output_type": "display_data"
    },
    {
     "name": "stdout",
     "output_type": "stream",
     "text": [
      "Training notebook[+2.7000000] iter 18\n",
      "{'a1': 1.224744871391589, 'a2': 2.7}\n",
      "{'dtype': 'float64', 'device': 'cuda:0', 'max_dim': 16, 'nLayers': 20, 'use_checkpoint': True}\n"
     ]
    },
    {
     "data": {
      "application/vnd.jupyter.widget-view+json": {
       "model_id": "",
       "version_major": 2,
       "version_minor": 0
      },
      "text/plain": [
       "  0%|          | 0/40 [00:00<?, ?it/s]"
      ]
     },
     "metadata": {},
     "output_type": "display_data"
    },
    {
     "name": "stdout",
     "output_type": "stream",
     "text": [
      "Training notebook[+2.9000000] iter 18\n",
      "{'a1': 1.224744871391589, 'a2': 2.9}\n",
      "{'dtype': 'float64', 'device': 'cuda:0', 'max_dim': 16, 'nLayers': 20, 'use_checkpoint': True}\n"
     ]
    },
    {
     "data": {
      "application/vnd.jupyter.widget-view+json": {
       "model_id": "",
       "version_major": 2,
       "version_minor": 0
      },
      "text/plain": [
       "  0%|          | 0/40 [00:00<?, ?it/s]"
      ]
     },
     "metadata": {},
     "output_type": "display_data"
    },
    {
     "name": "stdout",
     "output_type": "stream",
     "text": [
      "Training notebook[+3.1000000] iter 18\n",
      "{'a1': 1.224744871391589, 'a2': 3.1}\n",
      "{'dtype': 'float64', 'device': 'cuda:0', 'max_dim': 16, 'nLayers': 20, 'use_checkpoint': True}\n"
     ]
    },
    {
     "data": {
      "application/vnd.jupyter.widget-view+json": {
       "model_id": "",
       "version_major": 2,
       "version_minor": 0
      },
      "text/plain": [
       "  0%|          | 0/40 [00:00<?, ?it/s]"
      ]
     },
     "metadata": {},
     "output_type": "display_data"
    },
    {
     "name": "stdout",
     "output_type": "stream",
     "text": [
      "Training notebook[+2.5000000] iter 19\n",
      "{'a1': 1.224744871391589, 'a2': 2.5}\n",
      "{'dtype': 'float64', 'device': 'cuda:0', 'max_dim': 16, 'nLayers': 20, 'use_checkpoint': True}\n"
     ]
    },
    {
     "data": {
      "application/vnd.jupyter.widget-view+json": {
       "model_id": "",
       "version_major": 2,
       "version_minor": 0
      },
      "text/plain": [
       "  0%|          | 0/40 [00:00<?, ?it/s]"
      ]
     },
     "metadata": {},
     "output_type": "display_data"
    },
    {
     "name": "stdout",
     "output_type": "stream",
     "text": [
      "Training notebook[+2.7000000] iter 19\n",
      "{'a1': 1.224744871391589, 'a2': 2.7}\n",
      "{'dtype': 'float64', 'device': 'cuda:0', 'max_dim': 16, 'nLayers': 20, 'use_checkpoint': True}\n"
     ]
    },
    {
     "data": {
      "application/vnd.jupyter.widget-view+json": {
       "model_id": "",
       "version_major": 2,
       "version_minor": 0
      },
      "text/plain": [
       "  0%|          | 0/40 [00:00<?, ?it/s]"
      ]
     },
     "metadata": {},
     "output_type": "display_data"
    },
    {
     "name": "stdout",
     "output_type": "stream",
     "text": [
      "Training notebook[+2.9000000] iter 19\n",
      "{'a1': 1.224744871391589, 'a2': 2.9}\n",
      "{'dtype': 'float64', 'device': 'cuda:0', 'max_dim': 16, 'nLayers': 20, 'use_checkpoint': True}\n"
     ]
    },
    {
     "data": {
      "application/vnd.jupyter.widget-view+json": {
       "model_id": "",
       "version_major": 2,
       "version_minor": 0
      },
      "text/plain": [
       "  0%|          | 0/40 [00:00<?, ?it/s]"
      ]
     },
     "metadata": {},
     "output_type": "display_data"
    },
    {
     "name": "stdout",
     "output_type": "stream",
     "text": [
      "Training notebook[+3.1000000] iter 19\n",
      "{'a1': 1.224744871391589, 'a2': 3.1}\n",
      "{'dtype': 'float64', 'device': 'cuda:0', 'max_dim': 16, 'nLayers': 20, 'use_checkpoint': True}\n"
     ]
    },
    {
     "data": {
      "application/vnd.jupyter.widget-view+json": {
       "model_id": "",
       "version_major": 2,
       "version_minor": 0
      },
      "text/plain": [
       "  0%|          | 0/40 [00:00<?, ?it/s]"
      ]
     },
     "metadata": {},
     "output_type": "display_data"
    },
    {
     "name": "stdout",
     "output_type": "stream",
     "text": [
      "Training notebook[+2.5000000] iter 20\n",
      "{'a1': 1.224744871391589, 'a2': 2.5}\n",
      "{'dtype': 'float64', 'device': 'cuda:0', 'max_dim': 16, 'nLayers': 20, 'use_checkpoint': True}\n"
     ]
    },
    {
     "data": {
      "application/vnd.jupyter.widget-view+json": {
       "model_id": "",
       "version_major": 2,
       "version_minor": 0
      },
      "text/plain": [
       "  0%|          | 0/40 [00:00<?, ?it/s]"
      ]
     },
     "metadata": {},
     "output_type": "display_data"
    },
    {
     "name": "stdout",
     "output_type": "stream",
     "text": [
      "Training notebook[+2.7000000] iter 20\n",
      "{'a1': 1.224744871391589, 'a2': 2.7}\n",
      "{'dtype': 'float64', 'device': 'cuda:0', 'max_dim': 16, 'nLayers': 20, 'use_checkpoint': True}\n"
     ]
    },
    {
     "data": {
      "application/vnd.jupyter.widget-view+json": {
       "model_id": "",
       "version_major": 2,
       "version_minor": 0
      },
      "text/plain": [
       "  0%|          | 0/40 [00:00<?, ?it/s]"
      ]
     },
     "metadata": {},
     "output_type": "display_data"
    },
    {
     "name": "stdout",
     "output_type": "stream",
     "text": [
      "Training notebook[+2.9000000] iter 20\n",
      "{'a1': 1.224744871391589, 'a2': 2.9}\n",
      "{'dtype': 'float64', 'device': 'cuda:0', 'max_dim': 16, 'nLayers': 20, 'use_checkpoint': True}\n"
     ]
    },
    {
     "data": {
      "application/vnd.jupyter.widget-view+json": {
       "model_id": "",
       "version_major": 2,
       "version_minor": 0
      },
      "text/plain": [
       "  0%|          | 0/40 [00:00<?, ?it/s]"
      ]
     },
     "metadata": {},
     "output_type": "display_data"
    },
    {
     "name": "stdout",
     "output_type": "stream",
     "text": [
      "Training notebook[+3.1000000] iter 20\n",
      "{'a1': 1.224744871391589, 'a2': 3.1}\n",
      "{'dtype': 'float64', 'device': 'cuda:0', 'max_dim': 16, 'nLayers': 20, 'use_checkpoint': True}\n"
     ]
    },
    {
     "data": {
      "application/vnd.jupyter.widget-view+json": {
       "model_id": "",
       "version_major": 2,
       "version_minor": 0
      },
      "text/plain": [
       "  0%|          | 0/40 [00:00<?, ?it/s]"
      ]
     },
     "metadata": {},
     "output_type": "display_data"
    },
    {
     "name": "stdout",
     "output_type": "stream",
     "text": [
      "Training notebook[+2.5000000] iter 21\n",
      "{'a1': 1.224744871391589, 'a2': 2.5}\n",
      "{'dtype': 'float64', 'device': 'cuda:0', 'max_dim': 16, 'nLayers': 20, 'use_checkpoint': True}\n"
     ]
    },
    {
     "data": {
      "application/vnd.jupyter.widget-view+json": {
       "model_id": "",
       "version_major": 2,
       "version_minor": 0
      },
      "text/plain": [
       "  0%|          | 0/40 [00:00<?, ?it/s]"
      ]
     },
     "metadata": {},
     "output_type": "display_data"
    },
    {
     "name": "stdout",
     "output_type": "stream",
     "text": [
      "Training notebook[+2.7000000] iter 21\n",
      "{'a1': 1.224744871391589, 'a2': 2.7}\n",
      "{'dtype': 'float64', 'device': 'cuda:0', 'max_dim': 16, 'nLayers': 20, 'use_checkpoint': True}\n"
     ]
    },
    {
     "data": {
      "application/vnd.jupyter.widget-view+json": {
       "model_id": "",
       "version_major": 2,
       "version_minor": 0
      },
      "text/plain": [
       "  0%|          | 0/40 [00:00<?, ?it/s]"
      ]
     },
     "metadata": {},
     "output_type": "display_data"
    },
    {
     "name": "stdout",
     "output_type": "stream",
     "text": [
      "Training notebook[+2.9000000] iter 21\n",
      "{'a1': 1.224744871391589, 'a2': 2.9}\n",
      "{'dtype': 'float64', 'device': 'cuda:0', 'max_dim': 16, 'nLayers': 20, 'use_checkpoint': True}\n"
     ]
    },
    {
     "data": {
      "application/vnd.jupyter.widget-view+json": {
       "model_id": "",
       "version_major": 2,
       "version_minor": 0
      },
      "text/plain": [
       "  0%|          | 0/40 [00:00<?, ?it/s]"
      ]
     },
     "metadata": {},
     "output_type": "display_data"
    },
    {
     "name": "stdout",
     "output_type": "stream",
     "text": [
      "Training notebook[+3.1000000] iter 21\n",
      "{'a1': 1.224744871391589, 'a2': 3.1}\n",
      "{'dtype': 'float64', 'device': 'cuda:0', 'max_dim': 16, 'nLayers': 20, 'use_checkpoint': True}\n"
     ]
    },
    {
     "data": {
      "application/vnd.jupyter.widget-view+json": {
       "model_id": "",
       "version_major": 2,
       "version_minor": 0
      },
      "text/plain": [
       "  0%|          | 0/40 [00:00<?, ?it/s]"
      ]
     },
     "metadata": {},
     "output_type": "display_data"
    },
    {
     "name": "stdout",
     "output_type": "stream",
     "text": [
      "Training notebook[+2.5000000] iter 22\n",
      "{'a1': 1.224744871391589, 'a2': 2.5}\n",
      "{'dtype': 'float64', 'device': 'cuda:0', 'max_dim': 16, 'nLayers': 20, 'use_checkpoint': True}\n"
     ]
    },
    {
     "data": {
      "application/vnd.jupyter.widget-view+json": {
       "model_id": "",
       "version_major": 2,
       "version_minor": 0
      },
      "text/plain": [
       "  0%|          | 0/40 [00:00<?, ?it/s]"
      ]
     },
     "metadata": {},
     "output_type": "display_data"
    },
    {
     "name": "stdout",
     "output_type": "stream",
     "text": [
      "Training notebook[+2.7000000] iter 22\n",
      "{'a1': 1.224744871391589, 'a2': 2.7}\n",
      "{'dtype': 'float64', 'device': 'cuda:0', 'max_dim': 16, 'nLayers': 20, 'use_checkpoint': True}\n"
     ]
    },
    {
     "data": {
      "application/vnd.jupyter.widget-view+json": {
       "model_id": "",
       "version_major": 2,
       "version_minor": 0
      },
      "text/plain": [
       "  0%|          | 0/40 [00:00<?, ?it/s]"
      ]
     },
     "metadata": {},
     "output_type": "display_data"
    },
    {
     "name": "stdout",
     "output_type": "stream",
     "text": [
      "Training notebook[+2.9000000] iter 22\n",
      "{'a1': 1.224744871391589, 'a2': 2.9}\n",
      "{'dtype': 'float64', 'device': 'cuda:0', 'max_dim': 16, 'nLayers': 20, 'use_checkpoint': True}\n"
     ]
    },
    {
     "data": {
      "application/vnd.jupyter.widget-view+json": {
       "model_id": "",
       "version_major": 2,
       "version_minor": 0
      },
      "text/plain": [
       "  0%|          | 0/40 [00:00<?, ?it/s]"
      ]
     },
     "metadata": {},
     "output_type": "display_data"
    },
    {
     "name": "stdout",
     "output_type": "stream",
     "text": [
      "Training notebook[+3.1000000] iter 22\n",
      "{'a1': 1.224744871391589, 'a2': 3.1}\n",
      "{'dtype': 'float64', 'device': 'cuda:0', 'max_dim': 16, 'nLayers': 20, 'use_checkpoint': True}\n"
     ]
    },
    {
     "data": {
      "application/vnd.jupyter.widget-view+json": {
       "model_id": "",
       "version_major": 2,
       "version_minor": 0
      },
      "text/plain": [
       "  0%|          | 0/40 [00:00<?, ?it/s]"
      ]
     },
     "metadata": {},
     "output_type": "display_data"
    },
    {
     "name": "stdout",
     "output_type": "stream",
     "text": [
      "Training notebook[+2.5000000] iter 23\n",
      "{'a1': 1.224744871391589, 'a2': 2.5}\n",
      "{'dtype': 'float64', 'device': 'cuda:0', 'max_dim': 16, 'nLayers': 20, 'use_checkpoint': True}\n"
     ]
    },
    {
     "data": {
      "application/vnd.jupyter.widget-view+json": {
       "model_id": "",
       "version_major": 2,
       "version_minor": 0
      },
      "text/plain": [
       "  0%|          | 0/40 [00:00<?, ?it/s]"
      ]
     },
     "metadata": {},
     "output_type": "display_data"
    },
    {
     "name": "stdout",
     "output_type": "stream",
     "text": [
      "Training notebook[+2.7000000] iter 23\n",
      "{'a1': 1.224744871391589, 'a2': 2.7}\n",
      "{'dtype': 'float64', 'device': 'cuda:0', 'max_dim': 16, 'nLayers': 20, 'use_checkpoint': True}\n"
     ]
    },
    {
     "data": {
      "application/vnd.jupyter.widget-view+json": {
       "model_id": "",
       "version_major": 2,
       "version_minor": 0
      },
      "text/plain": [
       "  0%|          | 0/40 [00:00<?, ?it/s]"
      ]
     },
     "metadata": {},
     "output_type": "display_data"
    },
    {
     "name": "stdout",
     "output_type": "stream",
     "text": [
      "Training notebook[+2.9000000] iter 23\n",
      "{'a1': 1.224744871391589, 'a2': 2.9}\n",
      "{'dtype': 'float64', 'device': 'cuda:0', 'max_dim': 16, 'nLayers': 20, 'use_checkpoint': True}\n"
     ]
    },
    {
     "data": {
      "application/vnd.jupyter.widget-view+json": {
       "model_id": "",
       "version_major": 2,
       "version_minor": 0
      },
      "text/plain": [
       "  0%|          | 0/40 [00:00<?, ?it/s]"
      ]
     },
     "metadata": {},
     "output_type": "display_data"
    },
    {
     "name": "stdout",
     "output_type": "stream",
     "text": [
      "Training notebook[+3.1000000] iter 23\n",
      "{'a1': 1.224744871391589, 'a2': 3.1}\n",
      "{'dtype': 'float64', 'device': 'cuda:0', 'max_dim': 16, 'nLayers': 20, 'use_checkpoint': True}\n"
     ]
    },
    {
     "data": {
      "application/vnd.jupyter.widget-view+json": {
       "model_id": "",
       "version_major": 2,
       "version_minor": 0
      },
      "text/plain": [
       "  0%|          | 0/40 [00:00<?, ?it/s]"
      ]
     },
     "metadata": {},
     "output_type": "display_data"
    },
    {
     "name": "stdout",
     "output_type": "stream",
     "text": [
      "Training notebook[+2.5000000] iter 24\n",
      "{'a1': 1.224744871391589, 'a2': 2.5}\n",
      "{'dtype': 'float64', 'device': 'cuda:0', 'max_dim': 16, 'nLayers': 20, 'use_checkpoint': True}\n"
     ]
    },
    {
     "data": {
      "application/vnd.jupyter.widget-view+json": {
       "model_id": "",
       "version_major": 2,
       "version_minor": 0
      },
      "text/plain": [
       "  0%|          | 0/40 [00:00<?, ?it/s]"
      ]
     },
     "metadata": {},
     "output_type": "display_data"
    },
    {
     "name": "stdout",
     "output_type": "stream",
     "text": [
      "Training notebook[+2.7000000] iter 24\n",
      "{'a1': 1.224744871391589, 'a2': 2.7}\n",
      "{'dtype': 'float64', 'device': 'cuda:0', 'max_dim': 16, 'nLayers': 20, 'use_checkpoint': True}\n"
     ]
    },
    {
     "data": {
      "application/vnd.jupyter.widget-view+json": {
       "model_id": "",
       "version_major": 2,
       "version_minor": 0
      },
      "text/plain": [
       "  0%|          | 0/40 [00:00<?, ?it/s]"
      ]
     },
     "metadata": {},
     "output_type": "display_data"
    },
    {
     "name": "stdout",
     "output_type": "stream",
     "text": [
      "Training notebook[+2.9000000] iter 24\n",
      "{'a1': 1.224744871391589, 'a2': 2.9}\n",
      "{'dtype': 'float64', 'device': 'cuda:0', 'max_dim': 16, 'nLayers': 20, 'use_checkpoint': True}\n"
     ]
    },
    {
     "data": {
      "application/vnd.jupyter.widget-view+json": {
       "model_id": "",
       "version_major": 2,
       "version_minor": 0
      },
      "text/plain": [
       "  0%|          | 0/40 [00:00<?, ?it/s]"
      ]
     },
     "metadata": {},
     "output_type": "display_data"
    },
    {
     "name": "stdout",
     "output_type": "stream",
     "text": [
      "Training notebook[+3.1000000] iter 24\n",
      "{'a1': 1.224744871391589, 'a2': 3.1}\n",
      "{'dtype': 'float64', 'device': 'cuda:0', 'max_dim': 16, 'nLayers': 20, 'use_checkpoint': True}\n"
     ]
    },
    {
     "data": {
      "application/vnd.jupyter.widget-view+json": {
       "model_id": "",
       "version_major": 2,
       "version_minor": 0
      },
      "text/plain": [
       "  0%|          | 0/40 [00:00<?, ?it/s]"
      ]
     },
     "metadata": {},
     "output_type": "display_data"
    },
    {
     "name": "stdout",
     "output_type": "stream",
     "text": [
      "Training notebook[+2.5000000] iter 25\n",
      "{'a1': 1.224744871391589, 'a2': 2.5}\n",
      "{'dtype': 'float64', 'device': 'cuda:0', 'max_dim': 16, 'nLayers': 20, 'use_checkpoint': True}\n"
     ]
    },
    {
     "data": {
      "application/vnd.jupyter.widget-view+json": {
       "model_id": "",
       "version_major": 2,
       "version_minor": 0
      },
      "text/plain": [
       "  0%|          | 0/40 [00:00<?, ?it/s]"
      ]
     },
     "metadata": {},
     "output_type": "display_data"
    },
    {
     "name": "stdout",
     "output_type": "stream",
     "text": [
      "Training notebook[+2.7000000] iter 25\n",
      "{'a1': 1.224744871391589, 'a2': 2.7}\n",
      "{'dtype': 'float64', 'device': 'cuda:0', 'max_dim': 16, 'nLayers': 20, 'use_checkpoint': True}\n"
     ]
    },
    {
     "data": {
      "application/vnd.jupyter.widget-view+json": {
       "model_id": "",
       "version_major": 2,
       "version_minor": 0
      },
      "text/plain": [
       "  0%|          | 0/40 [00:00<?, ?it/s]"
      ]
     },
     "metadata": {},
     "output_type": "display_data"
    },
    {
     "name": "stdout",
     "output_type": "stream",
     "text": [
      "Training notebook[+2.9000000] iter 25\n",
      "{'a1': 1.224744871391589, 'a2': 2.9}\n",
      "{'dtype': 'float64', 'device': 'cuda:0', 'max_dim': 16, 'nLayers': 20, 'use_checkpoint': True}\n"
     ]
    },
    {
     "data": {
      "application/vnd.jupyter.widget-view+json": {
       "model_id": "",
       "version_major": 2,
       "version_minor": 0
      },
      "text/plain": [
       "  0%|          | 0/40 [00:00<?, ?it/s]"
      ]
     },
     "metadata": {},
     "output_type": "display_data"
    },
    {
     "name": "stdout",
     "output_type": "stream",
     "text": [
      "Training notebook[+3.1000000] iter 25\n",
      "{'a1': 1.224744871391589, 'a2': 3.1}\n",
      "{'dtype': 'float64', 'device': 'cuda:0', 'max_dim': 16, 'nLayers': 20, 'use_checkpoint': True}\n"
     ]
    },
    {
     "data": {
      "application/vnd.jupyter.widget-view+json": {
       "model_id": "",
       "version_major": 2,
       "version_minor": 0
      },
      "text/plain": [
       "  0%|          | 0/40 [00:00<?, ?it/s]"
      ]
     },
     "metadata": {},
     "output_type": "display_data"
    },
    {
     "name": "stdout",
     "output_type": "stream",
     "text": [
      "Training notebook[+2.5000000] iter 26\n",
      "{'a1': 1.224744871391589, 'a2': 2.5}\n",
      "{'dtype': 'float64', 'device': 'cuda:0', 'max_dim': 16, 'nLayers': 20, 'use_checkpoint': True}\n"
     ]
    },
    {
     "data": {
      "application/vnd.jupyter.widget-view+json": {
       "model_id": "",
       "version_major": 2,
       "version_minor": 0
      },
      "text/plain": [
       "  0%|          | 0/40 [00:00<?, ?it/s]"
      ]
     },
     "metadata": {},
     "output_type": "display_data"
    },
    {
     "name": "stdout",
     "output_type": "stream",
     "text": [
      "Training notebook[+2.7000000] iter 26\n",
      "{'a1': 1.224744871391589, 'a2': 2.7}\n",
      "{'dtype': 'float64', 'device': 'cuda:0', 'max_dim': 16, 'nLayers': 20, 'use_checkpoint': True}\n"
     ]
    },
    {
     "data": {
      "application/vnd.jupyter.widget-view+json": {
       "model_id": "",
       "version_major": 2,
       "version_minor": 0
      },
      "text/plain": [
       "  0%|          | 0/40 [00:00<?, ?it/s]"
      ]
     },
     "metadata": {},
     "output_type": "display_data"
    },
    {
     "name": "stdout",
     "output_type": "stream",
     "text": [
      "Training notebook[+2.9000000] iter 26\n",
      "{'a1': 1.224744871391589, 'a2': 2.9}\n",
      "{'dtype': 'float64', 'device': 'cuda:0', 'max_dim': 16, 'nLayers': 20, 'use_checkpoint': True}\n"
     ]
    },
    {
     "data": {
      "application/vnd.jupyter.widget-view+json": {
       "model_id": "",
       "version_major": 2,
       "version_minor": 0
      },
      "text/plain": [
       "  0%|          | 0/40 [00:00<?, ?it/s]"
      ]
     },
     "metadata": {},
     "output_type": "display_data"
    },
    {
     "name": "stdout",
     "output_type": "stream",
     "text": [
      "Training notebook[+3.1000000] iter 26\n",
      "{'a1': 1.224744871391589, 'a2': 3.1}\n",
      "{'dtype': 'float64', 'device': 'cuda:0', 'max_dim': 16, 'nLayers': 20, 'use_checkpoint': True}\n"
     ]
    },
    {
     "data": {
      "application/vnd.jupyter.widget-view+json": {
       "model_id": "",
       "version_major": 2,
       "version_minor": 0
      },
      "text/plain": [
       "  0%|          | 0/40 [00:00<?, ?it/s]"
      ]
     },
     "metadata": {},
     "output_type": "display_data"
    },
    {
     "name": "stdout",
     "output_type": "stream",
     "text": [
      "Training notebook[+2.5000000] iter 27\n",
      "{'a1': 1.224744871391589, 'a2': 2.5}\n",
      "{'dtype': 'float64', 'device': 'cuda:0', 'max_dim': 16, 'nLayers': 20, 'use_checkpoint': True}\n"
     ]
    },
    {
     "data": {
      "application/vnd.jupyter.widget-view+json": {
       "model_id": "",
       "version_major": 2,
       "version_minor": 0
      },
      "text/plain": [
       "  0%|          | 0/40 [00:00<?, ?it/s]"
      ]
     },
     "metadata": {},
     "output_type": "display_data"
    },
    {
     "name": "stdout",
     "output_type": "stream",
     "text": [
      "Training notebook[+2.7000000] iter 27\n",
      "{'a1': 1.224744871391589, 'a2': 2.7}\n",
      "{'dtype': 'float64', 'device': 'cuda:0', 'max_dim': 16, 'nLayers': 20, 'use_checkpoint': True}\n"
     ]
    },
    {
     "data": {
      "application/vnd.jupyter.widget-view+json": {
       "model_id": "",
       "version_major": 2,
       "version_minor": 0
      },
      "text/plain": [
       "  0%|          | 0/40 [00:00<?, ?it/s]"
      ]
     },
     "metadata": {},
     "output_type": "display_data"
    },
    {
     "name": "stdout",
     "output_type": "stream",
     "text": [
      "Training notebook[+2.9000000] iter 27\n",
      "{'a1': 1.224744871391589, 'a2': 2.9}\n",
      "{'dtype': 'float64', 'device': 'cuda:0', 'max_dim': 16, 'nLayers': 20, 'use_checkpoint': True}\n"
     ]
    },
    {
     "data": {
      "application/vnd.jupyter.widget-view+json": {
       "model_id": "",
       "version_major": 2,
       "version_minor": 0
      },
      "text/plain": [
       "  0%|          | 0/40 [00:00<?, ?it/s]"
      ]
     },
     "metadata": {},
     "output_type": "display_data"
    },
    {
     "name": "stdout",
     "output_type": "stream",
     "text": [
      "Training notebook[+3.1000000] iter 27\n",
      "{'a1': 1.224744871391589, 'a2': 3.1}\n",
      "{'dtype': 'float64', 'device': 'cuda:0', 'max_dim': 16, 'nLayers': 20, 'use_checkpoint': True}\n"
     ]
    },
    {
     "data": {
      "application/vnd.jupyter.widget-view+json": {
       "model_id": "",
       "version_major": 2,
       "version_minor": 0
      },
      "text/plain": [
       "  0%|          | 0/40 [00:00<?, ?it/s]"
      ]
     },
     "metadata": {},
     "output_type": "display_data"
    },
    {
     "name": "stdout",
     "output_type": "stream",
     "text": [
      "Training notebook[+2.5000000] iter 28\n",
      "{'a1': 1.224744871391589, 'a2': 2.5}\n",
      "{'dtype': 'float64', 'device': 'cuda:0', 'max_dim': 16, 'nLayers': 20, 'use_checkpoint': True}\n"
     ]
    },
    {
     "data": {
      "application/vnd.jupyter.widget-view+json": {
       "model_id": "",
       "version_major": 2,
       "version_minor": 0
      },
      "text/plain": [
       "  0%|          | 0/40 [00:00<?, ?it/s]"
      ]
     },
     "metadata": {},
     "output_type": "display_data"
    },
    {
     "name": "stdout",
     "output_type": "stream",
     "text": [
      "Training notebook[+2.7000000] iter 28\n",
      "{'a1': 1.224744871391589, 'a2': 2.7}\n",
      "{'dtype': 'float64', 'device': 'cuda:0', 'max_dim': 16, 'nLayers': 20, 'use_checkpoint': True}\n"
     ]
    },
    {
     "data": {
      "application/vnd.jupyter.widget-view+json": {
       "model_id": "",
       "version_major": 2,
       "version_minor": 0
      },
      "text/plain": [
       "  0%|          | 0/40 [00:00<?, ?it/s]"
      ]
     },
     "metadata": {},
     "output_type": "display_data"
    },
    {
     "name": "stdout",
     "output_type": "stream",
     "text": [
      "Training notebook[+2.9000000] iter 28\n",
      "{'a1': 1.224744871391589, 'a2': 2.9}\n",
      "{'dtype': 'float64', 'device': 'cuda:0', 'max_dim': 16, 'nLayers': 20, 'use_checkpoint': True}\n"
     ]
    },
    {
     "data": {
      "application/vnd.jupyter.widget-view+json": {
       "model_id": "",
       "version_major": 2,
       "version_minor": 0
      },
      "text/plain": [
       "  0%|          | 0/40 [00:00<?, ?it/s]"
      ]
     },
     "metadata": {},
     "output_type": "display_data"
    },
    {
     "name": "stdout",
     "output_type": "stream",
     "text": [
      "Training notebook[+3.1000000] iter 28\n",
      "{'a1': 1.224744871391589, 'a2': 3.1}\n",
      "{'dtype': 'float64', 'device': 'cuda:0', 'max_dim': 16, 'nLayers': 20, 'use_checkpoint': True}\n"
     ]
    },
    {
     "data": {
      "application/vnd.jupyter.widget-view+json": {
       "model_id": "",
       "version_major": 2,
       "version_minor": 0
      },
      "text/plain": [
       "  0%|          | 0/40 [00:00<?, ?it/s]"
      ]
     },
     "metadata": {},
     "output_type": "display_data"
    },
    {
     "name": "stdout",
     "output_type": "stream",
     "text": [
      "Training notebook[+2.5000000] iter 29\n",
      "{'a1': 1.224744871391589, 'a2': 2.5}\n",
      "{'dtype': 'float64', 'device': 'cuda:0', 'max_dim': 16, 'nLayers': 20, 'use_checkpoint': True}\n"
     ]
    },
    {
     "data": {
      "application/vnd.jupyter.widget-view+json": {
       "model_id": "",
       "version_major": 2,
       "version_minor": 0
      },
      "text/plain": [
       "  0%|          | 0/40 [00:00<?, ?it/s]"
      ]
     },
     "metadata": {},
     "output_type": "display_data"
    },
    {
     "name": "stdout",
     "output_type": "stream",
     "text": [
      "Training notebook[+2.7000000] iter 29\n",
      "{'a1': 1.224744871391589, 'a2': 2.7}\n",
      "{'dtype': 'float64', 'device': 'cuda:0', 'max_dim': 16, 'nLayers': 20, 'use_checkpoint': True}\n"
     ]
    },
    {
     "data": {
      "application/vnd.jupyter.widget-view+json": {
       "model_id": "",
       "version_major": 2,
       "version_minor": 0
      },
      "text/plain": [
       "  0%|          | 0/40 [00:00<?, ?it/s]"
      ]
     },
     "metadata": {},
     "output_type": "display_data"
    },
    {
     "name": "stdout",
     "output_type": "stream",
     "text": [
      "Training notebook[+2.9000000] iter 29\n",
      "{'a1': 1.224744871391589, 'a2': 2.9}\n",
      "{'dtype': 'float64', 'device': 'cuda:0', 'max_dim': 16, 'nLayers': 20, 'use_checkpoint': True}\n"
     ]
    },
    {
     "data": {
      "application/vnd.jupyter.widget-view+json": {
       "model_id": "",
       "version_major": 2,
       "version_minor": 0
      },
      "text/plain": [
       "  0%|          | 0/40 [00:00<?, ?it/s]"
      ]
     },
     "metadata": {},
     "output_type": "display_data"
    },
    {
     "name": "stdout",
     "output_type": "stream",
     "text": [
      "Training notebook[+3.1000000] iter 29\n",
      "{'a1': 1.224744871391589, 'a2': 3.1}\n",
      "{'dtype': 'float64', 'device': 'cuda:0', 'max_dim': 16, 'nLayers': 20, 'use_checkpoint': True}\n"
     ]
    },
    {
     "data": {
      "application/vnd.jupyter.widget-view+json": {
       "model_id": "",
       "version_major": 2,
       "version_minor": 0
      },
      "text/plain": [
       "  0%|          | 0/40 [00:00<?, ?it/s]"
      ]
     },
     "metadata": {},
     "output_type": "display_data"
    },
    {
     "name": "stdout",
     "output_type": "stream",
     "text": [
      "Training notebook[+2.5000000] iter 30\n",
      "{'a1': 1.224744871391589, 'a2': 2.5}\n",
      "{'dtype': 'float64', 'device': 'cuda:0', 'max_dim': 16, 'nLayers': 20, 'use_checkpoint': True}\n"
     ]
    },
    {
     "data": {
      "application/vnd.jupyter.widget-view+json": {
       "model_id": "",
       "version_major": 2,
       "version_minor": 0
      },
      "text/plain": [
       "  0%|          | 0/40 [00:00<?, ?it/s]"
      ]
     },
     "metadata": {},
     "output_type": "display_data"
    },
    {
     "name": "stdout",
     "output_type": "stream",
     "text": [
      "Training notebook[+2.7000000] iter 30\n",
      "{'a1': 1.224744871391589, 'a2': 2.7}\n",
      "{'dtype': 'float64', 'device': 'cuda:0', 'max_dim': 16, 'nLayers': 20, 'use_checkpoint': True}\n"
     ]
    },
    {
     "data": {
      "application/vnd.jupyter.widget-view+json": {
       "model_id": "",
       "version_major": 2,
       "version_minor": 0
      },
      "text/plain": [
       "  0%|          | 0/40 [00:00<?, ?it/s]"
      ]
     },
     "metadata": {},
     "output_type": "display_data"
    },
    {
     "name": "stdout",
     "output_type": "stream",
     "text": [
      "Training notebook[+2.9000000] iter 30\n",
      "{'a1': 1.224744871391589, 'a2': 2.9}\n",
      "{'dtype': 'float64', 'device': 'cuda:0', 'max_dim': 16, 'nLayers': 20, 'use_checkpoint': True}\n"
     ]
    },
    {
     "data": {
      "application/vnd.jupyter.widget-view+json": {
       "model_id": "",
       "version_major": 2,
       "version_minor": 0
      },
      "text/plain": [
       "  0%|          | 0/40 [00:00<?, ?it/s]"
      ]
     },
     "metadata": {},
     "output_type": "display_data"
    },
    {
     "name": "stdout",
     "output_type": "stream",
     "text": [
      "Training notebook[+3.1000000] iter 30\n",
      "{'a1': 1.224744871391589, 'a2': 3.1}\n",
      "{'dtype': 'float64', 'device': 'cuda:0', 'max_dim': 16, 'nLayers': 20, 'use_checkpoint': True}\n"
     ]
    },
    {
     "data": {
      "application/vnd.jupyter.widget-view+json": {
       "model_id": "",
       "version_major": 2,
       "version_minor": 0
      },
      "text/plain": [
       "  0%|          | 0/40 [00:00<?, ?it/s]"
      ]
     },
     "metadata": {},
     "output_type": "display_data"
    },
    {
     "name": "stdout",
     "output_type": "stream",
     "text": [
      "Training notebook[+2.5000000] iter 31\n",
      "{'a1': 1.224744871391589, 'a2': 2.5}\n",
      "{'dtype': 'float64', 'device': 'cuda:0', 'max_dim': 16, 'nLayers': 20, 'use_checkpoint': True}\n"
     ]
    },
    {
     "data": {
      "application/vnd.jupyter.widget-view+json": {
       "model_id": "",
       "version_major": 2,
       "version_minor": 0
      },
      "text/plain": [
       "  0%|          | 0/40 [00:00<?, ?it/s]"
      ]
     },
     "metadata": {},
     "output_type": "display_data"
    },
    {
     "name": "stdout",
     "output_type": "stream",
     "text": [
      "Training notebook[+2.7000000] iter 31\n",
      "{'a1': 1.224744871391589, 'a2': 2.7}\n",
      "{'dtype': 'float64', 'device': 'cuda:0', 'max_dim': 16, 'nLayers': 20, 'use_checkpoint': True}\n"
     ]
    },
    {
     "data": {
      "application/vnd.jupyter.widget-view+json": {
       "model_id": "",
       "version_major": 2,
       "version_minor": 0
      },
      "text/plain": [
       "  0%|          | 0/40 [00:00<?, ?it/s]"
      ]
     },
     "metadata": {},
     "output_type": "display_data"
    },
    {
     "name": "stdout",
     "output_type": "stream",
     "text": [
      "Training notebook[+2.9000000] iter 31\n",
      "{'a1': 1.224744871391589, 'a2': 2.9}\n",
      "{'dtype': 'float64', 'device': 'cuda:0', 'max_dim': 16, 'nLayers': 20, 'use_checkpoint': True}\n"
     ]
    },
    {
     "data": {
      "application/vnd.jupyter.widget-view+json": {
       "model_id": "",
       "version_major": 2,
       "version_minor": 0
      },
      "text/plain": [
       "  0%|          | 0/40 [00:00<?, ?it/s]"
      ]
     },
     "metadata": {},
     "output_type": "display_data"
    },
    {
     "name": "stdout",
     "output_type": "stream",
     "text": [
      "Training notebook[+3.1000000] iter 31\n",
      "{'a1': 1.224744871391589, 'a2': 3.1}\n",
      "{'dtype': 'float64', 'device': 'cuda:0', 'max_dim': 16, 'nLayers': 20, 'use_checkpoint': True}\n"
     ]
    },
    {
     "data": {
      "application/vnd.jupyter.widget-view+json": {
       "model_id": "",
       "version_major": 2,
       "version_minor": 0
      },
      "text/plain": [
       "  0%|          | 0/40 [00:00<?, ?it/s]"
      ]
     },
     "metadata": {},
     "output_type": "display_data"
    },
    {
     "name": "stdout",
     "output_type": "stream",
     "text": [
      "Training notebook[+2.5000000] iter 32\n",
      "{'a1': 1.224744871391589, 'a2': 2.5}\n",
      "{'dtype': 'float64', 'device': 'cuda:0', 'max_dim': 16, 'nLayers': 20, 'use_checkpoint': True}\n"
     ]
    },
    {
     "data": {
      "application/vnd.jupyter.widget-view+json": {
       "model_id": "",
       "version_major": 2,
       "version_minor": 0
      },
      "text/plain": [
       "  0%|          | 0/40 [00:00<?, ?it/s]"
      ]
     },
     "metadata": {},
     "output_type": "display_data"
    },
    {
     "name": "stdout",
     "output_type": "stream",
     "text": [
      "Training notebook[+2.7000000] iter 32\n",
      "{'a1': 1.224744871391589, 'a2': 2.7}\n",
      "{'dtype': 'float64', 'device': 'cuda:0', 'max_dim': 16, 'nLayers': 20, 'use_checkpoint': True}\n"
     ]
    },
    {
     "data": {
      "application/vnd.jupyter.widget-view+json": {
       "model_id": "",
       "version_major": 2,
       "version_minor": 0
      },
      "text/plain": [
       "  0%|          | 0/40 [00:00<?, ?it/s]"
      ]
     },
     "metadata": {},
     "output_type": "display_data"
    },
    {
     "name": "stdout",
     "output_type": "stream",
     "text": [
      "Training notebook[+2.9000000] iter 32\n",
      "{'a1': 1.224744871391589, 'a2': 2.9}\n",
      "{'dtype': 'float64', 'device': 'cuda:0', 'max_dim': 16, 'nLayers': 20, 'use_checkpoint': True}\n"
     ]
    },
    {
     "data": {
      "application/vnd.jupyter.widget-view+json": {
       "model_id": "",
       "version_major": 2,
       "version_minor": 0
      },
      "text/plain": [
       "  0%|          | 0/40 [00:00<?, ?it/s]"
      ]
     },
     "metadata": {},
     "output_type": "display_data"
    },
    {
     "name": "stdout",
     "output_type": "stream",
     "text": [
      "Training notebook[+3.1000000] iter 32\n",
      "{'a1': 1.224744871391589, 'a2': 3.1}\n",
      "{'dtype': 'float64', 'device': 'cuda:0', 'max_dim': 16, 'nLayers': 20, 'use_checkpoint': True}\n"
     ]
    },
    {
     "data": {
      "application/vnd.jupyter.widget-view+json": {
       "model_id": "",
       "version_major": 2,
       "version_minor": 0
      },
      "text/plain": [
       "  0%|          | 0/40 [00:00<?, ?it/s]"
      ]
     },
     "metadata": {},
     "output_type": "display_data"
    },
    {
     "name": "stdout",
     "output_type": "stream",
     "text": [
      "Training notebook[+2.5000000] iter 33\n",
      "{'a1': 1.224744871391589, 'a2': 2.5}\n",
      "{'dtype': 'float64', 'device': 'cuda:0', 'max_dim': 16, 'nLayers': 20, 'use_checkpoint': True}\n"
     ]
    },
    {
     "data": {
      "application/vnd.jupyter.widget-view+json": {
       "model_id": "",
       "version_major": 2,
       "version_minor": 0
      },
      "text/plain": [
       "  0%|          | 0/40 [00:00<?, ?it/s]"
      ]
     },
     "metadata": {},
     "output_type": "display_data"
    },
    {
     "name": "stdout",
     "output_type": "stream",
     "text": [
      "Training notebook[+2.7000000] iter 33\n",
      "{'a1': 1.224744871391589, 'a2': 2.7}\n",
      "{'dtype': 'float64', 'device': 'cuda:0', 'max_dim': 16, 'nLayers': 20, 'use_checkpoint': True}\n"
     ]
    },
    {
     "data": {
      "application/vnd.jupyter.widget-view+json": {
       "model_id": "",
       "version_major": 2,
       "version_minor": 0
      },
      "text/plain": [
       "  0%|          | 0/40 [00:00<?, ?it/s]"
      ]
     },
     "metadata": {},
     "output_type": "display_data"
    },
    {
     "name": "stdout",
     "output_type": "stream",
     "text": [
      "Training notebook[+2.9000000] iter 33\n",
      "{'a1': 1.224744871391589, 'a2': 2.9}\n",
      "{'dtype': 'float64', 'device': 'cuda:0', 'max_dim': 16, 'nLayers': 20, 'use_checkpoint': True}\n"
     ]
    },
    {
     "data": {
      "application/vnd.jupyter.widget-view+json": {
       "model_id": "",
       "version_major": 2,
       "version_minor": 0
      },
      "text/plain": [
       "  0%|          | 0/40 [00:00<?, ?it/s]"
      ]
     },
     "metadata": {},
     "output_type": "display_data"
    },
    {
     "name": "stdout",
     "output_type": "stream",
     "text": [
      "Training notebook[+3.1000000] iter 33\n",
      "{'a1': 1.224744871391589, 'a2': 3.1}\n",
      "{'dtype': 'float64', 'device': 'cuda:0', 'max_dim': 16, 'nLayers': 20, 'use_checkpoint': True}\n"
     ]
    },
    {
     "data": {
      "application/vnd.jupyter.widget-view+json": {
       "model_id": "",
       "version_major": 2,
       "version_minor": 0
      },
      "text/plain": [
       "  0%|          | 0/40 [00:00<?, ?it/s]"
      ]
     },
     "metadata": {},
     "output_type": "display_data"
    },
    {
     "name": "stdout",
     "output_type": "stream",
     "text": [
      "Training notebook[+2.5000000] iter 34\n",
      "{'a1': 1.224744871391589, 'a2': 2.5}\n",
      "{'dtype': 'float64', 'device': 'cuda:0', 'max_dim': 16, 'nLayers': 20, 'use_checkpoint': True}\n"
     ]
    },
    {
     "data": {
      "application/vnd.jupyter.widget-view+json": {
       "model_id": "",
       "version_major": 2,
       "version_minor": 0
      },
      "text/plain": [
       "  0%|          | 0/40 [00:00<?, ?it/s]"
      ]
     },
     "metadata": {},
     "output_type": "display_data"
    },
    {
     "name": "stdout",
     "output_type": "stream",
     "text": [
      "Training notebook[+2.7000000] iter 34\n",
      "{'a1': 1.224744871391589, 'a2': 2.7}\n",
      "{'dtype': 'float64', 'device': 'cuda:0', 'max_dim': 16, 'nLayers': 20, 'use_checkpoint': True}\n"
     ]
    },
    {
     "data": {
      "application/vnd.jupyter.widget-view+json": {
       "model_id": "",
       "version_major": 2,
       "version_minor": 0
      },
      "text/plain": [
       "  0%|          | 0/40 [00:00<?, ?it/s]"
      ]
     },
     "metadata": {},
     "output_type": "display_data"
    },
    {
     "name": "stdout",
     "output_type": "stream",
     "text": [
      "Training notebook[+2.9000000] iter 34\n",
      "{'a1': 1.224744871391589, 'a2': 2.9}\n",
      "{'dtype': 'float64', 'device': 'cuda:0', 'max_dim': 16, 'nLayers': 20, 'use_checkpoint': True}\n"
     ]
    },
    {
     "data": {
      "application/vnd.jupyter.widget-view+json": {
       "model_id": "",
       "version_major": 2,
       "version_minor": 0
      },
      "text/plain": [
       "  0%|          | 0/40 [00:00<?, ?it/s]"
      ]
     },
     "metadata": {},
     "output_type": "display_data"
    },
    {
     "name": "stdout",
     "output_type": "stream",
     "text": [
      "Training notebook[+3.1000000] iter 34\n",
      "{'a1': 1.224744871391589, 'a2': 3.1}\n",
      "{'dtype': 'float64', 'device': 'cuda:0', 'max_dim': 16, 'nLayers': 20, 'use_checkpoint': True}\n"
     ]
    },
    {
     "data": {
      "application/vnd.jupyter.widget-view+json": {
       "model_id": "",
       "version_major": 2,
       "version_minor": 0
      },
      "text/plain": [
       "  0%|          | 0/40 [00:00<?, ?it/s]"
      ]
     },
     "metadata": {},
     "output_type": "display_data"
    },
    {
     "name": "stdout",
     "output_type": "stream",
     "text": [
      "Training notebook[+2.5000000] iter 35\n",
      "{'a1': 1.224744871391589, 'a2': 2.5}\n",
      "{'dtype': 'float64', 'device': 'cuda:0', 'max_dim': 16, 'nLayers': 20, 'use_checkpoint': True}\n"
     ]
    },
    {
     "data": {
      "application/vnd.jupyter.widget-view+json": {
       "model_id": "",
       "version_major": 2,
       "version_minor": 0
      },
      "text/plain": [
       "  0%|          | 0/40 [00:00<?, ?it/s]"
      ]
     },
     "metadata": {},
     "output_type": "display_data"
    },
    {
     "name": "stdout",
     "output_type": "stream",
     "text": [
      "Training notebook[+2.7000000] iter 35\n",
      "{'a1': 1.224744871391589, 'a2': 2.7}\n",
      "{'dtype': 'float64', 'device': 'cuda:0', 'max_dim': 16, 'nLayers': 20, 'use_checkpoint': True}\n"
     ]
    },
    {
     "data": {
      "application/vnd.jupyter.widget-view+json": {
       "model_id": "",
       "version_major": 2,
       "version_minor": 0
      },
      "text/plain": [
       "  0%|          | 0/40 [00:00<?, ?it/s]"
      ]
     },
     "metadata": {},
     "output_type": "display_data"
    },
    {
     "name": "stdout",
     "output_type": "stream",
     "text": [
      "Training notebook[+2.9000000] iter 35\n",
      "{'a1': 1.224744871391589, 'a2': 2.9}\n",
      "{'dtype': 'float64', 'device': 'cuda:0', 'max_dim': 16, 'nLayers': 20, 'use_checkpoint': True}\n"
     ]
    },
    {
     "data": {
      "application/vnd.jupyter.widget-view+json": {
       "model_id": "",
       "version_major": 2,
       "version_minor": 0
      },
      "text/plain": [
       "  0%|          | 0/40 [00:00<?, ?it/s]"
      ]
     },
     "metadata": {},
     "output_type": "display_data"
    },
    {
     "name": "stdout",
     "output_type": "stream",
     "text": [
      "Training notebook[+3.1000000] iter 35\n",
      "{'a1': 1.224744871391589, 'a2': 3.1}\n",
      "{'dtype': 'float64', 'device': 'cuda:0', 'max_dim': 16, 'nLayers': 20, 'use_checkpoint': True}\n"
     ]
    },
    {
     "data": {
      "application/vnd.jupyter.widget-view+json": {
       "model_id": "",
       "version_major": 2,
       "version_minor": 0
      },
      "text/plain": [
       "  0%|          | 0/40 [00:00<?, ?it/s]"
      ]
     },
     "metadata": {},
     "output_type": "display_data"
    },
    {
     "name": "stdout",
     "output_type": "stream",
     "text": [
      "Training notebook[+2.5000000] iter 36\n",
      "{'a1': 1.224744871391589, 'a2': 2.5}\n",
      "{'dtype': 'float64', 'device': 'cuda:0', 'max_dim': 16, 'nLayers': 20, 'use_checkpoint': True}\n"
     ]
    },
    {
     "data": {
      "application/vnd.jupyter.widget-view+json": {
       "model_id": "",
       "version_major": 2,
       "version_minor": 0
      },
      "text/plain": [
       "  0%|          | 0/40 [00:00<?, ?it/s]"
      ]
     },
     "metadata": {},
     "output_type": "display_data"
    },
    {
     "name": "stdout",
     "output_type": "stream",
     "text": [
      "Training notebook[+2.7000000] iter 36\n",
      "{'a1': 1.224744871391589, 'a2': 2.7}\n",
      "{'dtype': 'float64', 'device': 'cuda:0', 'max_dim': 16, 'nLayers': 20, 'use_checkpoint': True}\n"
     ]
    },
    {
     "data": {
      "application/vnd.jupyter.widget-view+json": {
       "model_id": "",
       "version_major": 2,
       "version_minor": 0
      },
      "text/plain": [
       "  0%|          | 0/40 [00:00<?, ?it/s]"
      ]
     },
     "metadata": {},
     "output_type": "display_data"
    },
    {
     "name": "stdout",
     "output_type": "stream",
     "text": [
      "Training notebook[+2.9000000] iter 36\n",
      "{'a1': 1.224744871391589, 'a2': 2.9}\n",
      "{'dtype': 'float64', 'device': 'cuda:0', 'max_dim': 16, 'nLayers': 20, 'use_checkpoint': True}\n"
     ]
    },
    {
     "data": {
      "application/vnd.jupyter.widget-view+json": {
       "model_id": "",
       "version_major": 2,
       "version_minor": 0
      },
      "text/plain": [
       "  0%|          | 0/40 [00:00<?, ?it/s]"
      ]
     },
     "metadata": {},
     "output_type": "display_data"
    },
    {
     "name": "stdout",
     "output_type": "stream",
     "text": [
      "Training notebook[+3.1000000] iter 36\n",
      "{'a1': 1.224744871391589, 'a2': 3.1}\n",
      "{'dtype': 'float64', 'device': 'cuda:0', 'max_dim': 16, 'nLayers': 20, 'use_checkpoint': True}\n"
     ]
    },
    {
     "data": {
      "application/vnd.jupyter.widget-view+json": {
       "model_id": "",
       "version_major": 2,
       "version_minor": 0
      },
      "text/plain": [
       "  0%|          | 0/40 [00:00<?, ?it/s]"
      ]
     },
     "metadata": {},
     "output_type": "display_data"
    },
    {
     "name": "stdout",
     "output_type": "stream",
     "text": [
      "Training notebook[+2.5000000] iter 37\n",
      "{'a1': 1.224744871391589, 'a2': 2.5}\n",
      "{'dtype': 'float64', 'device': 'cuda:0', 'max_dim': 16, 'nLayers': 20, 'use_checkpoint': True}\n"
     ]
    },
    {
     "data": {
      "application/vnd.jupyter.widget-view+json": {
       "model_id": "",
       "version_major": 2,
       "version_minor": 0
      },
      "text/plain": [
       "  0%|          | 0/40 [00:00<?, ?it/s]"
      ]
     },
     "metadata": {},
     "output_type": "display_data"
    },
    {
     "name": "stdout",
     "output_type": "stream",
     "text": [
      "Training notebook[+2.7000000] iter 37\n",
      "{'a1': 1.224744871391589, 'a2': 2.7}\n",
      "{'dtype': 'float64', 'device': 'cuda:0', 'max_dim': 16, 'nLayers': 20, 'use_checkpoint': True}\n"
     ]
    },
    {
     "data": {
      "application/vnd.jupyter.widget-view+json": {
       "model_id": "",
       "version_major": 2,
       "version_minor": 0
      },
      "text/plain": [
       "  0%|          | 0/40 [00:00<?, ?it/s]"
      ]
     },
     "metadata": {},
     "output_type": "display_data"
    },
    {
     "name": "stdout",
     "output_type": "stream",
     "text": [
      "Training notebook[+2.9000000] iter 37\n",
      "{'a1': 1.224744871391589, 'a2': 2.9}\n",
      "{'dtype': 'float64', 'device': 'cuda:0', 'max_dim': 16, 'nLayers': 20, 'use_checkpoint': True}\n"
     ]
    },
    {
     "data": {
      "application/vnd.jupyter.widget-view+json": {
       "model_id": "",
       "version_major": 2,
       "version_minor": 0
      },
      "text/plain": [
       "  0%|          | 0/40 [00:00<?, ?it/s]"
      ]
     },
     "metadata": {},
     "output_type": "display_data"
    },
    {
     "name": "stdout",
     "output_type": "stream",
     "text": [
      "Training notebook[+3.1000000] iter 37\n",
      "{'a1': 1.224744871391589, 'a2': 3.1}\n",
      "{'dtype': 'float64', 'device': 'cuda:0', 'max_dim': 16, 'nLayers': 20, 'use_checkpoint': True}\n"
     ]
    },
    {
     "data": {
      "application/vnd.jupyter.widget-view+json": {
       "model_id": "",
       "version_major": 2,
       "version_minor": 0
      },
      "text/plain": [
       "  0%|          | 0/40 [00:00<?, ?it/s]"
      ]
     },
     "metadata": {},
     "output_type": "display_data"
    },
    {
     "name": "stdout",
     "output_type": "stream",
     "text": [
      "Training notebook[+2.5000000] iter 38\n",
      "{'a1': 1.224744871391589, 'a2': 2.5}\n",
      "{'dtype': 'float64', 'device': 'cuda:0', 'max_dim': 16, 'nLayers': 20, 'use_checkpoint': True}\n"
     ]
    },
    {
     "data": {
      "application/vnd.jupyter.widget-view+json": {
       "model_id": "",
       "version_major": 2,
       "version_minor": 0
      },
      "text/plain": [
       "  0%|          | 0/40 [00:00<?, ?it/s]"
      ]
     },
     "metadata": {},
     "output_type": "display_data"
    },
    {
     "name": "stdout",
     "output_type": "stream",
     "text": [
      "Training notebook[+2.7000000] iter 38\n",
      "{'a1': 1.224744871391589, 'a2': 2.7}\n",
      "{'dtype': 'float64', 'device': 'cuda:0', 'max_dim': 16, 'nLayers': 20, 'use_checkpoint': True}\n"
     ]
    },
    {
     "data": {
      "application/vnd.jupyter.widget-view+json": {
       "model_id": "",
       "version_major": 2,
       "version_minor": 0
      },
      "text/plain": [
       "  0%|          | 0/40 [00:00<?, ?it/s]"
      ]
     },
     "metadata": {},
     "output_type": "display_data"
    },
    {
     "name": "stdout",
     "output_type": "stream",
     "text": [
      "Training notebook[+2.9000000] iter 38\n",
      "{'a1': 1.224744871391589, 'a2': 2.9}\n",
      "{'dtype': 'float64', 'device': 'cuda:0', 'max_dim': 16, 'nLayers': 20, 'use_checkpoint': True}\n"
     ]
    },
    {
     "data": {
      "application/vnd.jupyter.widget-view+json": {
       "model_id": "",
       "version_major": 2,
       "version_minor": 0
      },
      "text/plain": [
       "  0%|          | 0/40 [00:00<?, ?it/s]"
      ]
     },
     "metadata": {},
     "output_type": "display_data"
    },
    {
     "name": "stdout",
     "output_type": "stream",
     "text": [
      "Training notebook[+3.1000000] iter 38\n",
      "{'a1': 1.224744871391589, 'a2': 3.1}\n",
      "{'dtype': 'float64', 'device': 'cuda:0', 'max_dim': 16, 'nLayers': 20, 'use_checkpoint': True}\n"
     ]
    },
    {
     "data": {
      "application/vnd.jupyter.widget-view+json": {
       "model_id": "",
       "version_major": 2,
       "version_minor": 0
      },
      "text/plain": [
       "  0%|          | 0/40 [00:00<?, ?it/s]"
      ]
     },
     "metadata": {},
     "output_type": "display_data"
    },
    {
     "name": "stdout",
     "output_type": "stream",
     "text": [
      "Training notebook[+2.5000000] iter 39\n",
      "{'a1': 1.224744871391589, 'a2': 2.5}\n",
      "{'dtype': 'float64', 'device': 'cuda:0', 'max_dim': 16, 'nLayers': 20, 'use_checkpoint': True}\n"
     ]
    },
    {
     "data": {
      "application/vnd.jupyter.widget-view+json": {
       "model_id": "",
       "version_major": 2,
       "version_minor": 0
      },
      "text/plain": [
       "  0%|          | 0/40 [00:00<?, ?it/s]"
      ]
     },
     "metadata": {},
     "output_type": "display_data"
    },
    {
     "name": "stdout",
     "output_type": "stream",
     "text": [
      "Training notebook[+2.7000000] iter 39\n",
      "{'a1': 1.224744871391589, 'a2': 2.7}\n",
      "{'dtype': 'float64', 'device': 'cuda:0', 'max_dim': 16, 'nLayers': 20, 'use_checkpoint': True}\n"
     ]
    },
    {
     "data": {
      "application/vnd.jupyter.widget-view+json": {
       "model_id": "",
       "version_major": 2,
       "version_minor": 0
      },
      "text/plain": [
       "  0%|          | 0/40 [00:00<?, ?it/s]"
      ]
     },
     "metadata": {},
     "output_type": "display_data"
    },
    {
     "name": "stdout",
     "output_type": "stream",
     "text": [
      "Training notebook[+2.9000000] iter 39\n",
      "{'a1': 1.224744871391589, 'a2': 2.9}\n",
      "{'dtype': 'float64', 'device': 'cuda:0', 'max_dim': 16, 'nLayers': 20, 'use_checkpoint': True}\n"
     ]
    },
    {
     "data": {
      "application/vnd.jupyter.widget-view+json": {
       "model_id": "",
       "version_major": 2,
       "version_minor": 0
      },
      "text/plain": [
       "  0%|          | 0/40 [00:00<?, ?it/s]"
      ]
     },
     "metadata": {},
     "output_type": "display_data"
    },
    {
     "name": "stdout",
     "output_type": "stream",
     "text": [
      "Training notebook[+3.1000000] iter 39\n",
      "{'a1': 1.224744871391589, 'a2': 3.1}\n",
      "{'dtype': 'float64', 'device': 'cuda:0', 'max_dim': 16, 'nLayers': 20, 'use_checkpoint': True}\n"
     ]
    },
    {
     "data": {
      "application/vnd.jupyter.widget-view+json": {
       "model_id": "",
       "version_major": 2,
       "version_minor": 0
      },
      "text/plain": [
       "  0%|          | 0/40 [00:00<?, ?it/s]"
      ]
     },
     "metadata": {},
     "output_type": "display_data"
    },
    {
     "name": "stdout",
     "output_type": "stream",
     "text": [
      "Training notebook[+2.5000000] iter 40\n",
      "{'a1': 1.224744871391589, 'a2': 2.5}\n",
      "{'dtype': 'float64', 'device': 'cuda:0', 'max_dim': 16, 'nLayers': 20, 'use_checkpoint': True}\n"
     ]
    },
    {
     "data": {
      "application/vnd.jupyter.widget-view+json": {
       "model_id": "",
       "version_major": 2,
       "version_minor": 0
      },
      "text/plain": [
       "  0%|          | 0/40 [00:00<?, ?it/s]"
      ]
     },
     "metadata": {},
     "output_type": "display_data"
    },
    {
     "name": "stdout",
     "output_type": "stream",
     "text": [
      "Training notebook[+2.7000000] iter 40\n",
      "{'a1': 1.224744871391589, 'a2': 2.7}\n",
      "{'dtype': 'float64', 'device': 'cuda:0', 'max_dim': 16, 'nLayers': 20, 'use_checkpoint': True}\n"
     ]
    },
    {
     "data": {
      "application/vnd.jupyter.widget-view+json": {
       "model_id": "",
       "version_major": 2,
       "version_minor": 0
      },
      "text/plain": [
       "  0%|          | 0/40 [00:00<?, ?it/s]"
      ]
     },
     "metadata": {},
     "output_type": "display_data"
    },
    {
     "name": "stdout",
     "output_type": "stream",
     "text": [
      "Training notebook[+2.9000000] iter 40\n",
      "{'a1': 1.224744871391589, 'a2': 2.9}\n",
      "{'dtype': 'float64', 'device': 'cuda:0', 'max_dim': 16, 'nLayers': 20, 'use_checkpoint': True}\n"
     ]
    },
    {
     "data": {
      "application/vnd.jupyter.widget-view+json": {
       "model_id": "",
       "version_major": 2,
       "version_minor": 0
      },
      "text/plain": [
       "  0%|          | 0/40 [00:00<?, ?it/s]"
      ]
     },
     "metadata": {},
     "output_type": "display_data"
    },
    {
     "name": "stdout",
     "output_type": "stream",
     "text": [
      "Training notebook[+3.1000000] iter 40\n",
      "{'a1': 1.224744871391589, 'a2': 3.1}\n",
      "{'dtype': 'float64', 'device': 'cuda:0', 'max_dim': 16, 'nLayers': 20, 'use_checkpoint': True}\n"
     ]
    },
    {
     "data": {
      "application/vnd.jupyter.widget-view+json": {
       "model_id": "",
       "version_major": 2,
       "version_minor": 0
      },
      "text/plain": [
       "  0%|          | 0/40 [00:00<?, ?it/s]"
      ]
     },
     "metadata": {},
     "output_type": "display_data"
    },
    {
     "name": "stdout",
     "output_type": "stream",
     "text": [
      "Training notebook[+2.5000000] iter 41\n",
      "{'a1': 1.224744871391589, 'a2': 2.5}\n",
      "{'dtype': 'float64', 'device': 'cuda:0', 'max_dim': 16, 'nLayers': 20, 'use_checkpoint': True}\n"
     ]
    },
    {
     "data": {
      "application/vnd.jupyter.widget-view+json": {
       "model_id": "",
       "version_major": 2,
       "version_minor": 0
      },
      "text/plain": [
       "  0%|          | 0/40 [00:00<?, ?it/s]"
      ]
     },
     "metadata": {},
     "output_type": "display_data"
    },
    {
     "name": "stdout",
     "output_type": "stream",
     "text": [
      "Training notebook[+2.7000000] iter 41\n",
      "{'a1': 1.224744871391589, 'a2': 2.7}\n",
      "{'dtype': 'float64', 'device': 'cuda:0', 'max_dim': 16, 'nLayers': 20, 'use_checkpoint': True}\n"
     ]
    },
    {
     "data": {
      "application/vnd.jupyter.widget-view+json": {
       "model_id": "",
       "version_major": 2,
       "version_minor": 0
      },
      "text/plain": [
       "  0%|          | 0/40 [00:00<?, ?it/s]"
      ]
     },
     "metadata": {},
     "output_type": "display_data"
    },
    {
     "name": "stdout",
     "output_type": "stream",
     "text": [
      "Training notebook[+2.9000000] iter 41\n",
      "{'a1': 1.224744871391589, 'a2': 2.9}\n",
      "{'dtype': 'float64', 'device': 'cuda:0', 'max_dim': 16, 'nLayers': 20, 'use_checkpoint': True}\n"
     ]
    },
    {
     "data": {
      "application/vnd.jupyter.widget-view+json": {
       "model_id": "",
       "version_major": 2,
       "version_minor": 0
      },
      "text/plain": [
       "  0%|          | 0/40 [00:00<?, ?it/s]"
      ]
     },
     "metadata": {},
     "output_type": "display_data"
    },
    {
     "name": "stdout",
     "output_type": "stream",
     "text": [
      "Training notebook[+3.1000000] iter 41\n",
      "{'a1': 1.224744871391589, 'a2': 3.1}\n",
      "{'dtype': 'float64', 'device': 'cuda:0', 'max_dim': 16, 'nLayers': 20, 'use_checkpoint': True}\n"
     ]
    },
    {
     "data": {
      "application/vnd.jupyter.widget-view+json": {
       "model_id": "",
       "version_major": 2,
       "version_minor": 0
      },
      "text/plain": [
       "  0%|          | 0/40 [00:00<?, ?it/s]"
      ]
     },
     "metadata": {},
     "output_type": "display_data"
    },
    {
     "name": "stdout",
     "output_type": "stream",
     "text": [
      "Training notebook[+2.5000000] iter 42\n",
      "{'a1': 1.224744871391589, 'a2': 2.5}\n",
      "{'dtype': 'float64', 'device': 'cuda:0', 'max_dim': 16, 'nLayers': 20, 'use_checkpoint': True}\n"
     ]
    },
    {
     "data": {
      "application/vnd.jupyter.widget-view+json": {
       "model_id": "",
       "version_major": 2,
       "version_minor": 0
      },
      "text/plain": [
       "  0%|          | 0/40 [00:00<?, ?it/s]"
      ]
     },
     "metadata": {},
     "output_type": "display_data"
    },
    {
     "name": "stdout",
     "output_type": "stream",
     "text": [
      "Training notebook[+2.7000000] iter 42\n",
      "{'a1': 1.224744871391589, 'a2': 2.7}\n",
      "{'dtype': 'float64', 'device': 'cuda:0', 'max_dim': 16, 'nLayers': 20, 'use_checkpoint': True}\n"
     ]
    },
    {
     "data": {
      "application/vnd.jupyter.widget-view+json": {
       "model_id": "",
       "version_major": 2,
       "version_minor": 0
      },
      "text/plain": [
       "  0%|          | 0/40 [00:00<?, ?it/s]"
      ]
     },
     "metadata": {},
     "output_type": "display_data"
    },
    {
     "name": "stdout",
     "output_type": "stream",
     "text": [
      "Training notebook[+2.9000000] iter 42\n",
      "{'a1': 1.224744871391589, 'a2': 2.9}\n",
      "{'dtype': 'float64', 'device': 'cuda:0', 'max_dim': 16, 'nLayers': 20, 'use_checkpoint': True}\n"
     ]
    },
    {
     "data": {
      "application/vnd.jupyter.widget-view+json": {
       "model_id": "",
       "version_major": 2,
       "version_minor": 0
      },
      "text/plain": [
       "  0%|          | 0/40 [00:00<?, ?it/s]"
      ]
     },
     "metadata": {},
     "output_type": "display_data"
    },
    {
     "name": "stdout",
     "output_type": "stream",
     "text": [
      "Training notebook[+3.1000000] iter 42\n",
      "{'a1': 1.224744871391589, 'a2': 3.1}\n",
      "{'dtype': 'float64', 'device': 'cuda:0', 'max_dim': 16, 'nLayers': 20, 'use_checkpoint': True}\n"
     ]
    },
    {
     "data": {
      "application/vnd.jupyter.widget-view+json": {
       "model_id": "",
       "version_major": 2,
       "version_minor": 0
      },
      "text/plain": [
       "  0%|          | 0/40 [00:00<?, ?it/s]"
      ]
     },
     "metadata": {},
     "output_type": "display_data"
    },
    {
     "name": "stdout",
     "output_type": "stream",
     "text": [
      "Training notebook[+2.5000000] iter 43\n",
      "{'a1': 1.224744871391589, 'a2': 2.5}\n",
      "{'dtype': 'float64', 'device': 'cuda:0', 'max_dim': 16, 'nLayers': 20, 'use_checkpoint': True}\n"
     ]
    },
    {
     "data": {
      "application/vnd.jupyter.widget-view+json": {
       "model_id": "",
       "version_major": 2,
       "version_minor": 0
      },
      "text/plain": [
       "  0%|          | 0/40 [00:00<?, ?it/s]"
      ]
     },
     "metadata": {},
     "output_type": "display_data"
    },
    {
     "name": "stdout",
     "output_type": "stream",
     "text": [
      "Training notebook[+2.7000000] iter 43\n",
      "{'a1': 1.224744871391589, 'a2': 2.7}\n",
      "{'dtype': 'float64', 'device': 'cuda:0', 'max_dim': 16, 'nLayers': 20, 'use_checkpoint': True}\n"
     ]
    },
    {
     "data": {
      "application/vnd.jupyter.widget-view+json": {
       "model_id": "",
       "version_major": 2,
       "version_minor": 0
      },
      "text/plain": [
       "  0%|          | 0/40 [00:00<?, ?it/s]"
      ]
     },
     "metadata": {},
     "output_type": "display_data"
    },
    {
     "name": "stdout",
     "output_type": "stream",
     "text": [
      "Training notebook[+2.9000000] iter 43\n",
      "{'a1': 1.224744871391589, 'a2': 2.9}\n",
      "{'dtype': 'float64', 'device': 'cuda:0', 'max_dim': 16, 'nLayers': 20, 'use_checkpoint': True}\n"
     ]
    },
    {
     "data": {
      "application/vnd.jupyter.widget-view+json": {
       "model_id": "",
       "version_major": 2,
       "version_minor": 0
      },
      "text/plain": [
       "  0%|          | 0/40 [00:00<?, ?it/s]"
      ]
     },
     "metadata": {},
     "output_type": "display_data"
    },
    {
     "name": "stdout",
     "output_type": "stream",
     "text": [
      "Training notebook[+3.1000000] iter 43\n",
      "{'a1': 1.224744871391589, 'a2': 3.1}\n",
      "{'dtype': 'float64', 'device': 'cuda:0', 'max_dim': 16, 'nLayers': 20, 'use_checkpoint': True}\n"
     ]
    },
    {
     "data": {
      "application/vnd.jupyter.widget-view+json": {
       "model_id": "",
       "version_major": 2,
       "version_minor": 0
      },
      "text/plain": [
       "  0%|          | 0/40 [00:00<?, ?it/s]"
      ]
     },
     "metadata": {},
     "output_type": "display_data"
    },
    {
     "name": "stdout",
     "output_type": "stream",
     "text": [
      "Training notebook[+2.5000000] iter 44\n",
      "{'a1': 1.224744871391589, 'a2': 2.5}\n",
      "{'dtype': 'float64', 'device': 'cuda:0', 'max_dim': 16, 'nLayers': 20, 'use_checkpoint': True}\n"
     ]
    },
    {
     "data": {
      "application/vnd.jupyter.widget-view+json": {
       "model_id": "",
       "version_major": 2,
       "version_minor": 0
      },
      "text/plain": [
       "  0%|          | 0/40 [00:00<?, ?it/s]"
      ]
     },
     "metadata": {},
     "output_type": "display_data"
    },
    {
     "name": "stdout",
     "output_type": "stream",
     "text": [
      "Training notebook[+2.7000000] iter 44\n",
      "{'a1': 1.224744871391589, 'a2': 2.7}\n",
      "{'dtype': 'float64', 'device': 'cuda:0', 'max_dim': 16, 'nLayers': 20, 'use_checkpoint': True}\n"
     ]
    },
    {
     "data": {
      "application/vnd.jupyter.widget-view+json": {
       "model_id": "",
       "version_major": 2,
       "version_minor": 0
      },
      "text/plain": [
       "  0%|          | 0/40 [00:00<?, ?it/s]"
      ]
     },
     "metadata": {},
     "output_type": "display_data"
    },
    {
     "name": "stdout",
     "output_type": "stream",
     "text": [
      "Training notebook[+2.9000000] iter 44\n",
      "{'a1': 1.224744871391589, 'a2': 2.9}\n",
      "{'dtype': 'float64', 'device': 'cuda:0', 'max_dim': 16, 'nLayers': 20, 'use_checkpoint': True}\n"
     ]
    },
    {
     "data": {
      "application/vnd.jupyter.widget-view+json": {
       "model_id": "",
       "version_major": 2,
       "version_minor": 0
      },
      "text/plain": [
       "  0%|          | 0/40 [00:00<?, ?it/s]"
      ]
     },
     "metadata": {},
     "output_type": "display_data"
    },
    {
     "name": "stdout",
     "output_type": "stream",
     "text": [
      "Training notebook[+3.1000000] iter 44\n",
      "{'a1': 1.224744871391589, 'a2': 3.1}\n",
      "{'dtype': 'float64', 'device': 'cuda:0', 'max_dim': 16, 'nLayers': 20, 'use_checkpoint': True}\n"
     ]
    },
    {
     "data": {
      "application/vnd.jupyter.widget-view+json": {
       "model_id": "",
       "version_major": 2,
       "version_minor": 0
      },
      "text/plain": [
       "  0%|          | 0/40 [00:00<?, ?it/s]"
      ]
     },
     "metadata": {},
     "output_type": "display_data"
    },
    {
     "name": "stdout",
     "output_type": "stream",
     "text": [
      "Training notebook[+2.5000000] iter 45\n",
      "{'a1': 1.224744871391589, 'a2': 2.5}\n",
      "{'dtype': 'float64', 'device': 'cuda:0', 'max_dim': 16, 'nLayers': 20, 'use_checkpoint': True}\n"
     ]
    },
    {
     "data": {
      "application/vnd.jupyter.widget-view+json": {
       "model_id": "",
       "version_major": 2,
       "version_minor": 0
      },
      "text/plain": [
       "  0%|          | 0/40 [00:00<?, ?it/s]"
      ]
     },
     "metadata": {},
     "output_type": "display_data"
    },
    {
     "name": "stdout",
     "output_type": "stream",
     "text": [
      "Training notebook[+2.7000000] iter 45\n",
      "{'a1': 1.224744871391589, 'a2': 2.7}\n",
      "{'dtype': 'float64', 'device': 'cuda:0', 'max_dim': 16, 'nLayers': 20, 'use_checkpoint': True}\n"
     ]
    },
    {
     "data": {
      "application/vnd.jupyter.widget-view+json": {
       "model_id": "",
       "version_major": 2,
       "version_minor": 0
      },
      "text/plain": [
       "  0%|          | 0/40 [00:00<?, ?it/s]"
      ]
     },
     "metadata": {},
     "output_type": "display_data"
    },
    {
     "name": "stdout",
     "output_type": "stream",
     "text": [
      "Training notebook[+2.9000000] iter 45\n",
      "{'a1': 1.224744871391589, 'a2': 2.9}\n",
      "{'dtype': 'float64', 'device': 'cuda:0', 'max_dim': 16, 'nLayers': 20, 'use_checkpoint': True}\n"
     ]
    },
    {
     "data": {
      "application/vnd.jupyter.widget-view+json": {
       "model_id": "",
       "version_major": 2,
       "version_minor": 0
      },
      "text/plain": [
       "  0%|          | 0/40 [00:00<?, ?it/s]"
      ]
     },
     "metadata": {},
     "output_type": "display_data"
    },
    {
     "name": "stdout",
     "output_type": "stream",
     "text": [
      "Training notebook[+3.1000000] iter 45\n",
      "{'a1': 1.224744871391589, 'a2': 3.1}\n",
      "{'dtype': 'float64', 'device': 'cuda:0', 'max_dim': 16, 'nLayers': 20, 'use_checkpoint': True}\n"
     ]
    },
    {
     "data": {
      "application/vnd.jupyter.widget-view+json": {
       "model_id": "",
       "version_major": 2,
       "version_minor": 0
      },
      "text/plain": [
       "  0%|          | 0/40 [00:00<?, ?it/s]"
      ]
     },
     "metadata": {},
     "output_type": "display_data"
    },
    {
     "name": "stdout",
     "output_type": "stream",
     "text": [
      "Training notebook[+2.5000000] iter 46\n",
      "{'a1': 1.224744871391589, 'a2': 2.5}\n",
      "{'dtype': 'float64', 'device': 'cuda:0', 'max_dim': 16, 'nLayers': 20, 'use_checkpoint': True}\n"
     ]
    },
    {
     "data": {
      "application/vnd.jupyter.widget-view+json": {
       "model_id": "",
       "version_major": 2,
       "version_minor": 0
      },
      "text/plain": [
       "  0%|          | 0/40 [00:00<?, ?it/s]"
      ]
     },
     "metadata": {},
     "output_type": "display_data"
    },
    {
     "name": "stdout",
     "output_type": "stream",
     "text": [
      "Training notebook[+2.7000000] iter 46\n",
      "{'a1': 1.224744871391589, 'a2': 2.7}\n",
      "{'dtype': 'float64', 'device': 'cuda:0', 'max_dim': 16, 'nLayers': 20, 'use_checkpoint': True}\n"
     ]
    },
    {
     "data": {
      "application/vnd.jupyter.widget-view+json": {
       "model_id": "",
       "version_major": 2,
       "version_minor": 0
      },
      "text/plain": [
       "  0%|          | 0/40 [00:00<?, ?it/s]"
      ]
     },
     "metadata": {},
     "output_type": "display_data"
    },
    {
     "name": "stdout",
     "output_type": "stream",
     "text": [
      "Training notebook[+2.9000000] iter 46\n",
      "{'a1': 1.224744871391589, 'a2': 2.9}\n",
      "{'dtype': 'float64', 'device': 'cuda:0', 'max_dim': 16, 'nLayers': 20, 'use_checkpoint': True}\n"
     ]
    },
    {
     "data": {
      "application/vnd.jupyter.widget-view+json": {
       "model_id": "",
       "version_major": 2,
       "version_minor": 0
      },
      "text/plain": [
       "  0%|          | 0/40 [00:00<?, ?it/s]"
      ]
     },
     "metadata": {},
     "output_type": "display_data"
    },
    {
     "name": "stdout",
     "output_type": "stream",
     "text": [
      "Training notebook[+3.1000000] iter 46\n",
      "{'a1': 1.224744871391589, 'a2': 3.1}\n",
      "{'dtype': 'float64', 'device': 'cuda:0', 'max_dim': 16, 'nLayers': 20, 'use_checkpoint': True}\n"
     ]
    },
    {
     "data": {
      "application/vnd.jupyter.widget-view+json": {
       "model_id": "",
       "version_major": 2,
       "version_minor": 0
      },
      "text/plain": [
       "  0%|          | 0/40 [00:00<?, ?it/s]"
      ]
     },
     "metadata": {},
     "output_type": "display_data"
    },
    {
     "name": "stdout",
     "output_type": "stream",
     "text": [
      "Training notebook[+2.5000000] iter 47\n",
      "{'a1': 1.224744871391589, 'a2': 2.5}\n",
      "{'dtype': 'float64', 'device': 'cuda:0', 'max_dim': 16, 'nLayers': 20, 'use_checkpoint': True}\n"
     ]
    },
    {
     "data": {
      "application/vnd.jupyter.widget-view+json": {
       "model_id": "",
       "version_major": 2,
       "version_minor": 0
      },
      "text/plain": [
       "  0%|          | 0/40 [00:00<?, ?it/s]"
      ]
     },
     "metadata": {},
     "output_type": "display_data"
    },
    {
     "name": "stdout",
     "output_type": "stream",
     "text": [
      "Training notebook[+2.7000000] iter 47\n",
      "{'a1': 1.224744871391589, 'a2': 2.7}\n",
      "{'dtype': 'float64', 'device': 'cuda:0', 'max_dim': 16, 'nLayers': 20, 'use_checkpoint': True}\n"
     ]
    },
    {
     "data": {
      "application/vnd.jupyter.widget-view+json": {
       "model_id": "",
       "version_major": 2,
       "version_minor": 0
      },
      "text/plain": [
       "  0%|          | 0/40 [00:00<?, ?it/s]"
      ]
     },
     "metadata": {},
     "output_type": "display_data"
    },
    {
     "name": "stdout",
     "output_type": "stream",
     "text": [
      "Training notebook[+2.9000000] iter 47\n",
      "{'a1': 1.224744871391589, 'a2': 2.9}\n",
      "{'dtype': 'float64', 'device': 'cuda:0', 'max_dim': 16, 'nLayers': 20, 'use_checkpoint': True}\n"
     ]
    },
    {
     "data": {
      "application/vnd.jupyter.widget-view+json": {
       "model_id": "",
       "version_major": 2,
       "version_minor": 0
      },
      "text/plain": [
       "  0%|          | 0/40 [00:00<?, ?it/s]"
      ]
     },
     "metadata": {},
     "output_type": "display_data"
    },
    {
     "name": "stdout",
     "output_type": "stream",
     "text": [
      "Training notebook[+3.1000000] iter 47\n",
      "{'a1': 1.224744871391589, 'a2': 3.1}\n",
      "{'dtype': 'float64', 'device': 'cuda:0', 'max_dim': 16, 'nLayers': 20, 'use_checkpoint': True}\n"
     ]
    },
    {
     "data": {
      "application/vnd.jupyter.widget-view+json": {
       "model_id": "",
       "version_major": 2,
       "version_minor": 0
      },
      "text/plain": [
       "  0%|          | 0/40 [00:00<?, ?it/s]"
      ]
     },
     "metadata": {},
     "output_type": "display_data"
    },
    {
     "name": "stdout",
     "output_type": "stream",
     "text": [
      "Training notebook[+2.5000000] iter 48\n",
      "{'a1': 1.224744871391589, 'a2': 2.5}\n",
      "{'dtype': 'float64', 'device': 'cuda:0', 'max_dim': 16, 'nLayers': 20, 'use_checkpoint': True}\n"
     ]
    },
    {
     "data": {
      "application/vnd.jupyter.widget-view+json": {
       "model_id": "",
       "version_major": 2,
       "version_minor": 0
      },
      "text/plain": [
       "  0%|          | 0/40 [00:00<?, ?it/s]"
      ]
     },
     "metadata": {},
     "output_type": "display_data"
    },
    {
     "name": "stdout",
     "output_type": "stream",
     "text": [
      "Training notebook[+2.7000000] iter 48\n",
      "{'a1': 1.224744871391589, 'a2': 2.7}\n",
      "{'dtype': 'float64', 'device': 'cuda:0', 'max_dim': 16, 'nLayers': 20, 'use_checkpoint': True}\n"
     ]
    },
    {
     "data": {
      "application/vnd.jupyter.widget-view+json": {
       "model_id": "",
       "version_major": 2,
       "version_minor": 0
      },
      "text/plain": [
       "  0%|          | 0/40 [00:00<?, ?it/s]"
      ]
     },
     "metadata": {},
     "output_type": "display_data"
    },
    {
     "name": "stdout",
     "output_type": "stream",
     "text": [
      "Training notebook[+2.9000000] iter 48\n",
      "{'a1': 1.224744871391589, 'a2': 2.9}\n",
      "{'dtype': 'float64', 'device': 'cuda:0', 'max_dim': 16, 'nLayers': 20, 'use_checkpoint': True}\n"
     ]
    },
    {
     "data": {
      "application/vnd.jupyter.widget-view+json": {
       "model_id": "",
       "version_major": 2,
       "version_minor": 0
      },
      "text/plain": [
       "  0%|          | 0/40 [00:00<?, ?it/s]"
      ]
     },
     "metadata": {},
     "output_type": "display_data"
    },
    {
     "name": "stdout",
     "output_type": "stream",
     "text": [
      "Training notebook[+3.1000000] iter 48\n",
      "{'a1': 1.224744871391589, 'a2': 3.1}\n",
      "{'dtype': 'float64', 'device': 'cuda:0', 'max_dim': 16, 'nLayers': 20, 'use_checkpoint': True}\n"
     ]
    },
    {
     "data": {
      "application/vnd.jupyter.widget-view+json": {
       "model_id": "",
       "version_major": 2,
       "version_minor": 0
      },
      "text/plain": [
       "  0%|          | 0/40 [00:00<?, ?it/s]"
      ]
     },
     "metadata": {},
     "output_type": "display_data"
    },
    {
     "name": "stdout",
     "output_type": "stream",
     "text": [
      "Training notebook[+2.5000000] iter 49\n",
      "{'a1': 1.224744871391589, 'a2': 2.5}\n",
      "{'dtype': 'float64', 'device': 'cuda:0', 'max_dim': 16, 'nLayers': 20, 'use_checkpoint': True}\n"
     ]
    },
    {
     "data": {
      "application/vnd.jupyter.widget-view+json": {
       "model_id": "",
       "version_major": 2,
       "version_minor": 0
      },
      "text/plain": [
       "  0%|          | 0/40 [00:00<?, ?it/s]"
      ]
     },
     "metadata": {},
     "output_type": "display_data"
    },
    {
     "name": "stdout",
     "output_type": "stream",
     "text": [
      "Training notebook[+2.7000000] iter 49\n",
      "{'a1': 1.224744871391589, 'a2': 2.7}\n",
      "{'dtype': 'float64', 'device': 'cuda:0', 'max_dim': 16, 'nLayers': 20, 'use_checkpoint': True}\n"
     ]
    },
    {
     "data": {
      "application/vnd.jupyter.widget-view+json": {
       "model_id": "",
       "version_major": 2,
       "version_minor": 0
      },
      "text/plain": [
       "  0%|          | 0/40 [00:00<?, ?it/s]"
      ]
     },
     "metadata": {},
     "output_type": "display_data"
    },
    {
     "name": "stdout",
     "output_type": "stream",
     "text": [
      "Training notebook[+2.9000000] iter 49\n",
      "{'a1': 1.224744871391589, 'a2': 2.9}\n",
      "{'dtype': 'float64', 'device': 'cuda:0', 'max_dim': 16, 'nLayers': 20, 'use_checkpoint': True}\n"
     ]
    },
    {
     "data": {
      "application/vnd.jupyter.widget-view+json": {
       "model_id": "",
       "version_major": 2,
       "version_minor": 0
      },
      "text/plain": [
       "  0%|          | 0/40 [00:00<?, ?it/s]"
      ]
     },
     "metadata": {},
     "output_type": "display_data"
    },
    {
     "name": "stdout",
     "output_type": "stream",
     "text": [
      "Training notebook[+3.1000000] iter 49\n",
      "{'a1': 1.224744871391589, 'a2': 3.1}\n",
      "{'dtype': 'float64', 'device': 'cuda:0', 'max_dim': 16, 'nLayers': 20, 'use_checkpoint': True}\n"
     ]
    },
    {
     "data": {
      "application/vnd.jupyter.widget-view+json": {
       "model_id": "",
       "version_major": 2,
       "version_minor": 0
      },
      "text/plain": [
       "  0%|          | 0/40 [00:00<?, ?it/s]"
      ]
     },
     "metadata": {},
     "output_type": "display_data"
    },
    {
     "name": "stdout",
     "output_type": "stream",
     "text": [
      "Training notebook[+2.5000000] iter 50\n",
      "{'a1': 1.224744871391589, 'a2': 2.5}\n",
      "{'dtype': 'float64', 'device': 'cuda:0', 'max_dim': 16, 'nLayers': 20, 'use_checkpoint': True}\n"
     ]
    },
    {
     "data": {
      "application/vnd.jupyter.widget-view+json": {
       "model_id": "",
       "version_major": 2,
       "version_minor": 0
      },
      "text/plain": [
       "  0%|          | 0/40 [00:00<?, ?it/s]"
      ]
     },
     "metadata": {},
     "output_type": "display_data"
    },
    {
     "name": "stdout",
     "output_type": "stream",
     "text": [
      "Training notebook[+2.7000000] iter 50\n",
      "{'a1': 1.224744871391589, 'a2': 2.7}\n",
      "{'dtype': 'float64', 'device': 'cuda:0', 'max_dim': 16, 'nLayers': 20, 'use_checkpoint': True}\n"
     ]
    },
    {
     "data": {
      "application/vnd.jupyter.widget-view+json": {
       "model_id": "",
       "version_major": 2,
       "version_minor": 0
      },
      "text/plain": [
       "  0%|          | 0/40 [00:00<?, ?it/s]"
      ]
     },
     "metadata": {},
     "output_type": "display_data"
    },
    {
     "name": "stdout",
     "output_type": "stream",
     "text": [
      "Training notebook[+2.9000000] iter 50\n",
      "{'a1': 1.224744871391589, 'a2': 2.9}\n",
      "{'dtype': 'float64', 'device': 'cuda:0', 'max_dim': 16, 'nLayers': 20, 'use_checkpoint': True}\n"
     ]
    },
    {
     "data": {
      "application/vnd.jupyter.widget-view+json": {
       "model_id": "",
       "version_major": 2,
       "version_minor": 0
      },
      "text/plain": [
       "  0%|          | 0/40 [00:00<?, ?it/s]"
      ]
     },
     "metadata": {},
     "output_type": "display_data"
    },
    {
     "name": "stdout",
     "output_type": "stream",
     "text": [
      "Training notebook[+3.1000000] iter 50\n",
      "{'a1': 1.224744871391589, 'a2': 3.1}\n",
      "{'dtype': 'float64', 'device': 'cuda:0', 'max_dim': 16, 'nLayers': 20, 'use_checkpoint': True}\n"
     ]
    },
    {
     "data": {
      "application/vnd.jupyter.widget-view+json": {
       "model_id": "",
       "version_major": 2,
       "version_minor": 0
      },
      "text/plain": [
       "  0%|          | 0/40 [00:00<?, ?it/s]"
      ]
     },
     "metadata": {},
     "output_type": "display_data"
    },
    {
     "name": "stdout",
     "output_type": "stream",
     "text": [
      "Training notebook[+2.5000000] iter 51\n",
      "{'a1': 1.224744871391589, 'a2': 2.5}\n",
      "{'dtype': 'float64', 'device': 'cuda:0', 'max_dim': 16, 'nLayers': 20, 'use_checkpoint': True}\n"
     ]
    },
    {
     "data": {
      "application/vnd.jupyter.widget-view+json": {
       "model_id": "",
       "version_major": 2,
       "version_minor": 0
      },
      "text/plain": [
       "  0%|          | 0/40 [00:00<?, ?it/s]"
      ]
     },
     "metadata": {},
     "output_type": "display_data"
    },
    {
     "name": "stdout",
     "output_type": "stream",
     "text": [
      "Training notebook[+2.7000000] iter 51\n",
      "{'a1': 1.224744871391589, 'a2': 2.7}\n",
      "{'dtype': 'float64', 'device': 'cuda:0', 'max_dim': 16, 'nLayers': 20, 'use_checkpoint': True}\n"
     ]
    },
    {
     "data": {
      "application/vnd.jupyter.widget-view+json": {
       "model_id": "",
       "version_major": 2,
       "version_minor": 0
      },
      "text/plain": [
       "  0%|          | 0/40 [00:00<?, ?it/s]"
      ]
     },
     "metadata": {},
     "output_type": "display_data"
    },
    {
     "name": "stdout",
     "output_type": "stream",
     "text": [
      "Training notebook[+2.9000000] iter 51\n",
      "{'a1': 1.224744871391589, 'a2': 2.9}\n",
      "{'dtype': 'float64', 'device': 'cuda:0', 'max_dim': 16, 'nLayers': 20, 'use_checkpoint': True}\n"
     ]
    },
    {
     "data": {
      "application/vnd.jupyter.widget-view+json": {
       "model_id": "",
       "version_major": 2,
       "version_minor": 0
      },
      "text/plain": [
       "  0%|          | 0/40 [00:00<?, ?it/s]"
      ]
     },
     "metadata": {},
     "output_type": "display_data"
    },
    {
     "name": "stdout",
     "output_type": "stream",
     "text": [
      "Training notebook[+3.1000000] iter 51\n",
      "{'a1': 1.224744871391589, 'a2': 3.1}\n",
      "{'dtype': 'float64', 'device': 'cuda:0', 'max_dim': 16, 'nLayers': 20, 'use_checkpoint': True}\n"
     ]
    },
    {
     "data": {
      "application/vnd.jupyter.widget-view+json": {
       "model_id": "",
       "version_major": 2,
       "version_minor": 0
      },
      "text/plain": [
       "  0%|          | 0/40 [00:00<?, ?it/s]"
      ]
     },
     "metadata": {},
     "output_type": "display_data"
    },
    {
     "name": "stdout",
     "output_type": "stream",
     "text": [
      "Training notebook[+2.5000000] iter 52\n",
      "{'a1': 1.224744871391589, 'a2': 2.5}\n",
      "{'dtype': 'float64', 'device': 'cuda:0', 'max_dim': 16, 'nLayers': 20, 'use_checkpoint': True}\n"
     ]
    },
    {
     "data": {
      "application/vnd.jupyter.widget-view+json": {
       "model_id": "",
       "version_major": 2,
       "version_minor": 0
      },
      "text/plain": [
       "  0%|          | 0/40 [00:00<?, ?it/s]"
      ]
     },
     "metadata": {},
     "output_type": "display_data"
    },
    {
     "name": "stdout",
     "output_type": "stream",
     "text": [
      "Training notebook[+2.7000000] iter 52\n",
      "{'a1': 1.224744871391589, 'a2': 2.7}\n",
      "{'dtype': 'float64', 'device': 'cuda:0', 'max_dim': 16, 'nLayers': 20, 'use_checkpoint': True}\n"
     ]
    },
    {
     "data": {
      "application/vnd.jupyter.widget-view+json": {
       "model_id": "",
       "version_major": 2,
       "version_minor": 0
      },
      "text/plain": [
       "  0%|          | 0/40 [00:00<?, ?it/s]"
      ]
     },
     "metadata": {},
     "output_type": "display_data"
    },
    {
     "name": "stdout",
     "output_type": "stream",
     "text": [
      "Training notebook[+2.9000000] iter 52\n",
      "{'a1': 1.224744871391589, 'a2': 2.9}\n",
      "{'dtype': 'float64', 'device': 'cuda:0', 'max_dim': 16, 'nLayers': 20, 'use_checkpoint': True}\n"
     ]
    },
    {
     "data": {
      "application/vnd.jupyter.widget-view+json": {
       "model_id": "",
       "version_major": 2,
       "version_minor": 0
      },
      "text/plain": [
       "  0%|          | 0/40 [00:00<?, ?it/s]"
      ]
     },
     "metadata": {},
     "output_type": "display_data"
    },
    {
     "name": "stdout",
     "output_type": "stream",
     "text": [
      "Training notebook[+3.1000000] iter 52\n",
      "{'a1': 1.224744871391589, 'a2': 3.1}\n",
      "{'dtype': 'float64', 'device': 'cuda:0', 'max_dim': 16, 'nLayers': 20, 'use_checkpoint': True}\n"
     ]
    },
    {
     "data": {
      "application/vnd.jupyter.widget-view+json": {
       "model_id": "",
       "version_major": 2,
       "version_minor": 0
      },
      "text/plain": [
       "  0%|          | 0/40 [00:00<?, ?it/s]"
      ]
     },
     "metadata": {},
     "output_type": "display_data"
    },
    {
     "name": "stdout",
     "output_type": "stream",
     "text": [
      "Training notebook[+2.5000000] iter 53\n",
      "{'a1': 1.224744871391589, 'a2': 2.5}\n",
      "{'dtype': 'float64', 'device': 'cuda:0', 'max_dim': 16, 'nLayers': 20, 'use_checkpoint': True}\n"
     ]
    },
    {
     "data": {
      "application/vnd.jupyter.widget-view+json": {
       "model_id": "",
       "version_major": 2,
       "version_minor": 0
      },
      "text/plain": [
       "  0%|          | 0/40 [00:00<?, ?it/s]"
      ]
     },
     "metadata": {},
     "output_type": "display_data"
    },
    {
     "name": "stdout",
     "output_type": "stream",
     "text": [
      "Training notebook[+2.7000000] iter 53\n",
      "{'a1': 1.224744871391589, 'a2': 2.7}\n",
      "{'dtype': 'float64', 'device': 'cuda:0', 'max_dim': 16, 'nLayers': 20, 'use_checkpoint': True}\n"
     ]
    },
    {
     "data": {
      "application/vnd.jupyter.widget-view+json": {
       "model_id": "",
       "version_major": 2,
       "version_minor": 0
      },
      "text/plain": [
       "  0%|          | 0/40 [00:00<?, ?it/s]"
      ]
     },
     "metadata": {},
     "output_type": "display_data"
    },
    {
     "name": "stdout",
     "output_type": "stream",
     "text": [
      "Training notebook[+2.9000000] iter 53\n",
      "{'a1': 1.224744871391589, 'a2': 2.9}\n",
      "{'dtype': 'float64', 'device': 'cuda:0', 'max_dim': 16, 'nLayers': 20, 'use_checkpoint': True}\n"
     ]
    },
    {
     "data": {
      "application/vnd.jupyter.widget-view+json": {
       "model_id": "",
       "version_major": 2,
       "version_minor": 0
      },
      "text/plain": [
       "  0%|          | 0/40 [00:00<?, ?it/s]"
      ]
     },
     "metadata": {},
     "output_type": "display_data"
    },
    {
     "name": "stdout",
     "output_type": "stream",
     "text": [
      "Training notebook[+3.1000000] iter 53\n",
      "{'a1': 1.224744871391589, 'a2': 3.1}\n",
      "{'dtype': 'float64', 'device': 'cuda:0', 'max_dim': 16, 'nLayers': 20, 'use_checkpoint': True}\n"
     ]
    },
    {
     "data": {
      "application/vnd.jupyter.widget-view+json": {
       "model_id": "",
       "version_major": 2,
       "version_minor": 0
      },
      "text/plain": [
       "  0%|          | 0/40 [00:00<?, ?it/s]"
      ]
     },
     "metadata": {},
     "output_type": "display_data"
    },
    {
     "name": "stdout",
     "output_type": "stream",
     "text": [
      "Training notebook[+2.5000000] iter 54\n",
      "{'a1': 1.224744871391589, 'a2': 2.5}\n",
      "{'dtype': 'float64', 'device': 'cuda:0', 'max_dim': 16, 'nLayers': 20, 'use_checkpoint': True}\n"
     ]
    },
    {
     "data": {
      "application/vnd.jupyter.widget-view+json": {
       "model_id": "",
       "version_major": 2,
       "version_minor": 0
      },
      "text/plain": [
       "  0%|          | 0/40 [00:00<?, ?it/s]"
      ]
     },
     "metadata": {},
     "output_type": "display_data"
    },
    {
     "name": "stdout",
     "output_type": "stream",
     "text": [
      "Training notebook[+2.7000000] iter 54\n",
      "{'a1': 1.224744871391589, 'a2': 2.7}\n",
      "{'dtype': 'float64', 'device': 'cuda:0', 'max_dim': 16, 'nLayers': 20, 'use_checkpoint': True}\n"
     ]
    },
    {
     "data": {
      "application/vnd.jupyter.widget-view+json": {
       "model_id": "",
       "version_major": 2,
       "version_minor": 0
      },
      "text/plain": [
       "  0%|          | 0/40 [00:00<?, ?it/s]"
      ]
     },
     "metadata": {},
     "output_type": "display_data"
    },
    {
     "name": "stdout",
     "output_type": "stream",
     "text": [
      "Training notebook[+2.9000000] iter 54\n",
      "{'a1': 1.224744871391589, 'a2': 2.9}\n",
      "{'dtype': 'float64', 'device': 'cuda:0', 'max_dim': 16, 'nLayers': 20, 'use_checkpoint': True}\n"
     ]
    },
    {
     "data": {
      "application/vnd.jupyter.widget-view+json": {
       "model_id": "",
       "version_major": 2,
       "version_minor": 0
      },
      "text/plain": [
       "  0%|          | 0/40 [00:00<?, ?it/s]"
      ]
     },
     "metadata": {},
     "output_type": "display_data"
    },
    {
     "name": "stdout",
     "output_type": "stream",
     "text": [
      "Training notebook[+3.1000000] iter 54\n",
      "{'a1': 1.224744871391589, 'a2': 3.1}\n",
      "{'dtype': 'float64', 'device': 'cuda:0', 'max_dim': 16, 'nLayers': 20, 'use_checkpoint': True}\n"
     ]
    },
    {
     "data": {
      "application/vnd.jupyter.widget-view+json": {
       "model_id": "",
       "version_major": 2,
       "version_minor": 0
      },
      "text/plain": [
       "  0%|          | 0/40 [00:00<?, ?it/s]"
      ]
     },
     "metadata": {},
     "output_type": "display_data"
    },
    {
     "name": "stdout",
     "output_type": "stream",
     "text": [
      "Training notebook[+2.5000000] iter 55\n",
      "{'a1': 1.224744871391589, 'a2': 2.5}\n",
      "{'dtype': 'float64', 'device': 'cuda:0', 'max_dim': 16, 'nLayers': 20, 'use_checkpoint': True}\n"
     ]
    },
    {
     "data": {
      "application/vnd.jupyter.widget-view+json": {
       "model_id": "",
       "version_major": 2,
       "version_minor": 0
      },
      "text/plain": [
       "  0%|          | 0/40 [00:00<?, ?it/s]"
      ]
     },
     "metadata": {},
     "output_type": "display_data"
    },
    {
     "name": "stdout",
     "output_type": "stream",
     "text": [
      "Training notebook[+2.7000000] iter 55\n",
      "{'a1': 1.224744871391589, 'a2': 2.7}\n",
      "{'dtype': 'float64', 'device': 'cuda:0', 'max_dim': 16, 'nLayers': 20, 'use_checkpoint': True}\n"
     ]
    },
    {
     "data": {
      "application/vnd.jupyter.widget-view+json": {
       "model_id": "",
       "version_major": 2,
       "version_minor": 0
      },
      "text/plain": [
       "  0%|          | 0/40 [00:00<?, ?it/s]"
      ]
     },
     "metadata": {},
     "output_type": "display_data"
    },
    {
     "name": "stdout",
     "output_type": "stream",
     "text": [
      "Training notebook[+2.9000000] iter 55\n",
      "{'a1': 1.224744871391589, 'a2': 2.9}\n",
      "{'dtype': 'float64', 'device': 'cuda:0', 'max_dim': 16, 'nLayers': 20, 'use_checkpoint': True}\n"
     ]
    },
    {
     "data": {
      "application/vnd.jupyter.widget-view+json": {
       "model_id": "",
       "version_major": 2,
       "version_minor": 0
      },
      "text/plain": [
       "  0%|          | 0/40 [00:00<?, ?it/s]"
      ]
     },
     "metadata": {},
     "output_type": "display_data"
    },
    {
     "name": "stdout",
     "output_type": "stream",
     "text": [
      "Training notebook[+3.1000000] iter 55\n",
      "{'a1': 1.224744871391589, 'a2': 3.1}\n",
      "{'dtype': 'float64', 'device': 'cuda:0', 'max_dim': 16, 'nLayers': 20, 'use_checkpoint': True}\n"
     ]
    },
    {
     "data": {
      "application/vnd.jupyter.widget-view+json": {
       "model_id": "",
       "version_major": 2,
       "version_minor": 0
      },
      "text/plain": [
       "  0%|          | 0/40 [00:00<?, ?it/s]"
      ]
     },
     "metadata": {},
     "output_type": "display_data"
    },
    {
     "name": "stdout",
     "output_type": "stream",
     "text": [
      "Training notebook[+2.5000000] iter 56\n",
      "{'a1': 1.224744871391589, 'a2': 2.5}\n",
      "{'dtype': 'float64', 'device': 'cuda:0', 'max_dim': 16, 'nLayers': 20, 'use_checkpoint': True}\n"
     ]
    },
    {
     "data": {
      "application/vnd.jupyter.widget-view+json": {
       "model_id": "",
       "version_major": 2,
       "version_minor": 0
      },
      "text/plain": [
       "  0%|          | 0/40 [00:00<?, ?it/s]"
      ]
     },
     "metadata": {},
     "output_type": "display_data"
    },
    {
     "name": "stdout",
     "output_type": "stream",
     "text": [
      "Training notebook[+2.7000000] iter 56\n",
      "{'a1': 1.224744871391589, 'a2': 2.7}\n",
      "{'dtype': 'float64', 'device': 'cuda:0', 'max_dim': 16, 'nLayers': 20, 'use_checkpoint': True}\n"
     ]
    },
    {
     "data": {
      "application/vnd.jupyter.widget-view+json": {
       "model_id": "",
       "version_major": 2,
       "version_minor": 0
      },
      "text/plain": [
       "  0%|          | 0/40 [00:00<?, ?it/s]"
      ]
     },
     "metadata": {},
     "output_type": "display_data"
    },
    {
     "name": "stdout",
     "output_type": "stream",
     "text": [
      "Training notebook[+2.9000000] iter 56\n",
      "{'a1': 1.224744871391589, 'a2': 2.9}\n",
      "{'dtype': 'float64', 'device': 'cuda:0', 'max_dim': 16, 'nLayers': 20, 'use_checkpoint': True}\n"
     ]
    },
    {
     "data": {
      "application/vnd.jupyter.widget-view+json": {
       "model_id": "",
       "version_major": 2,
       "version_minor": 0
      },
      "text/plain": [
       "  0%|          | 0/40 [00:00<?, ?it/s]"
      ]
     },
     "metadata": {},
     "output_type": "display_data"
    },
    {
     "name": "stdout",
     "output_type": "stream",
     "text": [
      "Training notebook[+3.1000000] iter 56\n",
      "{'a1': 1.224744871391589, 'a2': 3.1}\n",
      "{'dtype': 'float64', 'device': 'cuda:0', 'max_dim': 16, 'nLayers': 20, 'use_checkpoint': True}\n"
     ]
    },
    {
     "data": {
      "application/vnd.jupyter.widget-view+json": {
       "model_id": "",
       "version_major": 2,
       "version_minor": 0
      },
      "text/plain": [
       "  0%|          | 0/40 [00:00<?, ?it/s]"
      ]
     },
     "metadata": {},
     "output_type": "display_data"
    },
    {
     "name": "stdout",
     "output_type": "stream",
     "text": [
      "Training notebook[+2.5000000] iter 57\n",
      "{'a1': 1.224744871391589, 'a2': 2.5}\n",
      "{'dtype': 'float64', 'device': 'cuda:0', 'max_dim': 16, 'nLayers': 20, 'use_checkpoint': True}\n"
     ]
    },
    {
     "data": {
      "application/vnd.jupyter.widget-view+json": {
       "model_id": "",
       "version_major": 2,
       "version_minor": 0
      },
      "text/plain": [
       "  0%|          | 0/40 [00:00<?, ?it/s]"
      ]
     },
     "metadata": {},
     "output_type": "display_data"
    },
    {
     "name": "stdout",
     "output_type": "stream",
     "text": [
      "Training notebook[+2.7000000] iter 57\n",
      "{'a1': 1.224744871391589, 'a2': 2.7}\n",
      "{'dtype': 'float64', 'device': 'cuda:0', 'max_dim': 16, 'nLayers': 20, 'use_checkpoint': True}\n"
     ]
    },
    {
     "data": {
      "application/vnd.jupyter.widget-view+json": {
       "model_id": "",
       "version_major": 2,
       "version_minor": 0
      },
      "text/plain": [
       "  0%|          | 0/40 [00:00<?, ?it/s]"
      ]
     },
     "metadata": {},
     "output_type": "display_data"
    },
    {
     "name": "stdout",
     "output_type": "stream",
     "text": [
      "Training notebook[+2.9000000] iter 57\n",
      "{'a1': 1.224744871391589, 'a2': 2.9}\n",
      "{'dtype': 'float64', 'device': 'cuda:0', 'max_dim': 16, 'nLayers': 20, 'use_checkpoint': True}\n"
     ]
    },
    {
     "data": {
      "application/vnd.jupyter.widget-view+json": {
       "model_id": "",
       "version_major": 2,
       "version_minor": 0
      },
      "text/plain": [
       "  0%|          | 0/40 [00:00<?, ?it/s]"
      ]
     },
     "metadata": {},
     "output_type": "display_data"
    },
    {
     "name": "stdout",
     "output_type": "stream",
     "text": [
      "Training notebook[+3.1000000] iter 57\n",
      "{'a1': 1.224744871391589, 'a2': 3.1}\n",
      "{'dtype': 'float64', 'device': 'cuda:0', 'max_dim': 16, 'nLayers': 20, 'use_checkpoint': True}\n"
     ]
    },
    {
     "data": {
      "application/vnd.jupyter.widget-view+json": {
       "model_id": "",
       "version_major": 2,
       "version_minor": 0
      },
      "text/plain": [
       "  0%|          | 0/40 [00:00<?, ?it/s]"
      ]
     },
     "metadata": {},
     "output_type": "display_data"
    },
    {
     "name": "stdout",
     "output_type": "stream",
     "text": [
      "Training notebook[+2.5000000] iter 58\n",
      "{'a1': 1.224744871391589, 'a2': 2.5}\n",
      "{'dtype': 'float64', 'device': 'cuda:0', 'max_dim': 16, 'nLayers': 20, 'use_checkpoint': True}\n"
     ]
    },
    {
     "data": {
      "application/vnd.jupyter.widget-view+json": {
       "model_id": "",
       "version_major": 2,
       "version_minor": 0
      },
      "text/plain": [
       "  0%|          | 0/40 [00:00<?, ?it/s]"
      ]
     },
     "metadata": {},
     "output_type": "display_data"
    },
    {
     "name": "stdout",
     "output_type": "stream",
     "text": [
      "Training notebook[+2.7000000] iter 58\n",
      "{'a1': 1.224744871391589, 'a2': 2.7}\n",
      "{'dtype': 'float64', 'device': 'cuda:0', 'max_dim': 16, 'nLayers': 20, 'use_checkpoint': True}\n"
     ]
    },
    {
     "data": {
      "application/vnd.jupyter.widget-view+json": {
       "model_id": "",
       "version_major": 2,
       "version_minor": 0
      },
      "text/plain": [
       "  0%|          | 0/40 [00:00<?, ?it/s]"
      ]
     },
     "metadata": {},
     "output_type": "display_data"
    },
    {
     "name": "stdout",
     "output_type": "stream",
     "text": [
      "Training notebook[+2.9000000] iter 58\n",
      "{'a1': 1.224744871391589, 'a2': 2.9}\n",
      "{'dtype': 'float64', 'device': 'cuda:0', 'max_dim': 16, 'nLayers': 20, 'use_checkpoint': True}\n"
     ]
    },
    {
     "data": {
      "application/vnd.jupyter.widget-view+json": {
       "model_id": "",
       "version_major": 2,
       "version_minor": 0
      },
      "text/plain": [
       "  0%|          | 0/40 [00:00<?, ?it/s]"
      ]
     },
     "metadata": {},
     "output_type": "display_data"
    },
    {
     "name": "stdout",
     "output_type": "stream",
     "text": [
      "Training notebook[+3.1000000] iter 58\n",
      "{'a1': 1.224744871391589, 'a2': 3.1}\n",
      "{'dtype': 'float64', 'device': 'cuda:0', 'max_dim': 16, 'nLayers': 20, 'use_checkpoint': True}\n"
     ]
    },
    {
     "data": {
      "application/vnd.jupyter.widget-view+json": {
       "model_id": "",
       "version_major": 2,
       "version_minor": 0
      },
      "text/plain": [
       "  0%|          | 0/40 [00:00<?, ?it/s]"
      ]
     },
     "metadata": {},
     "output_type": "display_data"
    },
    {
     "name": "stdout",
     "output_type": "stream",
     "text": [
      "Training notebook[+2.5000000] iter 59\n",
      "{'a1': 1.224744871391589, 'a2': 2.5}\n",
      "{'dtype': 'float64', 'device': 'cuda:0', 'max_dim': 16, 'nLayers': 20, 'use_checkpoint': True}\n"
     ]
    },
    {
     "data": {
      "application/vnd.jupyter.widget-view+json": {
       "model_id": "",
       "version_major": 2,
       "version_minor": 0
      },
      "text/plain": [
       "  0%|          | 0/40 [00:00<?, ?it/s]"
      ]
     },
     "metadata": {},
     "output_type": "display_data"
    },
    {
     "name": "stdout",
     "output_type": "stream",
     "text": [
      "Training notebook[+2.7000000] iter 59\n",
      "{'a1': 1.224744871391589, 'a2': 2.7}\n",
      "{'dtype': 'float64', 'device': 'cuda:0', 'max_dim': 16, 'nLayers': 20, 'use_checkpoint': True}\n"
     ]
    },
    {
     "data": {
      "application/vnd.jupyter.widget-view+json": {
       "model_id": "",
       "version_major": 2,
       "version_minor": 0
      },
      "text/plain": [
       "  0%|          | 0/40 [00:00<?, ?it/s]"
      ]
     },
     "metadata": {},
     "output_type": "display_data"
    },
    {
     "name": "stdout",
     "output_type": "stream",
     "text": [
      "Training notebook[+2.9000000] iter 59\n",
      "{'a1': 1.224744871391589, 'a2': 2.9}\n",
      "{'dtype': 'float64', 'device': 'cuda:0', 'max_dim': 16, 'nLayers': 20, 'use_checkpoint': True}\n"
     ]
    },
    {
     "data": {
      "application/vnd.jupyter.widget-view+json": {
       "model_id": "",
       "version_major": 2,
       "version_minor": 0
      },
      "text/plain": [
       "  0%|          | 0/40 [00:00<?, ?it/s]"
      ]
     },
     "metadata": {},
     "output_type": "display_data"
    },
    {
     "name": "stdout",
     "output_type": "stream",
     "text": [
      "Training notebook[+3.1000000] iter 59\n",
      "{'a1': 1.224744871391589, 'a2': 3.1}\n",
      "{'dtype': 'float64', 'device': 'cuda:0', 'max_dim': 16, 'nLayers': 20, 'use_checkpoint': True}\n"
     ]
    },
    {
     "data": {
      "application/vnd.jupyter.widget-view+json": {
       "model_id": "",
       "version_major": 2,
       "version_minor": 0
      },
      "text/plain": [
       "  0%|          | 0/40 [00:00<?, ?it/s]"
      ]
     },
     "metadata": {},
     "output_type": "display_data"
    },
    {
     "name": "stdout",
     "output_type": "stream",
     "text": [
      "Training notebook[+2.5000000] iter 60\n",
      "{'a1': 1.224744871391589, 'a2': 2.5}\n",
      "{'dtype': 'float64', 'device': 'cuda:0', 'max_dim': 16, 'nLayers': 20, 'use_checkpoint': True}\n"
     ]
    },
    {
     "data": {
      "application/vnd.jupyter.widget-view+json": {
       "model_id": "",
       "version_major": 2,
       "version_minor": 0
      },
      "text/plain": [
       "  0%|          | 0/40 [00:00<?, ?it/s]"
      ]
     },
     "metadata": {},
     "output_type": "display_data"
    },
    {
     "name": "stdout",
     "output_type": "stream",
     "text": [
      "Training notebook[+2.7000000] iter 60\n",
      "{'a1': 1.224744871391589, 'a2': 2.7}\n",
      "{'dtype': 'float64', 'device': 'cuda:0', 'max_dim': 16, 'nLayers': 20, 'use_checkpoint': True}\n"
     ]
    },
    {
     "data": {
      "application/vnd.jupyter.widget-view+json": {
       "model_id": "",
       "version_major": 2,
       "version_minor": 0
      },
      "text/plain": [
       "  0%|          | 0/40 [00:00<?, ?it/s]"
      ]
     },
     "metadata": {},
     "output_type": "display_data"
    },
    {
     "name": "stdout",
     "output_type": "stream",
     "text": [
      "Training notebook[+2.9000000] iter 60\n",
      "{'a1': 1.224744871391589, 'a2': 2.9}\n",
      "{'dtype': 'float64', 'device': 'cuda:0', 'max_dim': 16, 'nLayers': 20, 'use_checkpoint': True}\n"
     ]
    },
    {
     "data": {
      "application/vnd.jupyter.widget-view+json": {
       "model_id": "",
       "version_major": 2,
       "version_minor": 0
      },
      "text/plain": [
       "  0%|          | 0/40 [00:00<?, ?it/s]"
      ]
     },
     "metadata": {},
     "output_type": "display_data"
    },
    {
     "name": "stdout",
     "output_type": "stream",
     "text": [
      "Training notebook[+3.1000000] iter 60\n",
      "{'a1': 1.224744871391589, 'a2': 3.1}\n",
      "{'dtype': 'float64', 'device': 'cuda:0', 'max_dim': 16, 'nLayers': 20, 'use_checkpoint': True}\n"
     ]
    },
    {
     "data": {
      "application/vnd.jupyter.widget-view+json": {
       "model_id": "",
       "version_major": 2,
       "version_minor": 0
      },
      "text/plain": [
       "  0%|          | 0/40 [00:00<?, ?it/s]"
      ]
     },
     "metadata": {},
     "output_type": "display_data"
    },
    {
     "name": "stdout",
     "output_type": "stream",
     "text": [
      "Training notebook[+2.5000000] iter 61\n",
      "{'a1': 1.224744871391589, 'a2': 2.5}\n",
      "{'dtype': 'float64', 'device': 'cuda:0', 'max_dim': 16, 'nLayers': 20, 'use_checkpoint': True}\n"
     ]
    },
    {
     "data": {
      "application/vnd.jupyter.widget-view+json": {
       "model_id": "",
       "version_major": 2,
       "version_minor": 0
      },
      "text/plain": [
       "  0%|          | 0/40 [00:00<?, ?it/s]"
      ]
     },
     "metadata": {},
     "output_type": "display_data"
    },
    {
     "name": "stdout",
     "output_type": "stream",
     "text": [
      "Training notebook[+2.7000000] iter 61\n",
      "{'a1': 1.224744871391589, 'a2': 2.7}\n",
      "{'dtype': 'float64', 'device': 'cuda:0', 'max_dim': 16, 'nLayers': 20, 'use_checkpoint': True}\n"
     ]
    },
    {
     "data": {
      "application/vnd.jupyter.widget-view+json": {
       "model_id": "",
       "version_major": 2,
       "version_minor": 0
      },
      "text/plain": [
       "  0%|          | 0/40 [00:00<?, ?it/s]"
      ]
     },
     "metadata": {},
     "output_type": "display_data"
    },
    {
     "name": "stdout",
     "output_type": "stream",
     "text": [
      "Training notebook[+2.9000000] iter 61\n",
      "{'a1': 1.224744871391589, 'a2': 2.9}\n",
      "{'dtype': 'float64', 'device': 'cuda:0', 'max_dim': 16, 'nLayers': 20, 'use_checkpoint': True}\n"
     ]
    },
    {
     "data": {
      "application/vnd.jupyter.widget-view+json": {
       "model_id": "",
       "version_major": 2,
       "version_minor": 0
      },
      "text/plain": [
       "  0%|          | 0/40 [00:00<?, ?it/s]"
      ]
     },
     "metadata": {},
     "output_type": "display_data"
    },
    {
     "name": "stdout",
     "output_type": "stream",
     "text": [
      "Training notebook[+3.1000000] iter 61\n",
      "{'a1': 1.224744871391589, 'a2': 3.1}\n",
      "{'dtype': 'float64', 'device': 'cuda:0', 'max_dim': 16, 'nLayers': 20, 'use_checkpoint': True}\n"
     ]
    },
    {
     "data": {
      "application/vnd.jupyter.widget-view+json": {
       "model_id": "",
       "version_major": 2,
       "version_minor": 0
      },
      "text/plain": [
       "  0%|          | 0/40 [00:00<?, ?it/s]"
      ]
     },
     "metadata": {},
     "output_type": "display_data"
    },
    {
     "name": "stdout",
     "output_type": "stream",
     "text": [
      "Training notebook[+2.5000000] iter 62\n",
      "{'a1': 1.224744871391589, 'a2': 2.5}\n",
      "{'dtype': 'float64', 'device': 'cuda:0', 'max_dim': 16, 'nLayers': 20, 'use_checkpoint': True}\n"
     ]
    },
    {
     "data": {
      "application/vnd.jupyter.widget-view+json": {
       "model_id": "",
       "version_major": 2,
       "version_minor": 0
      },
      "text/plain": [
       "  0%|          | 0/40 [00:00<?, ?it/s]"
      ]
     },
     "metadata": {},
     "output_type": "display_data"
    },
    {
     "name": "stdout",
     "output_type": "stream",
     "text": [
      "Training notebook[+2.7000000] iter 62\n",
      "{'a1': 1.224744871391589, 'a2': 2.7}\n",
      "{'dtype': 'float64', 'device': 'cuda:0', 'max_dim': 16, 'nLayers': 20, 'use_checkpoint': True}\n"
     ]
    },
    {
     "data": {
      "application/vnd.jupyter.widget-view+json": {
       "model_id": "",
       "version_major": 2,
       "version_minor": 0
      },
      "text/plain": [
       "  0%|          | 0/40 [00:00<?, ?it/s]"
      ]
     },
     "metadata": {},
     "output_type": "display_data"
    },
    {
     "name": "stdout",
     "output_type": "stream",
     "text": [
      "Training notebook[+2.9000000] iter 62\n",
      "{'a1': 1.224744871391589, 'a2': 2.9}\n",
      "{'dtype': 'float64', 'device': 'cuda:0', 'max_dim': 16, 'nLayers': 20, 'use_checkpoint': True}\n"
     ]
    },
    {
     "data": {
      "application/vnd.jupyter.widget-view+json": {
       "model_id": "",
       "version_major": 2,
       "version_minor": 0
      },
      "text/plain": [
       "  0%|          | 0/40 [00:00<?, ?it/s]"
      ]
     },
     "metadata": {},
     "output_type": "display_data"
    },
    {
     "name": "stdout",
     "output_type": "stream",
     "text": [
      "Training notebook[+3.1000000] iter 62\n",
      "{'a1': 1.224744871391589, 'a2': 3.1}\n",
      "{'dtype': 'float64', 'device': 'cuda:0', 'max_dim': 16, 'nLayers': 20, 'use_checkpoint': True}\n"
     ]
    },
    {
     "data": {
      "application/vnd.jupyter.widget-view+json": {
       "model_id": "",
       "version_major": 2,
       "version_minor": 0
      },
      "text/plain": [
       "  0%|          | 0/40 [00:00<?, ?it/s]"
      ]
     },
     "metadata": {},
     "output_type": "display_data"
    },
    {
     "name": "stdout",
     "output_type": "stream",
     "text": [
      "Training notebook[+2.5000000] iter 63\n",
      "{'a1': 1.224744871391589, 'a2': 2.5}\n",
      "{'dtype': 'float64', 'device': 'cuda:0', 'max_dim': 16, 'nLayers': 20, 'use_checkpoint': True}\n"
     ]
    },
    {
     "data": {
      "application/vnd.jupyter.widget-view+json": {
       "model_id": "",
       "version_major": 2,
       "version_minor": 0
      },
      "text/plain": [
       "  0%|          | 0/40 [00:00<?, ?it/s]"
      ]
     },
     "metadata": {},
     "output_type": "display_data"
    },
    {
     "name": "stdout",
     "output_type": "stream",
     "text": [
      "Training notebook[+2.7000000] iter 63\n",
      "{'a1': 1.224744871391589, 'a2': 2.7}\n",
      "{'dtype': 'float64', 'device': 'cuda:0', 'max_dim': 16, 'nLayers': 20, 'use_checkpoint': True}\n"
     ]
    },
    {
     "data": {
      "application/vnd.jupyter.widget-view+json": {
       "model_id": "",
       "version_major": 2,
       "version_minor": 0
      },
      "text/plain": [
       "  0%|          | 0/40 [00:00<?, ?it/s]"
      ]
     },
     "metadata": {},
     "output_type": "display_data"
    },
    {
     "name": "stdout",
     "output_type": "stream",
     "text": [
      "Training notebook[+2.9000000] iter 63\n",
      "{'a1': 1.224744871391589, 'a2': 2.9}\n",
      "{'dtype': 'float64', 'device': 'cuda:0', 'max_dim': 16, 'nLayers': 20, 'use_checkpoint': True}\n"
     ]
    },
    {
     "data": {
      "application/vnd.jupyter.widget-view+json": {
       "model_id": "",
       "version_major": 2,
       "version_minor": 0
      },
      "text/plain": [
       "  0%|          | 0/40 [00:00<?, ?it/s]"
      ]
     },
     "metadata": {},
     "output_type": "display_data"
    },
    {
     "name": "stdout",
     "output_type": "stream",
     "text": [
      "Training notebook[+3.1000000] iter 63\n",
      "{'a1': 1.224744871391589, 'a2': 3.1}\n",
      "{'dtype': 'float64', 'device': 'cuda:0', 'max_dim': 16, 'nLayers': 20, 'use_checkpoint': True}\n"
     ]
    },
    {
     "data": {
      "application/vnd.jupyter.widget-view+json": {
       "model_id": "",
       "version_major": 2,
       "version_minor": 0
      },
      "text/plain": [
       "  0%|          | 0/40 [00:00<?, ?it/s]"
      ]
     },
     "metadata": {},
     "output_type": "display_data"
    },
    {
     "name": "stdout",
     "output_type": "stream",
     "text": [
      "Training notebook[+2.5000000] iter 64\n",
      "{'a1': 1.224744871391589, 'a2': 2.5}\n",
      "{'dtype': 'float64', 'device': 'cuda:0', 'max_dim': 16, 'nLayers': 20, 'use_checkpoint': True}\n"
     ]
    },
    {
     "data": {
      "application/vnd.jupyter.widget-view+json": {
       "model_id": "",
       "version_major": 2,
       "version_minor": 0
      },
      "text/plain": [
       "  0%|          | 0/40 [00:00<?, ?it/s]"
      ]
     },
     "metadata": {},
     "output_type": "display_data"
    },
    {
     "name": "stdout",
     "output_type": "stream",
     "text": [
      "Training notebook[+2.7000000] iter 64\n",
      "{'a1': 1.224744871391589, 'a2': 2.7}\n",
      "{'dtype': 'float64', 'device': 'cuda:0', 'max_dim': 16, 'nLayers': 20, 'use_checkpoint': True}\n"
     ]
    },
    {
     "data": {
      "application/vnd.jupyter.widget-view+json": {
       "model_id": "",
       "version_major": 2,
       "version_minor": 0
      },
      "text/plain": [
       "  0%|          | 0/40 [00:00<?, ?it/s]"
      ]
     },
     "metadata": {},
     "output_type": "display_data"
    },
    {
     "name": "stdout",
     "output_type": "stream",
     "text": [
      "Training notebook[+2.9000000] iter 64\n",
      "{'a1': 1.224744871391589, 'a2': 2.9}\n",
      "{'dtype': 'float64', 'device': 'cuda:0', 'max_dim': 16, 'nLayers': 20, 'use_checkpoint': True}\n"
     ]
    },
    {
     "data": {
      "application/vnd.jupyter.widget-view+json": {
       "model_id": "",
       "version_major": 2,
       "version_minor": 0
      },
      "text/plain": [
       "  0%|          | 0/40 [00:00<?, ?it/s]"
      ]
     },
     "metadata": {},
     "output_type": "display_data"
    },
    {
     "name": "stdout",
     "output_type": "stream",
     "text": [
      "Training notebook[+3.1000000] iter 64\n",
      "{'a1': 1.224744871391589, 'a2': 3.1}\n",
      "{'dtype': 'float64', 'device': 'cuda:0', 'max_dim': 16, 'nLayers': 20, 'use_checkpoint': True}\n"
     ]
    },
    {
     "data": {
      "application/vnd.jupyter.widget-view+json": {
       "model_id": "",
       "version_major": 2,
       "version_minor": 0
      },
      "text/plain": [
       "  0%|          | 0/40 [00:00<?, ?it/s]"
      ]
     },
     "metadata": {},
     "output_type": "display_data"
    },
    {
     "name": "stdout",
     "output_type": "stream",
     "text": [
      "Training notebook[+2.5000000] iter 65\n",
      "{'a1': 1.224744871391589, 'a2': 2.5}\n",
      "{'dtype': 'float64', 'device': 'cuda:0', 'max_dim': 16, 'nLayers': 20, 'use_checkpoint': True}\n"
     ]
    },
    {
     "data": {
      "application/vnd.jupyter.widget-view+json": {
       "model_id": "",
       "version_major": 2,
       "version_minor": 0
      },
      "text/plain": [
       "  0%|          | 0/40 [00:00<?, ?it/s]"
      ]
     },
     "metadata": {},
     "output_type": "display_data"
    },
    {
     "name": "stdout",
     "output_type": "stream",
     "text": [
      "Training notebook[+2.7000000] iter 65\n",
      "{'a1': 1.224744871391589, 'a2': 2.7}\n",
      "{'dtype': 'float64', 'device': 'cuda:0', 'max_dim': 16, 'nLayers': 20, 'use_checkpoint': True}\n"
     ]
    },
    {
     "data": {
      "application/vnd.jupyter.widget-view+json": {
       "model_id": "",
       "version_major": 2,
       "version_minor": 0
      },
      "text/plain": [
       "  0%|          | 0/40 [00:00<?, ?it/s]"
      ]
     },
     "metadata": {},
     "output_type": "display_data"
    },
    {
     "name": "stdout",
     "output_type": "stream",
     "text": [
      "Training notebook[+2.9000000] iter 65\n",
      "{'a1': 1.224744871391589, 'a2': 2.9}\n",
      "{'dtype': 'float64', 'device': 'cuda:0', 'max_dim': 16, 'nLayers': 20, 'use_checkpoint': True}\n"
     ]
    },
    {
     "data": {
      "application/vnd.jupyter.widget-view+json": {
       "model_id": "",
       "version_major": 2,
       "version_minor": 0
      },
      "text/plain": [
       "  0%|          | 0/40 [00:00<?, ?it/s]"
      ]
     },
     "metadata": {},
     "output_type": "display_data"
    },
    {
     "name": "stdout",
     "output_type": "stream",
     "text": [
      "Training notebook[+3.1000000] iter 65\n",
      "{'a1': 1.224744871391589, 'a2': 3.1}\n",
      "{'dtype': 'float64', 'device': 'cuda:0', 'max_dim': 16, 'nLayers': 20, 'use_checkpoint': True}\n"
     ]
    },
    {
     "data": {
      "application/vnd.jupyter.widget-view+json": {
       "model_id": "",
       "version_major": 2,
       "version_minor": 0
      },
      "text/plain": [
       "  0%|          | 0/40 [00:00<?, ?it/s]"
      ]
     },
     "metadata": {},
     "output_type": "display_data"
    },
    {
     "name": "stdout",
     "output_type": "stream",
     "text": [
      "Training notebook[+2.5000000] iter 66\n",
      "{'a1': 1.224744871391589, 'a2': 2.5}\n",
      "{'dtype': 'float64', 'device': 'cuda:0', 'max_dim': 16, 'nLayers': 20, 'use_checkpoint': True}\n"
     ]
    },
    {
     "data": {
      "application/vnd.jupyter.widget-view+json": {
       "model_id": "",
       "version_major": 2,
       "version_minor": 0
      },
      "text/plain": [
       "  0%|          | 0/40 [00:00<?, ?it/s]"
      ]
     },
     "metadata": {},
     "output_type": "display_data"
    },
    {
     "name": "stdout",
     "output_type": "stream",
     "text": [
      "Training notebook[+2.7000000] iter 66\n",
      "{'a1': 1.224744871391589, 'a2': 2.7}\n",
      "{'dtype': 'float64', 'device': 'cuda:0', 'max_dim': 16, 'nLayers': 20, 'use_checkpoint': True}\n"
     ]
    },
    {
     "data": {
      "application/vnd.jupyter.widget-view+json": {
       "model_id": "",
       "version_major": 2,
       "version_minor": 0
      },
      "text/plain": [
       "  0%|          | 0/40 [00:00<?, ?it/s]"
      ]
     },
     "metadata": {},
     "output_type": "display_data"
    },
    {
     "name": "stdout",
     "output_type": "stream",
     "text": [
      "Training notebook[+2.9000000] iter 66\n",
      "{'a1': 1.224744871391589, 'a2': 2.9}\n",
      "{'dtype': 'float64', 'device': 'cuda:0', 'max_dim': 16, 'nLayers': 20, 'use_checkpoint': True}\n"
     ]
    },
    {
     "data": {
      "application/vnd.jupyter.widget-view+json": {
       "model_id": "",
       "version_major": 2,
       "version_minor": 0
      },
      "text/plain": [
       "  0%|          | 0/40 [00:00<?, ?it/s]"
      ]
     },
     "metadata": {},
     "output_type": "display_data"
    },
    {
     "name": "stdout",
     "output_type": "stream",
     "text": [
      "Training notebook[+3.1000000] iter 66\n",
      "{'a1': 1.224744871391589, 'a2': 3.1}\n",
      "{'dtype': 'float64', 'device': 'cuda:0', 'max_dim': 16, 'nLayers': 20, 'use_checkpoint': True}\n"
     ]
    },
    {
     "data": {
      "application/vnd.jupyter.widget-view+json": {
       "model_id": "",
       "version_major": 2,
       "version_minor": 0
      },
      "text/plain": [
       "  0%|          | 0/40 [00:00<?, ?it/s]"
      ]
     },
     "metadata": {},
     "output_type": "display_data"
    },
    {
     "name": "stdout",
     "output_type": "stream",
     "text": [
      "Training notebook[+2.5000000] iter 67\n",
      "{'a1': 1.224744871391589, 'a2': 2.5}\n",
      "{'dtype': 'float64', 'device': 'cuda:0', 'max_dim': 16, 'nLayers': 20, 'use_checkpoint': True}\n"
     ]
    },
    {
     "data": {
      "application/vnd.jupyter.widget-view+json": {
       "model_id": "",
       "version_major": 2,
       "version_minor": 0
      },
      "text/plain": [
       "  0%|          | 0/40 [00:00<?, ?it/s]"
      ]
     },
     "metadata": {},
     "output_type": "display_data"
    },
    {
     "name": "stdout",
     "output_type": "stream",
     "text": [
      "Training notebook[+2.7000000] iter 67\n",
      "{'a1': 1.224744871391589, 'a2': 2.7}\n",
      "{'dtype': 'float64', 'device': 'cuda:0', 'max_dim': 16, 'nLayers': 20, 'use_checkpoint': True}\n"
     ]
    },
    {
     "data": {
      "application/vnd.jupyter.widget-view+json": {
       "model_id": "",
       "version_major": 2,
       "version_minor": 0
      },
      "text/plain": [
       "  0%|          | 0/40 [00:00<?, ?it/s]"
      ]
     },
     "metadata": {},
     "output_type": "display_data"
    },
    {
     "name": "stdout",
     "output_type": "stream",
     "text": [
      "Training notebook[+2.9000000] iter 67\n",
      "{'a1': 1.224744871391589, 'a2': 2.9}\n",
      "{'dtype': 'float64', 'device': 'cuda:0', 'max_dim': 16, 'nLayers': 20, 'use_checkpoint': True}\n"
     ]
    },
    {
     "data": {
      "application/vnd.jupyter.widget-view+json": {
       "model_id": "",
       "version_major": 2,
       "version_minor": 0
      },
      "text/plain": [
       "  0%|          | 0/40 [00:00<?, ?it/s]"
      ]
     },
     "metadata": {},
     "output_type": "display_data"
    },
    {
     "name": "stdout",
     "output_type": "stream",
     "text": [
      "Training notebook[+3.1000000] iter 67\n",
      "{'a1': 1.224744871391589, 'a2': 3.1}\n",
      "{'dtype': 'float64', 'device': 'cuda:0', 'max_dim': 16, 'nLayers': 20, 'use_checkpoint': True}\n"
     ]
    },
    {
     "data": {
      "application/vnd.jupyter.widget-view+json": {
       "model_id": "",
       "version_major": 2,
       "version_minor": 0
      },
      "text/plain": [
       "  0%|          | 0/40 [00:00<?, ?it/s]"
      ]
     },
     "metadata": {},
     "output_type": "display_data"
    },
    {
     "name": "stdout",
     "output_type": "stream",
     "text": [
      "Training notebook[+2.5000000] iter 68\n",
      "{'a1': 1.224744871391589, 'a2': 2.5}\n",
      "{'dtype': 'float64', 'device': 'cuda:0', 'max_dim': 16, 'nLayers': 20, 'use_checkpoint': True}\n"
     ]
    },
    {
     "data": {
      "application/vnd.jupyter.widget-view+json": {
       "model_id": "",
       "version_major": 2,
       "version_minor": 0
      },
      "text/plain": [
       "  0%|          | 0/40 [00:00<?, ?it/s]"
      ]
     },
     "metadata": {},
     "output_type": "display_data"
    },
    {
     "name": "stdout",
     "output_type": "stream",
     "text": [
      "Training notebook[+2.7000000] iter 68\n",
      "{'a1': 1.224744871391589, 'a2': 2.7}\n",
      "{'dtype': 'float64', 'device': 'cuda:0', 'max_dim': 16, 'nLayers': 20, 'use_checkpoint': True}\n"
     ]
    },
    {
     "data": {
      "application/vnd.jupyter.widget-view+json": {
       "model_id": "",
       "version_major": 2,
       "version_minor": 0
      },
      "text/plain": [
       "  0%|          | 0/40 [00:00<?, ?it/s]"
      ]
     },
     "metadata": {},
     "output_type": "display_data"
    },
    {
     "name": "stdout",
     "output_type": "stream",
     "text": [
      "Training notebook[+2.9000000] iter 68\n",
      "{'a1': 1.224744871391589, 'a2': 2.9}\n",
      "{'dtype': 'float64', 'device': 'cuda:0', 'max_dim': 16, 'nLayers': 20, 'use_checkpoint': True}\n"
     ]
    },
    {
     "data": {
      "application/vnd.jupyter.widget-view+json": {
       "model_id": "",
       "version_major": 2,
       "version_minor": 0
      },
      "text/plain": [
       "  0%|          | 0/40 [00:00<?, ?it/s]"
      ]
     },
     "metadata": {},
     "output_type": "display_data"
    },
    {
     "name": "stdout",
     "output_type": "stream",
     "text": [
      "Training notebook[+3.1000000] iter 68\n",
      "{'a1': 1.224744871391589, 'a2': 3.1}\n",
      "{'dtype': 'float64', 'device': 'cuda:0', 'max_dim': 16, 'nLayers': 20, 'use_checkpoint': True}\n"
     ]
    },
    {
     "data": {
      "application/vnd.jupyter.widget-view+json": {
       "model_id": "",
       "version_major": 2,
       "version_minor": 0
      },
      "text/plain": [
       "  0%|          | 0/40 [00:00<?, ?it/s]"
      ]
     },
     "metadata": {},
     "output_type": "display_data"
    },
    {
     "name": "stdout",
     "output_type": "stream",
     "text": [
      "Training notebook[+2.5000000] iter 69\n",
      "{'a1': 1.224744871391589, 'a2': 2.5}\n",
      "{'dtype': 'float64', 'device': 'cuda:0', 'max_dim': 16, 'nLayers': 20, 'use_checkpoint': True}\n"
     ]
    },
    {
     "data": {
      "application/vnd.jupyter.widget-view+json": {
       "model_id": "",
       "version_major": 2,
       "version_minor": 0
      },
      "text/plain": [
       "  0%|          | 0/40 [00:00<?, ?it/s]"
      ]
     },
     "metadata": {},
     "output_type": "display_data"
    },
    {
     "name": "stdout",
     "output_type": "stream",
     "text": [
      "Training notebook[+2.7000000] iter 69\n",
      "{'a1': 1.224744871391589, 'a2': 2.7}\n",
      "{'dtype': 'float64', 'device': 'cuda:0', 'max_dim': 16, 'nLayers': 20, 'use_checkpoint': True}\n"
     ]
    },
    {
     "data": {
      "application/vnd.jupyter.widget-view+json": {
       "model_id": "",
       "version_major": 2,
       "version_minor": 0
      },
      "text/plain": [
       "  0%|          | 0/40 [00:00<?, ?it/s]"
      ]
     },
     "metadata": {},
     "output_type": "display_data"
    },
    {
     "name": "stdout",
     "output_type": "stream",
     "text": [
      "Training notebook[+2.9000000] iter 69\n",
      "{'a1': 1.224744871391589, 'a2': 2.9}\n",
      "{'dtype': 'float64', 'device': 'cuda:0', 'max_dim': 16, 'nLayers': 20, 'use_checkpoint': True}\n"
     ]
    },
    {
     "data": {
      "application/vnd.jupyter.widget-view+json": {
       "model_id": "",
       "version_major": 2,
       "version_minor": 0
      },
      "text/plain": [
       "  0%|          | 0/40 [00:00<?, ?it/s]"
      ]
     },
     "metadata": {},
     "output_type": "display_data"
    },
    {
     "name": "stdout",
     "output_type": "stream",
     "text": [
      "Training notebook[+3.1000000] iter 69\n",
      "{'a1': 1.224744871391589, 'a2': 3.1}\n",
      "{'dtype': 'float64', 'device': 'cuda:0', 'max_dim': 16, 'nLayers': 20, 'use_checkpoint': True}\n"
     ]
    },
    {
     "data": {
      "application/vnd.jupyter.widget-view+json": {
       "model_id": "",
       "version_major": 2,
       "version_minor": 0
      },
      "text/plain": [
       "  0%|          | 0/40 [00:00<?, ?it/s]"
      ]
     },
     "metadata": {},
     "output_type": "display_data"
    },
    {
     "name": "stdout",
     "output_type": "stream",
     "text": [
      "Training notebook[+2.5000000] iter 70\n",
      "{'a1': 1.224744871391589, 'a2': 2.5}\n",
      "{'dtype': 'float64', 'device': 'cuda:0', 'max_dim': 16, 'nLayers': 20, 'use_checkpoint': True}\n"
     ]
    },
    {
     "data": {
      "application/vnd.jupyter.widget-view+json": {
       "model_id": "",
       "version_major": 2,
       "version_minor": 0
      },
      "text/plain": [
       "  0%|          | 0/40 [00:00<?, ?it/s]"
      ]
     },
     "metadata": {},
     "output_type": "display_data"
    },
    {
     "name": "stdout",
     "output_type": "stream",
     "text": [
      "Training notebook[+2.7000000] iter 70\n",
      "{'a1': 1.224744871391589, 'a2': 2.7}\n",
      "{'dtype': 'float64', 'device': 'cuda:0', 'max_dim': 16, 'nLayers': 20, 'use_checkpoint': True}\n"
     ]
    },
    {
     "data": {
      "application/vnd.jupyter.widget-view+json": {
       "model_id": "",
       "version_major": 2,
       "version_minor": 0
      },
      "text/plain": [
       "  0%|          | 0/40 [00:00<?, ?it/s]"
      ]
     },
     "metadata": {},
     "output_type": "display_data"
    },
    {
     "name": "stdout",
     "output_type": "stream",
     "text": [
      "Training notebook[+2.9000000] iter 70\n",
      "{'a1': 1.224744871391589, 'a2': 2.9}\n",
      "{'dtype': 'float64', 'device': 'cuda:0', 'max_dim': 16, 'nLayers': 20, 'use_checkpoint': True}\n"
     ]
    },
    {
     "data": {
      "application/vnd.jupyter.widget-view+json": {
       "model_id": "",
       "version_major": 2,
       "version_minor": 0
      },
      "text/plain": [
       "  0%|          | 0/40 [00:00<?, ?it/s]"
      ]
     },
     "metadata": {},
     "output_type": "display_data"
    },
    {
     "name": "stdout",
     "output_type": "stream",
     "text": [
      "Training notebook[+3.1000000] iter 70\n",
      "{'a1': 1.224744871391589, 'a2': 3.1}\n",
      "{'dtype': 'float64', 'device': 'cuda:0', 'max_dim': 16, 'nLayers': 20, 'use_checkpoint': True}\n"
     ]
    },
    {
     "data": {
      "application/vnd.jupyter.widget-view+json": {
       "model_id": "",
       "version_major": 2,
       "version_minor": 0
      },
      "text/plain": [
       "  0%|          | 0/40 [00:00<?, ?it/s]"
      ]
     },
     "metadata": {},
     "output_type": "display_data"
    },
    {
     "name": "stdout",
     "output_type": "stream",
     "text": [
      "Training notebook[+2.5000000] iter 71\n",
      "{'a1': 1.224744871391589, 'a2': 2.5}\n",
      "{'dtype': 'float64', 'device': 'cuda:0', 'max_dim': 16, 'nLayers': 20, 'use_checkpoint': True}\n"
     ]
    },
    {
     "data": {
      "application/vnd.jupyter.widget-view+json": {
       "model_id": "",
       "version_major": 2,
       "version_minor": 0
      },
      "text/plain": [
       "  0%|          | 0/40 [00:00<?, ?it/s]"
      ]
     },
     "metadata": {},
     "output_type": "display_data"
    },
    {
     "name": "stdout",
     "output_type": "stream",
     "text": [
      "Training notebook[+2.7000000] iter 71\n",
      "{'a1': 1.224744871391589, 'a2': 2.7}\n",
      "{'dtype': 'float64', 'device': 'cuda:0', 'max_dim': 16, 'nLayers': 20, 'use_checkpoint': True}\n"
     ]
    },
    {
     "data": {
      "application/vnd.jupyter.widget-view+json": {
       "model_id": "",
       "version_major": 2,
       "version_minor": 0
      },
      "text/plain": [
       "  0%|          | 0/40 [00:00<?, ?it/s]"
      ]
     },
     "metadata": {},
     "output_type": "display_data"
    },
    {
     "name": "stdout",
     "output_type": "stream",
     "text": [
      "Training notebook[+2.9000000] iter 71\n",
      "{'a1': 1.224744871391589, 'a2': 2.9}\n",
      "{'dtype': 'float64', 'device': 'cuda:0', 'max_dim': 16, 'nLayers': 20, 'use_checkpoint': True}\n"
     ]
    },
    {
     "data": {
      "application/vnd.jupyter.widget-view+json": {
       "model_id": "",
       "version_major": 2,
       "version_minor": 0
      },
      "text/plain": [
       "  0%|          | 0/40 [00:00<?, ?it/s]"
      ]
     },
     "metadata": {},
     "output_type": "display_data"
    },
    {
     "name": "stdout",
     "output_type": "stream",
     "text": [
      "Training notebook[+3.1000000] iter 71\n",
      "{'a1': 1.224744871391589, 'a2': 3.1}\n",
      "{'dtype': 'float64', 'device': 'cuda:0', 'max_dim': 16, 'nLayers': 20, 'use_checkpoint': True}\n"
     ]
    },
    {
     "data": {
      "application/vnd.jupyter.widget-view+json": {
       "model_id": "",
       "version_major": 2,
       "version_minor": 0
      },
      "text/plain": [
       "  0%|          | 0/40 [00:00<?, ?it/s]"
      ]
     },
     "metadata": {},
     "output_type": "display_data"
    },
    {
     "name": "stdout",
     "output_type": "stream",
     "text": [
      "Training notebook[+2.5000000] iter 72\n",
      "{'a1': 1.224744871391589, 'a2': 2.5}\n",
      "{'dtype': 'float64', 'device': 'cuda:0', 'max_dim': 16, 'nLayers': 20, 'use_checkpoint': True}\n"
     ]
    },
    {
     "data": {
      "application/vnd.jupyter.widget-view+json": {
       "model_id": "",
       "version_major": 2,
       "version_minor": 0
      },
      "text/plain": [
       "  0%|          | 0/40 [00:00<?, ?it/s]"
      ]
     },
     "metadata": {},
     "output_type": "display_data"
    },
    {
     "name": "stdout",
     "output_type": "stream",
     "text": [
      "Training notebook[+2.7000000] iter 72\n",
      "{'a1': 1.224744871391589, 'a2': 2.7}\n",
      "{'dtype': 'float64', 'device': 'cuda:0', 'max_dim': 16, 'nLayers': 20, 'use_checkpoint': True}\n"
     ]
    },
    {
     "data": {
      "application/vnd.jupyter.widget-view+json": {
       "model_id": "",
       "version_major": 2,
       "version_minor": 0
      },
      "text/plain": [
       "  0%|          | 0/40 [00:00<?, ?it/s]"
      ]
     },
     "metadata": {},
     "output_type": "display_data"
    },
    {
     "name": "stdout",
     "output_type": "stream",
     "text": [
      "Training notebook[+2.9000000] iter 72\n",
      "{'a1': 1.224744871391589, 'a2': 2.9}\n",
      "{'dtype': 'float64', 'device': 'cuda:0', 'max_dim': 16, 'nLayers': 20, 'use_checkpoint': True}\n"
     ]
    },
    {
     "data": {
      "application/vnd.jupyter.widget-view+json": {
       "model_id": "",
       "version_major": 2,
       "version_minor": 0
      },
      "text/plain": [
       "  0%|          | 0/40 [00:00<?, ?it/s]"
      ]
     },
     "metadata": {},
     "output_type": "display_data"
    },
    {
     "name": "stdout",
     "output_type": "stream",
     "text": [
      "Training notebook[+3.1000000] iter 72\n",
      "{'a1': 1.224744871391589, 'a2': 3.1}\n",
      "{'dtype': 'float64', 'device': 'cuda:0', 'max_dim': 16, 'nLayers': 20, 'use_checkpoint': True}\n"
     ]
    },
    {
     "data": {
      "application/vnd.jupyter.widget-view+json": {
       "model_id": "",
       "version_major": 2,
       "version_minor": 0
      },
      "text/plain": [
       "  0%|          | 0/40 [00:00<?, ?it/s]"
      ]
     },
     "metadata": {},
     "output_type": "display_data"
    },
    {
     "name": "stdout",
     "output_type": "stream",
     "text": [
      "Training notebook[+2.5000000] iter 73\n",
      "{'a1': 1.224744871391589, 'a2': 2.5}\n",
      "{'dtype': 'float64', 'device': 'cuda:0', 'max_dim': 16, 'nLayers': 20, 'use_checkpoint': True}\n"
     ]
    },
    {
     "data": {
      "application/vnd.jupyter.widget-view+json": {
       "model_id": "",
       "version_major": 2,
       "version_minor": 0
      },
      "text/plain": [
       "  0%|          | 0/40 [00:00<?, ?it/s]"
      ]
     },
     "metadata": {},
     "output_type": "display_data"
    },
    {
     "name": "stdout",
     "output_type": "stream",
     "text": [
      "Training notebook[+2.7000000] iter 73\n",
      "{'a1': 1.224744871391589, 'a2': 2.7}\n",
      "{'dtype': 'float64', 'device': 'cuda:0', 'max_dim': 16, 'nLayers': 20, 'use_checkpoint': True}\n"
     ]
    },
    {
     "data": {
      "application/vnd.jupyter.widget-view+json": {
       "model_id": "",
       "version_major": 2,
       "version_minor": 0
      },
      "text/plain": [
       "  0%|          | 0/40 [00:00<?, ?it/s]"
      ]
     },
     "metadata": {},
     "output_type": "display_data"
    },
    {
     "name": "stdout",
     "output_type": "stream",
     "text": [
      "Training notebook[+2.9000000] iter 73\n",
      "{'a1': 1.224744871391589, 'a2': 2.9}\n",
      "{'dtype': 'float64', 'device': 'cuda:0', 'max_dim': 16, 'nLayers': 20, 'use_checkpoint': True}\n"
     ]
    },
    {
     "data": {
      "application/vnd.jupyter.widget-view+json": {
       "model_id": "",
       "version_major": 2,
       "version_minor": 0
      },
      "text/plain": [
       "  0%|          | 0/40 [00:00<?, ?it/s]"
      ]
     },
     "metadata": {},
     "output_type": "display_data"
    },
    {
     "name": "stdout",
     "output_type": "stream",
     "text": [
      "Training notebook[+3.1000000] iter 73\n",
      "{'a1': 1.224744871391589, 'a2': 3.1}\n",
      "{'dtype': 'float64', 'device': 'cuda:0', 'max_dim': 16, 'nLayers': 20, 'use_checkpoint': True}\n"
     ]
    },
    {
     "data": {
      "application/vnd.jupyter.widget-view+json": {
       "model_id": "",
       "version_major": 2,
       "version_minor": 0
      },
      "text/plain": [
       "  0%|          | 0/40 [00:00<?, ?it/s]"
      ]
     },
     "metadata": {},
     "output_type": "display_data"
    },
    {
     "name": "stdout",
     "output_type": "stream",
     "text": [
      "Training notebook[+2.5000000] iter 74\n",
      "{'a1': 1.224744871391589, 'a2': 2.5}\n",
      "{'dtype': 'float64', 'device': 'cuda:0', 'max_dim': 16, 'nLayers': 20, 'use_checkpoint': True}\n"
     ]
    },
    {
     "data": {
      "application/vnd.jupyter.widget-view+json": {
       "model_id": "",
       "version_major": 2,
       "version_minor": 0
      },
      "text/plain": [
       "  0%|          | 0/40 [00:00<?, ?it/s]"
      ]
     },
     "metadata": {},
     "output_type": "display_data"
    },
    {
     "name": "stdout",
     "output_type": "stream",
     "text": [
      "Training notebook[+2.7000000] iter 74\n",
      "{'a1': 1.224744871391589, 'a2': 2.7}\n",
      "{'dtype': 'float64', 'device': 'cuda:0', 'max_dim': 16, 'nLayers': 20, 'use_checkpoint': True}\n"
     ]
    },
    {
     "data": {
      "application/vnd.jupyter.widget-view+json": {
       "model_id": "",
       "version_major": 2,
       "version_minor": 0
      },
      "text/plain": [
       "  0%|          | 0/40 [00:00<?, ?it/s]"
      ]
     },
     "metadata": {},
     "output_type": "display_data"
    },
    {
     "name": "stdout",
     "output_type": "stream",
     "text": [
      "Training notebook[+2.9000000] iter 74\n",
      "{'a1': 1.224744871391589, 'a2': 2.9}\n",
      "{'dtype': 'float64', 'device': 'cuda:0', 'max_dim': 16, 'nLayers': 20, 'use_checkpoint': True}\n"
     ]
    },
    {
     "data": {
      "application/vnd.jupyter.widget-view+json": {
       "model_id": "",
       "version_major": 2,
       "version_minor": 0
      },
      "text/plain": [
       "  0%|          | 0/40 [00:00<?, ?it/s]"
      ]
     },
     "metadata": {},
     "output_type": "display_data"
    },
    {
     "name": "stdout",
     "output_type": "stream",
     "text": [
      "Training notebook[+3.1000000] iter 74\n",
      "{'a1': 1.224744871391589, 'a2': 3.1}\n",
      "{'dtype': 'float64', 'device': 'cuda:0', 'max_dim': 16, 'nLayers': 20, 'use_checkpoint': True}\n"
     ]
    },
    {
     "data": {
      "application/vnd.jupyter.widget-view+json": {
       "model_id": "",
       "version_major": 2,
       "version_minor": 0
      },
      "text/plain": [
       "  0%|          | 0/40 [00:00<?, ?it/s]"
      ]
     },
     "metadata": {},
     "output_type": "display_data"
    },
    {
     "name": "stdout",
     "output_type": "stream",
     "text": [
      "Training notebook[+2.5000000] iter 75\n",
      "{'a1': 1.224744871391589, 'a2': 2.5}\n",
      "{'dtype': 'float64', 'device': 'cuda:0', 'max_dim': 16, 'nLayers': 20, 'use_checkpoint': True}\n"
     ]
    },
    {
     "data": {
      "application/vnd.jupyter.widget-view+json": {
       "model_id": "",
       "version_major": 2,
       "version_minor": 0
      },
      "text/plain": [
       "  0%|          | 0/40 [00:00<?, ?it/s]"
      ]
     },
     "metadata": {},
     "output_type": "display_data"
    },
    {
     "name": "stdout",
     "output_type": "stream",
     "text": [
      "Training notebook[+2.7000000] iter 75\n",
      "{'a1': 1.224744871391589, 'a2': 2.7}\n",
      "{'dtype': 'float64', 'device': 'cuda:0', 'max_dim': 16, 'nLayers': 20, 'use_checkpoint': True}\n"
     ]
    },
    {
     "data": {
      "application/vnd.jupyter.widget-view+json": {
       "model_id": "",
       "version_major": 2,
       "version_minor": 0
      },
      "text/plain": [
       "  0%|          | 0/40 [00:00<?, ?it/s]"
      ]
     },
     "metadata": {},
     "output_type": "display_data"
    },
    {
     "name": "stdout",
     "output_type": "stream",
     "text": [
      "Training notebook[+2.9000000] iter 75\n",
      "{'a1': 1.224744871391589, 'a2': 2.9}\n",
      "{'dtype': 'float64', 'device': 'cuda:0', 'max_dim': 16, 'nLayers': 20, 'use_checkpoint': True}\n"
     ]
    },
    {
     "data": {
      "application/vnd.jupyter.widget-view+json": {
       "model_id": "",
       "version_major": 2,
       "version_minor": 0
      },
      "text/plain": [
       "  0%|          | 0/40 [00:00<?, ?it/s]"
      ]
     },
     "metadata": {},
     "output_type": "display_data"
    },
    {
     "name": "stdout",
     "output_type": "stream",
     "text": [
      "Training notebook[+3.1000000] iter 75\n",
      "{'a1': 1.224744871391589, 'a2': 3.1}\n",
      "{'dtype': 'float64', 'device': 'cuda:0', 'max_dim': 16, 'nLayers': 20, 'use_checkpoint': True}\n"
     ]
    },
    {
     "data": {
      "application/vnd.jupyter.widget-view+json": {
       "model_id": "",
       "version_major": 2,
       "version_minor": 0
      },
      "text/plain": [
       "  0%|          | 0/40 [00:00<?, ?it/s]"
      ]
     },
     "metadata": {},
     "output_type": "display_data"
    },
    {
     "name": "stdout",
     "output_type": "stream",
     "text": [
      "Training notebook[+2.5000000] iter 76\n",
      "{'a1': 1.224744871391589, 'a2': 2.5}\n",
      "{'dtype': 'float64', 'device': 'cuda:0', 'max_dim': 16, 'nLayers': 20, 'use_checkpoint': True}\n"
     ]
    },
    {
     "data": {
      "application/vnd.jupyter.widget-view+json": {
       "model_id": "",
       "version_major": 2,
       "version_minor": 0
      },
      "text/plain": [
       "  0%|          | 0/40 [00:00<?, ?it/s]"
      ]
     },
     "metadata": {},
     "output_type": "display_data"
    },
    {
     "name": "stdout",
     "output_type": "stream",
     "text": [
      "Training notebook[+2.7000000] iter 76\n",
      "{'a1': 1.224744871391589, 'a2': 2.7}\n",
      "{'dtype': 'float64', 'device': 'cuda:0', 'max_dim': 16, 'nLayers': 20, 'use_checkpoint': True}\n"
     ]
    },
    {
     "data": {
      "application/vnd.jupyter.widget-view+json": {
       "model_id": "",
       "version_major": 2,
       "version_minor": 0
      },
      "text/plain": [
       "  0%|          | 0/40 [00:00<?, ?it/s]"
      ]
     },
     "metadata": {},
     "output_type": "display_data"
    },
    {
     "name": "stdout",
     "output_type": "stream",
     "text": [
      "Training notebook[+2.9000000] iter 76\n",
      "{'a1': 1.224744871391589, 'a2': 2.9}\n",
      "{'dtype': 'float64', 'device': 'cuda:0', 'max_dim': 16, 'nLayers': 20, 'use_checkpoint': True}\n"
     ]
    },
    {
     "data": {
      "application/vnd.jupyter.widget-view+json": {
       "model_id": "",
       "version_major": 2,
       "version_minor": 0
      },
      "text/plain": [
       "  0%|          | 0/40 [00:00<?, ?it/s]"
      ]
     },
     "metadata": {},
     "output_type": "display_data"
    },
    {
     "name": "stdout",
     "output_type": "stream",
     "text": [
      "Training notebook[+3.1000000] iter 76\n",
      "{'a1': 1.224744871391589, 'a2': 3.1}\n",
      "{'dtype': 'float64', 'device': 'cuda:0', 'max_dim': 16, 'nLayers': 20, 'use_checkpoint': True}\n"
     ]
    },
    {
     "data": {
      "application/vnd.jupyter.widget-view+json": {
       "model_id": "",
       "version_major": 2,
       "version_minor": 0
      },
      "text/plain": [
       "  0%|          | 0/40 [00:00<?, ?it/s]"
      ]
     },
     "metadata": {},
     "output_type": "display_data"
    },
    {
     "name": "stdout",
     "output_type": "stream",
     "text": [
      "Training notebook[+2.5000000] iter 77\n",
      "{'a1': 1.224744871391589, 'a2': 2.5}\n",
      "{'dtype': 'float64', 'device': 'cuda:0', 'max_dim': 16, 'nLayers': 20, 'use_checkpoint': True}\n"
     ]
    },
    {
     "data": {
      "application/vnd.jupyter.widget-view+json": {
       "model_id": "",
       "version_major": 2,
       "version_minor": 0
      },
      "text/plain": [
       "  0%|          | 0/40 [00:00<?, ?it/s]"
      ]
     },
     "metadata": {},
     "output_type": "display_data"
    },
    {
     "name": "stdout",
     "output_type": "stream",
     "text": [
      "Training notebook[+2.7000000] iter 77\n",
      "{'a1': 1.224744871391589, 'a2': 2.7}\n",
      "{'dtype': 'float64', 'device': 'cuda:0', 'max_dim': 16, 'nLayers': 20, 'use_checkpoint': True}\n"
     ]
    },
    {
     "data": {
      "application/vnd.jupyter.widget-view+json": {
       "model_id": "",
       "version_major": 2,
       "version_minor": 0
      },
      "text/plain": [
       "  0%|          | 0/40 [00:00<?, ?it/s]"
      ]
     },
     "metadata": {},
     "output_type": "display_data"
    },
    {
     "name": "stdout",
     "output_type": "stream",
     "text": [
      "Training notebook[+2.9000000] iter 77\n",
      "{'a1': 1.224744871391589, 'a2': 2.9}\n",
      "{'dtype': 'float64', 'device': 'cuda:0', 'max_dim': 16, 'nLayers': 20, 'use_checkpoint': True}\n"
     ]
    },
    {
     "data": {
      "application/vnd.jupyter.widget-view+json": {
       "model_id": "",
       "version_major": 2,
       "version_minor": 0
      },
      "text/plain": [
       "  0%|          | 0/40 [00:00<?, ?it/s]"
      ]
     },
     "metadata": {},
     "output_type": "display_data"
    },
    {
     "name": "stdout",
     "output_type": "stream",
     "text": [
      "Training notebook[+3.1000000] iter 77\n",
      "{'a1': 1.224744871391589, 'a2': 3.1}\n",
      "{'dtype': 'float64', 'device': 'cuda:0', 'max_dim': 16, 'nLayers': 20, 'use_checkpoint': True}\n"
     ]
    },
    {
     "data": {
      "application/vnd.jupyter.widget-view+json": {
       "model_id": "",
       "version_major": 2,
       "version_minor": 0
      },
      "text/plain": [
       "  0%|          | 0/40 [00:00<?, ?it/s]"
      ]
     },
     "metadata": {},
     "output_type": "display_data"
    },
    {
     "name": "stdout",
     "output_type": "stream",
     "text": [
      "Training notebook[+2.5000000] iter 78\n",
      "{'a1': 1.224744871391589, 'a2': 2.5}\n",
      "{'dtype': 'float64', 'device': 'cuda:0', 'max_dim': 16, 'nLayers': 20, 'use_checkpoint': True}\n"
     ]
    },
    {
     "data": {
      "application/vnd.jupyter.widget-view+json": {
       "model_id": "",
       "version_major": 2,
       "version_minor": 0
      },
      "text/plain": [
       "  0%|          | 0/40 [00:00<?, ?it/s]"
      ]
     },
     "metadata": {},
     "output_type": "display_data"
    },
    {
     "name": "stdout",
     "output_type": "stream",
     "text": [
      "Training notebook[+2.7000000] iter 78\n",
      "{'a1': 1.224744871391589, 'a2': 2.7}\n",
      "{'dtype': 'float64', 'device': 'cuda:0', 'max_dim': 16, 'nLayers': 20, 'use_checkpoint': True}\n"
     ]
    },
    {
     "data": {
      "application/vnd.jupyter.widget-view+json": {
       "model_id": "",
       "version_major": 2,
       "version_minor": 0
      },
      "text/plain": [
       "  0%|          | 0/40 [00:00<?, ?it/s]"
      ]
     },
     "metadata": {},
     "output_type": "display_data"
    },
    {
     "name": "stdout",
     "output_type": "stream",
     "text": [
      "Training notebook[+2.9000000] iter 78\n",
      "{'a1': 1.224744871391589, 'a2': 2.9}\n",
      "{'dtype': 'float64', 'device': 'cuda:0', 'max_dim': 16, 'nLayers': 20, 'use_checkpoint': True}\n"
     ]
    },
    {
     "data": {
      "application/vnd.jupyter.widget-view+json": {
       "model_id": "",
       "version_major": 2,
       "version_minor": 0
      },
      "text/plain": [
       "  0%|          | 0/40 [00:00<?, ?it/s]"
      ]
     },
     "metadata": {},
     "output_type": "display_data"
    },
    {
     "name": "stdout",
     "output_type": "stream",
     "text": [
      "Training notebook[+3.1000000] iter 78\n",
      "{'a1': 1.224744871391589, 'a2': 3.1}\n",
      "{'dtype': 'float64', 'device': 'cuda:0', 'max_dim': 16, 'nLayers': 20, 'use_checkpoint': True}\n"
     ]
    },
    {
     "data": {
      "application/vnd.jupyter.widget-view+json": {
       "model_id": "",
       "version_major": 2,
       "version_minor": 0
      },
      "text/plain": [
       "  0%|          | 0/40 [00:00<?, ?it/s]"
      ]
     },
     "metadata": {},
     "output_type": "display_data"
    },
    {
     "name": "stdout",
     "output_type": "stream",
     "text": [
      "Training notebook[+2.5000000] iter 79\n",
      "{'a1': 1.224744871391589, 'a2': 2.5}\n",
      "{'dtype': 'float64', 'device': 'cuda:0', 'max_dim': 16, 'nLayers': 20, 'use_checkpoint': True}\n"
     ]
    },
    {
     "data": {
      "application/vnd.jupyter.widget-view+json": {
       "model_id": "",
       "version_major": 2,
       "version_minor": 0
      },
      "text/plain": [
       "  0%|          | 0/40 [00:00<?, ?it/s]"
      ]
     },
     "metadata": {},
     "output_type": "display_data"
    },
    {
     "name": "stdout",
     "output_type": "stream",
     "text": [
      "Training notebook[+2.7000000] iter 79\n",
      "{'a1': 1.224744871391589, 'a2': 2.7}\n",
      "{'dtype': 'float64', 'device': 'cuda:0', 'max_dim': 16, 'nLayers': 20, 'use_checkpoint': True}\n"
     ]
    },
    {
     "data": {
      "application/vnd.jupyter.widget-view+json": {
       "model_id": "",
       "version_major": 2,
       "version_minor": 0
      },
      "text/plain": [
       "  0%|          | 0/40 [00:00<?, ?it/s]"
      ]
     },
     "metadata": {},
     "output_type": "display_data"
    },
    {
     "name": "stdout",
     "output_type": "stream",
     "text": [
      "Training notebook[+2.9000000] iter 79\n",
      "{'a1': 1.224744871391589, 'a2': 2.9}\n",
      "{'dtype': 'float64', 'device': 'cuda:0', 'max_dim': 16, 'nLayers': 20, 'use_checkpoint': True}\n"
     ]
    },
    {
     "data": {
      "application/vnd.jupyter.widget-view+json": {
       "model_id": "",
       "version_major": 2,
       "version_minor": 0
      },
      "text/plain": [
       "  0%|          | 0/40 [00:00<?, ?it/s]"
      ]
     },
     "metadata": {},
     "output_type": "display_data"
    },
    {
     "name": "stdout",
     "output_type": "stream",
     "text": [
      "Training notebook[+3.1000000] iter 79\n",
      "{'a1': 1.224744871391589, 'a2': 3.1}\n",
      "{'dtype': 'float64', 'device': 'cuda:0', 'max_dim': 16, 'nLayers': 20, 'use_checkpoint': True}\n"
     ]
    },
    {
     "data": {
      "application/vnd.jupyter.widget-view+json": {
       "model_id": "",
       "version_major": 2,
       "version_minor": 0
      },
      "text/plain": [
       "  0%|          | 0/40 [00:00<?, ?it/s]"
      ]
     },
     "metadata": {},
     "output_type": "display_data"
    },
    {
     "name": "stdout",
     "output_type": "stream",
     "text": [
      "Training notebook[+2.5000000] iter 80\n",
      "{'a1': 1.224744871391589, 'a2': 2.5}\n",
      "{'dtype': 'float64', 'device': 'cuda:0', 'max_dim': 16, 'nLayers': 20, 'use_checkpoint': True}\n"
     ]
    },
    {
     "data": {
      "application/vnd.jupyter.widget-view+json": {
       "model_id": "",
       "version_major": 2,
       "version_minor": 0
      },
      "text/plain": [
       "  0%|          | 0/40 [00:00<?, ?it/s]"
      ]
     },
     "metadata": {},
     "output_type": "display_data"
    },
    {
     "name": "stdout",
     "output_type": "stream",
     "text": [
      "Training notebook[+2.7000000] iter 80\n",
      "{'a1': 1.224744871391589, 'a2': 2.7}\n",
      "{'dtype': 'float64', 'device': 'cuda:0', 'max_dim': 16, 'nLayers': 20, 'use_checkpoint': True}\n"
     ]
    },
    {
     "data": {
      "application/vnd.jupyter.widget-view+json": {
       "model_id": "",
       "version_major": 2,
       "version_minor": 0
      },
      "text/plain": [
       "  0%|          | 0/40 [00:00<?, ?it/s]"
      ]
     },
     "metadata": {},
     "output_type": "display_data"
    },
    {
     "name": "stdout",
     "output_type": "stream",
     "text": [
      "Training notebook[+2.9000000] iter 80\n",
      "{'a1': 1.224744871391589, 'a2': 2.9}\n",
      "{'dtype': 'float64', 'device': 'cuda:0', 'max_dim': 16, 'nLayers': 20, 'use_checkpoint': True}\n"
     ]
    },
    {
     "data": {
      "application/vnd.jupyter.widget-view+json": {
       "model_id": "",
       "version_major": 2,
       "version_minor": 0
      },
      "text/plain": [
       "  0%|          | 0/40 [00:00<?, ?it/s]"
      ]
     },
     "metadata": {},
     "output_type": "display_data"
    },
    {
     "name": "stdout",
     "output_type": "stream",
     "text": [
      "Training notebook[+3.1000000] iter 80\n",
      "{'a1': 1.224744871391589, 'a2': 3.1}\n",
      "{'dtype': 'float64', 'device': 'cuda:0', 'max_dim': 16, 'nLayers': 20, 'use_checkpoint': True}\n"
     ]
    },
    {
     "data": {
      "application/vnd.jupyter.widget-view+json": {
       "model_id": "",
       "version_major": 2,
       "version_minor": 0
      },
      "text/plain": [
       "  0%|          | 0/40 [00:00<?, ?it/s]"
      ]
     },
     "metadata": {},
     "output_type": "display_data"
    },
    {
     "name": "stdout",
     "output_type": "stream",
     "text": [
      "Training notebook[+2.5000000] iter 81\n",
      "{'a1': 1.224744871391589, 'a2': 2.5}\n",
      "{'dtype': 'float64', 'device': 'cuda:0', 'max_dim': 16, 'nLayers': 20, 'use_checkpoint': True}\n"
     ]
    },
    {
     "data": {
      "application/vnd.jupyter.widget-view+json": {
       "model_id": "",
       "version_major": 2,
       "version_minor": 0
      },
      "text/plain": [
       "  0%|          | 0/40 [00:00<?, ?it/s]"
      ]
     },
     "metadata": {},
     "output_type": "display_data"
    },
    {
     "name": "stdout",
     "output_type": "stream",
     "text": [
      "Training notebook[+2.7000000] iter 81\n",
      "{'a1': 1.224744871391589, 'a2': 2.7}\n",
      "{'dtype': 'float64', 'device': 'cuda:0', 'max_dim': 16, 'nLayers': 20, 'use_checkpoint': True}\n"
     ]
    },
    {
     "data": {
      "application/vnd.jupyter.widget-view+json": {
       "model_id": "",
       "version_major": 2,
       "version_minor": 0
      },
      "text/plain": [
       "  0%|          | 0/40 [00:00<?, ?it/s]"
      ]
     },
     "metadata": {},
     "output_type": "display_data"
    },
    {
     "name": "stdout",
     "output_type": "stream",
     "text": [
      "Training notebook[+2.9000000] iter 81\n",
      "{'a1': 1.224744871391589, 'a2': 2.9}\n",
      "{'dtype': 'float64', 'device': 'cuda:0', 'max_dim': 16, 'nLayers': 20, 'use_checkpoint': True}\n"
     ]
    },
    {
     "data": {
      "application/vnd.jupyter.widget-view+json": {
       "model_id": "",
       "version_major": 2,
       "version_minor": 0
      },
      "text/plain": [
       "  0%|          | 0/40 [00:00<?, ?it/s]"
      ]
     },
     "metadata": {},
     "output_type": "display_data"
    },
    {
     "name": "stdout",
     "output_type": "stream",
     "text": [
      "Training notebook[+3.1000000] iter 81\n",
      "{'a1': 1.224744871391589, 'a2': 3.1}\n",
      "{'dtype': 'float64', 'device': 'cuda:0', 'max_dim': 16, 'nLayers': 20, 'use_checkpoint': True}\n"
     ]
    },
    {
     "data": {
      "application/vnd.jupyter.widget-view+json": {
       "model_id": "",
       "version_major": 2,
       "version_minor": 0
      },
      "text/plain": [
       "  0%|          | 0/40 [00:00<?, ?it/s]"
      ]
     },
     "metadata": {},
     "output_type": "display_data"
    },
    {
     "name": "stdout",
     "output_type": "stream",
     "text": [
      "Training notebook[+2.5000000] iter 82\n",
      "{'a1': 1.224744871391589, 'a2': 2.5}\n",
      "{'dtype': 'float64', 'device': 'cuda:0', 'max_dim': 16, 'nLayers': 20, 'use_checkpoint': True}\n"
     ]
    },
    {
     "data": {
      "application/vnd.jupyter.widget-view+json": {
       "model_id": "",
       "version_major": 2,
       "version_minor": 0
      },
      "text/plain": [
       "  0%|          | 0/40 [00:00<?, ?it/s]"
      ]
     },
     "metadata": {},
     "output_type": "display_data"
    },
    {
     "name": "stdout",
     "output_type": "stream",
     "text": [
      "Training notebook[+2.7000000] iter 82\n",
      "{'a1': 1.224744871391589, 'a2': 2.7}\n",
      "{'dtype': 'float64', 'device': 'cuda:0', 'max_dim': 16, 'nLayers': 20, 'use_checkpoint': True}\n"
     ]
    },
    {
     "data": {
      "application/vnd.jupyter.widget-view+json": {
       "model_id": "",
       "version_major": 2,
       "version_minor": 0
      },
      "text/plain": [
       "  0%|          | 0/40 [00:00<?, ?it/s]"
      ]
     },
     "metadata": {},
     "output_type": "display_data"
    },
    {
     "name": "stdout",
     "output_type": "stream",
     "text": [
      "Training notebook[+2.9000000] iter 82\n",
      "{'a1': 1.224744871391589, 'a2': 2.9}\n",
      "{'dtype': 'float64', 'device': 'cuda:0', 'max_dim': 16, 'nLayers': 20, 'use_checkpoint': True}\n"
     ]
    },
    {
     "data": {
      "application/vnd.jupyter.widget-view+json": {
       "model_id": "",
       "version_major": 2,
       "version_minor": 0
      },
      "text/plain": [
       "  0%|          | 0/40 [00:00<?, ?it/s]"
      ]
     },
     "metadata": {},
     "output_type": "display_data"
    },
    {
     "name": "stdout",
     "output_type": "stream",
     "text": [
      "Training notebook[+3.1000000] iter 82\n",
      "{'a1': 1.224744871391589, 'a2': 3.1}\n",
      "{'dtype': 'float64', 'device': 'cuda:0', 'max_dim': 16, 'nLayers': 20, 'use_checkpoint': True}\n"
     ]
    },
    {
     "data": {
      "application/vnd.jupyter.widget-view+json": {
       "model_id": "",
       "version_major": 2,
       "version_minor": 0
      },
      "text/plain": [
       "  0%|          | 0/40 [00:00<?, ?it/s]"
      ]
     },
     "metadata": {},
     "output_type": "display_data"
    },
    {
     "name": "stdout",
     "output_type": "stream",
     "text": [
      "Training notebook[+2.5000000] iter 83\n",
      "{'a1': 1.224744871391589, 'a2': 2.5}\n",
      "{'dtype': 'float64', 'device': 'cuda:0', 'max_dim': 16, 'nLayers': 20, 'use_checkpoint': True}\n"
     ]
    },
    {
     "data": {
      "application/vnd.jupyter.widget-view+json": {
       "model_id": "",
       "version_major": 2,
       "version_minor": 0
      },
      "text/plain": [
       "  0%|          | 0/40 [00:00<?, ?it/s]"
      ]
     },
     "metadata": {},
     "output_type": "display_data"
    },
    {
     "name": "stdout",
     "output_type": "stream",
     "text": [
      "Training notebook[+2.7000000] iter 83\n",
      "{'a1': 1.224744871391589, 'a2': 2.7}\n",
      "{'dtype': 'float64', 'device': 'cuda:0', 'max_dim': 16, 'nLayers': 20, 'use_checkpoint': True}\n"
     ]
    },
    {
     "data": {
      "application/vnd.jupyter.widget-view+json": {
       "model_id": "",
       "version_major": 2,
       "version_minor": 0
      },
      "text/plain": [
       "  0%|          | 0/40 [00:00<?, ?it/s]"
      ]
     },
     "metadata": {},
     "output_type": "display_data"
    },
    {
     "name": "stdout",
     "output_type": "stream",
     "text": [
      "Training notebook[+2.9000000] iter 83\n",
      "{'a1': 1.224744871391589, 'a2': 2.9}\n",
      "{'dtype': 'float64', 'device': 'cuda:0', 'max_dim': 16, 'nLayers': 20, 'use_checkpoint': True}\n"
     ]
    },
    {
     "data": {
      "application/vnd.jupyter.widget-view+json": {
       "model_id": "",
       "version_major": 2,
       "version_minor": 0
      },
      "text/plain": [
       "  0%|          | 0/40 [00:00<?, ?it/s]"
      ]
     },
     "metadata": {},
     "output_type": "display_data"
    },
    {
     "name": "stdout",
     "output_type": "stream",
     "text": [
      "Training notebook[+3.1000000] iter 83\n",
      "{'a1': 1.224744871391589, 'a2': 3.1}\n",
      "{'dtype': 'float64', 'device': 'cuda:0', 'max_dim': 16, 'nLayers': 20, 'use_checkpoint': True}\n"
     ]
    },
    {
     "data": {
      "application/vnd.jupyter.widget-view+json": {
       "model_id": "",
       "version_major": 2,
       "version_minor": 0
      },
      "text/plain": [
       "  0%|          | 0/40 [00:00<?, ?it/s]"
      ]
     },
     "metadata": {},
     "output_type": "display_data"
    },
    {
     "name": "stdout",
     "output_type": "stream",
     "text": [
      "Training notebook[+2.5000000] iter 84\n",
      "{'a1': 1.224744871391589, 'a2': 2.5}\n",
      "{'dtype': 'float64', 'device': 'cuda:0', 'max_dim': 16, 'nLayers': 20, 'use_checkpoint': True}\n"
     ]
    },
    {
     "data": {
      "application/vnd.jupyter.widget-view+json": {
       "model_id": "",
       "version_major": 2,
       "version_minor": 0
      },
      "text/plain": [
       "  0%|          | 0/40 [00:00<?, ?it/s]"
      ]
     },
     "metadata": {},
     "output_type": "display_data"
    },
    {
     "name": "stdout",
     "output_type": "stream",
     "text": [
      "Training notebook[+2.7000000] iter 84\n",
      "{'a1': 1.224744871391589, 'a2': 2.7}\n",
      "{'dtype': 'float64', 'device': 'cuda:0', 'max_dim': 16, 'nLayers': 20, 'use_checkpoint': True}\n"
     ]
    },
    {
     "data": {
      "application/vnd.jupyter.widget-view+json": {
       "model_id": "",
       "version_major": 2,
       "version_minor": 0
      },
      "text/plain": [
       "  0%|          | 0/40 [00:00<?, ?it/s]"
      ]
     },
     "metadata": {},
     "output_type": "display_data"
    },
    {
     "name": "stdout",
     "output_type": "stream",
     "text": [
      "Training notebook[+2.9000000] iter 84\n",
      "{'a1': 1.224744871391589, 'a2': 2.9}\n",
      "{'dtype': 'float64', 'device': 'cuda:0', 'max_dim': 16, 'nLayers': 20, 'use_checkpoint': True}\n"
     ]
    },
    {
     "data": {
      "application/vnd.jupyter.widget-view+json": {
       "model_id": "",
       "version_major": 2,
       "version_minor": 0
      },
      "text/plain": [
       "  0%|          | 0/40 [00:00<?, ?it/s]"
      ]
     },
     "metadata": {},
     "output_type": "display_data"
    },
    {
     "name": "stdout",
     "output_type": "stream",
     "text": [
      "Training notebook[+3.1000000] iter 84\n",
      "{'a1': 1.224744871391589, 'a2': 3.1}\n",
      "{'dtype': 'float64', 'device': 'cuda:0', 'max_dim': 16, 'nLayers': 20, 'use_checkpoint': True}\n"
     ]
    },
    {
     "data": {
      "application/vnd.jupyter.widget-view+json": {
       "model_id": "",
       "version_major": 2,
       "version_minor": 0
      },
      "text/plain": [
       "  0%|          | 0/40 [00:00<?, ?it/s]"
      ]
     },
     "metadata": {},
     "output_type": "display_data"
    },
    {
     "name": "stdout",
     "output_type": "stream",
     "text": [
      "Training notebook[+2.5000000] iter 85\n",
      "{'a1': 1.224744871391589, 'a2': 2.5}\n",
      "{'dtype': 'float64', 'device': 'cuda:0', 'max_dim': 16, 'nLayers': 20, 'use_checkpoint': True}\n"
     ]
    },
    {
     "data": {
      "application/vnd.jupyter.widget-view+json": {
       "model_id": "",
       "version_major": 2,
       "version_minor": 0
      },
      "text/plain": [
       "  0%|          | 0/40 [00:00<?, ?it/s]"
      ]
     },
     "metadata": {},
     "output_type": "display_data"
    },
    {
     "name": "stdout",
     "output_type": "stream",
     "text": [
      "Training notebook[+2.7000000] iter 85\n",
      "{'a1': 1.224744871391589, 'a2': 2.7}\n",
      "{'dtype': 'float64', 'device': 'cuda:0', 'max_dim': 16, 'nLayers': 20, 'use_checkpoint': True}\n"
     ]
    },
    {
     "data": {
      "application/vnd.jupyter.widget-view+json": {
       "model_id": "",
       "version_major": 2,
       "version_minor": 0
      },
      "text/plain": [
       "  0%|          | 0/40 [00:00<?, ?it/s]"
      ]
     },
     "metadata": {},
     "output_type": "display_data"
    },
    {
     "name": "stdout",
     "output_type": "stream",
     "text": [
      "Training notebook[+2.9000000] iter 85\n",
      "{'a1': 1.224744871391589, 'a2': 2.9}\n",
      "{'dtype': 'float64', 'device': 'cuda:0', 'max_dim': 16, 'nLayers': 20, 'use_checkpoint': True}\n"
     ]
    },
    {
     "data": {
      "application/vnd.jupyter.widget-view+json": {
       "model_id": "",
       "version_major": 2,
       "version_minor": 0
      },
      "text/plain": [
       "  0%|          | 0/40 [00:00<?, ?it/s]"
      ]
     },
     "metadata": {},
     "output_type": "display_data"
    },
    {
     "name": "stdout",
     "output_type": "stream",
     "text": [
      "Training notebook[+3.1000000] iter 85\n",
      "{'a1': 1.224744871391589, 'a2': 3.1}\n",
      "{'dtype': 'float64', 'device': 'cuda:0', 'max_dim': 16, 'nLayers': 20, 'use_checkpoint': True}\n"
     ]
    },
    {
     "data": {
      "application/vnd.jupyter.widget-view+json": {
       "model_id": "",
       "version_major": 2,
       "version_minor": 0
      },
      "text/plain": [
       "  0%|          | 0/40 [00:00<?, ?it/s]"
      ]
     },
     "metadata": {},
     "output_type": "display_data"
    },
    {
     "name": "stdout",
     "output_type": "stream",
     "text": [
      "Training notebook[+2.5000000] iter 86\n",
      "{'a1': 1.224744871391589, 'a2': 2.5}\n",
      "{'dtype': 'float64', 'device': 'cuda:0', 'max_dim': 16, 'nLayers': 20, 'use_checkpoint': True}\n"
     ]
    },
    {
     "data": {
      "application/vnd.jupyter.widget-view+json": {
       "model_id": "",
       "version_major": 2,
       "version_minor": 0
      },
      "text/plain": [
       "  0%|          | 0/40 [00:00<?, ?it/s]"
      ]
     },
     "metadata": {},
     "output_type": "display_data"
    },
    {
     "name": "stdout",
     "output_type": "stream",
     "text": [
      "Training notebook[+2.7000000] iter 86\n",
      "{'a1': 1.224744871391589, 'a2': 2.7}\n",
      "{'dtype': 'float64', 'device': 'cuda:0', 'max_dim': 16, 'nLayers': 20, 'use_checkpoint': True}\n"
     ]
    },
    {
     "data": {
      "application/vnd.jupyter.widget-view+json": {
       "model_id": "",
       "version_major": 2,
       "version_minor": 0
      },
      "text/plain": [
       "  0%|          | 0/40 [00:00<?, ?it/s]"
      ]
     },
     "metadata": {},
     "output_type": "display_data"
    },
    {
     "name": "stdout",
     "output_type": "stream",
     "text": [
      "Training notebook[+2.9000000] iter 86\n",
      "{'a1': 1.224744871391589, 'a2': 2.9}\n",
      "{'dtype': 'float64', 'device': 'cuda:0', 'max_dim': 16, 'nLayers': 20, 'use_checkpoint': True}\n"
     ]
    },
    {
     "data": {
      "application/vnd.jupyter.widget-view+json": {
       "model_id": "",
       "version_major": 2,
       "version_minor": 0
      },
      "text/plain": [
       "  0%|          | 0/40 [00:00<?, ?it/s]"
      ]
     },
     "metadata": {},
     "output_type": "display_data"
    },
    {
     "name": "stdout",
     "output_type": "stream",
     "text": [
      "Training notebook[+3.1000000] iter 86\n",
      "{'a1': 1.224744871391589, 'a2': 3.1}\n",
      "{'dtype': 'float64', 'device': 'cuda:0', 'max_dim': 16, 'nLayers': 20, 'use_checkpoint': True}\n"
     ]
    },
    {
     "data": {
      "application/vnd.jupyter.widget-view+json": {
       "model_id": "",
       "version_major": 2,
       "version_minor": 0
      },
      "text/plain": [
       "  0%|          | 0/40 [00:00<?, ?it/s]"
      ]
     },
     "metadata": {},
     "output_type": "display_data"
    },
    {
     "name": "stdout",
     "output_type": "stream",
     "text": [
      "Training notebook[+2.5000000] iter 87\n",
      "{'a1': 1.224744871391589, 'a2': 2.5}\n",
      "{'dtype': 'float64', 'device': 'cuda:0', 'max_dim': 16, 'nLayers': 20, 'use_checkpoint': True}\n"
     ]
    },
    {
     "data": {
      "application/vnd.jupyter.widget-view+json": {
       "model_id": "",
       "version_major": 2,
       "version_minor": 0
      },
      "text/plain": [
       "  0%|          | 0/40 [00:00<?, ?it/s]"
      ]
     },
     "metadata": {},
     "output_type": "display_data"
    },
    {
     "name": "stdout",
     "output_type": "stream",
     "text": [
      "Training notebook[+2.7000000] iter 87\n",
      "{'a1': 1.224744871391589, 'a2': 2.7}\n",
      "{'dtype': 'float64', 'device': 'cuda:0', 'max_dim': 16, 'nLayers': 20, 'use_checkpoint': True}\n"
     ]
    },
    {
     "data": {
      "application/vnd.jupyter.widget-view+json": {
       "model_id": "",
       "version_major": 2,
       "version_minor": 0
      },
      "text/plain": [
       "  0%|          | 0/40 [00:00<?, ?it/s]"
      ]
     },
     "metadata": {},
     "output_type": "display_data"
    },
    {
     "name": "stdout",
     "output_type": "stream",
     "text": [
      "Training notebook[+2.9000000] iter 87\n",
      "{'a1': 1.224744871391589, 'a2': 2.9}\n",
      "{'dtype': 'float64', 'device': 'cuda:0', 'max_dim': 16, 'nLayers': 20, 'use_checkpoint': True}\n"
     ]
    },
    {
     "data": {
      "application/vnd.jupyter.widget-view+json": {
       "model_id": "",
       "version_major": 2,
       "version_minor": 0
      },
      "text/plain": [
       "  0%|          | 0/40 [00:00<?, ?it/s]"
      ]
     },
     "metadata": {},
     "output_type": "display_data"
    },
    {
     "name": "stdout",
     "output_type": "stream",
     "text": [
      "Training notebook[+3.1000000] iter 87\n",
      "{'a1': 1.224744871391589, 'a2': 3.1}\n",
      "{'dtype': 'float64', 'device': 'cuda:0', 'max_dim': 16, 'nLayers': 20, 'use_checkpoint': True}\n"
     ]
    },
    {
     "data": {
      "application/vnd.jupyter.widget-view+json": {
       "model_id": "",
       "version_major": 2,
       "version_minor": 0
      },
      "text/plain": [
       "  0%|          | 0/40 [00:00<?, ?it/s]"
      ]
     },
     "metadata": {},
     "output_type": "display_data"
    },
    {
     "name": "stdout",
     "output_type": "stream",
     "text": [
      "Training notebook[+2.5000000] iter 88\n",
      "{'a1': 1.224744871391589, 'a2': 2.5}\n",
      "{'dtype': 'float64', 'device': 'cuda:0', 'max_dim': 16, 'nLayers': 20, 'use_checkpoint': True}\n"
     ]
    },
    {
     "data": {
      "application/vnd.jupyter.widget-view+json": {
       "model_id": "",
       "version_major": 2,
       "version_minor": 0
      },
      "text/plain": [
       "  0%|          | 0/40 [00:00<?, ?it/s]"
      ]
     },
     "metadata": {},
     "output_type": "display_data"
    },
    {
     "name": "stdout",
     "output_type": "stream",
     "text": [
      "Training notebook[+2.7000000] iter 88\n",
      "{'a1': 1.224744871391589, 'a2': 2.7}\n",
      "{'dtype': 'float64', 'device': 'cuda:0', 'max_dim': 16, 'nLayers': 20, 'use_checkpoint': True}\n"
     ]
    },
    {
     "data": {
      "application/vnd.jupyter.widget-view+json": {
       "model_id": "",
       "version_major": 2,
       "version_minor": 0
      },
      "text/plain": [
       "  0%|          | 0/40 [00:00<?, ?it/s]"
      ]
     },
     "metadata": {},
     "output_type": "display_data"
    },
    {
     "name": "stdout",
     "output_type": "stream",
     "text": [
      "Training notebook[+2.9000000] iter 88\n",
      "{'a1': 1.224744871391589, 'a2': 2.9}\n",
      "{'dtype': 'float64', 'device': 'cuda:0', 'max_dim': 16, 'nLayers': 20, 'use_checkpoint': True}\n"
     ]
    },
    {
     "data": {
      "application/vnd.jupyter.widget-view+json": {
       "model_id": "f110d9419ed54afcbcda5d37a080379a",
       "version_major": 2,
       "version_minor": 0
      },
      "text/plain": [
       "  0%|          | 0/40 [00:00<?, ?it/s]"
      ]
     },
     "metadata": {},
     "output_type": "display_data"
    },
    {
     "ename": "KeyboardInterrupt",
     "evalue": "",
     "output_type": "error",
     "traceback": [
      "\u001b[0;31m---------------------------------------------------------------------------\u001b[0m",
      "\u001b[0;31mKeyboardInterrupt\u001b[0m                         Traceback (most recent call last)",
      "\u001b[0;32m/tmp/ipykernel_29744/1770115259.py\u001b[0m in \u001b[0;36m<module>\u001b[0;34m\u001b[0m\n\u001b[1;32m     12\u001b[0m     \u001b[0;32mfor\u001b[0m \u001b[0ma\u001b[0m \u001b[0;32min\u001b[0m \u001b[0malist\u001b[0m\u001b[0;34m:\u001b[0m\u001b[0;34m\u001b[0m\u001b[0;34m\u001b[0m\u001b[0m\n\u001b[1;32m     13\u001b[0m         \u001b[0mdatapoint_name\u001b[0m\u001b[0;34m=\u001b[0m\u001b[0;34mf'{script_name}[{a:+.7f}]'\u001b[0m\u001b[0;34m\u001b[0m\u001b[0;34m\u001b[0m\u001b[0m\n\u001b[0;32m---> 14\u001b[0;31m         \u001b[0mTrain\u001b[0m\u001b[0;34m(\u001b[0m\u001b[0mdatapoint_name\u001b[0m\u001b[0;34m,\u001b[0m\u001b[0mModel\u001b[0m\u001b[0;34m=\u001b[0m\u001b[0mAKLT2D\u001b[0m\u001b[0;34m,\u001b[0m\u001b[0mNewRow\u001b[0m\u001b[0;34m=\u001b[0m\u001b[0mNewRow\u001b[0m\u001b[0;34m,\u001b[0m\u001b[0mnIter\u001b[0m\u001b[0;34m=\u001b[0m\u001b[0;36m1\u001b[0m\u001b[0;34m)\u001b[0m\u001b[0;34m\u001b[0m\u001b[0;34m\u001b[0m\u001b[0m\n\u001b[0m",
      "\u001b[0;32m/tmp/ipykernel_29744/1228470821.py\u001b[0m in \u001b[0;36mTrain\u001b[0;34m(name, Model, NewRow, nIter, Models, device)\u001b[0m\n\u001b[1;32m     47\u001b[0m     \u001b[0mstart_time\u001b[0m\u001b[0;34m=\u001b[0m\u001b[0mtime\u001b[0m\u001b[0;34m.\u001b[0m\u001b[0mtime\u001b[0m\u001b[0;34m(\u001b[0m\u001b[0;34m)\u001b[0m\u001b[0;34m\u001b[0m\u001b[0;34m\u001b[0m\u001b[0m\n\u001b[1;32m     48\u001b[0m \u001b[0;34m\u001b[0m\u001b[0m\n\u001b[0;32m---> 49\u001b[0;31m     \u001b[0mmodel\u001b[0m\u001b[0;34m.\u001b[0m\u001b[0moptimize\u001b[0m\u001b[0;34m(\u001b[0m\u001b[0mnIter\u001b[0m\u001b[0;34m)\u001b[0m\u001b[0;34m\u001b[0m\u001b[0;34m\u001b[0m\u001b[0m\n\u001b[0m\u001b[1;32m     50\u001b[0m     \u001b[0mmodel\u001b[0m\u001b[0;34m.\u001b[0m\u001b[0mcalc_magnetization\u001b[0m\u001b[0;34m(\u001b[0m\u001b[0;34m)\u001b[0m\u001b[0;34m\u001b[0m\u001b[0;34m\u001b[0m\u001b[0m\n\u001b[1;32m     51\u001b[0m \u001b[0;34m\u001b[0m\u001b[0m\n",
      "\u001b[0;32m/tmp/ipykernel_29744/4008218357.py\u001b[0m in \u001b[0;36moptimize\u001b[0;34m(self, nIter)\u001b[0m\n\u001b[1;32m    145\u001b[0m                 \u001b[0mws_shape\u001b[0m\u001b[0;34m=\u001b[0m\u001b[0mself\u001b[0m\u001b[0;34m.\u001b[0m\u001b[0mws\u001b[0m\u001b[0;34m[\u001b[0m\u001b[0mj\u001b[0m\u001b[0;34m*\u001b[0m\u001b[0mself\u001b[0m\u001b[0;34m.\u001b[0m\u001b[0mw_per_layer\u001b[0m\u001b[0;34m]\u001b[0m\u001b[0;34m.\u001b[0m\u001b[0mshape\u001b[0m\u001b[0;34m\u001b[0m\u001b[0;34m\u001b[0m\u001b[0m\n\u001b[1;32m    146\u001b[0m                 \u001b[0;32mif\u001b[0m \u001b[0mws_shape\u001b[0m\u001b[0;34m[\u001b[0m\u001b[0;36m0\u001b[0m\u001b[0;34m]\u001b[0m\u001b[0;34m**\u001b[0m\u001b[0;36m2\u001b[0m\u001b[0;34m>\u001b[0m\u001b[0mws_shape\u001b[0m\u001b[0;34m[\u001b[0m\u001b[0;36m2\u001b[0m\u001b[0;34m]\u001b[0m\u001b[0;34m:\u001b[0m\u001b[0;34m\u001b[0m\u001b[0;34m\u001b[0m\u001b[0m\n\u001b[0;32m--> 147\u001b[0;31m                     \u001b[0mself\u001b[0m\u001b[0;34m.\u001b[0m\u001b[0mlogZ\u001b[0m\u001b[0;34m=\u001b[0m\u001b[0mself\u001b[0m\u001b[0;34m.\u001b[0m\u001b[0mupdate_single_layer\u001b[0m\u001b[0;34m(\u001b[0m\u001b[0mj\u001b[0m\u001b[0;34m)\u001b[0m\u001b[0;34m\u001b[0m\u001b[0;34m\u001b[0m\u001b[0m\n\u001b[0m\u001b[1;32m    148\u001b[0m                 \u001b[0;31m#else:\u001b[0m\u001b[0;34m\u001b[0m\u001b[0;34m\u001b[0m\u001b[0m\n\u001b[1;32m    149\u001b[0m                 \u001b[0;31m#    print(f'Skip layer {j} shape={ws_shape}')\u001b[0m\u001b[0;34m\u001b[0m\u001b[0;34m\u001b[0m\u001b[0m\n",
      "\u001b[0;32m/tmp/ipykernel_29744/4008218357.py\u001b[0m in \u001b[0;36mupdate_single_layer\u001b[0;34m(self, layer)\u001b[0m\n\u001b[1;32m    116\u001b[0m                 \u001b[0mdim1\u001b[0m\u001b[0;34m,\u001b[0m\u001b[0mdim2\u001b[0m\u001b[0;34m=\u001b[0m\u001b[0mE\u001b[0m\u001b[0;34m.\u001b[0m\u001b[0mshape\u001b[0m\u001b[0;34m[\u001b[0m\u001b[0;36m0\u001b[0m\u001b[0;34m]\u001b[0m\u001b[0;34m,\u001b[0m\u001b[0mE\u001b[0m\u001b[0;34m.\u001b[0m\u001b[0mshape\u001b[0m\u001b[0;34m[\u001b[0m\u001b[0;36m2\u001b[0m\u001b[0;34m]\u001b[0m\u001b[0;34m\u001b[0m\u001b[0;34m\u001b[0m\u001b[0m\n\u001b[1;32m    117\u001b[0m                 \u001b[0mE\u001b[0m\u001b[0;34m=\u001b[0m\u001b[0mE\u001b[0m\u001b[0;34m.\u001b[0m\u001b[0mreshape\u001b[0m\u001b[0;34m(\u001b[0m\u001b[0mdim1\u001b[0m\u001b[0;34m*\u001b[0m\u001b[0mdim1\u001b[0m\u001b[0;34m,\u001b[0m\u001b[0mdim2\u001b[0m\u001b[0;34m)\u001b[0m\u001b[0;34m\u001b[0m\u001b[0;34m\u001b[0m\u001b[0m\n\u001b[0;32m--> 118\u001b[0;31m                 \u001b[0mU\u001b[0m\u001b[0;34m,\u001b[0m\u001b[0mS\u001b[0m\u001b[0;34m,\u001b[0m\u001b[0mVh\u001b[0m\u001b[0;34m=\u001b[0m\u001b[0mtorch\u001b[0m\u001b[0;34m.\u001b[0m\u001b[0mlinalg\u001b[0m\u001b[0;34m.\u001b[0m\u001b[0msvd\u001b[0m\u001b[0;34m(\u001b[0m\u001b[0mE\u001b[0m\u001b[0;34m,\u001b[0m\u001b[0mfull_matrices\u001b[0m\u001b[0;34m=\u001b[0m\u001b[0;32mFalse\u001b[0m\u001b[0;34m)\u001b[0m\u001b[0;34m\u001b[0m\u001b[0;34m\u001b[0m\u001b[0m\n\u001b[0m\u001b[1;32m    119\u001b[0m                 \u001b[0mUVh\u001b[0m\u001b[0;34m=\u001b[0m\u001b[0mU\u001b[0m\u001b[0;34m@\u001b[0m\u001b[0mVh\u001b[0m\u001b[0;34m\u001b[0m\u001b[0;34m\u001b[0m\u001b[0m\n\u001b[1;32m    120\u001b[0m                 \u001b[0;31m#UVh=svd2UVh(E)\u001b[0m\u001b[0;34m\u001b[0m\u001b[0;34m\u001b[0m\u001b[0m\n",
      "\u001b[0;31mKeyboardInterrupt\u001b[0m: "
     ]
    }
   ],
   "source": [
    "\n",
    "\n",
    "for _iter in range(100):\n",
    "    for a in alist:\n",
    "        datapoint_name=f'{script_name}[{a:+.7f}]'\n",
    "        Train(datapoint_name,Model=AKLT2D,NewRow=NewRow,nIter=1)"
   ]
  },
  {
   "cell_type": "code",
   "execution_count": 32,
   "id": "af828d3a",
   "metadata": {},
   "outputs": [],
   "source": []
  },
  {
   "cell_type": "markdown",
   "id": "511ea9b4",
   "metadata": {},
   "source": [
    "# Testing"
   ]
  },
  {
   "cell_type": "code",
   "execution_count": null,
   "id": "f4e0a133",
   "metadata": {},
   "outputs": [],
   "source": []
  },
  {
   "cell_type": "code",
   "execution_count": null,
   "id": "5e891524",
   "metadata": {},
   "outputs": [],
   "source": []
  },
  {
   "cell_type": "code",
   "execution_count": null,
   "id": "b4c97169",
   "metadata": {},
   "outputs": [],
   "source": [
    "a_arr=[1,2,3,4,5]"
   ]
  },
  {
   "cell_type": "code",
   "execution_count": 36,
   "id": "ae280177",
   "metadata": {},
   "outputs": [
    {
     "name": "stderr",
     "output_type": "stream",
     "text": [
      "/tmp/ipykernel_29744/268712080.py:13: UserWarning: Skipped existed datapoint notebook[+1.0000000]\n",
      "  warnings.warn('Skipped existed datapoint '+name)\n",
      "/tmp/ipykernel_29744/268712080.py:13: UserWarning: Skipped existed datapoint notebook[+2.0000000]\n",
      "  warnings.warn('Skipped existed datapoint '+name)\n",
      "/tmp/ipykernel_29744/268712080.py:13: UserWarning: Skipped existed datapoint notebook[+3.0000000]\n",
      "  warnings.warn('Skipped existed datapoint '+name)\n",
      "/tmp/ipykernel_29744/268712080.py:13: UserWarning: Skipped existed datapoint notebook[+4.0000000]\n",
      "  warnings.warn('Skipped existed datapoint '+name)\n",
      "/tmp/ipykernel_29744/268712080.py:13: UserWarning: Skipped existed datapoint notebook[+5.0000000]\n",
      "  warnings.warn('Skipped existed datapoint '+name)\n"
     ]
    }
   ],
   "source": [
    "options={\n",
    "    'dtype':'float64',\n",
    "    'device':'cuda:0',\n",
    "    'max_dim':8, # 10 discussed with wei\n",
    "    'nLayers':21, # 30\n",
    "    'use_checkpoint':True\n",
    "}\n",
    "\n",
    "for a in a_arr:\n",
    "    datapoint_name=f'{script_name}[{a:+.7f}]'\n",
    "    params=AKLT3D.default_params\n",
    "    params['a3']=a\n",
    "    CreateDataPoint(datapoint_name,params,options)\n"
   ]
  },
  {
   "cell_type": "code",
   "execution_count": null,
   "id": "bbe944cb",
   "metadata": {},
   "outputs": [
    {
     "name": "stdout",
     "output_type": "stream",
     "text": [
      "Training notebook[+1.0000000] iter 2\n",
      "{'a1': 1.1547005383792515, 'a2': 1.8257418583505538, 'a3': 1.0}\n",
      "{'dtype': 'float64', 'device': 'cuda:0', 'max_dim': 8, 'nLayers': 21, 'use_checkpoint': True}\n"
     ]
    },
    {
     "data": {
      "application/vnd.jupyter.widget-view+json": {
       "model_id": "",
       "version_major": 2,
       "version_minor": 0
      },
      "text/plain": [
       "  0%|          | 0/42 [00:00<?, ?it/s]"
      ]
     },
     "metadata": {},
     "output_type": "display_data"
    },
    {
     "name": "stdout",
     "output_type": "stream",
     "text": [
      "Training notebook[+2.0000000] iter 2\n",
      "{'a1': 1.1547005383792515, 'a2': 1.8257418583505538, 'a3': 2.0}\n",
      "{'dtype': 'float64', 'device': 'cuda:0', 'max_dim': 8, 'nLayers': 21, 'use_checkpoint': True}\n"
     ]
    },
    {
     "data": {
      "application/vnd.jupyter.widget-view+json": {
       "model_id": "",
       "version_major": 2,
       "version_minor": 0
      },
      "text/plain": [
       "  0%|          | 0/42 [00:00<?, ?it/s]"
      ]
     },
     "metadata": {},
     "output_type": "display_data"
    },
    {
     "name": "stdout",
     "output_type": "stream",
     "text": [
      "Training notebook[+3.0000000] iter 0\n",
      "{'a1': 1.1547005383792515, 'a2': 1.8257418583505538, 'a3': 3.0}\n",
      "{'dtype': 'float64', 'device': 'cuda:0', 'max_dim': 8, 'nLayers': 21, 'use_checkpoint': True}\n"
     ]
    },
    {
     "data": {
      "application/vnd.jupyter.widget-view+json": {
       "model_id": "",
       "version_major": 2,
       "version_minor": 0
      },
      "text/plain": [
       "  0%|          | 0/42 [00:00<?, ?it/s]"
      ]
     },
     "metadata": {},
     "output_type": "display_data"
    },
    {
     "name": "stdout",
     "output_type": "stream",
     "text": [
      "Training notebook[+4.0000000] iter 0\n",
      "{'a1': 1.1547005383792515, 'a2': 1.8257418583505538, 'a3': 4.0}\n",
      "{'dtype': 'float64', 'device': 'cuda:0', 'max_dim': 8, 'nLayers': 21, 'use_checkpoint': True}\n"
     ]
    },
    {
     "data": {
      "application/vnd.jupyter.widget-view+json": {
       "model_id": "",
       "version_major": 2,
       "version_minor": 0
      },
      "text/plain": [
       "  0%|          | 0/42 [00:00<?, ?it/s]"
      ]
     },
     "metadata": {},
     "output_type": "display_data"
    },
    {
     "name": "stdout",
     "output_type": "stream",
     "text": [
      "Training notebook[+5.0000000] iter 0\n",
      "{'a1': 1.1547005383792515, 'a2': 1.8257418583505538, 'a3': 5.0}\n",
      "{'dtype': 'float64', 'device': 'cuda:0', 'max_dim': 8, 'nLayers': 21, 'use_checkpoint': True}\n"
     ]
    },
    {
     "data": {
      "application/vnd.jupyter.widget-view+json": {
       "model_id": "",
       "version_major": 2,
       "version_minor": 0
      },
      "text/plain": [
       "  0%|          | 0/42 [00:00<?, ?it/s]"
      ]
     },
     "metadata": {},
     "output_type": "display_data"
    },
    {
     "name": "stdout",
     "output_type": "stream",
     "text": [
      "Training notebook[+1.0000000] iter 3\n",
      "{'a1': 1.1547005383792515, 'a2': 1.8257418583505538, 'a3': 1.0}\n",
      "{'dtype': 'float64', 'device': 'cuda:0', 'max_dim': 8, 'nLayers': 21, 'use_checkpoint': True}\n"
     ]
    },
    {
     "data": {
      "application/vnd.jupyter.widget-view+json": {
       "model_id": "",
       "version_major": 2,
       "version_minor": 0
      },
      "text/plain": [
       "  0%|          | 0/42 [00:00<?, ?it/s]"
      ]
     },
     "metadata": {},
     "output_type": "display_data"
    },
    {
     "name": "stdout",
     "output_type": "stream",
     "text": [
      "Training notebook[+2.0000000] iter 3\n",
      "{'a1': 1.1547005383792515, 'a2': 1.8257418583505538, 'a3': 2.0}\n",
      "{'dtype': 'float64', 'device': 'cuda:0', 'max_dim': 8, 'nLayers': 21, 'use_checkpoint': True}\n"
     ]
    },
    {
     "data": {
      "application/vnd.jupyter.widget-view+json": {
       "model_id": "",
       "version_major": 2,
       "version_minor": 0
      },
      "text/plain": [
       "  0%|          | 0/42 [00:00<?, ?it/s]"
      ]
     },
     "metadata": {},
     "output_type": "display_data"
    },
    {
     "name": "stdout",
     "output_type": "stream",
     "text": [
      "Training notebook[+3.0000000] iter 1\n",
      "{'a1': 1.1547005383792515, 'a2': 1.8257418583505538, 'a3': 3.0}\n",
      "{'dtype': 'float64', 'device': 'cuda:0', 'max_dim': 8, 'nLayers': 21, 'use_checkpoint': True}\n"
     ]
    },
    {
     "data": {
      "application/vnd.jupyter.widget-view+json": {
       "model_id": "",
       "version_major": 2,
       "version_minor": 0
      },
      "text/plain": [
       "  0%|          | 0/42 [00:00<?, ?it/s]"
      ]
     },
     "metadata": {},
     "output_type": "display_data"
    },
    {
     "name": "stdout",
     "output_type": "stream",
     "text": [
      "Training notebook[+4.0000000] iter 1\n",
      "{'a1': 1.1547005383792515, 'a2': 1.8257418583505538, 'a3': 4.0}\n",
      "{'dtype': 'float64', 'device': 'cuda:0', 'max_dim': 8, 'nLayers': 21, 'use_checkpoint': True}\n"
     ]
    },
    {
     "data": {
      "application/vnd.jupyter.widget-view+json": {
       "model_id": "31be17dcbd62474290580c98853dcb12",
       "version_major": 2,
       "version_minor": 0
      },
      "text/plain": [
       "  0%|          | 0/42 [00:00<?, ?it/s]"
      ]
     },
     "metadata": {},
     "output_type": "display_data"
    }
   ],
   "source": [
    "\n",
    "\n",
    "for _iter in range(100):\n",
    "    for a in a_arr:\n",
    "        datapoint_name=f'{script_name}[{a:+.7f}]'\n",
    "        Train(datapoint_name,Model=AKLT3D,NewRow=NewRow,nIter=1)"
   ]
  },
  {
   "cell_type": "code",
   "execution_count": null,
   "id": "4bbdc8b9",
   "metadata": {},
   "outputs": [],
   "source": []
  },
  {
   "cell_type": "code",
   "execution_count": null,
   "id": "7d562eb4",
   "metadata": {},
   "outputs": [],
   "source": []
  },
  {
   "cell_type": "markdown",
   "id": "ce635712",
   "metadata": {},
   "source": [
    "# Checkpoint Mechanics"
   ]
  },
  {
   "cell_type": "code",
   "execution_count": 15,
   "id": "4aa3bb17",
   "metadata": {},
   "outputs": [],
   "source": [
    "import os,torch\n",
    "import pandas as pd\n",
    "import time\n",
    "import warnings\n",
    "\n",
    "script_name=os.path.splitext(os.path.basename(__file__))[0] if '__file__' in globals() else 'notebook'\n",
    "\n",
    "# Generate an empty checkpoint file defining the parameters and options\n",
    "def CreateDataPoint(name,params,options,override=False):\n",
    "    if os.path.exists(name+'.checkpoint'):\n",
    "        if override:\n",
    "            warnings.warn('Override existed datapoint '+name)\n",
    "        else:\n",
    "            warnings.warn('Skipped existed datapoint '+name)\n",
    "            return\n",
    "        \n",
    "    \n",
    "    \n",
    "    # save the python dictionary containing parameters and options, \n",
    "    # later we will add model.state_dict(), which is the pytorch trained parameters, \n",
    "    # and model.persistent, which is some non-pytorch data I want to keep it for the next iteration\n",
    "    torch.save({'params':params,'options':options,'iter':0},name+'.checkpoint')\n",
    "    if os.path.exists(name+'.curve'):\n",
    "        os.remove(name+'.curve')\n",
    "    print('DataPoint Created:',name)\n",
    "    print('options:',options)\n",
    "    print('params:',params)\n",
    "\n",
    "# todo test new function final_hotrg and init hotrg todo compare final hotrg with not with it\n",
    "\n",
    "# Train an existed checkpoint file\n",
    "# NewRow: a function callback which generate the rows for the curve\n",
    "def Train(name,Model,NewRow,nIter,Models=None,device=None):\n",
    "    # load the checkpoint    TODO add lock to the file\n",
    "    checkpoint=torch.load(name+'.checkpoint',map_location=device)\n",
    "    \n",
    "    if os.path.exists(name+'.curve'):\n",
    "        curve=pd.read_pickle(name+'.curve')\n",
    "    else:\n",
    "        curve=pd.DataFrame()\n",
    "    \n",
    "    # reconstruct the model\n",
    "    if Models is not None:\n",
    "        Model=Models[checkpoint['options']['model']]\n",
    "    if device is not None:\n",
    "        checkpoint['options']['device']=device\n",
    "        \n",
    "        \n",
    "    print('Training',name,'iter',checkpoint['iter'])\n",
    "    print(checkpoint['params'])\n",
    "    print(checkpoint['options'])\n",
    "        \n",
    "    model=Model(checkpoint['params'],checkpoint['options'])\n",
    "    if 'model_state_dict' in checkpoint:\n",
    "        model.load_state_dict(checkpoint['model_state_dict'])\n",
    "        model.persistent=checkpoint['model_persistent']\n",
    "    else:\n",
    "        if checkpoint['options']['init_with_HOSVD']:\n",
    "            start_time=time.time()\n",
    "            model.generate_isometries_HOSVD()\n",
    "            model.calc_logZ()\n",
    "            model.calc_magnetization()\n",
    "            end_time=time.time()\n",
    "            newRow=NewRow(model,checkpoint['params'],checkpoint['options'])\n",
    "            newRow['iter']=checkpoint['iter']\n",
    "            newRow['elapsed']=end_time-start_time\n",
    "            \n",
    "            curve=curve.append(newRow,ignore_index=True)\n",
    "        \n",
    "    # train the model\n",
    "    start_time=time.time()\n",
    "    \n",
    "    model.optimize(nIter)\n",
    "    model.calc_logZ()\n",
    "    model.calc_magnetization()\n",
    "    \n",
    "    end_time=time.time()\n",
    "    checkpoint['iter']+=nIter\n",
    "    \n",
    "    # add row\n",
    "    \n",
    "    # add row to the curve\n",
    "    newRow=NewRow(model,checkpoint['params'],checkpoint['options'])\n",
    "    newRow['iter']=checkpoint['iter']\n",
    "    newRow['elapsed']=end_time-start_time\n",
    "    \n",
    "    curve=curve.append(newRow,ignore_index=True)\n",
    "    curve.to_pickle(name+'.curve')\n",
    "    curve.to_csv(name+'.curve.csv')\n",
    "    \n",
    "    # save the model\n",
    "    checkpoint['model_state_dict']=model.state_dict()\n",
    "    checkpoint['model_persistent']=model.persistent\n",
    "    \n",
    "    torch.save(checkpoint,name+'.checkpoint')\n",
    "    \n",
    "    return curve\n"
   ]
  },
  {
   "cell_type": "markdown",
   "id": "f8bfd513",
   "metadata": {},
   "source": [
    "# Command Line Tools"
   ]
  },
  {
   "cell_type": "code",
   "execution_count": null,
   "id": "be074712",
   "metadata": {},
   "outputs": [],
   "source": [
    "if __name__ == \"__main__\":\n",
    "    import argparse\n",
    "\n",
    "    parser = argparse.ArgumentParser(description='SRG for 2D and 3D AKLT')\n",
    "\n",
    "\n",
    "    #parser.add_argument('--create',action='store_true')\n",
    "    #parser.add_argument('--train',action='store',metavar='ITER',help='number of iteration')\n",
    "\n",
    "    subparsers=parser.add_subparsers(dest='command')\n",
    "\n",
    "    parser1=subparsers.add_parser('create',help='create a datapoint')\n",
    "\n",
    "    parser1.add_argument('datapoint_name')\n",
    "    parser1.add_argument('--override',action='store_true',help='override existing datapoint')\n",
    "    parser1.add_argument('--model',choices=['AKLT2D','AKLT3D','Ising2D','Ising3D'],required=True)\n",
    "\n",
    "    parser1.add_argument('--dtype',default='float64')\n",
    "    parser1.add_argument('--device',default='cpu')\n",
    "    parser1.add_argument('--max_dim',type=int,default=16)\n",
    "    parser1.add_argument('--nLayers',type=int,default=20)\n",
    "    parser1.add_argument('--nLayers_HOSVD',type=int,default=0,help='Do HOSVD after SRG') #not implemented\n",
    "    parser1.add_argument('--init_with_HOSVD',action='store_true',help='Use HOTRG to initialize weights') #not implemented\n",
    "\n",
    "    parser1.add_argument('--a1',type=float)\n",
    "    parser1.add_argument('--a2',type=float)\n",
    "    parser1.add_argument('--a3',type=float)\n",
    "    parser1.add_argument('--beta',type=float)\n",
    "    parser1.add_argument('--h',type=float)\n",
    "\n",
    "    parser2=subparsers.add_parser('train',help='train a datapoint')\n",
    "    parser2.add_argument('datapoint_names',nargs='+',help='list of datapoints to train')\n",
    "    parser2.add_argument('--iter',type=int,default=1,help='number of iteration')\n",
    "    parser2.add_argument('--device',default=None,help='override device setting')\n",
    "\n",
    "    args=parser.parse_args()\n",
    "\n",
    "\n",
    "Models={'AKLT2D':AKLT2D,'AKLT3D':AKLT3D,'Ising2D':Ising2D,'Ising3D':Ising3D}\n",
    "\n",
    "if __name__ == \"__main__\":\n",
    "    if args.command=='create':\n",
    "        options={\n",
    "            'model':args.model,\n",
    "            'dtype':args.dtype,\n",
    "            'device':args.device,\n",
    "            'max_dim':args.max_dim,\n",
    "            'nLayers':args.nLayers,\n",
    "            'use_checkpoint':True,\n",
    "            'init_with_HOSVD':args.init_with_HOSVD,\n",
    "            'nLayers_HOSVD':args.nLayers_HOSVD,\n",
    "        }\n",
    "\n",
    "        Model=Models[options['model']]\n",
    "        params=Model.default_params\n",
    "        for param_name in ['a1','a2','a3','beta','h']:\n",
    "            if vars(args)[param_name] is not None:\n",
    "                params[param_name]=vars(args)[param_name]\n",
    "\n",
    "\n",
    "        CreateDataPoint(args.datapoint_name,params,options,override=args.override)\n",
    "\n",
    "    if args.command=='train':\n",
    "\n",
    "        for _i in tqdm(range(args.iter*len(args.datapoint_names))):\n",
    "            datapoint_name=args.datapoint_names[_i%len(args.datapoint_names)]\n",
    "            Train(datapoint_name,None,NewRow=NewRow,nIter=1,Models=Models,device=args.device)\n",
    "        "
   ]
  }
 ],
 "metadata": {
  "kernelspec": {
   "display_name": "firstEnv",
   "language": "python",
   "name": "firstenv"
  },
  "language_info": {
   "codemirror_mode": {
    "name": "ipython",
    "version": 3
   },
   "file_extension": ".py",
   "mimetype": "text/x-python",
   "name": "python",
   "nbconvert_exporter": "python",
   "pygments_lexer": "ipython3",
   "version": "3.9.7"
  }
 },
 "nbformat": 4,
 "nbformat_minor": 5
}
