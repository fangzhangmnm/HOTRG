{
 "cells": [
  {
   "cell_type": "code",
   "execution_count": 1,
   "id": "75350d3c",
   "metadata": {},
   "outputs": [],
   "source": [
    "%reset -sf\n",
    "import torch\n",
    "from torch.utils.checkpoint import checkpoint\n",
    "import numpy as np\n",
    "import matplotlib.pyplot as plt\n",
    "import pandas as pd\n",
    "from tqdm.auto import tqdm\n",
    "from opt_einsum import contract\n",
    "def _toN(t):\n",
    "    return t.detach().cpu().numpy()\n",
    "def printDiff(name,value,ref):\n",
    "    if ref is not None:\n",
    "        print(name+':',value,'diff(abs):',value-ref)\n",
    "    else:\n",
    "        print(name+':',value)"
   ]
  },
  {
   "cell_type": "markdown",
   "id": "2a36b32a",
   "metadata": {},
   "source": [
    "# SRG BaseClass"
   ]
  },
  {
   "cell_type": "code",
   "execution_count": 2,
   "id": "3a5e2c55",
   "metadata": {
    "scrolled": true
   },
   "outputs": [],
   "source": [
    "class SRG(torch.nn.Module):\n",
    "    def __init__(self,params,options):\n",
    "        super(SRG,self).__init__()\n",
    "        self.dtype=options.get('dtype',torch.float64)\n",
    "        self.device=options.get('device','cpu')\n",
    "        self.max_dim=options.get('max_dim',16)\n",
    "        self.nLayers=options.get('nLayers',10)\n",
    "        self.use_checkpoint=options.get('use_checkpoint',True)\n",
    "        self.observable_checkerboard=False\n",
    "        \n",
    "        self.params=torch.nn.ParameterDict({\n",
    "            k:torch.nn.Parameter(torch.tensor(v,dtype=self.dtype,device=self.device)) for k,v in params.items()\n",
    "        })\n",
    "        self.current_logZ=0\n",
    "        \n",
    "    def __str__(self):\n",
    "        rtval=\"\"\n",
    "        for k,v in self.params.items():\n",
    "            rtval+=k+':'+v+'\\n'\n",
    "        rtval+='dtype:'+self.dtype+'\\n'\n",
    "        rtval+='device:'+self.device+'\\n'\n",
    "        rtval+='max_dim:'+self.max_dim+'\\n'\n",
    "        rtval+='nLayers:'+self.nLayers+'\\n'\n",
    "        rtval+='nSite:'+2**nLayers+'\\n'\n",
    "    def toT(self,t):\n",
    "        return torch.tensor(t,dtype=self.dtype,device=self.device)\n",
    "    def generate_random_Isometry(self,dim1,dim2):\n",
    "        dim=max(dim1,dim2)\n",
    "        A=torch.randn(dim,dim,dtype=self.dtype,device=self.device)\n",
    "        U=torch.matrix_exp(A-A.t())\n",
    "        U=U[:dim1,:dim2]\n",
    "        return U\n",
    "    \n",
    "    def TRG_same_T(self,T,*w):\n",
    "        return self.TRG(T,T,*w)\n",
    "    \n",
    "    def forward_tensor(self):\n",
    "        logTotal=0\n",
    "        T=self.get_T0()\n",
    "        for i in range(self.nLayers):\n",
    "            w=self.ws[(i*self.w_per_layer):((i+1)*self.w_per_layer)]\n",
    "            if self.use_checkpoint:\n",
    "                T=torch.utils.checkpoint.checkpoint(self.TRG_same_T,T,*w)\n",
    "            else:\n",
    "                T=self.TRG_same_T(T,*w)\n",
    "                \n",
    "            norm=torch.linalg.norm(T)\n",
    "            T=T/norm\n",
    "            logTotal=2*logTotal+torch.log(norm)\n",
    "        return T,logTotal\n",
    "    \n",
    "    def forward_tensor_with_observable(self,T_op):\n",
    "        logTotal=0\n",
    "        T=self.get_T0()\n",
    "        for i in range(self.nLayers):\n",
    "            w=self.ws[(i*self.w_per_layer):((i+1)*self.w_per_layer)]\n",
    "            if self.use_checkpoint:\n",
    "                T1=torch.utils.checkpoint.checkpoint(self.TRG_same_T,T,*w)\n",
    "                T2=torch.utils.checkpoint.checkpoint(self.TRG,T,T_op,*w)\n",
    "                T3=torch.utils.checkpoint.checkpoint(self.TRG,T_op,T,*w)\n",
    "            else:\n",
    "                T1=self.TRG_same_T(T,*w)\n",
    "                T2=self.TRG(T,T_op,*w)\n",
    "                T3=self.TRG(T_op,T,*w)\n",
    "            if self.observable_checkerboard and i<self.spacial_dim:\n",
    "                T3=-T3\n",
    "\n",
    "            T,T_op=T1,(T2+T3)/2\n",
    "            norm=torch.linalg.norm(T)\n",
    "            T,T_op=T/norm,T_op/norm\n",
    "            logTotal=2*logTotal+torch.log(norm)\n",
    "        return T,T_op,logTotal\n",
    "    \n",
    "    \n",
    "    def dlogZ(self,param):\n",
    "        self.requires_grad_(False)\n",
    "        self.params[param].requires_grad_(True)\n",
    "        self.zero_grad()\n",
    "        logZ=self.forward()\n",
    "        logZ.backward()\n",
    "        result=_toN(self.params[param].grad)\n",
    "        self.params[param].requires_grad_(False)\n",
    "        return result\n",
    "    \n",
    "    def update_single_layer(self,layer):\n",
    "        self.requires_grad_(False)\n",
    "        \n",
    "        for i in range(layer*self.w_per_layer,(layer+1)*self.w_per_layer):\n",
    "            self.ws[i].requires_grad_(True)\n",
    "        self.zero_grad()\n",
    "        \n",
    "        logZ=self.forward()\n",
    "        logZ.backward()\n",
    "        \n",
    "        with torch.no_grad():\n",
    "            for i in range(layer*self.w_per_layer,(layer+1)*self.w_per_layer):\n",
    "                E=self.ws[i].grad\n",
    "                dim1,dim2=E.shape[0],E.shape[2]\n",
    "                E=E.reshape(dim1*dim1,dim2)\n",
    "                U,S,Vh=torch.linalg.svd(E,full_matrices=False)\n",
    "                UVh=U@Vh\n",
    "                del U,S,Vh\n",
    "                #UVh=svd2UVh(E)\n",
    "                self.ws[i].data=UVh.reshape(dim1,dim1,dim2)\n",
    "                del E,UVh\n",
    "                \n",
    "        torch.cuda.empty_cache()\n",
    "        self.current_logZ=_toN(logZ)\n",
    "        \n",
    "    def optimize(self,nIter,ref_logZ=None):\n",
    "        torch.cuda.empty_cache()\n",
    "        if nIter>1:\n",
    "            pbar2=tqdm(range(nIter), leave=False)\n",
    "            pbar2.set_postfix({k:_toN(v) for k,v in self.params.items()})\n",
    "        else:\n",
    "            pbar2=range(nIter)\n",
    "        for i in pbar2:\n",
    "            pbar=tqdm(range(self.nLayers-1,-1,-1), leave=False)\n",
    "            for j in pbar:\n",
    "                self.update_single_layer(j)\n",
    "                if ref_logZ is not None:\n",
    "                    pbar.set_postfix({\"diff\":self.current_logZ-ref_logZ})\n",
    "                else:\n",
    "                    pbar.set_postfix({\"logZ\":self.current_logZ})\n",
    "                torch.cuda.empty_cache()\n",
    "        #printDiff('logZ',toN(forward(params,ws)),ref_logZ)\n",
    "        torch.cuda.empty_cache()\n",
    "        #lock all grads\n",
    "        for param in self.params.values(): \n",
    "            param.requires_grad_(False)\n",
    "        for i in range(self.nLayers): #slightly faster\n",
    "            self.ws[i].requires_grad_(False)"
   ]
  },
  {
   "cell_type": "code",
   "execution_count": 3,
   "id": "80b0e9b2",
   "metadata": {},
   "outputs": [],
   "source": [
    "class HOTRG(SRG):\n",
    "    def __init__(self,params,options):\n",
    "        super(HOTRG,self).__init__(params,options)\n",
    "    \n",
    "    def create_params(self,start_dim,spacial_dim):\n",
    "        ws=[]\n",
    "        bond_dim=[start_dim]*spacial_dim\n",
    "        for i in range(self.nLayers):\n",
    "            for j in range(1,spacial_dim):\n",
    "                old_dim=bond_dim[j]\n",
    "                new_dim=min(old_dim**2,self.max_dim)\n",
    "                U=self.generate_random_Isometry(old_dim**2,new_dim).view(old_dim,old_dim,new_dim)\n",
    "                ws.append(U.detach())\n",
    "                bond_dim[j]=new_dim\n",
    "            bond_dim=bond_dim[1:]+[bond_dim[0]]\n",
    "        self.ws=torch.nn.ParameterList([\n",
    "            torch.nn.Parameter(v) for v in ws\n",
    "        ])\n",
    "        self.w_per_layer=spacial_dim-1\n",
    "        self.spacial_dim=spacial_dim\n",
    "        \n",
    "    def HOTRG2D(self,T1,T2,w):\n",
    "        return contract('ijkl,jmno,kna,lob->abim',T1,T2,w,w)#contract and rotate\n",
    "    \n",
    "    def HOTRG3D(self,T1,T2,w1,w2):\n",
    "        return contract('ijklmn,jopqrs,kpa,lqb,mrc,nsd->abcdio',T1,T2,w1,w1,w2,w2)#contract and rotate\n",
    "    \n",
    "    def forward(self):\n",
    "        T,logTotal=self.forward_tensor()\n",
    "        contract_all=[i for i in range(len(T.shape)//2) for j in range(2)]\n",
    "        Z=contract(T,contract_all)\n",
    "        return (torch.log(Z)+logTotal)/2**self.nLayers\n",
    "    \n",
    "    def forward_with_observable(self,T_op):\n",
    "        T,T_op,_=self.forward_tensor_with_observable(T_op)\n",
    "        contract_all=[i for i in range(len(T.shape)//2) for j in range(2)]\n",
    "        Z=contract(T,contract_all)\n",
    "        Z_op=contract(T_op,contract_all)\n",
    "        return Z_op/Z"
   ]
  },
  {
   "cell_type": "markdown",
   "id": "e5382206",
   "metadata": {},
   "source": [
    "# AKLT 2D"
   ]
  },
  {
   "cell_type": "code",
   "execution_count": 4,
   "id": "e632eb86",
   "metadata": {},
   "outputs": [
    {
     "name": "stdout",
     "output_type": "stream",
     "text": [
      "[[1. 0. 0. 0. 0. 0. 0. 0. 0. 0. 0. 0. 0. 0. 0. 0.]\n",
      " [0. 1. 1. 0. 1. 0. 0. 0. 1. 0. 0. 0. 0. 0. 0. 0.]\n",
      " [0. 0. 0. 1. 0. 1. 1. 0. 0. 1. 1. 0. 1. 0. 0. 0.]\n",
      " [0. 0. 0. 0. 0. 0. 0. 1. 0. 0. 0. 1. 0. 1. 1. 0.]\n",
      " [0. 0. 0. 0. 0. 0. 0. 0. 0. 0. 0. 0. 0. 0. 0. 1.]]\n",
      "[[1.         0.         0.         0.         0.         0.\n",
      "  0.         0.        ]\n",
      " [0.         0.57735027 0.57735027 0.         0.57735027 0.\n",
      "  0.         0.        ]\n",
      " [0.         0.         0.         0.57735027 0.         0.57735027\n",
      "  0.57735027 0.        ]\n",
      " [0.         0.         0.         0.         0.         0.\n",
      "  0.         1.        ]]\n",
      "[[ 0.  1.]\n",
      " [-1.  0.]]\n"
     ]
    }
   ],
   "source": [
    "from scipy.special import comb\n",
    "def get_CG_no_normalization(n):\n",
    "    if n==0:\n",
    "        return np.eye(1)\n",
    "    CG=np.zeros((n+1,)+(2,)*n)\n",
    "    for i in range(2**n):\n",
    "        indices=tuple(map(int,bin(i)[2:].zfill(n)))\n",
    "        m=np.sum(indices)\n",
    "        CG[(m,)+indices]=1\n",
    "    return CG\n",
    "def get_CG(n):\n",
    "    if n==0:\n",
    "        return np.eye(1)\n",
    "    CG=np.zeros((n+1,)+(2,)*n)\n",
    "    for i in range(2**n):\n",
    "        indices=tuple(map(int,bin(i)[2:].zfill(n)))\n",
    "        m=np.sum(indices)\n",
    "        CG[(m,)+indices]=1/np.sqrt(comb(n,m))\n",
    "    return CG\n",
    "def get_Singlet():\n",
    "    return np.array([[0,1.],[-1.,0]])\n",
    "\n",
    "print(get_CG_no_normalization(4).reshape(5,-1))\n",
    "print(get_CG(3).reshape(4,-1))\n",
    "assert get_CG(3).shape==(4,2,2,2)\n",
    "assert np.isclose(get_CG(3).reshape(4,-1)@get_CG(3).reshape(4,-1).T,torch.eye(4)).all()\n",
    "print(get_Singlet())\n",
    "assert np.isclose(get_Singlet()@get_Singlet(),-torch.eye(2)).all()\n",
    "assert (get_Singlet()==-get_Singlet().T).all()"
   ]
  },
  {
   "cell_type": "code",
   "execution_count": 13,
   "id": "851057fe",
   "metadata": {},
   "outputs": [],
   "source": [
    "class AKLT2D(HOTRG): # manual contract first two level\n",
    "    def __init__(self,params,options):\n",
    "        super(AKLT2D,self).__init__(params,options)\n",
    "        self.create_params(start_dim=16,spacial_dim=2)\n",
    "        self.TRG=self.HOTRG2D\n",
    "        \n",
    "    def get_T0_sub(self):\n",
    "        projector=self.toT(get_CG_no_normalization(4))\n",
    "        singlet=self.toT([[0,-1],[1,0]])\n",
    "        ac0,ac1,ac2=self.toT(1),self.params['a1'],self.params['a2']\n",
    "        deform=torch.stack([ac2,ac1,ac0,ac1,ac2])\n",
    "        node=contract('aijkl,im,kn,a->amjnl',projector,singlet,singlet,deform)\n",
    "        return contract('aijkl,amnop->imjnkolp',node,node).reshape(4,4,4,4)#UDLR\n",
    "\n",
    "    def get_SZT0_sub(self):\n",
    "        projector=self.toT(get_CG_no_normalization(4))\n",
    "        singlet=self.toT([[0,-1],[1,0]])\n",
    "        ac0,ac1,ac2=self.toT(1),self.params['a1'],self.params['a2']\n",
    "        deform=torch.stack([ac2,ac1,ac0,ac1,ac2])\n",
    "        node=contract('aijkl,im,kn,a->amjnl',projector,singlet,singlet,deform)\n",
    "        op=self.toT([2,1,0,-1,-2])\n",
    "        return contract('aijkl,amnop,a->imjnkolp',node,node,op).reshape(4,4,4,4)#UDLR\n",
    "    \n",
    "    def get_T0(self):\n",
    "        t0=self.get_T0_sub()\n",
    "        t1=contract('ijab,jkcd->ikacbd',t0,t0)\n",
    "        t2=contract('ijabcd,klcdef->ikjlabef',t1,t1).reshape(16,16,16,16)\n",
    "        return t2\n",
    "    \n",
    "    def get_SZT0(self):\n",
    "        t0,s0=self.get_T0_sub(),self.get_SZT0_sub()\n",
    "        t1=contract('ijab,jkcd->ikacbd',t0,t0)\n",
    "        s1=(contract('ijab,jkcd->ikacbd',s0,t0)-contract('ijab,jkcd->ikacbd',t0,s0))/2\n",
    "        s2=(contract('ijabcd,klcdef->ikjlabef',s1,t1)-contract('ijabcd,klcdef->ikjlabef',t1,s1)).reshape(16,16,16,16)/2\n",
    "        return s2\n",
    "    \n",
    "    def get_magnetization(self):\n",
    "        with torch.no_grad():\n",
    "            return _toN(torch.abs(self.forward_with_observable(self.get_SZT0())))"
   ]
  },
  {
   "cell_type": "code",
   "execution_count": 14,
   "id": "bb57eeba",
   "metadata": {},
   "outputs": [],
   "source": [
    "class AKLT2D(HOTRG):\n",
    "    def __init__(self,params,options):\n",
    "        super(AKLT2D,self).__init__(params,options)\n",
    "        self.create_params(start_dim=4,spacial_dim=2)\n",
    "        self.TRG=self.HOTRG2D\n",
    "        self.observable_checkerboard=True\n",
    "        \n",
    "    def get_T0(self):\n",
    "        projector=self.toT(get_CG_no_normalization(4))\n",
    "        singlet=self.toT([[0,-1],[1,0]])\n",
    "        ac0,ac1,ac2=self.toT(1),self.params['a1'],self.params['a2']\n",
    "        deform=torch.stack([ac2,ac1,ac0,ac1,ac2])\n",
    "        node=contract('aijkl,im,kn,a->amjnl',projector,singlet,singlet,deform)\n",
    "        return contract('aijkl,amnop->imjnkolp',node,node).reshape(4,4,4,4)#UDLR\n",
    "\n",
    "    def get_SZT0(self):\n",
    "        projector=self.toT(get_CG_no_normalization(4))\n",
    "        singlet=self.toT([[0,-1],[1,0]])\n",
    "        ac0,ac1,ac2=self.toT(1),self.params['a1'],self.params['a2']\n",
    "        deform=torch.stack([ac2,ac1,ac0,ac1,ac2])\n",
    "        node=contract('aijkl,im,kn,a->amjnl',projector,singlet,singlet,deform)\n",
    "        op=self.toT([2,1,0,-1,-2])\n",
    "        return contract('aijkl,amnop,a->imjnkolp',node,node,op).reshape(4,4,4,4)#UDLR\n",
    "    \n",
    "    def get_magnetization(self):\n",
    "        with torch.no_grad():\n",
    "            return _toN(torch.abs(self.forward_with_observable(self.get_SZT0())))"
   ]
  },
  {
   "cell_type": "markdown",
   "id": "a5c6e8bc",
   "metadata": {},
   "source": [
    "# AKLT Test"
   ]
  },
  {
   "cell_type": "code",
   "execution_count": 17,
   "id": "7e540cee",
   "metadata": {},
   "outputs": [
    {
     "name": "stdout",
     "output_type": "stream",
     "text": [
      "{'dtype': torch.float32, 'device': 'cuda:0', 'max_dim': 30, 'nLayers': 30, 'use_checkpoint': True}\n",
      "{'a1': 0, 'a2': 3}\n"
     ]
    },
    {
     "data": {
      "application/vnd.jupyter.widget-view+json": {
       "model_id": "b20c0789e581483d8bb590d6b239d9ad",
       "version_major": 2,
       "version_minor": 0
      },
      "text/plain": [
       "  0%|          | 0/2 [00:00<?, ?it/s]"
      ]
     },
     "metadata": {},
     "output_type": "display_data"
    },
    {
     "data": {
      "application/vnd.jupyter.widget-view+json": {
       "model_id": "",
       "version_major": 2,
       "version_minor": 0
      },
      "text/plain": [
       "  0%|          | 0/30 [00:00<?, ?it/s]"
      ]
     },
     "metadata": {},
     "output_type": "display_data"
    },
    {
     "name": "stderr",
     "output_type": "stream",
     "text": [
      "C:\\Anaconda3\\envs\\tensorflow\\lib\\site-packages\\torch\\utils\\checkpoint.py:25: UserWarning: None of the inputs have requires_grad=True. Gradients will be None\n",
      "  warnings.warn(\"None of the inputs have requires_grad=True. Gradients will be None\")\n"
     ]
    },
    {
     "name": "stdout",
     "output_type": "stream",
     "text": [
      "a1 : 0 a2 : 3 iter : 1 logZ : 2.1973217 magnetization : 1.9985821 \n"
     ]
    },
    {
     "data": {
      "application/vnd.jupyter.widget-view+json": {
       "model_id": "",
       "version_major": 2,
       "version_minor": 0
      },
      "text/plain": [
       "  0%|          | 0/30 [00:00<?, ?it/s]"
      ]
     },
     "metadata": {},
     "output_type": "display_data"
    },
    {
     "name": "stdout",
     "output_type": "stream",
     "text": [
      "a1 : 0 a2 : 3 iter : 2 logZ : 2.197384 magnetization : 1.9986666 \n"
     ]
    },
    {
     "data": {
      "image/png": "[encoded data removed]",
      "text/plain": [
       "<Figure size 432x288 with 1 Axes>"
      ]
     },
     "metadata": {
      "needs_background": "light"
     },
     "output_type": "display_data"
    }
   ],
   "source": [
    "options={\n",
    "    'dtype':torch.float32,\n",
    "    'device':'cuda:0',\n",
    "    'max_dim':30,\n",
    "    'nLayers':30,\n",
    "    'use_checkpoint':True\n",
    "}\n",
    "params={'a1':np.sqrt(6)/2,'a2':np.sqrt(6)}\n",
    "params['a1']=0\n",
    "params['a2']=3\n",
    "srg=AKLT2D(params,options)\n",
    "print(options)\n",
    "print(params)\n",
    "\n",
    "data=pd.DataFrame()\n",
    "for i in tqdm(range(2)):\n",
    "    srg.optimize(1)\n",
    "    num_iter=i+1\n",
    "    newRow={'a1':params['a1'],'a2':params['a2'],'iter':num_iter,'logZ':srg.current_logZ,'magnetization':srg.get_magnetization()}\n",
    "    for k,v in newRow.items():\n",
    "        print(k,':',v,end=' ')\n",
    "    print()\n",
    "    data=data.append(newRow,ignore_index=True)\n",
    "\n",
    "plt.plot(data['iter'],data['logZ'])\n",
    "plt.plot(data['iter'],np.abs(data['magnetization']))\n",
    "plt.xlabel(f'iter {params}')\n",
    "plt.ylabel('value')\n",
    "plt.legend(['logZ','magnetization'])\n",
    "plt.title('convergence of SRG')\n",
    "plt.show()\n"
   ]
  },
  {
   "cell_type": "code",
   "execution_count": null,
   "id": "3c8b0913",
   "metadata": {},
   "outputs": [],
   "source": []
  }
 ],
 "metadata": {
  "kernelspec": {
   "display_name": "Python [conda env:tensorflow]",
   "language": "python",
   "name": "conda-env-tensorflow-py"
  },
  "language_info": {
   "codemirror_mode": {
    "name": "ipython",
    "version": 3
   },
   "file_extension": ".py",
   "mimetype": "text/x-python",
   "name": "python",
   "nbconvert_exporter": "python",
   "pygments_lexer": "ipython3",
   "version": "3.8.10"
  }
 },
 "nbformat": 4,
 "nbformat_minor": 5
}
