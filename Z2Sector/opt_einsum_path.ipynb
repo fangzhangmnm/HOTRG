{
 "cells": [
  {
   "cell_type": "code",
   "execution_count": 3,
   "id": "0221dd5b",
   "metadata": {},
   "outputs": [],
   "source": [
    "import opt_einsum\n",
    "import numpy as np"
   ]
  },
  {
   "cell_type": "code",
   "execution_count": 17,
   "id": "af86f123",
   "metadata": {
    "scrolled": false
   },
   "outputs": [
    {
     "name": "stdout",
     "output_type": "stream",
     "text": [
      "square\n"
     ]
    },
    {
     "data": {
      "text/plain": [
       "([(0, 2), (0, 1), (0, 1)],\n",
       "   Complete contraction:  ijkl,jmno,akn,blo->abim\n",
       "          Naive scaling:  9\n",
       "      Optimized scaling:  7\n",
       "       Naive FLOP count:  4.000e+9\n",
       "   Optimized FLOP count:  2.400e+7\n",
       "    Theoretical speedup:  1.667e+2\n",
       "   Largest intermediate:  1.000e+5 elements\n",
       " --------------------------------------------------------------------------------\n",
       " scaling        BLAS                current                             remaining\n",
       " --------------------------------------------------------------------------------\n",
       "    6           TDOT        akn,ijkl->anijl                  jmno,blo,anijl->abim\n",
       "    6           GEMM        blo,jmno->bljmn                     anijl,bljmn->abim\n",
       "    7           TDOT      bljmn,anijl->abim                            abim->abim)"
      ]
     },
     "metadata": {},
     "output_type": "display_data"
    },
    {
     "data": {
      "text/plain": [
       "([(0, 2), (0, 1), (0, 1)],\n",
       "   Complete contraction:  ijkl,jmno,iJKl,JmNo->knKN\n",
       "          Naive scaling:  10\n",
       "      Optimized scaling:  6\n",
       "       Naive FLOP count:  4.000e+10\n",
       "   Optimized FLOP count:  6.000e+6\n",
       "    Theoretical speedup:  6.667e+3\n",
       "   Largest intermediate:  1.000e+4 elements\n",
       " --------------------------------------------------------------------------------\n",
       " scaling        BLAS                current                             remaining\n",
       " --------------------------------------------------------------------------------\n",
       "    6           TDOT        iJKl,ijkl->JKjk                  jmno,JmNo,JKjk->knKN\n",
       "    6           TDOT        JmNo,jmno->JNjn                       JKjk,JNjn->knKN\n",
       "    6           TDOT        JNjn,JKjk->knKN                            knKN->knKN)"
      ]
     },
     "metadata": {},
     "output_type": "display_data"
    },
    {
     "name": "stdout",
     "output_type": "stream",
     "text": [
      "hex\n"
     ]
    },
    {
     "data": {
      "text/plain": [
       "([(0, 1), (0, 3), (0, 1), (1, 2), (1, 2), (0, 1)],\n",
       "   Complete contraction:  abc,ajk,blm,cni,Aij,Bkl,Cmn->ABC\n",
       "          Naive scaling:  12\n",
       "      Optimized scaling:  6\n",
       "       Naive FLOP count:  7.000e+12\n",
       "   Optimized FLOP count:  4.800e+6\n",
       "    Theoretical speedup:  1.458e+6\n",
       "   Largest intermediate:  1.000e+4 elements\n",
       " --------------------------------------------------------------------------------\n",
       " scaling        BLAS                current                             remaining\n",
       " --------------------------------------------------------------------------------\n",
       "    5           GEMM          ajk,abc->jkbc         blm,cni,Aij,Bkl,Cmn,jkbc->ABC\n",
       "    5           TDOT          Bkl,blm->Bkbm            cni,Aij,Cmn,jkbc,Bkbm->ABC\n",
       "    5           TDOT          Aij,cni->Ajcn               Cmn,jkbc,Bkbm,Ajcn->ABC\n",
       "    6           TDOT        Bkbm,jkbc->Bmjc                    Cmn,Ajcn,Bmjc->ABC\n",
       "    6           TDOT        Bmjc,Ajcn->BmAn                         Cmn,BmAn->ABC\n",
       "    5           TDOT          BmAn,Cmn->ABC                              ABC->ABC)"
      ]
     },
     "metadata": {},
     "output_type": "display_data"
    },
    {
     "data": {
      "text/plain": [
       "([(0, 1), (0, 4), (0, 3), (0, 1), (0, 1), (1, 2), (0, 1)],\n",
       "   Complete contraction:  abc,ajk,blm,cni,ABC,AJk,Bkl,CnI->ijIJ\n",
       "          Naive scaling:  14\n",
       "      Optimized scaling:  6\n",
       "       Naive FLOP count:  8.000e+14\n",
       "   Optimized FLOP count:  5.000e+6\n",
       "    Theoretical speedup:  1.600e+8\n",
       "   Largest intermediate:  1.000e+4 elements\n",
       " --------------------------------------------------------------------------------\n",
       " scaling        BLAS                current                             remaining\n",
       " --------------------------------------------------------------------------------\n",
       "    5           GEMM          ajk,abc->jkbc    blm,cni,ABC,AJk,Bkl,CnI,jkbc->ijIJ\n",
       "    5              0           Bkl,blm->Bkb        cni,ABC,AJk,CnI,jkbc,Bkb->ijIJ\n",
       "    5           TDOT          CnI,cni->CIci           ABC,AJk,jkbc,Bkb,CIci->ijIJ\n",
       "    5           GEMM          AJk,ABC->JkBC              jkbc,Bkb,CIci,JkBC->ijIJ\n",
       "    5              0         Bkb,jkbc->Bkjc                  CIci,JkBC,Bkjc->ijIJ\n",
       "    6           TDOT        Bkjc,JkBC->jcJC                       CIci,jcJC->ijIJ\n",
       "    6           TDOT        jcJC,CIci->ijIJ                            ijIJ->ijIJ)"
      ]
     },
     "metadata": {},
     "output_type": "display_data"
    },
    {
     "name": "stdout",
     "output_type": "stream",
     "text": [
      "cubic\n"
     ]
    },
    {
     "data": {
      "text/plain": [
       "([(0, 2), (0, 1), (0, 2), (1, 2), (0, 1)],\n",
       "   Complete contraction:  ijklmn,jopqrs,akp,blq,cmr,dns->abcdio\n",
       "          Naive scaling:  15\n",
       "      Optimized scaling:  11\n",
       "       Naive FLOP count:  6.000e+15\n",
       "   Optimized FLOP count:  2.026e+11\n",
       "    Theoretical speedup:  2.962e+4\n",
       "   Largest intermediate:  1.000e+8 elements\n",
       " --------------------------------------------------------------------------------\n",
       " scaling        BLAS                current                             remaining\n",
       " --------------------------------------------------------------------------------\n",
       "    8           TDOT    akp,ijklmn->apijlmn    jopqrs,blq,cmr,dns,apijlmn->abcdio\n",
       "    8           TDOT    blq,jopqrs->bljoprs       cmr,dns,apijlmn,bljoprs->abcdio\n",
       "    9           TDOT  apijlmn,cmr->apijlncr          dns,bljoprs,apijlncr->abcdio\n",
       "   11           TDOT apijlncr,bljoprs->aincbos                dns,aincbos->abcdio\n",
       "    8           TDOT    aincbos,dns->abcdio                        abcdio->abcdio)"
      ]
     },
     "metadata": {},
     "output_type": "display_data"
    },
    {
     "data": {
      "text/plain": [
       "([(0, 2), (0, 1), (0, 1)],\n",
       "   Complete contraction:  ijklmn,jopqrs,iJKlmn,JoPqrs->kpKP\n",
       "          Naive scaling:  14\n",
       "      Optimized scaling:  8\n",
       "       Naive FLOP count:  4.000e+14\n",
       "   Optimized FLOP count:  4.020e+8\n",
       "    Theoretical speedup:  9.950e+5\n",
       "   Largest intermediate:  1.000e+4 elements\n",
       " --------------------------------------------------------------------------------\n",
       " scaling        BLAS                current                             remaining\n",
       " --------------------------------------------------------------------------------\n",
       "    8           TDOT    iJKlmn,ijklmn->JKjk              jopqrs,JoPqrs,JKjk->kpKP\n",
       "    8           TDOT    JoPqrs,jopqrs->JPjp                       JKjk,JPjp->kpKP\n",
       "    6           TDOT        JPjp,JKjk->kpKP                            kpKP->kpKP)"
      ]
     },
     "metadata": {},
     "output_type": "display_data"
    },
    {
     "name": "stdout",
     "output_type": "stream",
     "text": [
      "diamond\n"
     ]
    },
    {
     "data": {
      "text/plain": [
       "([(0, 1), (0, 4), (0, 2), (0, 2), (1, 2), (1, 2), (0, 1), (0, 1)],\n",
       "   Complete contraction:  xyzw,wagd,xiel,yhcj,zfbk,abcX,defY,ghiZ,jklW->XYZW\n",
       "          Naive scaling:  20\n",
       "      Optimized scaling:  10\n",
       "       Naive FLOP count:  9.000e+20\n",
       "   Optimized FLOP count:  8.008e+10\n",
       "    Theoretical speedup:  1.124e+10\n",
       "   Largest intermediate:  1.000e+8 elements\n",
       " --------------------------------------------------------------------------------\n",
       " scaling        BLAS                current                             remaining\n",
       " --------------------------------------------------------------------------------\n",
       "    7           GEMM      wagd,xyzw->agdxyz    xiel,yhcj,zfbk,abcX,defY,ghiZ,jklW,agdxyz->XYZW\n",
       "    7           TDOT      defY,xiel->dfYxil    yhcj,zfbk,abcX,ghiZ,jklW,agdxyz,dfYxil->XYZW\n",
       "    7           TDOT      abcX,yhcj->abXyhj    zfbk,ghiZ,jklW,agdxyz,dfYxil,abXyhj->XYZW\n",
       "    7           TDOT      jklW,zfbk->jlWzfb    ghiZ,agdxyz,dfYxil,abXyhj,jlWzfb->XYZW\n",
       "   10           TDOT dfYxil,agdxyz->fYilagyz    ghiZ,abXyhj,jlWzfb,fYilagyz->XYZW\n",
       "   10           TDOT jlWzfb,abXyhj->lWzfaXyh         ghiZ,fYilagyz,lWzfaXyh->XYZW\n",
       "   10           TDOT fYilagyz,ghiZ->fYlayzhZ              lWzfaXyh,fYlayzhZ->XYZW\n",
       "   10           TDOT fYlayzhZ,lWzfaXyh->XYZW                           XYZW->XYZW)"
      ]
     },
     "metadata": {},
     "output_type": "display_data"
    },
    {
     "data": {
      "text/plain": [
       "([(1, 6), (0, 8), (0, 4), (0, 3), (0, 2), (0, 2), (0, 3), (0, 2), (0, 1)],\n",
       "   Complete contraction:  xyzw,wagd,xiel,yhcj,zfbk,XYZW,WAgd,Xiel,YhCj,ZfBk->ABCabc\n",
       "          Naive scaling:  23\n",
       "      Optimized scaling:  8\n",
       "       Naive FLOP count:  1.000e+24\n",
       "   Optimized FLOP count:  6.264e+8\n",
       "    Theoretical speedup:  1.596e+15\n",
       "   Largest intermediate:  1.000e+6 elements\n",
       " --------------------------------------------------------------------------------\n",
       " scaling        BLAS                current                             remaining\n",
       " --------------------------------------------------------------------------------\n",
       "    6           GEMM        WAgd,wagd->WAwa    xyzw,xiel,yhcj,zfbk,XYZW,Xiel,YhCj,ZfBk,WAwa->ABCabc\n",
       "    7           TDOT      WAwa,xyzw->WAaxyz    xiel,yhcj,zfbk,XYZW,Xiel,YhCj,ZfBk,WAaxyz->ABCabc\n",
       "    5           GEMM          Xiel,xiel->Xx    yhcj,zfbk,XYZW,YhCj,ZfBk,WAaxyz,Xx->ABCabc\n",
       "    6           TDOT        YhCj,yhcj->YCyc    zfbk,XYZW,ZfBk,WAaxyz,Xx,YCyc->ABCabc\n",
       "    6           TDOT        ZfBk,zfbk->ZBzb      XYZW,WAaxyz,Xx,YCyc,ZBzb->ABCabc\n",
       "    5           GEMM          Xx,XYZW->xYZW         WAaxyz,YCyc,ZBzb,xYZW->ABCabc\n",
       "    8           TDOT    xYZW,WAaxyz->YZAayz              YCyc,ZBzb,YZAayz->ABCabc\n",
       "    8           TDOT    YZAayz,YCyc->ZAazCc                   ZBzb,ZAazCc->ABCabc\n",
       "    8           TDOT    ZAazCc,ZBzb->ABCabc                        ABCabc->ABCabc)"
      ]
     },
     "metadata": {},
     "output_type": "display_data"
    }
   ],
   "source": [
    "max_dim=10\n",
    "optimize='optimal'\n",
    "\n",
    "print('square')\n",
    "T=np.zeros((max_dim,)*4)\n",
    "w=np.zeros((max_dim,max_dim,max_dim))\n",
    "display(opt_einsum.contract_path('ijkl,jmno,akn,blo->abim',T,T,w,w,optimize=optimize))\n",
    "display(opt_einsum.contract_path('ijkl,jmno,iJKl,JmNo->knKN',T,T,T,T,optimize=optimize))\n",
    "\n",
    "print('hex')\n",
    "T=np.zeros((max_dim,)*3)\n",
    "w=np.zeros((max_dim,max_dim,max_dim))\n",
    "display(opt_einsum.contract_path('abc,ajk,blm,cni,Aij,Bkl,Cmn',T,T,T,T,w,w,w,optimize=optimize))\n",
    "display(opt_einsum.contract_path('abc,ajk,blm,cni,ABC,AJk,Bkl,CnI->ijIJ',T,T,T,T,T,T,T,T,optimize=optimize))\n",
    "\n",
    "print('cubic')\n",
    "T=np.zeros((max_dim,)*6)\n",
    "w=np.zeros((max_dim,max_dim,max_dim))\n",
    "display(opt_einsum.contract_path('ijklmn,jopqrs,akp,blq,cmr,dns->abcdio',T,T,w,w,w,w,optimize=optimize))\n",
    "display(opt_einsum.contract_path('ijklmn,jopqrs,iJKlmn,JoPqrs->kpKP',T,T,T,T,optimize=optimize))\n",
    "\n",
    "print('diamond')\n",
    "T=np.zeros((max_dim,)*4)\n",
    "w=np.zeros((max_dim,)*4)\n",
    "display(opt_einsum.contract_path('xyzw,wagd,xiel,yhcj,zfbk,abcX,defY,ghiZ,jklW->XYZW',T,T,T,T,T,w,w,w,w,optimize=optimize))\n",
    "display(opt_einsum.contract_path('xyzw,wagd,xiel,yhcj,zfbk,XYZW,WAgd,Xiel,YhCj,ZfBk',T,T,T,T,T,T,T,T,T,T,optimize=optimize))\n"
   ]
  },
  {
   "cell_type": "code",
   "execution_count": null,
   "id": "65460a59",
   "metadata": {},
   "outputs": [],
   "source": []
  }
 ],
 "metadata": {
  "kernelspec": {
   "display_name": "firstEnv",
   "language": "python",
   "name": "firstenv"
  },
  "language_info": {
   "codemirror_mode": {
    "name": "ipython",
    "version": 3
   },
   "file_extension": ".py",
   "mimetype": "text/x-python",
   "name": "python",
   "nbconvert_exporter": "python",
   "pygments_lexer": "ipython3",
   "version": "3.9.7"
  }
 },
 "nbformat": 4,
 "nbformat_minor": 5
}
