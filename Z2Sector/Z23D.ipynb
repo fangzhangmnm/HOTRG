{
 "cells": [
  {
   "cell_type": "code",
   "execution_count": 1,
   "id": "3363f53a",
   "metadata": {},
   "outputs": [],
   "source": [
    "%reset -sf"
   ]
  },
  {
   "cell_type": "code",
   "execution_count": 4,
   "id": "af9226b4",
   "metadata": {},
   "outputs": [],
   "source": [
    "import torch\n",
    "from torch.utils.checkpoint import checkpoint\n",
    "import numpy as np\n",
    "from opt_einsum import contract\n",
    "from tqdm.auto import tqdm\n",
    "\n",
    "def _toN(t):\n",
    "    if isinstance(t,list):\n",
    "        return np.array([_toN(x) for x in t])\n",
    "    else:\n",
    "        return np.array(t.detach().cpu()) if isinstance(t,torch.Tensor) else np.array(t)\n",
    "        \n",
    "def _toT(t):\n",
    "    return torch.tensor(t) if not isinstance(t,torch.Tensor) else t\n",
    "torch.cuda.set_device(1)\n",
    "torch.set_default_tensor_type('torch.cuda.DoubleTensor')"
   ]
  },
  {
   "cell_type": "code",
   "execution_count": 5,
   "id": "63915eaf",
   "metadata": {},
   "outputs": [
    {
     "name": "stdout",
     "output_type": "stream",
     "text": [
      "tensor(8.1351e-16)\n",
      "tensor(4.6903e-16)\n",
      "tensor(6.7303e-16)\n",
      "tensor(1.4678e-15)\n"
     ]
    }
   ],
   "source": [
    "def Ising_T0(beta,h):\n",
    "    beta,h=_toT(beta),_toT(h)\n",
    "    a=torch.sqrt(torch.cosh(beta))\n",
    "    b=torch.sqrt(torch.sinh(beta))\n",
    "    c=torch.exp(beta*h)\n",
    "    w=torch.stack([torch.stack([a,a]),torch.stack([b,-b])])\n",
    "    z=torch.stack([c,1/c])\n",
    "    return contract('iA,jA,kA,lA,A->ijkl',w,w,w,w,z)#UDLR\n",
    "\n",
    "def Ising_SZT0(beta,h):\n",
    "    beta,h=_toT(beta),_toT(h)\n",
    "    a=torch.sqrt(torch.cosh(beta))\n",
    "    b=torch.sqrt(torch.sinh(beta))\n",
    "    c=torch.exp(beta*h)\n",
    "    w=torch.stack([torch.stack([a,a]),torch.stack([b,-b])])\n",
    "    z=torch.stack([c,-1/c])\n",
    "    return contract('iA,jA,kA,lA,A->ijkl',w,w,w,w,z)#UDLR\n",
    "\n",
    "R=_toT(np.diag([1.,-1.]))\n",
    "T=Ising_T0(1.,0.)\n",
    "print(torch.norm(contract('abcd,aA,bB,cC,dD->ABCD',T,R,R,R,R)-T))\n",
    "T=Ising_SZT0(1.,0.)\n",
    "print(torch.norm(contract('abcd,aA,bB,cC,dD->ABCD',T,R,R,R,R)+T))\n",
    "\n",
    "def Ising3D_T0(beta,h):\n",
    "    beta,h=_toT(beta),_toT(h)\n",
    "    a=torch.sqrt(torch.cosh(beta))\n",
    "    b=torch.sqrt(torch.sinh(beta))\n",
    "    c=torch.exp(beta*h)\n",
    "    w=torch.stack([torch.stack([a,a]),torch.stack([b,-b])])\n",
    "    z=torch.stack([c,1/c])\n",
    "    return contract('iA,jA,kA,lA,mA,nA,A->ijklmn',w,w,w,w,w,w,z)#UDLRFB\n",
    "\n",
    "def Ising3D_SZT0(beta,h):\n",
    "    beta,h=_toT(beta),_toT(h)\n",
    "    a=torch.sqrt(torch.cosh(beta))\n",
    "    b=torch.sqrt(torch.sinh(beta))\n",
    "    c=torch.exp(beta*h)\n",
    "    w=torch.stack([torch.stack([a,a]),torch.stack([b,-b])])\n",
    "    z=torch.stack([c,-1/c])\n",
    "    return contract('iA,jA,kA,lA,mA,nA,A->ijklmn',w,w,w,w,w,w,z)#UDLRFB\n",
    "\n",
    "R=torch.tensor(np.diag([1.,-1.]))\n",
    "T=Ising3D_T0(1.,0.)\n",
    "print(torch.norm(contract('abcdef,aA,bB,cC,dD,eE,fF->ABCDEF',T,R,R.conj(),R,R.conj(),R,R.conj())-T))\n",
    "T=Ising3D_SZT0(1.,0.)\n",
    "print(torch.norm(contract('abcdef,aA,bB,cC,dD,eE,fF->ABCDEF',T,R,R.conj(),R,R.conj(),R,R.conj())+T))"
   ]
  },
  {
   "cell_type": "code",
   "execution_count": 6,
   "id": "d94da502",
   "metadata": {},
   "outputs": [],
   "source": [
    "def RepMat(dimV1R1,dimV1R2,dimV2R1,dimV2R2):\n",
    "    dimV1=dimV1R1+dimV1R2\n",
    "    dimV2=dimV2R1+dimV2R2\n",
    "    P=torch.zeros([dimV1*dimV2,dimV1,dimV2])\n",
    "    counter=0\n",
    "    for i in range(dimV1R1):\n",
    "        for j in range(dimV2R1):\n",
    "            P[counter,i,j]=1\n",
    "            counter+=1\n",
    "    for i in range(dimV1R2):\n",
    "        for j in range(dimV2R2):\n",
    "            P[counter,dimV1R1+i,dimV2R1+j]=1\n",
    "            counter+=1\n",
    "    dimR1=counter\n",
    "    for i in range(dimV1R1):\n",
    "        for j in range(dimV2R2):\n",
    "            P[counter,i,dimV2R1+j]=1\n",
    "            counter+=1\n",
    "    for i in range(dimV1R2):\n",
    "        for j in range(dimV2R1):\n",
    "            P[counter,dimV1R1+i,j]=1\n",
    "            counter+=1\n",
    "    dimR2=counter-dimR1\n",
    "    P=P.reshape(dimV1*dimV2,-1)\n",
    "    return P,dimR1,dimR2"
   ]
  },
  {
   "cell_type": "code",
   "execution_count": 7,
   "id": "9d47833e",
   "metadata": {},
   "outputs": [],
   "source": [
    "def HOTRG_get_w(MM,dimRn1,dimRn2,max_dim):\n",
    "    MM1,MM2=MM[:dimRn1,:dimRn1],MM[dimRn1:,dimRn1:]\n",
    "    S1,U1=torch.linalg.eigh(MM1)#ascending, U S Uh=MM\n",
    "    S2,U2=torch.linalg.eigh(MM2)\n",
    "    S,U=[S1,S2],[U1,U2]\n",
    "    max_dim=min(max_dim,dimRn1+dimRn2)\n",
    "    chosenEigens=sorted([(-s,0,i) for i,s in enumerate(S1)]+[(-s,1,i) for i,s in enumerate(S2)])[:max_dim]\n",
    "    chosenEigens.sort(key=lambda x:x[1])\n",
    "    \n",
    "    shift=[0,dimRn1]\n",
    "    dim=[dimRn1,dimRn2]\n",
    "    dimRnn=[0,0]\n",
    "    w=torch.zeros((max_dim,dimRn1+dimRn2))\n",
    "    for i,(s,rep,col) in enumerate(chosenEigens):\n",
    "        w[i,shift[rep]:shift[rep]+dim[rep]]=U[rep][:,col]\n",
    "        dimRnn[rep]+=1\n",
    "    return w,dimRnn[0],dimRnn[1]\n",
    "\n",
    "def HOTRG(T,dimR1,dimR2,max_dim):\n",
    "    P,dimRn1,dimRn2=RepMat(dimR1,dimR2,dimR1,dimR2)\n",
    "    #print(dimR1,dimR2,dimRn1,dimRn2)\n",
    "    MM=contract('ijkl,jmno,ipql,pmro->knqr',T,T,T.conj(),T.conj()).reshape((dimRn1+dimRn2,dimRn1+dimRn2))\n",
    "    MM=P@MM@P.T.conj()\n",
    "    w,dimRnn1,dimRnn2=HOTRG_get_w(MM,dimRn1,dimRn2,max_dim)\n",
    "    #display(MM,w@MM@w.T.conj())\n",
    "    w=(w@P).reshape(-1,dimR1+dimR2,dimR1+dimR2)\n",
    "    \n",
    "    Tn=contract('ijkl,jmno,akn,blo->abim',T,T,w,w.conj())\n",
    "    \n",
    "    #print([dimR1,dimR2],dimRnn)\n",
    "    return Tn,w,dimRnn1,dimRnn2\n",
    "\n",
    "def HOTRG3D(T,dimR11,dimR12,dimR21,dimR22,max_dim):\n",
    "    P1,dimRn11,dimRn12=RepMat(dimR11,dimR12,dimR11,dimR12)\n",
    "    MM1=contract('ijklmn,jopqrs,itulmn,tovqrs->kpuv',T,T,T.conj(),T.conj()).reshape((dimRn11+dimRn12,dimRn11+dimRn12))\n",
    "    MM1=P1@MM1@P1.T.conj()\n",
    "    w1,dimRnn11,dimRnn12=HOTRG_get_w(MM1,dimRn11,dimRn12,max_dim)\n",
    "    #display(MM,w@MM@w.T.conj())\n",
    "    w1=(w1@P1).reshape(-1,dimR11+dimR12,dimR11+dimR12)\n",
    "    \n",
    "    P2,dimRn21,dimRn22=RepMat(dimR21,dimR22,dimR21,dimR22)\n",
    "    MM2=contract('ijklmn,jopqrs,itklun,topqvs->mruv',T,T,T.conj(),T.conj()).reshape((dimRn21+dimRn22,dimRn21+dimRn22))\n",
    "    MM2=P2@MM2@P2.T.conj()\n",
    "    w2,dimRnn21,dimRnn22=HOTRG_get_w(MM2,dimRn21,dimRn22,max_dim)\n",
    "    #display(MM,w@MM@w.T.conj())\n",
    "    w2=(w2@P2).reshape(-1,dimR21+dimR22,dimR21+dimR22)\n",
    "    \n",
    "    #print(T.shape,w1.shape,w2.shape)\n",
    "    Tn=contract('ijklmn,jopqrs,akp,blq,cmr,dns->abcdio',T,T,w1,w1.conj(),w2,w2.conj())\n",
    "    \n",
    "    #print([dimR1,dimR2],dimRnn)\n",
    "    return Tn,w1,w2,dimRnn11,dimRnn12,dimRnn21,dimRnn22"
   ]
  },
  {
   "cell_type": "code",
   "execution_count": 8,
   "id": "bc03ad70",
   "metadata": {},
   "outputs": [
    {
     "data": {
      "application/vnd.jupyter.widget-view+json": {
       "model_id": "",
       "version_major": 2,
       "version_minor": 0
      },
      "text/plain": [
       "  0%|          | 0/15 [00:00<?, ?it/s]"
      ]
     },
     "metadata": {},
     "output_type": "display_data"
    },
    {
     "name": "stdout",
     "output_type": "stream",
     "text": [
      "[3.35564855 3.1734052  3.08664967 3.04332785 3.021667   3.01083657\n",
      " 3.00542136 3.00271376 3.00135995 3.00068305 3.0003446  3.00017537\n",
      " 3.00009076 3.00004846 3.0000273 ]\n"
     ]
    }
   ],
   "source": [
    "def calc_isometries_HOTRG(T,dimR,max_dim,nLayers):\n",
    "    #dimR[dir][rep]\n",
    "    ws=[]\n",
    "    logTotal=0\n",
    "    logZ=[]\n",
    "    for layer in range(nLayers):\n",
    "        T,w,dimRn1,dimRn2=HOTRG(T,dimR[1][0],dimR[1][1],max_dim)\n",
    "        dimR=[[dimRn1,dimRn2],dimR[0]]\n",
    "        ws.append({'isometry':w,'multipilicity':[dimRn1,dimRn2]})\n",
    "        norm=torch.linalg.norm(T)\n",
    "        T=T/norm\n",
    "        logTotal=2*logTotal+torch.log(norm)\n",
    "        logZ.append((logTotal+torch.log(contract('aabb',T)))/2.**(layer+1))\n",
    "    return T,logTotal,ws,logZ\n",
    "\n",
    "def calc_isometries_HOTRG3D(T,dimR,max_dim,nLayers):\n",
    "    #dimR[dir][rep]\n",
    "    ws=[]\n",
    "    logTotal=0\n",
    "    logZ=[]\n",
    "    for layer in tqdm(range(nLayers), leave=False):\n",
    "        #print(dimR)\n",
    "        T,w1,w2,dimRn11,dimRn12,dimRn21,dimRn22=HOTRG3D(T,dimR[1][0],dimR[1][1],dimR[2][0],dimR[2][1],max_dim)\n",
    "        dimR=[[dimRn11,dimRn12],[dimRn21,dimRn22],dimR[0]]\n",
    "        ws.append({'isometry':[w1,w2],'multipilicity':[[dimRn11,dimRn12],[dimRn21,dimRn22]]})\n",
    "        norm=torch.linalg.norm(T)\n",
    "        T=T/norm\n",
    "        logTotal=2*logTotal+torch.log(norm)\n",
    "        logZ.append((logTotal+torch.log(contract('aabbcc',T)))/2.**(layer+1))\n",
    "    return T,logTotal,ws,logZ\n",
    "\n",
    "T0,T0_op=Ising3D_T0(1.,0.),Ising3D_SZT0(1.,0.)\n",
    "T,logTotal,ws,logZ=calc_isometries_HOTRG3D(T0,[[1,1]]*3,max_dim=4,nLayers=15)\n",
    "print(_toN(logZ))"
   ]
  },
  {
   "cell_type": "code",
   "execution_count": 9,
   "id": "add57eb1",
   "metadata": {},
   "outputs": [
    {
     "data": {
      "application/vnd.jupyter.widget-view+json": {
       "model_id": "",
       "version_major": 2,
       "version_minor": 0
      },
      "text/plain": [
       "  0%|          | 0/15 [00:00<?, ?it/s]"
      ]
     },
     "metadata": {},
     "output_type": "display_data"
    },
    {
     "name": "stdout",
     "output_type": "stream",
     "text": [
      "[-1.78287057e-17 -2.24484021e-17 -3.93904425e-17 -7.18286818e-17\n",
      " -1.36702555e-16 -2.66449149e-16 -5.25942079e-16 -1.04492794e-15\n",
      " -2.08289966e-15 -4.15884310e-15 -8.31072997e-15 -1.66145037e-14\n",
      " -3.32220512e-14 -6.64371462e-14 -1.32867336e-13]\n",
      "[0.99799104 0.99997414 0.99997506 0.99997536 0.99997536 0.99997536\n",
      " 0.99997536 0.99997536 0.99997536 0.99997536 0.99997536 0.99997536\n",
      " 0.99997536 0.99997536 0.99997536]\n"
     ]
    }
   ],
   "source": [
    "def evolve_tensor(T,T_op,ws,average=False,checkboard=False):\n",
    "    logTotal=0\n",
    "    M,M2=[],[]\n",
    "    for layer in range(len(ws)):\n",
    "        w=ws[layer]['isometry']\n",
    "        T1=contract('ijkl,jmno,akn,blo->abim',T,T,w,w.conj())\n",
    "        T2=contract('ijkl,jmno,akn,blo->abim',T_op,T,w,w.conj())\n",
    "        if average:\n",
    "            T3=contract('ijkl,jmno,akn,blo->abim',T,T_op,w,w.conj())\n",
    "            if checkboard and layer<2:\n",
    "                T3=-T3\n",
    "            T2=(T2+T3)/2\n",
    "        norm=torch.linalg.norm(T1)\n",
    "        T,T_op=T1/norm,T2/norm\n",
    "        logTotal=2*logTotal+torch.log(norm)\n",
    "        \n",
    "        M.append(contract('aabb',T_op)/contract('aabb',T))\n",
    "        M2.append(contract('abcc,badd',T_op,T_op)/contract('abcc,badd',T,T))\n",
    "    return T,T_op,logTotal,M,M2\n",
    "\n",
    "def evolve_tensor3D(T,T_op,ws,average=False,checkboard=False):\n",
    "    logTotal=0\n",
    "    M,M2=[],[]\n",
    "    for layer in tqdm(range(len(ws)), leave=False):\n",
    "        w1,w2=ws[layer]['isometry']\n",
    "        T1=contract('ijklmn,jopqrs,akp,blq,cmr,dns->abcdio',T,T,   w1,w1.conj(),w2,w2.conj())\n",
    "        T2=contract('ijklmn,jopqrs,akp,blq,cmr,dns->abcdio',T,T_op,w1,w1.conj(),w2,w2.conj())\n",
    "        if average:\n",
    "            T3=contract('ijklmn,jopqrs,akp,blq,cmr,dns->abcdio',T_op,T,w1,w1.conj(),w2,w2.conj())\n",
    "            if checkboard and layer<3:\n",
    "                T3=-T3\n",
    "            T2=(T2+T3)/2\n",
    "        norm=torch.linalg.norm(T1)\n",
    "        T,T_op=T1/norm,T2/norm\n",
    "        logTotal=2*logTotal+torch.log(norm)\n",
    "        \n",
    "        M.append(contract('aabbcc',T_op)/contract('aabbcc',T))\n",
    "        M2.append(contract('abccdd,baeeff',T_op,T_op)/contract('abccdd,baeeff',T,T))\n",
    "    return T,T_op,logTotal,M,M2\n",
    "\n",
    "T,T_op,logTotal,M,M2=evolve_tensor3D(T0,T0_op,ws)\n",
    "print(_toN(M))\n",
    "print(_toN(M2))"
   ]
  },
  {
   "cell_type": "code",
   "execution_count": 12,
   "id": "d026f036",
   "metadata": {},
   "outputs": [
    {
     "data": {
      "application/vnd.jupyter.widget-view+json": {
       "model_id": "e312c1e785a5480089ca9f3e73b43ec1",
       "version_major": 2,
       "version_minor": 0
      },
      "text/plain": [
       "  0%|          | 0/31 [00:00<?, ?it/s]"
      ]
     },
     "metadata": {},
     "output_type": "display_data"
    }
   ],
   "source": [
    "import pandas as pd\n",
    "from tqdm.auto import tqdm\n",
    "\n",
    "max_dim=2\n",
    "nLayers=30\n",
    "\n",
    "curve=pd.DataFrame()\n",
    "for beta in tqdm(np.linspace(.2,.6,31)):\n",
    "    with torch.no_grad():\n",
    "        T0,T0_op=Ising_T0(beta,0),Ising_SZT0(beta,0)\n",
    "        dimR=[[1,1]]*3\n",
    "        T,logTotal,ws,logZ=calc_isometries_HOTRG(T0,dimR,max_dim=max_dim,nLayers=nLayers)\n",
    "        T,T_op,logTotal,M,M2=evolve_tensor(T0,T0_op,ws,average=False)\n",
    "        T,T_op,logTotal,M_average,M2_average=evolve_tensor(T0,T0_op,ws,average=True)\n",
    "        \n",
    "        newRow={'beta':beta,'logZ':logZ[-1],'M':M[-1],'sqrtM2':torch.sqrt(M2[-1]),'M_average':M_average[-1],'sqrtM2_average':torch.sqrt(M2_average[-1])}\n",
    "        newRow={k:_toN(v) for k,v in newRow.items()}\n",
    "        curve=curve.append(newRow,ignore_index=True)\n",
    "    \n"
   ]
  },
  {
   "cell_type": "code",
   "execution_count": 14,
   "id": "e1316d05",
   "metadata": {},
   "outputs": [
    {
     "data": {
      "image/png": "[encoded data removed]",
      "text/plain": [
       "<Figure size 432x288 with 1 Axes>"
      ]
     },
     "metadata": {
      "needs_background": "light"
     },
     "output_type": "display_data"
    },
    {
     "data": {
      "image/png": "[encoded data removed]",
      "text/plain": [
       "<Figure size 432x288 with 1 Axes>"
      ]
     },
     "metadata": {
      "needs_background": "light"
     },
     "output_type": "display_data"
    }
   ],
   "source": [
    "from IsingSolutions import Ising2DExactSolution\n",
    "ising2DExactSolution=Ising2DExactSolution()\n",
    "\n",
    "curve['logZ_ref']=ising2DExactSolution.logZ(curve['beta'])\n",
    "curve['m_ref']=ising2DExactSolution.magnetization(curve['beta'])\n",
    "\n",
    "import matplotlib.pyplot as plt\n",
    "ls=['-','--','-.',':','.']*100\n",
    "for i,label in enumerate(['sqrtM2','m_ref']):\n",
    "    plt.plot(curve['beta'],np.abs(curve[label]),ls[i],label=label,alpha=.5)\n",
    "plt.legend()\n",
    "plt.show()\n",
    "for i,label in enumerate(['logZ','logZ_ref']):\n",
    "    plt.plot(curve['beta'],np.abs(curve[label]),ls[i],label=label,alpha=.5)\n",
    "plt.legend()\n",
    "plt.show()"
   ]
  },
  {
   "cell_type": "code",
   "execution_count": 11,
   "id": "95e9dd8e",
   "metadata": {},
   "outputs": [
    {
     "data": {
      "application/vnd.jupyter.widget-view+json": {
       "model_id": "5dc366289dc34494a5a2bc4c03380281",
       "version_major": 2,
       "version_minor": 0
      },
      "text/plain": [
       "  0%|          | 0/31 [00:00<?, ?it/s]"
      ]
     },
     "metadata": {},
     "output_type": "display_data"
    },
    {
     "data": {
      "application/vnd.jupyter.widget-view+json": {
       "model_id": "",
       "version_major": 2,
       "version_minor": 0
      },
      "text/plain": [
       "  0%|          | 0/30 [00:00<?, ?it/s]"
      ]
     },
     "metadata": {},
     "output_type": "display_data"
    },
    {
     "data": {
      "application/vnd.jupyter.widget-view+json": {
       "model_id": "",
       "version_major": 2,
       "version_minor": 0
      },
      "text/plain": [
       "  0%|          | 0/30 [00:00<?, ?it/s]"
      ]
     },
     "metadata": {},
     "output_type": "display_data"
    },
    {
     "data": {
      "application/vnd.jupyter.widget-view+json": {
       "model_id": "",
       "version_major": 2,
       "version_minor": 0
      },
      "text/plain": [
       "  0%|          | 0/30 [00:00<?, ?it/s]"
      ]
     },
     "metadata": {},
     "output_type": "display_data"
    },
    {
     "data": {
      "application/vnd.jupyter.widget-view+json": {
       "model_id": "",
       "version_major": 2,
       "version_minor": 0
      },
      "text/plain": [
       "  0%|          | 0/30 [00:00<?, ?it/s]"
      ]
     },
     "metadata": {},
     "output_type": "display_data"
    },
    {
     "data": {
      "application/vnd.jupyter.widget-view+json": {
       "model_id": "",
       "version_major": 2,
       "version_minor": 0
      },
      "text/plain": [
       "  0%|          | 0/30 [00:00<?, ?it/s]"
      ]
     },
     "metadata": {},
     "output_type": "display_data"
    },
    {
     "data": {
      "application/vnd.jupyter.widget-view+json": {
       "model_id": "",
       "version_major": 2,
       "version_minor": 0
      },
      "text/plain": [
       "  0%|          | 0/30 [00:00<?, ?it/s]"
      ]
     },
     "metadata": {},
     "output_type": "display_data"
    },
    {
     "data": {
      "application/vnd.jupyter.widget-view+json": {
       "model_id": "",
       "version_major": 2,
       "version_minor": 0
      },
      "text/plain": [
       "  0%|          | 0/30 [00:00<?, ?it/s]"
      ]
     },
     "metadata": {},
     "output_type": "display_data"
    },
    {
     "data": {
      "application/vnd.jupyter.widget-view+json": {
       "model_id": "",
       "version_major": 2,
       "version_minor": 0
      },
      "text/plain": [
       "  0%|          | 0/30 [00:00<?, ?it/s]"
      ]
     },
     "metadata": {},
     "output_type": "display_data"
    },
    {
     "data": {
      "application/vnd.jupyter.widget-view+json": {
       "model_id": "",
       "version_major": 2,
       "version_minor": 0
      },
      "text/plain": [
       "  0%|          | 0/30 [00:00<?, ?it/s]"
      ]
     },
     "metadata": {},
     "output_type": "display_data"
    },
    {
     "data": {
      "application/vnd.jupyter.widget-view+json": {
       "model_id": "",
       "version_major": 2,
       "version_minor": 0
      },
      "text/plain": [
       "  0%|          | 0/30 [00:00<?, ?it/s]"
      ]
     },
     "metadata": {},
     "output_type": "display_data"
    },
    {
     "data": {
      "application/vnd.jupyter.widget-view+json": {
       "model_id": "",
       "version_major": 2,
       "version_minor": 0
      },
      "text/plain": [
       "  0%|          | 0/30 [00:00<?, ?it/s]"
      ]
     },
     "metadata": {},
     "output_type": "display_data"
    },
    {
     "data": {
      "application/vnd.jupyter.widget-view+json": {
       "model_id": "",
       "version_major": 2,
       "version_minor": 0
      },
      "text/plain": [
       "  0%|          | 0/30 [00:00<?, ?it/s]"
      ]
     },
     "metadata": {},
     "output_type": "display_data"
    },
    {
     "data": {
      "application/vnd.jupyter.widget-view+json": {
       "model_id": "",
       "version_major": 2,
       "version_minor": 0
      },
      "text/plain": [
       "  0%|          | 0/30 [00:00<?, ?it/s]"
      ]
     },
     "metadata": {},
     "output_type": "display_data"
    },
    {
     "data": {
      "application/vnd.jupyter.widget-view+json": {
       "model_id": "",
       "version_major": 2,
       "version_minor": 0
      },
      "text/plain": [
       "  0%|          | 0/30 [00:00<?, ?it/s]"
      ]
     },
     "metadata": {},
     "output_type": "display_data"
    },
    {
     "data": {
      "application/vnd.jupyter.widget-view+json": {
       "model_id": "",
       "version_major": 2,
       "version_minor": 0
      },
      "text/plain": [
       "  0%|          | 0/30 [00:00<?, ?it/s]"
      ]
     },
     "metadata": {},
     "output_type": "display_data"
    },
    {
     "data": {
      "application/vnd.jupyter.widget-view+json": {
       "model_id": "",
       "version_major": 2,
       "version_minor": 0
      },
      "text/plain": [
       "  0%|          | 0/30 [00:00<?, ?it/s]"
      ]
     },
     "metadata": {},
     "output_type": "display_data"
    },
    {
     "data": {
      "application/vnd.jupyter.widget-view+json": {
       "model_id": "",
       "version_major": 2,
       "version_minor": 0
      },
      "text/plain": [
       "  0%|          | 0/30 [00:00<?, ?it/s]"
      ]
     },
     "metadata": {},
     "output_type": "display_data"
    },
    {
     "data": {
      "application/vnd.jupyter.widget-view+json": {
       "model_id": "",
       "version_major": 2,
       "version_minor": 0
      },
      "text/plain": [
       "  0%|          | 0/30 [00:00<?, ?it/s]"
      ]
     },
     "metadata": {},
     "output_type": "display_data"
    },
    {
     "data": {
      "application/vnd.jupyter.widget-view+json": {
       "model_id": "",
       "version_major": 2,
       "version_minor": 0
      },
      "text/plain": [
       "  0%|          | 0/30 [00:00<?, ?it/s]"
      ]
     },
     "metadata": {},
     "output_type": "display_data"
    },
    {
     "data": {
      "application/vnd.jupyter.widget-view+json": {
       "model_id": "",
       "version_major": 2,
       "version_minor": 0
      },
      "text/plain": [
       "  0%|          | 0/30 [00:00<?, ?it/s]"
      ]
     },
     "metadata": {},
     "output_type": "display_data"
    },
    {
     "data": {
      "application/vnd.jupyter.widget-view+json": {
       "model_id": "",
       "version_major": 2,
       "version_minor": 0
      },
      "text/plain": [
       "  0%|          | 0/30 [00:00<?, ?it/s]"
      ]
     },
     "metadata": {},
     "output_type": "display_data"
    },
    {
     "data": {
      "application/vnd.jupyter.widget-view+json": {
       "model_id": "",
       "version_major": 2,
       "version_minor": 0
      },
      "text/plain": [
       "  0%|          | 0/30 [00:00<?, ?it/s]"
      ]
     },
     "metadata": {},
     "output_type": "display_data"
    },
    {
     "data": {
      "application/vnd.jupyter.widget-view+json": {
       "model_id": "",
       "version_major": 2,
       "version_minor": 0
      },
      "text/plain": [
       "  0%|          | 0/30 [00:00<?, ?it/s]"
      ]
     },
     "metadata": {},
     "output_type": "display_data"
    },
    {
     "data": {
      "application/vnd.jupyter.widget-view+json": {
       "model_id": "",
       "version_major": 2,
       "version_minor": 0
      },
      "text/plain": [
       "  0%|          | 0/30 [00:00<?, ?it/s]"
      ]
     },
     "metadata": {},
     "output_type": "display_data"
    },
    {
     "data": {
      "application/vnd.jupyter.widget-view+json": {
       "model_id": "",
       "version_major": 2,
       "version_minor": 0
      },
      "text/plain": [
       "  0%|          | 0/30 [00:00<?, ?it/s]"
      ]
     },
     "metadata": {},
     "output_type": "display_data"
    },
    {
     "data": {
      "application/vnd.jupyter.widget-view+json": {
       "model_id": "",
       "version_major": 2,
       "version_minor": 0
      },
      "text/plain": [
       "  0%|          | 0/30 [00:00<?, ?it/s]"
      ]
     },
     "metadata": {},
     "output_type": "display_data"
    },
    {
     "data": {
      "application/vnd.jupyter.widget-view+json": {
       "model_id": "",
       "version_major": 2,
       "version_minor": 0
      },
      "text/plain": [
       "  0%|          | 0/30 [00:00<?, ?it/s]"
      ]
     },
     "metadata": {},
     "output_type": "display_data"
    },
    {
     "data": {
      "application/vnd.jupyter.widget-view+json": {
       "model_id": "",
       "version_major": 2,
       "version_minor": 0
      },
      "text/plain": [
       "  0%|          | 0/30 [00:00<?, ?it/s]"
      ]
     },
     "metadata": {},
     "output_type": "display_data"
    },
    {
     "data": {
      "application/vnd.jupyter.widget-view+json": {
       "model_id": "",
       "version_major": 2,
       "version_minor": 0
      },
      "text/plain": [
       "  0%|          | 0/30 [00:00<?, ?it/s]"
      ]
     },
     "metadata": {},
     "output_type": "display_data"
    },
    {
     "data": {
      "application/vnd.jupyter.widget-view+json": {
       "model_id": "",
       "version_major": 2,
       "version_minor": 0
      },
      "text/plain": [
       "  0%|          | 0/30 [00:00<?, ?it/s]"
      ]
     },
     "metadata": {},
     "output_type": "display_data"
    },
    {
     "data": {
      "application/vnd.jupyter.widget-view+json": {
       "model_id": "",
       "version_major": 2,
       "version_minor": 0
      },
      "text/plain": [
       "  0%|          | 0/30 [00:00<?, ?it/s]"
      ]
     },
     "metadata": {},
     "output_type": "display_data"
    },
    {
     "data": {
      "application/vnd.jupyter.widget-view+json": {
       "model_id": "",
       "version_major": 2,
       "version_minor": 0
      },
      "text/plain": [
       "  0%|          | 0/30 [00:00<?, ?it/s]"
      ]
     },
     "metadata": {},
     "output_type": "display_data"
    },
    {
     "data": {
      "application/vnd.jupyter.widget-view+json": {
       "model_id": "",
       "version_major": 2,
       "version_minor": 0
      },
      "text/plain": [
       "  0%|          | 0/30 [00:00<?, ?it/s]"
      ]
     },
     "metadata": {},
     "output_type": "display_data"
    },
    {
     "data": {
      "application/vnd.jupyter.widget-view+json": {
       "model_id": "",
       "version_major": 2,
       "version_minor": 0
      },
      "text/plain": [
       "  0%|          | 0/30 [00:00<?, ?it/s]"
      ]
     },
     "metadata": {},
     "output_type": "display_data"
    },
    {
     "data": {
      "application/vnd.jupyter.widget-view+json": {
       "model_id": "",
       "version_major": 2,
       "version_minor": 0
      },
      "text/plain": [
       "  0%|          | 0/30 [00:00<?, ?it/s]"
      ]
     },
     "metadata": {},
     "output_type": "display_data"
    },
    {
     "data": {
      "application/vnd.jupyter.widget-view+json": {
       "model_id": "",
       "version_major": 2,
       "version_minor": 0
      },
      "text/plain": [
       "  0%|          | 0/30 [00:00<?, ?it/s]"
      ]
     },
     "metadata": {},
     "output_type": "display_data"
    },
    {
     "data": {
      "application/vnd.jupyter.widget-view+json": {
       "model_id": "",
       "version_major": 2,
       "version_minor": 0
      },
      "text/plain": [
       "  0%|          | 0/30 [00:00<?, ?it/s]"
      ]
     },
     "metadata": {},
     "output_type": "display_data"
    },
    {
     "data": {
      "application/vnd.jupyter.widget-view+json": {
       "model_id": "",
       "version_major": 2,
       "version_minor": 0
      },
      "text/plain": [
       "  0%|          | 0/30 [00:00<?, ?it/s]"
      ]
     },
     "metadata": {},
     "output_type": "display_data"
    },
    {
     "data": {
      "application/vnd.jupyter.widget-view+json": {
       "model_id": "",
       "version_major": 2,
       "version_minor": 0
      },
      "text/plain": [
       "  0%|          | 0/30 [00:00<?, ?it/s]"
      ]
     },
     "metadata": {},
     "output_type": "display_data"
    },
    {
     "data": {
      "application/vnd.jupyter.widget-view+json": {
       "model_id": "",
       "version_major": 2,
       "version_minor": 0
      },
      "text/plain": [
       "  0%|          | 0/30 [00:00<?, ?it/s]"
      ]
     },
     "metadata": {},
     "output_type": "display_data"
    },
    {
     "data": {
      "application/vnd.jupyter.widget-view+json": {
       "model_id": "",
       "version_major": 2,
       "version_minor": 0
      },
      "text/plain": [
       "  0%|          | 0/30 [00:00<?, ?it/s]"
      ]
     },
     "metadata": {},
     "output_type": "display_data"
    },
    {
     "data": {
      "application/vnd.jupyter.widget-view+json": {
       "model_id": "",
       "version_major": 2,
       "version_minor": 0
      },
      "text/plain": [
       "  0%|          | 0/30 [00:00<?, ?it/s]"
      ]
     },
     "metadata": {},
     "output_type": "display_data"
    },
    {
     "data": {
      "application/vnd.jupyter.widget-view+json": {
       "model_id": "",
       "version_major": 2,
       "version_minor": 0
      },
      "text/plain": [
       "  0%|          | 0/30 [00:00<?, ?it/s]"
      ]
     },
     "metadata": {},
     "output_type": "display_data"
    },
    {
     "data": {
      "application/vnd.jupyter.widget-view+json": {
       "model_id": "",
       "version_major": 2,
       "version_minor": 0
      },
      "text/plain": [
       "  0%|          | 0/30 [00:00<?, ?it/s]"
      ]
     },
     "metadata": {},
     "output_type": "display_data"
    },
    {
     "data": {
      "application/vnd.jupyter.widget-view+json": {
       "model_id": "",
       "version_major": 2,
       "version_minor": 0
      },
      "text/plain": [
       "  0%|          | 0/30 [00:00<?, ?it/s]"
      ]
     },
     "metadata": {},
     "output_type": "display_data"
    },
    {
     "data": {
      "application/vnd.jupyter.widget-view+json": {
       "model_id": "",
       "version_major": 2,
       "version_minor": 0
      },
      "text/plain": [
       "  0%|          | 0/30 [00:00<?, ?it/s]"
      ]
     },
     "metadata": {},
     "output_type": "display_data"
    },
    {
     "data": {
      "application/vnd.jupyter.widget-view+json": {
       "model_id": "",
       "version_major": 2,
       "version_minor": 0
      },
      "text/plain": [
       "  0%|          | 0/30 [00:00<?, ?it/s]"
      ]
     },
     "metadata": {},
     "output_type": "display_data"
    },
    {
     "data": {
      "application/vnd.jupyter.widget-view+json": {
       "model_id": "",
       "version_major": 2,
       "version_minor": 0
      },
      "text/plain": [
       "  0%|          | 0/30 [00:00<?, ?it/s]"
      ]
     },
     "metadata": {},
     "output_type": "display_data"
    },
    {
     "data": {
      "application/vnd.jupyter.widget-view+json": {
       "model_id": "",
       "version_major": 2,
       "version_minor": 0
      },
      "text/plain": [
       "  0%|          | 0/30 [00:00<?, ?it/s]"
      ]
     },
     "metadata": {},
     "output_type": "display_data"
    },
    {
     "data": {
      "application/vnd.jupyter.widget-view+json": {
       "model_id": "",
       "version_major": 2,
       "version_minor": 0
      },
      "text/plain": [
       "  0%|          | 0/30 [00:00<?, ?it/s]"
      ]
     },
     "metadata": {},
     "output_type": "display_data"
    },
    {
     "data": {
      "application/vnd.jupyter.widget-view+json": {
       "model_id": "",
       "version_major": 2,
       "version_minor": 0
      },
      "text/plain": [
       "  0%|          | 0/30 [00:00<?, ?it/s]"
      ]
     },
     "metadata": {},
     "output_type": "display_data"
    },
    {
     "data": {
      "application/vnd.jupyter.widget-view+json": {
       "model_id": "",
       "version_major": 2,
       "version_minor": 0
      },
      "text/plain": [
       "  0%|          | 0/30 [00:00<?, ?it/s]"
      ]
     },
     "metadata": {},
     "output_type": "display_data"
    },
    {
     "data": {
      "application/vnd.jupyter.widget-view+json": {
       "model_id": "",
       "version_major": 2,
       "version_minor": 0
      },
      "text/plain": [
       "  0%|          | 0/30 [00:00<?, ?it/s]"
      ]
     },
     "metadata": {},
     "output_type": "display_data"
    },
    {
     "data": {
      "application/vnd.jupyter.widget-view+json": {
       "model_id": "",
       "version_major": 2,
       "version_minor": 0
      },
      "text/plain": [
       "  0%|          | 0/30 [00:00<?, ?it/s]"
      ]
     },
     "metadata": {},
     "output_type": "display_data"
    },
    {
     "data": {
      "application/vnd.jupyter.widget-view+json": {
       "model_id": "",
       "version_major": 2,
       "version_minor": 0
      },
      "text/plain": [
       "  0%|          | 0/30 [00:00<?, ?it/s]"
      ]
     },
     "metadata": {},
     "output_type": "display_data"
    },
    {
     "data": {
      "application/vnd.jupyter.widget-view+json": {
       "model_id": "",
       "version_major": 2,
       "version_minor": 0
      },
      "text/plain": [
       "  0%|          | 0/30 [00:00<?, ?it/s]"
      ]
     },
     "metadata": {},
     "output_type": "display_data"
    },
    {
     "data": {
      "application/vnd.jupyter.widget-view+json": {
       "model_id": "",
       "version_major": 2,
       "version_minor": 0
      },
      "text/plain": [
       "  0%|          | 0/30 [00:00<?, ?it/s]"
      ]
     },
     "metadata": {},
     "output_type": "display_data"
    },
    {
     "data": {
      "application/vnd.jupyter.widget-view+json": {
       "model_id": "",
       "version_major": 2,
       "version_minor": 0
      },
      "text/plain": [
       "  0%|          | 0/30 [00:00<?, ?it/s]"
      ]
     },
     "metadata": {},
     "output_type": "display_data"
    },
    {
     "data": {
      "application/vnd.jupyter.widget-view+json": {
       "model_id": "",
       "version_major": 2,
       "version_minor": 0
      },
      "text/plain": [
       "  0%|          | 0/30 [00:00<?, ?it/s]"
      ]
     },
     "metadata": {},
     "output_type": "display_data"
    },
    {
     "data": {
      "application/vnd.jupyter.widget-view+json": {
       "model_id": "",
       "version_major": 2,
       "version_minor": 0
      },
      "text/plain": [
       "  0%|          | 0/30 [00:00<?, ?it/s]"
      ]
     },
     "metadata": {},
     "output_type": "display_data"
    },
    {
     "data": {
      "application/vnd.jupyter.widget-view+json": {
       "model_id": "",
       "version_major": 2,
       "version_minor": 0
      },
      "text/plain": [
       "  0%|          | 0/30 [00:00<?, ?it/s]"
      ]
     },
     "metadata": {},
     "output_type": "display_data"
    },
    {
     "data": {
      "application/vnd.jupyter.widget-view+json": {
       "model_id": "",
       "version_major": 2,
       "version_minor": 0
      },
      "text/plain": [
       "  0%|          | 0/30 [00:00<?, ?it/s]"
      ]
     },
     "metadata": {},
     "output_type": "display_data"
    },
    {
     "data": {
      "application/vnd.jupyter.widget-view+json": {
       "model_id": "",
       "version_major": 2,
       "version_minor": 0
      },
      "text/plain": [
       "  0%|          | 0/30 [00:00<?, ?it/s]"
      ]
     },
     "metadata": {},
     "output_type": "display_data"
    },
    {
     "data": {
      "application/vnd.jupyter.widget-view+json": {
       "model_id": "",
       "version_major": 2,
       "version_minor": 0
      },
      "text/plain": [
       "  0%|          | 0/30 [00:00<?, ?it/s]"
      ]
     },
     "metadata": {},
     "output_type": "display_data"
    },
    {
     "data": {
      "application/vnd.jupyter.widget-view+json": {
       "model_id": "",
       "version_major": 2,
       "version_minor": 0
      },
      "text/plain": [
       "  0%|          | 0/30 [00:00<?, ?it/s]"
      ]
     },
     "metadata": {},
     "output_type": "display_data"
    },
    {
     "data": {
      "application/vnd.jupyter.widget-view+json": {
       "model_id": "",
       "version_major": 2,
       "version_minor": 0
      },
      "text/plain": [
       "  0%|          | 0/30 [00:00<?, ?it/s]"
      ]
     },
     "metadata": {},
     "output_type": "display_data"
    },
    {
     "data": {
      "application/vnd.jupyter.widget-view+json": {
       "model_id": "",
       "version_major": 2,
       "version_minor": 0
      },
      "text/plain": [
       "  0%|          | 0/30 [00:00<?, ?it/s]"
      ]
     },
     "metadata": {},
     "output_type": "display_data"
    },
    {
     "data": {
      "application/vnd.jupyter.widget-view+json": {
       "model_id": "",
       "version_major": 2,
       "version_minor": 0
      },
      "text/plain": [
       "  0%|          | 0/30 [00:00<?, ?it/s]"
      ]
     },
     "metadata": {},
     "output_type": "display_data"
    },
    {
     "data": {
      "application/vnd.jupyter.widget-view+json": {
       "model_id": "",
       "version_major": 2,
       "version_minor": 0
      },
      "text/plain": [
       "  0%|          | 0/30 [00:00<?, ?it/s]"
      ]
     },
     "metadata": {},
     "output_type": "display_data"
    },
    {
     "data": {
      "application/vnd.jupyter.widget-view+json": {
       "model_id": "",
       "version_major": 2,
       "version_minor": 0
      },
      "text/plain": [
       "  0%|          | 0/30 [00:00<?, ?it/s]"
      ]
     },
     "metadata": {},
     "output_type": "display_data"
    },
    {
     "data": {
      "application/vnd.jupyter.widget-view+json": {
       "model_id": "",
       "version_major": 2,
       "version_minor": 0
      },
      "text/plain": [
       "  0%|          | 0/30 [00:00<?, ?it/s]"
      ]
     },
     "metadata": {},
     "output_type": "display_data"
    },
    {
     "data": {
      "application/vnd.jupyter.widget-view+json": {
       "model_id": "",
       "version_major": 2,
       "version_minor": 0
      },
      "text/plain": [
       "  0%|          | 0/30 [00:00<?, ?it/s]"
      ]
     },
     "metadata": {},
     "output_type": "display_data"
    },
    {
     "data": {
      "application/vnd.jupyter.widget-view+json": {
       "model_id": "",
       "version_major": 2,
       "version_minor": 0
      },
      "text/plain": [
       "  0%|          | 0/30 [00:00<?, ?it/s]"
      ]
     },
     "metadata": {},
     "output_type": "display_data"
    },
    {
     "data": {
      "application/vnd.jupyter.widget-view+json": {
       "model_id": "",
       "version_major": 2,
       "version_minor": 0
      },
      "text/plain": [
       "  0%|          | 0/30 [00:00<?, ?it/s]"
      ]
     },
     "metadata": {},
     "output_type": "display_data"
    },
    {
     "data": {
      "application/vnd.jupyter.widget-view+json": {
       "model_id": "",
       "version_major": 2,
       "version_minor": 0
      },
      "text/plain": [
       "  0%|          | 0/30 [00:00<?, ?it/s]"
      ]
     },
     "metadata": {},
     "output_type": "display_data"
    },
    {
     "data": {
      "application/vnd.jupyter.widget-view+json": {
       "model_id": "",
       "version_major": 2,
       "version_minor": 0
      },
      "text/plain": [
       "  0%|          | 0/30 [00:00<?, ?it/s]"
      ]
     },
     "metadata": {},
     "output_type": "display_data"
    },
    {
     "data": {
      "application/vnd.jupyter.widget-view+json": {
       "model_id": "",
       "version_major": 2,
       "version_minor": 0
      },
      "text/plain": [
       "  0%|          | 0/30 [00:00<?, ?it/s]"
      ]
     },
     "metadata": {},
     "output_type": "display_data"
    },
    {
     "data": {
      "application/vnd.jupyter.widget-view+json": {
       "model_id": "",
       "version_major": 2,
       "version_minor": 0
      },
      "text/plain": [
       "  0%|          | 0/30 [00:00<?, ?it/s]"
      ]
     },
     "metadata": {},
     "output_type": "display_data"
    },
    {
     "data": {
      "application/vnd.jupyter.widget-view+json": {
       "model_id": "",
       "version_major": 2,
       "version_minor": 0
      },
      "text/plain": [
       "  0%|          | 0/30 [00:00<?, ?it/s]"
      ]
     },
     "metadata": {},
     "output_type": "display_data"
    },
    {
     "data": {
      "application/vnd.jupyter.widget-view+json": {
       "model_id": "",
       "version_major": 2,
       "version_minor": 0
      },
      "text/plain": [
       "  0%|          | 0/30 [00:00<?, ?it/s]"
      ]
     },
     "metadata": {},
     "output_type": "display_data"
    },
    {
     "data": {
      "application/vnd.jupyter.widget-view+json": {
       "model_id": "",
       "version_major": 2,
       "version_minor": 0
      },
      "text/plain": [
       "  0%|          | 0/30 [00:00<?, ?it/s]"
      ]
     },
     "metadata": {},
     "output_type": "display_data"
    },
    {
     "data": {
      "application/vnd.jupyter.widget-view+json": {
       "model_id": "",
       "version_major": 2,
       "version_minor": 0
      },
      "text/plain": [
       "  0%|          | 0/30 [00:00<?, ?it/s]"
      ]
     },
     "metadata": {},
     "output_type": "display_data"
    },
    {
     "data": {
      "application/vnd.jupyter.widget-view+json": {
       "model_id": "",
       "version_major": 2,
       "version_minor": 0
      },
      "text/plain": [
       "  0%|          | 0/30 [00:00<?, ?it/s]"
      ]
     },
     "metadata": {},
     "output_type": "display_data"
    },
    {
     "data": {
      "application/vnd.jupyter.widget-view+json": {
       "model_id": "",
       "version_major": 2,
       "version_minor": 0
      },
      "text/plain": [
       "  0%|          | 0/30 [00:00<?, ?it/s]"
      ]
     },
     "metadata": {},
     "output_type": "display_data"
    },
    {
     "data": {
      "application/vnd.jupyter.widget-view+json": {
       "model_id": "",
       "version_major": 2,
       "version_minor": 0
      },
      "text/plain": [
       "  0%|          | 0/30 [00:00<?, ?it/s]"
      ]
     },
     "metadata": {},
     "output_type": "display_data"
    },
    {
     "data": {
      "application/vnd.jupyter.widget-view+json": {
       "model_id": "",
       "version_major": 2,
       "version_minor": 0
      },
      "text/plain": [
       "  0%|          | 0/30 [00:00<?, ?it/s]"
      ]
     },
     "metadata": {},
     "output_type": "display_data"
    },
    {
     "data": {
      "application/vnd.jupyter.widget-view+json": {
       "model_id": "",
       "version_major": 2,
       "version_minor": 0
      },
      "text/plain": [
       "  0%|          | 0/30 [00:00<?, ?it/s]"
      ]
     },
     "metadata": {},
     "output_type": "display_data"
    },
    {
     "data": {
      "application/vnd.jupyter.widget-view+json": {
       "model_id": "",
       "version_major": 2,
       "version_minor": 0
      },
      "text/plain": [
       "  0%|          | 0/30 [00:00<?, ?it/s]"
      ]
     },
     "metadata": {},
     "output_type": "display_data"
    },
    {
     "data": {
      "application/vnd.jupyter.widget-view+json": {
       "model_id": "",
       "version_major": 2,
       "version_minor": 0
      },
      "text/plain": [
       "  0%|          | 0/30 [00:00<?, ?it/s]"
      ]
     },
     "metadata": {},
     "output_type": "display_data"
    },
    {
     "data": {
      "application/vnd.jupyter.widget-view+json": {
       "model_id": "",
       "version_major": 2,
       "version_minor": 0
      },
      "text/plain": [
       "  0%|          | 0/30 [00:00<?, ?it/s]"
      ]
     },
     "metadata": {},
     "output_type": "display_data"
    },
    {
     "data": {
      "application/vnd.jupyter.widget-view+json": {
       "model_id": "",
       "version_major": 2,
       "version_minor": 0
      },
      "text/plain": [
       "  0%|          | 0/30 [00:00<?, ?it/s]"
      ]
     },
     "metadata": {},
     "output_type": "display_data"
    },
    {
     "data": {
      "application/vnd.jupyter.widget-view+json": {
       "model_id": "",
       "version_major": 2,
       "version_minor": 0
      },
      "text/plain": [
       "  0%|          | 0/30 [00:00<?, ?it/s]"
      ]
     },
     "metadata": {},
     "output_type": "display_data"
    },
    {
     "data": {
      "application/vnd.jupyter.widget-view+json": {
       "model_id": "",
       "version_major": 2,
       "version_minor": 0
      },
      "text/plain": [
       "  0%|          | 0/30 [00:00<?, ?it/s]"
      ]
     },
     "metadata": {},
     "output_type": "display_data"
    }
   ],
   "source": [
    "import pandas as pd\n",
    "from tqdm.auto import tqdm\n",
    "\n",
    "max_dim=5\n",
    "nLayers=30\n",
    "\n",
    "curve=pd.DataFrame()\n",
    "for beta in tqdm(np.linspace(.2,.3,31)):\n",
    "    with torch.no_grad():\n",
    "        T0,T0_op=Ising3D_T0(beta,0),Ising3D_SZT0(beta,0)\n",
    "        dimR=[[1,1]]*3\n",
    "        T,logTotal,ws,logZ=calc_isometries_HOTRG3D(T0,dimR,max_dim=max_dim,nLayers=nLayers)\n",
    "        T,T_op,logTotal,M,M2=evolve_tensor3D(T0,T0_op,ws,average=False)\n",
    "        T,T_op,logTotal,M_average,M2_average=evolve_tensor3D(T0,T0_op,ws,average=True)\n",
    "\n",
    "        newRow={'beta':beta,'logZ':logZ[-1],'M':M[-1],'sqrtM2':torch.sqrt(M2[-1]),'M_average':M_average[-1],'sqrtM2_average':torch.sqrt(M2_average[-1])}\n",
    "        newRow={k:_toN(v) for k,v in newRow.items()}\n",
    "        curve=curve.append(newRow,ignore_index=True)\n",
    "    \n"
   ]
  },
  {
   "cell_type": "code",
   "execution_count": 14,
   "id": "c4430455",
   "metadata": {
    "scrolled": false
   },
   "outputs": [
    {
     "data": {
      "image/png": "[encoded data removed]",
      "text/plain": [
       "<Figure size 432x288 with 1 Axes>"
      ]
     },
     "metadata": {
      "needs_background": "light"
     },
     "output_type": "display_data"
    },
    {
     "data": {
      "image/png": "[encoded data removed]",
      "text/plain": [
       "<Figure size 432x288 with 1 Axes>"
      ]
     },
     "metadata": {
      "needs_background": "light"
     },
     "output_type": "display_data"
    }
   ],
   "source": [
    "from IsingSolutions import Ising3DMonteCarlo\n",
    "ising3DMonteCarlo=Ising3DMonteCarlo()\n",
    "\n",
    "curve['m_ref']=ising3DMonteCarlo.magnetization(curve['beta'])\n",
    "\n",
    "import matplotlib.pyplot as plt\n",
    "ls=['-','--','-.',':','.']*100\n",
    "for i,label in enumerate(['M','sqrtM2','M_average','sqrtM2_average','m_ref']):\n",
    "    plt.plot(curve['beta'],np.abs(curve[label]),ls[i],label=label,alpha=.5)\n",
    "plt.legend()\n",
    "plt.show()\n",
    "\n",
    "for i,label in enumerate(['logZ']):\n",
    "    plt.plot(curve['beta'],np.abs(curve[label]),ls[i],label=label,alpha=.5)\n",
    "plt.plot(curve['beta'],3*curve['beta'],ls[0],label='3 beta',alpha=.5)\n",
    "plt.legend()\n",
    "plt.show()"
   ]
  },
  {
   "cell_type": "code",
   "execution_count": 15,
   "id": "6866594c",
   "metadata": {},
   "outputs": [
    {
     "data": {
      "application/vnd.jupyter.widget-view+json": {
       "model_id": "9104c94994a74c2295fed0304867d9d7",
       "version_major": 2,
       "version_minor": 0
      },
      "text/plain": [
       "  0%|          | 0/11 [00:00<?, ?it/s]"
      ]
     },
     "metadata": {},
     "output_type": "display_data"
    },
    {
     "data": {
      "application/vnd.jupyter.widget-view+json": {
       "model_id": "",
       "version_major": 2,
       "version_minor": 0
      },
      "text/plain": [
       "  0%|          | 0/30 [00:00<?, ?it/s]"
      ]
     },
     "metadata": {},
     "output_type": "display_data"
    },
    {
     "data": {
      "application/vnd.jupyter.widget-view+json": {
       "model_id": "",
       "version_major": 2,
       "version_minor": 0
      },
      "text/plain": [
       "  0%|          | 0/30 [00:00<?, ?it/s]"
      ]
     },
     "metadata": {},
     "output_type": "display_data"
    },
    {
     "data": {
      "application/vnd.jupyter.widget-view+json": {
       "model_id": "",
       "version_major": 2,
       "version_minor": 0
      },
      "text/plain": [
       "  0%|          | 0/30 [00:00<?, ?it/s]"
      ]
     },
     "metadata": {},
     "output_type": "display_data"
    },
    {
     "data": {
      "application/vnd.jupyter.widget-view+json": {
       "model_id": "",
       "version_major": 2,
       "version_minor": 0
      },
      "text/plain": [
       "  0%|          | 0/30 [00:00<?, ?it/s]"
      ]
     },
     "metadata": {},
     "output_type": "display_data"
    },
    {
     "data": {
      "application/vnd.jupyter.widget-view+json": {
       "model_id": "",
       "version_major": 2,
       "version_minor": 0
      },
      "text/plain": [
       "  0%|          | 0/30 [00:00<?, ?it/s]"
      ]
     },
     "metadata": {},
     "output_type": "display_data"
    },
    {
     "data": {
      "application/vnd.jupyter.widget-view+json": {
       "model_id": "",
       "version_major": 2,
       "version_minor": 0
      },
      "text/plain": [
       "  0%|          | 0/30 [00:00<?, ?it/s]"
      ]
     },
     "metadata": {},
     "output_type": "display_data"
    },
    {
     "data": {
      "application/vnd.jupyter.widget-view+json": {
       "model_id": "",
       "version_major": 2,
       "version_minor": 0
      },
      "text/plain": [
       "  0%|          | 0/30 [00:00<?, ?it/s]"
      ]
     },
     "metadata": {},
     "output_type": "display_data"
    },
    {
     "data": {
      "application/vnd.jupyter.widget-view+json": {
       "model_id": "",
       "version_major": 2,
       "version_minor": 0
      },
      "text/plain": [
       "  0%|          | 0/30 [00:00<?, ?it/s]"
      ]
     },
     "metadata": {},
     "output_type": "display_data"
    },
    {
     "data": {
      "application/vnd.jupyter.widget-view+json": {
       "model_id": "",
       "version_major": 2,
       "version_minor": 0
      },
      "text/plain": [
       "  0%|          | 0/30 [00:00<?, ?it/s]"
      ]
     },
     "metadata": {},
     "output_type": "display_data"
    },
    {
     "data": {
      "application/vnd.jupyter.widget-view+json": {
       "model_id": "",
       "version_major": 2,
       "version_minor": 0
      },
      "text/plain": [
       "  0%|          | 0/30 [00:00<?, ?it/s]"
      ]
     },
     "metadata": {},
     "output_type": "display_data"
    },
    {
     "data": {
      "application/vnd.jupyter.widget-view+json": {
       "model_id": "",
       "version_major": 2,
       "version_minor": 0
      },
      "text/plain": [
       "  0%|          | 0/30 [00:00<?, ?it/s]"
      ]
     },
     "metadata": {},
     "output_type": "display_data"
    },
    {
     "data": {
      "application/vnd.jupyter.widget-view+json": {
       "model_id": "",
       "version_major": 2,
       "version_minor": 0
      },
      "text/plain": [
       "  0%|          | 0/30 [00:00<?, ?it/s]"
      ]
     },
     "metadata": {},
     "output_type": "display_data"
    },
    {
     "data": {
      "application/vnd.jupyter.widget-view+json": {
       "model_id": "",
       "version_major": 2,
       "version_minor": 0
      },
      "text/plain": [
       "  0%|          | 0/30 [00:00<?, ?it/s]"
      ]
     },
     "metadata": {},
     "output_type": "display_data"
    },
    {
     "data": {
      "application/vnd.jupyter.widget-view+json": {
       "model_id": "",
       "version_major": 2,
       "version_minor": 0
      },
      "text/plain": [
       "  0%|          | 0/30 [00:00<?, ?it/s]"
      ]
     },
     "metadata": {},
     "output_type": "display_data"
    },
    {
     "data": {
      "application/vnd.jupyter.widget-view+json": {
       "model_id": "",
       "version_major": 2,
       "version_minor": 0
      },
      "text/plain": [
       "  0%|          | 0/30 [00:00<?, ?it/s]"
      ]
     },
     "metadata": {},
     "output_type": "display_data"
    },
    {
     "data": {
      "application/vnd.jupyter.widget-view+json": {
       "model_id": "",
       "version_major": 2,
       "version_minor": 0
      },
      "text/plain": [
       "  0%|          | 0/30 [00:00<?, ?it/s]"
      ]
     },
     "metadata": {},
     "output_type": "display_data"
    },
    {
     "data": {
      "application/vnd.jupyter.widget-view+json": {
       "model_id": "",
       "version_major": 2,
       "version_minor": 0
      },
      "text/plain": [
       "  0%|          | 0/30 [00:00<?, ?it/s]"
      ]
     },
     "metadata": {},
     "output_type": "display_data"
    },
    {
     "data": {
      "application/vnd.jupyter.widget-view+json": {
       "model_id": "",
       "version_major": 2,
       "version_minor": 0
      },
      "text/plain": [
       "  0%|          | 0/30 [00:00<?, ?it/s]"
      ]
     },
     "metadata": {},
     "output_type": "display_data"
    },
    {
     "data": {
      "application/vnd.jupyter.widget-view+json": {
       "model_id": "",
       "version_major": 2,
       "version_minor": 0
      },
      "text/plain": [
       "  0%|          | 0/30 [00:00<?, ?it/s]"
      ]
     },
     "metadata": {},
     "output_type": "display_data"
    },
    {
     "data": {
      "application/vnd.jupyter.widget-view+json": {
       "model_id": "",
       "version_major": 2,
       "version_minor": 0
      },
      "text/plain": [
       "  0%|          | 0/30 [00:00<?, ?it/s]"
      ]
     },
     "metadata": {},
     "output_type": "display_data"
    },
    {
     "data": {
      "application/vnd.jupyter.widget-view+json": {
       "model_id": "",
       "version_major": 2,
       "version_minor": 0
      },
      "text/plain": [
       "  0%|          | 0/30 [00:00<?, ?it/s]"
      ]
     },
     "metadata": {},
     "output_type": "display_data"
    },
    {
     "data": {
      "application/vnd.jupyter.widget-view+json": {
       "model_id": "",
       "version_major": 2,
       "version_minor": 0
      },
      "text/plain": [
       "  0%|          | 0/30 [00:00<?, ?it/s]"
      ]
     },
     "metadata": {},
     "output_type": "display_data"
    },
    {
     "data": {
      "application/vnd.jupyter.widget-view+json": {
       "model_id": "",
       "version_major": 2,
       "version_minor": 0
      },
      "text/plain": [
       "  0%|          | 0/30 [00:00<?, ?it/s]"
      ]
     },
     "metadata": {},
     "output_type": "display_data"
    },
    {
     "data": {
      "application/vnd.jupyter.widget-view+json": {
       "model_id": "",
       "version_major": 2,
       "version_minor": 0
      },
      "text/plain": [
       "  0%|          | 0/30 [00:00<?, ?it/s]"
      ]
     },
     "metadata": {},
     "output_type": "display_data"
    },
    {
     "data": {
      "application/vnd.jupyter.widget-view+json": {
       "model_id": "",
       "version_major": 2,
       "version_minor": 0
      },
      "text/plain": [
       "  0%|          | 0/30 [00:00<?, ?it/s]"
      ]
     },
     "metadata": {},
     "output_type": "display_data"
    },
    {
     "data": {
      "application/vnd.jupyter.widget-view+json": {
       "model_id": "",
       "version_major": 2,
       "version_minor": 0
      },
      "text/plain": [
       "  0%|          | 0/30 [00:00<?, ?it/s]"
      ]
     },
     "metadata": {},
     "output_type": "display_data"
    },
    {
     "data": {
      "application/vnd.jupyter.widget-view+json": {
       "model_id": "",
       "version_major": 2,
       "version_minor": 0
      },
      "text/plain": [
       "  0%|          | 0/30 [00:00<?, ?it/s]"
      ]
     },
     "metadata": {},
     "output_type": "display_data"
    },
    {
     "data": {
      "application/vnd.jupyter.widget-view+json": {
       "model_id": "",
       "version_major": 2,
       "version_minor": 0
      },
      "text/plain": [
       "  0%|          | 0/30 [00:00<?, ?it/s]"
      ]
     },
     "metadata": {},
     "output_type": "display_data"
    },
    {
     "data": {
      "application/vnd.jupyter.widget-view+json": {
       "model_id": "",
       "version_major": 2,
       "version_minor": 0
      },
      "text/plain": [
       "  0%|          | 0/30 [00:00<?, ?it/s]"
      ]
     },
     "metadata": {},
     "output_type": "display_data"
    },
    {
     "data": {
      "application/vnd.jupyter.widget-view+json": {
       "model_id": "",
       "version_major": 2,
       "version_minor": 0
      },
      "text/plain": [
       "  0%|          | 0/30 [00:00<?, ?it/s]"
      ]
     },
     "metadata": {},
     "output_type": "display_data"
    },
    {
     "data": {
      "application/vnd.jupyter.widget-view+json": {
       "model_id": "",
       "version_major": 2,
       "version_minor": 0
      },
      "text/plain": [
       "  0%|          | 0/30 [00:00<?, ?it/s]"
      ]
     },
     "metadata": {},
     "output_type": "display_data"
    },
    {
     "data": {
      "application/vnd.jupyter.widget-view+json": {
       "model_id": "",
       "version_major": 2,
       "version_minor": 0
      },
      "text/plain": [
       "  0%|          | 0/30 [00:00<?, ?it/s]"
      ]
     },
     "metadata": {},
     "output_type": "display_data"
    },
    {
     "data": {
      "application/vnd.jupyter.widget-view+json": {
       "model_id": "",
       "version_major": 2,
       "version_minor": 0
      },
      "text/plain": [
       "  0%|          | 0/30 [00:00<?, ?it/s]"
      ]
     },
     "metadata": {},
     "output_type": "display_data"
    }
   ],
   "source": [
    "import pandas as pd\n",
    "from tqdm.auto import tqdm\n",
    "\n",
    "max_dim=5\n",
    "nLayers=30\n",
    "\n",
    "curve=pd.DataFrame()\n",
    "for beta in tqdm(np.linspace(1,2,11)):\n",
    "    with torch.no_grad():\n",
    "        T0,T0_op=Ising3D_T0(beta,0),Ising3D_SZT0(beta,0)\n",
    "        dimR=[[1,1]]*3\n",
    "        T,logTotal,ws,logZ=calc_isometries_HOTRG3D(T0,dimR,max_dim=max_dim,nLayers=nLayers)\n",
    "        T,T_op,logTotal,M,M2=evolve_tensor3D(T0,T0_op,ws,average=False)\n",
    "        T,T_op,logTotal,M_average,M2_average=evolve_tensor3D(T0,T0_op,ws,average=True)\n",
    "\n",
    "        newRow={'beta':beta,'logZ':logZ[-1],'M':M[-1],'sqrtM2':torch.sqrt(M2[-1]),'M_average':M_average[-1],'sqrtM2_average':torch.sqrt(M2_average[-1])}\n",
    "        newRow={k:_toN(v) for k,v in newRow.items()}\n",
    "        curve=curve.append(newRow,ignore_index=True)"
   ]
  },
  {
   "cell_type": "code",
   "execution_count": 16,
   "id": "33f9da8c",
   "metadata": {},
   "outputs": [
    {
     "data": {
      "image/png": "[encoded data removed]",
      "text/plain": [
       "<Figure size 432x288 with 1 Axes>"
      ]
     },
     "metadata": {
      "needs_background": "light"
     },
     "output_type": "display_data"
    },
    {
     "data": {
      "image/png": "[encoded data removed]",
      "text/plain": [
       "<Figure size 432x288 with 1 Axes>"
      ]
     },
     "metadata": {
      "needs_background": "light"
     },
     "output_type": "display_data"
    }
   ],
   "source": [
    "from IsingSolutions import Ising3DMonteCarlo\n",
    "ising3DMonteCarlo=Ising3DMonteCarlo()\n",
    "\n",
    "curve['m_ref']=ising3DMonteCarlo.magnetization(curve['beta'])\n",
    "\n",
    "import matplotlib.pyplot as plt\n",
    "ls=['-','--','-.',':','.']*100\n",
    "for i,label in enumerate(['M','sqrtM2','M_average','sqrtM2_average','m_ref']):\n",
    "    plt.plot(curve['beta'],np.abs(curve[label]),ls[i],label=label,alpha=.5)\n",
    "plt.legend()\n",
    "plt.show()\n",
    "\n",
    "for i,label in enumerate(['logZ']):\n",
    "    plt.plot(curve['beta'],np.abs(curve[label]),ls[i],label=label,alpha=.5)\n",
    "plt.plot(curve['beta'],3*curve['beta'],ls[0],label='3 beta',alpha=.5)\n",
    "plt.legend()\n",
    "plt.show()"
   ]
  },
  {
   "cell_type": "markdown",
   "id": "74d9563e",
   "metadata": {},
   "source": [
    "# AKLT3D"
   ]
  },
  {
   "cell_type": "code",
   "execution_count": 8,
   "id": "c495b58f",
   "metadata": {},
   "outputs": [
    {
     "name": "stdout",
     "output_type": "stream",
     "text": [
      "tensor(6.7707e-16)\n",
      "tensor(9.8733e-16)\n",
      "tensor(9.8733e-16)\n",
      "tensor(4.1802e-16)\n",
      "tensor(4.0499e-15)\n",
      "tensor(8.9506e-15)\n",
      "tensor(8.9506e-15)\n",
      "tensor(5.7068e-15)\n"
     ]
    }
   ],
   "source": [
    "from scipy.special import comb\n",
    "def get_CG_no_normalization(j):\n",
    "    n=int(2*j)\n",
    "    if n==0:\n",
    "        return np.eye(1)\n",
    "    CG=np.zeros((n+1,)+(2,)*n)\n",
    "    for i in range(2**n):\n",
    "        indices=tuple(map(int,bin(i)[2:].zfill(n)))\n",
    "        m=np.sum(indices)\n",
    "        CG[(m,)+indices]=1\n",
    "    return CG\n",
    "def get_Lxyz(j):\n",
    "    n=int(2*j+1)\n",
    "    Lz=np.zeros((n,n))\n",
    "    for i in range(n):\n",
    "        m=i-j\n",
    "        Lz[i,i]=m\n",
    "    Lp=np.zeros((n,n))\n",
    "    for i in range(n-1):\n",
    "        m=i-j\n",
    "        Lp[i+1,i]=np.sqrt(j*(j+1)-m*(m+1))\n",
    "    Lm=Lp.T\n",
    "    Lx=(Lp+Lm)/2\n",
    "    iLy=(Lp-Lm)/2\n",
    "    return Lx,iLy,Lz\n",
    "\n",
    "AKLT_default_params={'a1':np.sqrt(6)/2,'a2':np.sqrt(6)}\n",
    "def AKLT_T0(a1,a2):\n",
    "    projector=torch.tensor(get_CG_no_normalization(2))\n",
    "    singlet=torch.tensor([[0.,-1.],[1.,0.]])\n",
    "    a0,a1,a2=_toT(1),_toT(a1),_toT(a2)\n",
    "    deform=torch.stack([a2,a1,a0,a1,a2])\n",
    "    node=contract('aijkl,io,kp,a->aojpl',projector,singlet,singlet,deform)\n",
    "    T=contract('aijkl,aopqr->iojpkqlr',node,node).reshape(4,4,4,4)#UDLR\n",
    "    r=torch.tensor([[1.,0.,0.,0.],[0.,0.,0.,1.],[0.,np.sqrt(.5),np.sqrt(.5),0.],[0.,np.sqrt(.5),-np.sqrt(.5),0.]])\n",
    "    T=contract('ijkl,Ii,Jj,Kk,Ll->IJKL',T,r,r.conj(),r,r.conj())\n",
    "    return T\n",
    "\n",
    "def AKLT_ST0(a1,a2,axis):\n",
    "    projector=torch.tensor(get_CG_no_normalization(2))\n",
    "    singlet=torch.tensor([[0.,-1.],[1.,0.]])\n",
    "    a0,a1,a2=_toT(1),_toT(a1),_toT(a2)\n",
    "    deform=torch.stack([a2,a1,a0,a1,a2])\n",
    "    node=contract('aijkl,io,kp,a->aojpl',projector,singlet,singlet,deform)\n",
    "    op=torch.tensor(get_Lxyz(2)[axis])\n",
    "    T=contract('aijkl,bopqr,ab->iojpkqlr',node,node,op).reshape(4,4,4,4)#UDLRFB\n",
    "    r=torch.tensor([[1.,0.,0.,0.],[0.,0.,0.,1.],[0.,np.sqrt(.5),np.sqrt(.5),0.],[0.,np.sqrt(.5),-np.sqrt(.5),0.]])\n",
    "    T=contract('ijkl,Ii,Jj,Kk,Ll->IJKL',T,r,r.conj(),r,r.conj())\n",
    "    return T\n",
    "\n",
    "T=AKLT_T0(1.,2.)\n",
    "R=torch.tensor(np.diag([1.,1.,1.,-1.]))\n",
    "print(torch.norm(contract('abcd,aA,bB,cC,dD->ABCD',T,R,R.conj(),R,R.conj())-T))\n",
    "\n",
    "T=AKLT_ST0(1.,2.,0)\n",
    "R=torch.tensor(np.diag([1.,1.,1.,-1.]))\n",
    "print(torch.norm(contract('abcd,aA,bB,cC,dD->ABCD',T,R,R.conj(),R,R.conj())-T))\n",
    "\n",
    "T=AKLT_ST0(1.,2.,1)\n",
    "R=torch.tensor(np.diag([1.,1.,1.,-1.]))\n",
    "print(torch.norm(contract('abcd,aA,bB,cC,dD->ABCD',T,R,R.conj(),R,R.conj())+T))\n",
    "\n",
    "T=AKLT_ST0(1.,2.,2)\n",
    "R=torch.tensor(np.diag([1.,1.,1.,-1.]))\n",
    "print(torch.norm(contract('abcd,aA,bB,cC,dD->ABCD',T,R,R.conj(),R,R.conj())-T))\n",
    "\n",
    "AKLT3D_default_params={'a1':np.sqrt(20/15),'a2':np.sqrt(20/6),'a3':np.sqrt(20/1)}\n",
    "def AKLT3D_T0(a1,a2,a3):\n",
    "    projector=torch.tensor(get_CG_no_normalization(3))\n",
    "    singlet=torch.tensor([[0.,-1.],[1.,0.]])\n",
    "    a0,a1,a2,a3=_toT(1),_toT(a1),_toT(a2),_toT(a3)\n",
    "    deform=torch.stack([a3,a2,a1,a0,a1,a2,a3])\n",
    "    node=contract('aijklmn,io,kp,mq,a->aojplqn',projector,singlet,singlet,singlet,deform)\n",
    "    T=contract('aijklmn,aopqrst->iojpkqlrmsnt',node,node).reshape(4,4,4,4,4,4)#UDLRFB\n",
    "    r=torch.tensor([[1.,0.,0.,0.],[0.,0.,0.,1.],[0.,np.sqrt(.5),np.sqrt(.5),0.],[0.,np.sqrt(.5),-np.sqrt(.5),0.]])\n",
    "    T=contract('ijklmn,Ii,Jj,Kk,Ll,Mm,Nn->IJKLMN',T,r,r.conj(),r,r.conj(),r,r.conj())\n",
    "    return T\n",
    "\n",
    "def AKLT3D_ST0(a1,a2,a3,axis):\n",
    "    projector=torch.tensor(get_CG_no_normalization(3))\n",
    "    singlet=torch.tensor([[0.,-1.],[1.,0.]])\n",
    "    a0,a1,a2,a3=_toT(1),_toT(a1),_toT(a2),_toT(a3)\n",
    "    deform=torch.stack([a3,a2,a1,a0,a1,a2,a3])\n",
    "    node=contract('aijklmn,io,kp,mq,a->aojplqn',projector,singlet,singlet,singlet,deform)\n",
    "    op=torch.tensor(get_Lxyz(3)[axis])\n",
    "    T=contract('aijklmn,bopqrst,ab->iojpkqlrmsnt',node,node,op).reshape(4,4,4,4,4,4)#UDLRFB\n",
    "    r=torch.tensor([[1.,0.,0.,0.],[0.,0.,0.,1.],[0.,np.sqrt(.5),np.sqrt(.5),0.],[0.,np.sqrt(.5),-np.sqrt(.5),0.]])\n",
    "    T=contract('ijklmn,Ii,Jj,Kk,Ll,Mm,Nn->IJKLMN',T,r,r.conj(),r,r.conj(),r,r.conj())\n",
    "    return T\n",
    "\n",
    "T=AKLT3D_T0(1.,2.,3.)\n",
    "R=torch.tensor(np.diag([1.,1.,1.,-1.]))\n",
    "print(torch.norm(contract('abcdef,aA,bB,cC,dD,eE,fF->ABCDEF',T,R,R.conj(),R,R.conj(),R,R.conj())-T))\n",
    "\n",
    "T=AKLT3D_ST0(1.,2.,3.,0)\n",
    "R=torch.tensor(np.diag([1.,1.,1.,-1.]))\n",
    "print(torch.norm(contract('abcdef,aA,bB,cC,dD,eE,fF->ABCDEF',T,R,R.conj(),R,R.conj(),R,R.conj())-T))\n",
    "\n",
    "T=AKLT3D_ST0(1.,2.,3.,1)\n",
    "R=torch.tensor(np.diag([1.,1.,1.,-1.]))\n",
    "print(torch.norm(contract('abcdef,aA,bB,cC,dD,eE,fF->ABCDEF',T,R,R.conj(),R,R.conj(),R,R.conj())+T))\n",
    "\n",
    "T=AKLT3D_ST0(1.,2.,3.,2)\n",
    "R=torch.tensor(np.diag([1.,1.,1.,-1.]))\n",
    "print(torch.norm(contract('abcdef,aA,bB,cC,dD,eE,fF->ABCDEF',T,R,R.conj(),R,R.conj(),R,R.conj())-T))"
   ]
  },
  {
   "cell_type": "code",
   "execution_count": 9,
   "id": "a1c546e9",
   "metadata": {},
   "outputs": [
    {
     "data": {
      "text/plain": [
       "{'a1': 1.224744871391589, 'a2': 2.449489742783178}"
      ]
     },
     "execution_count": 9,
     "metadata": {},
     "output_type": "execute_result"
    }
   ],
   "source": [
    "AKLT_default_params"
   ]
  },
  {
   "cell_type": "code",
   "execution_count": 306,
   "id": "ac723300",
   "metadata": {},
   "outputs": [
    {
     "data": {
      "application/vnd.jupyter.widget-view+json": {
       "model_id": "4d12f5b02a874175b0279268d298556e",
       "version_major": 2,
       "version_minor": 0
      },
      "text/plain": [
       "  0%|          | 0/21 [00:00<?, ?it/s]"
      ]
     },
     "metadata": {},
     "output_type": "display_data"
    }
   ],
   "source": [
    "import pandas as pd\n",
    "from tqdm.auto import tqdm\n",
    "\n",
    "max_dim=4\n",
    "nLayers=60\n",
    "\n",
    "curve=pd.DataFrame()\n",
    "a1=AKLT_default_params['a1']\n",
    "for a2 in tqdm(np.linspace(2,4,21)):\n",
    "    with torch.no_grad():\n",
    "        T0=AKLT_T0(a1,a2)\n",
    "        dimR=[[3,1]]*2\n",
    "        T,logTotal,ws,logZ=calc_isometries_HOTRG(T0,dimR,max_dim=max_dim,nLayers=nLayers)\n",
    "        newRow={'a1':a1,'a2':a2,'logZ':logZ[-1]}\n",
    "        \n",
    "        for axis,axisName in enumerate(['X','Y','Z']):\n",
    "            T0_op=AKLT_ST0(a1,a2,axis)\n",
    "            T,T_op,logTotal,M,M2=evolve_tensor(T0,T0_op,ws,checkboard=True,average=False)\n",
    "            T,T_op,logTotal,M_average,M2_average=evolve_tensor(T0,T0_op,ws,checkboard=True,average=True)\n",
    "            \n",
    "            newRow[f'M{axisName}']=M[-1]\n",
    "            newRow[f'sqrtM2{axisName}']=torch.sqrt(M2[-1])\n",
    "            newRow[f'M{axisName}_average']=M_average[-1]\n",
    "            newRow[f'sqrtM2{axisName}_average']=torch.sqrt(M2_average[-1])\n",
    "        \n",
    "        newRow={k:_toN(v) for k,v in newRow.items()}\n",
    "        curve=curve.append(newRow,ignore_index=True)\n",
    "    \n"
   ]
  },
  {
   "cell_type": "code",
   "execution_count": 307,
   "id": "c9d0044a",
   "metadata": {},
   "outputs": [
    {
     "data": {
      "image/png": "[encoded data removed]",
      "text/plain": [
       "<Figure size 432x288 with 1 Axes>"
      ]
     },
     "metadata": {
      "needs_background": "light"
     },
     "output_type": "display_data"
    },
    {
     "data": {
      "image/png": "[encoded data removed]",
      "text/plain": [
       "<Figure size 432x288 with 1 Axes>"
      ]
     },
     "metadata": {
      "needs_background": "light"
     },
     "output_type": "display_data"
    },
    {
     "data": {
      "image/png": "[encoded data removed]",
      "text/plain": [
       "<Figure size 432x288 with 1 Axes>"
      ]
     },
     "metadata": {
      "needs_background": "light"
     },
     "output_type": "display_data"
    },
    {
     "data": {
      "image/png": "[encoded data removed]",
      "text/plain": [
       "<Figure size 432x288 with 1 Axes>"
      ]
     },
     "metadata": {
      "needs_background": "light"
     },
     "output_type": "display_data"
    }
   ],
   "source": [
    "import matplotlib.pyplot as plt\n",
    "ls=['-','--','-.',':','.']*100\n",
    "\n",
    "for i,label in enumerate(['logZ']):\n",
    "    plt.plot(curve['a2'],np.abs(curve[label]),ls[i],label=label,alpha=.5)\n",
    "plt.legend()\n",
    "plt.show()\n",
    "\n",
    "for axis,axisName in enumerate(['X','Y','Z']):\n",
    "    for i,label in enumerate([f'M{axisName}',f'sqrtM2{axisName}',f'M{axisName}_average',f'sqrtM2{axisName}_average']):\n",
    "        plt.plot(curve['a2'],np.abs(curve[label]),ls[i],label=label,alpha=.5)\n",
    "    plt.legend()\n",
    "    plt.show()\n"
   ]
  },
  {
   "cell_type": "code",
   "execution_count": 308,
   "id": "a18884e8",
   "metadata": {},
   "outputs": [
    {
     "data": {
      "text/plain": [
       "{'a1': 1.1547005383792515, 'a2': 1.8257418583505538, 'a3': 4.47213595499958}"
      ]
     },
     "execution_count": 308,
     "metadata": {},
     "output_type": "execute_result"
    }
   ],
   "source": [
    "AKLT3D_default_params"
   ]
  },
  {
   "cell_type": "code",
   "execution_count": 10,
   "id": "91df672f",
   "metadata": {},
   "outputs": [
    {
     "data": {
      "application/vnd.jupyter.widget-view+json": {
       "model_id": "5579ae618f1e4fa9832eb2cf88cade48",
       "version_major": 2,
       "version_minor": 0
      },
      "text/plain": [
       "  0%|          | 0/11 [00:00<?, ?it/s]"
      ]
     },
     "metadata": {},
     "output_type": "display_data"
    },
    {
     "data": {
      "application/vnd.jupyter.widget-view+json": {
       "model_id": "",
       "version_major": 2,
       "version_minor": 0
      },
      "text/plain": [
       "  0%|          | 0/30 [00:00<?, ?it/s]"
      ]
     },
     "metadata": {},
     "output_type": "display_data"
    },
    {
     "data": {
      "application/vnd.jupyter.widget-view+json": {
       "model_id": "",
       "version_major": 2,
       "version_minor": 0
      },
      "text/plain": [
       "  0%|          | 0/30 [00:00<?, ?it/s]"
      ]
     },
     "metadata": {},
     "output_type": "display_data"
    },
    {
     "data": {
      "application/vnd.jupyter.widget-view+json": {
       "model_id": "",
       "version_major": 2,
       "version_minor": 0
      },
      "text/plain": [
       "  0%|          | 0/30 [00:00<?, ?it/s]"
      ]
     },
     "metadata": {},
     "output_type": "display_data"
    },
    {
     "data": {
      "application/vnd.jupyter.widget-view+json": {
       "model_id": "",
       "version_major": 2,
       "version_minor": 0
      },
      "text/plain": [
       "  0%|          | 0/30 [00:00<?, ?it/s]"
      ]
     },
     "metadata": {},
     "output_type": "display_data"
    },
    {
     "data": {
      "application/vnd.jupyter.widget-view+json": {
       "model_id": "",
       "version_major": 2,
       "version_minor": 0
      },
      "text/plain": [
       "  0%|          | 0/30 [00:00<?, ?it/s]"
      ]
     },
     "metadata": {},
     "output_type": "display_data"
    },
    {
     "data": {
      "application/vnd.jupyter.widget-view+json": {
       "model_id": "",
       "version_major": 2,
       "version_minor": 0
      },
      "text/plain": [
       "  0%|          | 0/30 [00:00<?, ?it/s]"
      ]
     },
     "metadata": {},
     "output_type": "display_data"
    },
    {
     "data": {
      "application/vnd.jupyter.widget-view+json": {
       "model_id": "",
       "version_major": 2,
       "version_minor": 0
      },
      "text/plain": [
       "  0%|          | 0/30 [00:00<?, ?it/s]"
      ]
     },
     "metadata": {},
     "output_type": "display_data"
    },
    {
     "data": {
      "application/vnd.jupyter.widget-view+json": {
       "model_id": "",
       "version_major": 2,
       "version_minor": 0
      },
      "text/plain": [
       "  0%|          | 0/30 [00:00<?, ?it/s]"
      ]
     },
     "metadata": {},
     "output_type": "display_data"
    },
    {
     "data": {
      "application/vnd.jupyter.widget-view+json": {
       "model_id": "",
       "version_major": 2,
       "version_minor": 0
      },
      "text/plain": [
       "  0%|          | 0/30 [00:00<?, ?it/s]"
      ]
     },
     "metadata": {},
     "output_type": "display_data"
    },
    {
     "data": {
      "application/vnd.jupyter.widget-view+json": {
       "model_id": "",
       "version_major": 2,
       "version_minor": 0
      },
      "text/plain": [
       "  0%|          | 0/30 [00:00<?, ?it/s]"
      ]
     },
     "metadata": {},
     "output_type": "display_data"
    },
    {
     "data": {
      "application/vnd.jupyter.widget-view+json": {
       "model_id": "",
       "version_major": 2,
       "version_minor": 0
      },
      "text/plain": [
       "  0%|          | 0/30 [00:00<?, ?it/s]"
      ]
     },
     "metadata": {},
     "output_type": "display_data"
    },
    {
     "data": {
      "application/vnd.jupyter.widget-view+json": {
       "model_id": "",
       "version_major": 2,
       "version_minor": 0
      },
      "text/plain": [
       "  0%|          | 0/30 [00:00<?, ?it/s]"
      ]
     },
     "metadata": {},
     "output_type": "display_data"
    },
    {
     "data": {
      "application/vnd.jupyter.widget-view+json": {
       "model_id": "",
       "version_major": 2,
       "version_minor": 0
      },
      "text/plain": [
       "  0%|          | 0/30 [00:00<?, ?it/s]"
      ]
     },
     "metadata": {},
     "output_type": "display_data"
    },
    {
     "data": {
      "application/vnd.jupyter.widget-view+json": {
       "model_id": "",
       "version_major": 2,
       "version_minor": 0
      },
      "text/plain": [
       "  0%|          | 0/30 [00:00<?, ?it/s]"
      ]
     },
     "metadata": {},
     "output_type": "display_data"
    },
    {
     "data": {
      "application/vnd.jupyter.widget-view+json": {
       "model_id": "",
       "version_major": 2,
       "version_minor": 0
      },
      "text/plain": [
       "  0%|          | 0/30 [00:00<?, ?it/s]"
      ]
     },
     "metadata": {},
     "output_type": "display_data"
    },
    {
     "data": {
      "application/vnd.jupyter.widget-view+json": {
       "model_id": "",
       "version_major": 2,
       "version_minor": 0
      },
      "text/plain": [
       "  0%|          | 0/30 [00:00<?, ?it/s]"
      ]
     },
     "metadata": {},
     "output_type": "display_data"
    },
    {
     "data": {
      "application/vnd.jupyter.widget-view+json": {
       "model_id": "",
       "version_major": 2,
       "version_minor": 0
      },
      "text/plain": [
       "  0%|          | 0/30 [00:00<?, ?it/s]"
      ]
     },
     "metadata": {},
     "output_type": "display_data"
    },
    {
     "data": {
      "application/vnd.jupyter.widget-view+json": {
       "model_id": "",
       "version_major": 2,
       "version_minor": 0
      },
      "text/plain": [
       "  0%|          | 0/30 [00:00<?, ?it/s]"
      ]
     },
     "metadata": {},
     "output_type": "display_data"
    },
    {
     "data": {
      "application/vnd.jupyter.widget-view+json": {
       "model_id": "",
       "version_major": 2,
       "version_minor": 0
      },
      "text/plain": [
       "  0%|          | 0/30 [00:00<?, ?it/s]"
      ]
     },
     "metadata": {},
     "output_type": "display_data"
    },
    {
     "data": {
      "application/vnd.jupyter.widget-view+json": {
       "model_id": "",
       "version_major": 2,
       "version_minor": 0
      },
      "text/plain": [
       "  0%|          | 0/30 [00:00<?, ?it/s]"
      ]
     },
     "metadata": {},
     "output_type": "display_data"
    },
    {
     "data": {
      "application/vnd.jupyter.widget-view+json": {
       "model_id": "",
       "version_major": 2,
       "version_minor": 0
      },
      "text/plain": [
       "  0%|          | 0/30 [00:00<?, ?it/s]"
      ]
     },
     "metadata": {},
     "output_type": "display_data"
    },
    {
     "data": {
      "application/vnd.jupyter.widget-view+json": {
       "model_id": "",
       "version_major": 2,
       "version_minor": 0
      },
      "text/plain": [
       "  0%|          | 0/30 [00:00<?, ?it/s]"
      ]
     },
     "metadata": {},
     "output_type": "display_data"
    },
    {
     "data": {
      "application/vnd.jupyter.widget-view+json": {
       "model_id": "",
       "version_major": 2,
       "version_minor": 0
      },
      "text/plain": [
       "  0%|          | 0/30 [00:00<?, ?it/s]"
      ]
     },
     "metadata": {},
     "output_type": "display_data"
    },
    {
     "data": {
      "application/vnd.jupyter.widget-view+json": {
       "model_id": "",
       "version_major": 2,
       "version_minor": 0
      },
      "text/plain": [
       "  0%|          | 0/30 [00:00<?, ?it/s]"
      ]
     },
     "metadata": {},
     "output_type": "display_data"
    },
    {
     "data": {
      "application/vnd.jupyter.widget-view+json": {
       "model_id": "",
       "version_major": 2,
       "version_minor": 0
      },
      "text/plain": [
       "  0%|          | 0/30 [00:00<?, ?it/s]"
      ]
     },
     "metadata": {},
     "output_type": "display_data"
    },
    {
     "data": {
      "application/vnd.jupyter.widget-view+json": {
       "model_id": "",
       "version_major": 2,
       "version_minor": 0
      },
      "text/plain": [
       "  0%|          | 0/30 [00:00<?, ?it/s]"
      ]
     },
     "metadata": {},
     "output_type": "display_data"
    },
    {
     "data": {
      "application/vnd.jupyter.widget-view+json": {
       "model_id": "",
       "version_major": 2,
       "version_minor": 0
      },
      "text/plain": [
       "  0%|          | 0/30 [00:00<?, ?it/s]"
      ]
     },
     "metadata": {},
     "output_type": "display_data"
    },
    {
     "data": {
      "application/vnd.jupyter.widget-view+json": {
       "model_id": "",
       "version_major": 2,
       "version_minor": 0
      },
      "text/plain": [
       "  0%|          | 0/30 [00:00<?, ?it/s]"
      ]
     },
     "metadata": {},
     "output_type": "display_data"
    },
    {
     "data": {
      "application/vnd.jupyter.widget-view+json": {
       "model_id": "",
       "version_major": 2,
       "version_minor": 0
      },
      "text/plain": [
       "  0%|          | 0/30 [00:00<?, ?it/s]"
      ]
     },
     "metadata": {},
     "output_type": "display_data"
    },
    {
     "data": {
      "application/vnd.jupyter.widget-view+json": {
       "model_id": "",
       "version_major": 2,
       "version_minor": 0
      },
      "text/plain": [
       "  0%|          | 0/30 [00:00<?, ?it/s]"
      ]
     },
     "metadata": {},
     "output_type": "display_data"
    },
    {
     "data": {
      "application/vnd.jupyter.widget-view+json": {
       "model_id": "",
       "version_major": 2,
       "version_minor": 0
      },
      "text/plain": [
       "  0%|          | 0/30 [00:00<?, ?it/s]"
      ]
     },
     "metadata": {},
     "output_type": "display_data"
    },
    {
     "data": {
      "application/vnd.jupyter.widget-view+json": {
       "model_id": "",
       "version_major": 2,
       "version_minor": 0
      },
      "text/plain": [
       "  0%|          | 0/30 [00:00<?, ?it/s]"
      ]
     },
     "metadata": {},
     "output_type": "display_data"
    },
    {
     "data": {
      "application/vnd.jupyter.widget-view+json": {
       "model_id": "",
       "version_major": 2,
       "version_minor": 0
      },
      "text/plain": [
       "  0%|          | 0/30 [00:00<?, ?it/s]"
      ]
     },
     "metadata": {},
     "output_type": "display_data"
    },
    {
     "data": {
      "application/vnd.jupyter.widget-view+json": {
       "model_id": "",
       "version_major": 2,
       "version_minor": 0
      },
      "text/plain": [
       "  0%|          | 0/30 [00:00<?, ?it/s]"
      ]
     },
     "metadata": {},
     "output_type": "display_data"
    },
    {
     "data": {
      "application/vnd.jupyter.widget-view+json": {
       "model_id": "",
       "version_major": 2,
       "version_minor": 0
      },
      "text/plain": [
       "  0%|          | 0/30 [00:00<?, ?it/s]"
      ]
     },
     "metadata": {},
     "output_type": "display_data"
    },
    {
     "data": {
      "application/vnd.jupyter.widget-view+json": {
       "model_id": "",
       "version_major": 2,
       "version_minor": 0
      },
      "text/plain": [
       "  0%|          | 0/30 [00:00<?, ?it/s]"
      ]
     },
     "metadata": {},
     "output_type": "display_data"
    },
    {
     "data": {
      "application/vnd.jupyter.widget-view+json": {
       "model_id": "",
       "version_major": 2,
       "version_minor": 0
      },
      "text/plain": [
       "  0%|          | 0/30 [00:00<?, ?it/s]"
      ]
     },
     "metadata": {},
     "output_type": "display_data"
    },
    {
     "data": {
      "application/vnd.jupyter.widget-view+json": {
       "model_id": "",
       "version_major": 2,
       "version_minor": 0
      },
      "text/plain": [
       "  0%|          | 0/30 [00:00<?, ?it/s]"
      ]
     },
     "metadata": {},
     "output_type": "display_data"
    },
    {
     "data": {
      "application/vnd.jupyter.widget-view+json": {
       "model_id": "",
       "version_major": 2,
       "version_minor": 0
      },
      "text/plain": [
       "  0%|          | 0/30 [00:00<?, ?it/s]"
      ]
     },
     "metadata": {},
     "output_type": "display_data"
    },
    {
     "data": {
      "application/vnd.jupyter.widget-view+json": {
       "model_id": "",
       "version_major": 2,
       "version_minor": 0
      },
      "text/plain": [
       "  0%|          | 0/30 [00:00<?, ?it/s]"
      ]
     },
     "metadata": {},
     "output_type": "display_data"
    },
    {
     "data": {
      "application/vnd.jupyter.widget-view+json": {
       "model_id": "",
       "version_major": 2,
       "version_minor": 0
      },
      "text/plain": [
       "  0%|          | 0/30 [00:00<?, ?it/s]"
      ]
     },
     "metadata": {},
     "output_type": "display_data"
    },
    {
     "data": {
      "application/vnd.jupyter.widget-view+json": {
       "model_id": "",
       "version_major": 2,
       "version_minor": 0
      },
      "text/plain": [
       "  0%|          | 0/30 [00:00<?, ?it/s]"
      ]
     },
     "metadata": {},
     "output_type": "display_data"
    },
    {
     "data": {
      "application/vnd.jupyter.widget-view+json": {
       "model_id": "",
       "version_major": 2,
       "version_minor": 0
      },
      "text/plain": [
       "  0%|          | 0/30 [00:00<?, ?it/s]"
      ]
     },
     "metadata": {},
     "output_type": "display_data"
    },
    {
     "data": {
      "application/vnd.jupyter.widget-view+json": {
       "model_id": "",
       "version_major": 2,
       "version_minor": 0
      },
      "text/plain": [
       "  0%|          | 0/30 [00:00<?, ?it/s]"
      ]
     },
     "metadata": {},
     "output_type": "display_data"
    },
    {
     "data": {
      "application/vnd.jupyter.widget-view+json": {
       "model_id": "",
       "version_major": 2,
       "version_minor": 0
      },
      "text/plain": [
       "  0%|          | 0/30 [00:00<?, ?it/s]"
      ]
     },
     "metadata": {},
     "output_type": "display_data"
    },
    {
     "data": {
      "application/vnd.jupyter.widget-view+json": {
       "model_id": "",
       "version_major": 2,
       "version_minor": 0
      },
      "text/plain": [
       "  0%|          | 0/30 [00:00<?, ?it/s]"
      ]
     },
     "metadata": {},
     "output_type": "display_data"
    },
    {
     "data": {
      "application/vnd.jupyter.widget-view+json": {
       "model_id": "",
       "version_major": 2,
       "version_minor": 0
      },
      "text/plain": [
       "  0%|          | 0/30 [00:00<?, ?it/s]"
      ]
     },
     "metadata": {},
     "output_type": "display_data"
    },
    {
     "data": {
      "application/vnd.jupyter.widget-view+json": {
       "model_id": "",
       "version_major": 2,
       "version_minor": 0
      },
      "text/plain": [
       "  0%|          | 0/30 [00:00<?, ?it/s]"
      ]
     },
     "metadata": {},
     "output_type": "display_data"
    },
    {
     "data": {
      "application/vnd.jupyter.widget-view+json": {
       "model_id": "",
       "version_major": 2,
       "version_minor": 0
      },
      "text/plain": [
       "  0%|          | 0/30 [00:00<?, ?it/s]"
      ]
     },
     "metadata": {},
     "output_type": "display_data"
    },
    {
     "data": {
      "application/vnd.jupyter.widget-view+json": {
       "model_id": "",
       "version_major": 2,
       "version_minor": 0
      },
      "text/plain": [
       "  0%|          | 0/30 [00:00<?, ?it/s]"
      ]
     },
     "metadata": {},
     "output_type": "display_data"
    },
    {
     "data": {
      "application/vnd.jupyter.widget-view+json": {
       "model_id": "",
       "version_major": 2,
       "version_minor": 0
      },
      "text/plain": [
       "  0%|          | 0/30 [00:00<?, ?it/s]"
      ]
     },
     "metadata": {},
     "output_type": "display_data"
    },
    {
     "data": {
      "application/vnd.jupyter.widget-view+json": {
       "model_id": "",
       "version_major": 2,
       "version_minor": 0
      },
      "text/plain": [
       "  0%|          | 0/30 [00:00<?, ?it/s]"
      ]
     },
     "metadata": {},
     "output_type": "display_data"
    },
    {
     "data": {
      "application/vnd.jupyter.widget-view+json": {
       "model_id": "",
       "version_major": 2,
       "version_minor": 0
      },
      "text/plain": [
       "  0%|          | 0/30 [00:00<?, ?it/s]"
      ]
     },
     "metadata": {},
     "output_type": "display_data"
    },
    {
     "data": {
      "application/vnd.jupyter.widget-view+json": {
       "model_id": "",
       "version_major": 2,
       "version_minor": 0
      },
      "text/plain": [
       "  0%|          | 0/30 [00:00<?, ?it/s]"
      ]
     },
     "metadata": {},
     "output_type": "display_data"
    },
    {
     "data": {
      "application/vnd.jupyter.widget-view+json": {
       "model_id": "",
       "version_major": 2,
       "version_minor": 0
      },
      "text/plain": [
       "  0%|          | 0/30 [00:00<?, ?it/s]"
      ]
     },
     "metadata": {},
     "output_type": "display_data"
    },
    {
     "data": {
      "application/vnd.jupyter.widget-view+json": {
       "model_id": "",
       "version_major": 2,
       "version_minor": 0
      },
      "text/plain": [
       "  0%|          | 0/30 [00:00<?, ?it/s]"
      ]
     },
     "metadata": {},
     "output_type": "display_data"
    },
    {
     "data": {
      "application/vnd.jupyter.widget-view+json": {
       "model_id": "",
       "version_major": 2,
       "version_minor": 0
      },
      "text/plain": [
       "  0%|          | 0/30 [00:00<?, ?it/s]"
      ]
     },
     "metadata": {},
     "output_type": "display_data"
    },
    {
     "data": {
      "application/vnd.jupyter.widget-view+json": {
       "model_id": "",
       "version_major": 2,
       "version_minor": 0
      },
      "text/plain": [
       "  0%|          | 0/30 [00:00<?, ?it/s]"
      ]
     },
     "metadata": {},
     "output_type": "display_data"
    },
    {
     "data": {
      "application/vnd.jupyter.widget-view+json": {
       "model_id": "",
       "version_major": 2,
       "version_minor": 0
      },
      "text/plain": [
       "  0%|          | 0/30 [00:00<?, ?it/s]"
      ]
     },
     "metadata": {},
     "output_type": "display_data"
    },
    {
     "data": {
      "application/vnd.jupyter.widget-view+json": {
       "model_id": "",
       "version_major": 2,
       "version_minor": 0
      },
      "text/plain": [
       "  0%|          | 0/30 [00:00<?, ?it/s]"
      ]
     },
     "metadata": {},
     "output_type": "display_data"
    },
    {
     "data": {
      "application/vnd.jupyter.widget-view+json": {
       "model_id": "",
       "version_major": 2,
       "version_minor": 0
      },
      "text/plain": [
       "  0%|          | 0/30 [00:00<?, ?it/s]"
      ]
     },
     "metadata": {},
     "output_type": "display_data"
    },
    {
     "data": {
      "application/vnd.jupyter.widget-view+json": {
       "model_id": "",
       "version_major": 2,
       "version_minor": 0
      },
      "text/plain": [
       "  0%|          | 0/30 [00:00<?, ?it/s]"
      ]
     },
     "metadata": {},
     "output_type": "display_data"
    },
    {
     "data": {
      "application/vnd.jupyter.widget-view+json": {
       "model_id": "",
       "version_major": 2,
       "version_minor": 0
      },
      "text/plain": [
       "  0%|          | 0/30 [00:00<?, ?it/s]"
      ]
     },
     "metadata": {},
     "output_type": "display_data"
    },
    {
     "data": {
      "application/vnd.jupyter.widget-view+json": {
       "model_id": "",
       "version_major": 2,
       "version_minor": 0
      },
      "text/plain": [
       "  0%|          | 0/30 [00:00<?, ?it/s]"
      ]
     },
     "metadata": {},
     "output_type": "display_data"
    },
    {
     "data": {
      "application/vnd.jupyter.widget-view+json": {
       "model_id": "",
       "version_major": 2,
       "version_minor": 0
      },
      "text/plain": [
       "  0%|          | 0/30 [00:00<?, ?it/s]"
      ]
     },
     "metadata": {},
     "output_type": "display_data"
    },
    {
     "data": {
      "application/vnd.jupyter.widget-view+json": {
       "model_id": "",
       "version_major": 2,
       "version_minor": 0
      },
      "text/plain": [
       "  0%|          | 0/30 [00:00<?, ?it/s]"
      ]
     },
     "metadata": {},
     "output_type": "display_data"
    },
    {
     "data": {
      "application/vnd.jupyter.widget-view+json": {
       "model_id": "",
       "version_major": 2,
       "version_minor": 0
      },
      "text/plain": [
       "  0%|          | 0/30 [00:00<?, ?it/s]"
      ]
     },
     "metadata": {},
     "output_type": "display_data"
    },
    {
     "data": {
      "application/vnd.jupyter.widget-view+json": {
       "model_id": "",
       "version_major": 2,
       "version_minor": 0
      },
      "text/plain": [
       "  0%|          | 0/30 [00:00<?, ?it/s]"
      ]
     },
     "metadata": {},
     "output_type": "display_data"
    },
    {
     "data": {
      "application/vnd.jupyter.widget-view+json": {
       "model_id": "",
       "version_major": 2,
       "version_minor": 0
      },
      "text/plain": [
       "  0%|          | 0/30 [00:00<?, ?it/s]"
      ]
     },
     "metadata": {},
     "output_type": "display_data"
    },
    {
     "data": {
      "application/vnd.jupyter.widget-view+json": {
       "model_id": "",
       "version_major": 2,
       "version_minor": 0
      },
      "text/plain": [
       "  0%|          | 0/30 [00:00<?, ?it/s]"
      ]
     },
     "metadata": {},
     "output_type": "display_data"
    },
    {
     "data": {
      "application/vnd.jupyter.widget-view+json": {
       "model_id": "",
       "version_major": 2,
       "version_minor": 0
      },
      "text/plain": [
       "  0%|          | 0/30 [00:00<?, ?it/s]"
      ]
     },
     "metadata": {},
     "output_type": "display_data"
    },
    {
     "data": {
      "application/vnd.jupyter.widget-view+json": {
       "model_id": "",
       "version_major": 2,
       "version_minor": 0
      },
      "text/plain": [
       "  0%|          | 0/30 [00:00<?, ?it/s]"
      ]
     },
     "metadata": {},
     "output_type": "display_data"
    },
    {
     "data": {
      "application/vnd.jupyter.widget-view+json": {
       "model_id": "",
       "version_major": 2,
       "version_minor": 0
      },
      "text/plain": [
       "  0%|          | 0/30 [00:00<?, ?it/s]"
      ]
     },
     "metadata": {},
     "output_type": "display_data"
    },
    {
     "data": {
      "application/vnd.jupyter.widget-view+json": {
       "model_id": "",
       "version_major": 2,
       "version_minor": 0
      },
      "text/plain": [
       "  0%|          | 0/30 [00:00<?, ?it/s]"
      ]
     },
     "metadata": {},
     "output_type": "display_data"
    },
    {
     "data": {
      "application/vnd.jupyter.widget-view+json": {
       "model_id": "",
       "version_major": 2,
       "version_minor": 0
      },
      "text/plain": [
       "  0%|          | 0/30 [00:00<?, ?it/s]"
      ]
     },
     "metadata": {},
     "output_type": "display_data"
    },
    {
     "data": {
      "application/vnd.jupyter.widget-view+json": {
       "model_id": "",
       "version_major": 2,
       "version_minor": 0
      },
      "text/plain": [
       "  0%|          | 0/30 [00:00<?, ?it/s]"
      ]
     },
     "metadata": {},
     "output_type": "display_data"
    },
    {
     "data": {
      "application/vnd.jupyter.widget-view+json": {
       "model_id": "",
       "version_major": 2,
       "version_minor": 0
      },
      "text/plain": [
       "  0%|          | 0/30 [00:00<?, ?it/s]"
      ]
     },
     "metadata": {},
     "output_type": "display_data"
    }
   ],
   "source": [
    "import pandas as pd\n",
    "from tqdm.auto import tqdm\n",
    "\n",
    "max_dim=4\n",
    "nLayers=30\n",
    "\n",
    "curve=pd.DataFrame()\n",
    "a1=AKLT3D_default_params['a1']\n",
    "a2=AKLT3D_default_params['a2']\n",
    "for a3 in tqdm(np.linspace(4,5,11)):\n",
    "    with torch.no_grad():\n",
    "        T0=AKLT3D_T0(a1,a2,a3)\n",
    "        dimR=[[3,1]]*3\n",
    "        T,logTotal,ws,logZ=calc_isometries_HOTRG3D(T0,dimR,max_dim=max_dim,nLayers=nLayers)\n",
    "        newRow={'a1':a1,'a2':a2,'a3':a3,'logZ':logZ[-1]}\n",
    "        \n",
    "        for axis,axisName in enumerate(['X','Y','Z']):\n",
    "            T0_op=AKLT3D_ST0(a1,a2,a3,axis)\n",
    "            T,T_op,logTotal,M,M2=evolve_tensor3D(T0,T0_op,ws,checkboard=True,average=False)\n",
    "            T,T_op,logTotal,M_average,M2_average=evolve_tensor3D(T0,T0_op,ws,checkboard=True,average=True)\n",
    "            \n",
    "            newRow[f'M{axisName}']=M[-1]\n",
    "            newRow[f'sqrtM2{axisName}']=torch.sqrt(M2[-1])\n",
    "            newRow[f'M{axisName}_average']=M_average[-1]\n",
    "            newRow[f'sqrtM2{axisName}_average']=torch.sqrt(M2_average[-1])\n",
    "        \n",
    "        newRow={k:_toN(v) for k,v in newRow.items()}\n",
    "        curve=curve.append(newRow,ignore_index=True)\n",
    "    "
   ]
  },
  {
   "cell_type": "code",
   "execution_count": 328,
   "id": "0f66316f",
   "metadata": {},
   "outputs": [
    {
     "data": {
      "image/png": "[encoded data removed]",
      "text/plain": [
       "<Figure size 432x288 with 1 Axes>"
      ]
     },
     "metadata": {
      "needs_background": "light"
     },
     "output_type": "display_data"
    },
    {
     "data": {
      "image/png": "[encoded data removed]",
      "text/plain": [
       "<Figure size 432x288 with 1 Axes>"
      ]
     },
     "metadata": {
      "needs_background": "light"
     },
     "output_type": "display_data"
    },
    {
     "data": {
      "image/png": "[encoded data removed]",
      "text/plain": [
       "<Figure size 432x288 with 1 Axes>"
      ]
     },
     "metadata": {
      "needs_background": "light"
     },
     "output_type": "display_data"
    },
    {
     "data": {
      "image/png": "[encoded data removed]",
      "text/plain": [
       "<Figure size 432x288 with 1 Axes>"
      ]
     },
     "metadata": {
      "needs_background": "light"
     },
     "output_type": "display_data"
    }
   ],
   "source": [
    "import matplotlib.pyplot as plt\n",
    "ls=['-','--','-.',':','.']*100\n",
    "\n",
    "for i,label in enumerate(['logZ']):\n",
    "    plt.plot(curve['a3'],np.abs(curve[label]),ls[i],label=label,alpha=.5)\n",
    "plt.legend()\n",
    "plt.show()\n",
    "\n",
    "for axis,axisName in enumerate(['X','Y','Z']):\n",
    "    for i,label in enumerate([f'M{axisName}',f'sqrtM2{axisName}',f'M{axisName}_average',f'sqrtM2{axisName}_average']):\n",
    "        plt.plot(curve['a3'],np.abs(curve[label]),ls[i],label=label,alpha=.5)\n",
    "    plt.legend()\n",
    "    plt.show()\n"
   ]
  },
  {
   "cell_type": "code",
   "execution_count": null,
   "id": "e613ae7e",
   "metadata": {},
   "outputs": [],
   "source": []
  }
 ],
 "metadata": {
  "kernelspec": {
   "display_name": "firstEnv",
   "language": "python",
   "name": "firstenv"
  },
  "language_info": {
   "codemirror_mode": {
    "name": "ipython",
    "version": 3
   },
   "file_extension": ".py",
   "mimetype": "text/x-python",
   "name": "python",
   "nbconvert_exporter": "python",
   "pygments_lexer": "ipython3",
   "version": "3.9.7"
  }
 },
 "nbformat": 4,
 "nbformat_minor": 5
}
