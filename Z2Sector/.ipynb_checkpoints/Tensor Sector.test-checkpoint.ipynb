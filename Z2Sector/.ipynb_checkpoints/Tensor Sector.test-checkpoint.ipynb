{
 "cells": [
  {
   "cell_type": "code",
   "execution_count": 1,
   "id": "03821586",
   "metadata": {},
   "outputs": [],
   "source": [
    "import itertools,opt_einsum\n",
    "def z2_contract_sectors(eq):\n",
    "    lhs,rhs=eq.split('->')\n",
    "    lhs=lhs.split(',')\n",
    "    indices=sorted(set(''.join(lhs)))\n",
    "    for sector in itertools.product((1,-1),repeat=len(indices)):\n",
    "        indice2sector={c:rep for c,rep in zip(indices,sector)}\n",
    "        operand_sectors=[tuple(indice2sector[c] for c in opr) for opr in lhs]\n",
    "        result_sector=tuple(indice2sector[c] for c in rhs)\n",
    "        yield operand_sectors,result_sector"
   ]
  },
  {
   "cell_type": "code",
   "execution_count": 8,
   "id": "21e20d19",
   "metadata": {},
   "outputs": [
    {
     "data": {
      "text/plain": [
       "{(1, 1, 1, 1): A,\n",
       " (1, 1, -1, -1): B,\n",
       " (1, -1, 1, -1): B,\n",
       " (1, -1, -1, 1): B,\n",
       " (-1, 1, 1, -1): B,\n",
       " (-1, 1, -1, 1): B,\n",
       " (-1, -1, 1, 1): B,\n",
       " (-1, -1, -1, -1): C}"
      ]
     },
     "execution_count": 8,
     "metadata": {},
     "output_type": "execute_result"
    }
   ],
   "source": [
    "import sympy\n",
    "import numpy as np\n",
    "A,B,C=sympy.symbols('A,B,C')\n",
    "T={}\n",
    "for sector in itertools.product((1,-1),repeat=4):\n",
    "    if np.prod(sector)==1:\n",
    "        T[sector]={4:A,0:B,-4:C}[np.sum(sector)]\n",
    "T"
   ]
  },
  {
   "cell_type": "code",
   "execution_count": 16,
   "id": "e25bc646",
   "metadata": {},
   "outputs": [
    {
     "data": {
      "text/plain": [
       "{(1, 1, 1, 1): A**4 + 2*A**2*B**2 + 5*B**4,\n",
       " (1, 1, -1, -1): A**2*B**2 + 2*A*B**2*C + 4*B**4 + B**2*C**2,\n",
       " (1, -1, 1, -1): 2*A**2*B**2 + 4*B**4 + 2*B**2*C**2,\n",
       " (1, -1, -1, 1): 4*A*B**3 + 4*B**3*C,\n",
       " (-1, 1, -1, 1): 2*A**2*B**2 + 4*B**4 + 2*B**2*C**2,\n",
       " (-1, 1, 1, -1): 4*A*B**3 + 4*B**3*C,\n",
       " (-1, -1, -1, -1): 5*B**4 + 2*B**2*C**2 + C**4,\n",
       " (-1, -1, 1, 1): A**2*B**2 + 2*A*B**2*C + 4*B**4 + B**2*C**2}"
      ]
     },
     "metadata": {},
     "output_type": "display_data"
    }
   ],
   "source": [
    "result={}\n",
    "eq='ijkl,ipql,jmno,pmro->knqr'\n",
    "operands=[T,T,T,T]\n",
    "for operand_sectors,result_sector in z2_contract_sectors(eq):\n",
    "    operand_tensors=[opr.get(operand_sectors[i], None) for i,opr in enumerate(operands)]\n",
    "    if not None in operand_tensors:\n",
    "        result[result_sector]=result.get(result_sector,0)+sympy.prod(operand_tensors)\n",
    "display(result)\n",
    "M=result"
   ]
  },
  {
   "cell_type": "code",
   "execution_count": 18,
   "id": "aca544a1",
   "metadata": {},
   "outputs": [
    {
     "data": {
      "text/latex": [
       "$\\displaystyle \\left[\\begin{matrix}A^{4} + 2 A^{2} B^{2} + 5 B^{4} & A^{2} B^{2} + 2 A B^{2} C + 4 B^{4} + B^{2} C^{2}\\\\A^{2} B^{2} + 2 A B^{2} C + 4 B^{4} + B^{2} C^{2} & 5 B^{4} + 2 B^{2} C^{2} + C^{4}\\end{matrix}\\right]$"
      ],
      "text/plain": [
       "Matrix([\n",
       "[                A**4 + 2*A**2*B**2 + 5*B**4, A**2*B**2 + 2*A*B**2*C + 4*B**4 + B**2*C**2],\n",
       "[A**2*B**2 + 2*A*B**2*C + 4*B**4 + B**2*C**2,                 5*B**4 + 2*B**2*C**2 + C**4]])"
      ]
     },
     "metadata": {},
     "output_type": "display_data"
    }
   ],
   "source": [
    "M11=M[(1,1,1,1)]\n",
    "M12=M[(1,1,-1,-1)]\n",
    "M13=M[(-1,-1,-1,-1)]\n",
    "M1=sympy.Matrix([[M11,M12],[M12,M13]])\n",
    "display(M1)"
   ]
  },
  {
   "cell_type": "code",
   "execution_count": 21,
   "id": "ff165894",
   "metadata": {},
   "outputs": [],
   "source": [
    "ev=M1.eigenvects()"
   ]
  },
  {
   "cell_type": "code",
   "execution_count": 25,
   "id": "bb88b684",
   "metadata": {},
   "outputs": [
    {
     "data": {
      "text/plain": [
       "(A**4/2 + A**2*B**2 + 5*B**4 + B**2*C**2 + C**4/2 - sqrt(A**8 + 4*A**6*B**2 + 8*A**4*B**4 - 4*A**4*B**2*C**2 - 2*A**4*C**4 + 16*A**3*B**4*C + 32*A**2*B**6 + 16*A**2*B**4*C**2 - 4*A**2*B**2*C**4 + 64*A*B**6*C + 16*A*B**4*C**3 + 64*B**8 + 32*B**6*C**2 + 8*B**4*C**4 + 4*B**2*C**6 + C**8)/2,\n",
       " 1,\n",
       " [Matrix([\n",
       "  [(-5*B**4 - 2*B**2*C**2 - C**4)/(A**2*B**2 + 2*A*B**2*C + 4*B**4 + B**2*C**2) + (A**4/2 + A**2*B**2 + 5*B**4 + B**2*C**2 + C**4/2 - sqrt(A**8 + 4*A**6*B**2 + 8*A**4*B**4 - 4*A**4*B**2*C**2 - 2*A**4*C**4 + 16*A**3*B**4*C + 32*A**2*B**6 + 16*A**2*B**4*C**2 - 4*A**2*B**2*C**4 + 64*A*B**6*C + 16*A*B**4*C**3 + 64*B**8 + 32*B**6*C**2 + 8*B**4*C**4 + 4*B**2*C**6 + C**8)/2)/(A**2*B**2 + 2*A*B**2*C + 4*B**4 + B**2*C**2)],\n",
       "  [                                                                                                                                                                                                                                                                                                                                                                                                                            1]])])"
      ]
     },
     "execution_count": 25,
     "metadata": {},
     "output_type": "execute_result"
    }
   ],
   "source": [
    "ev[0]\n"
   ]
  },
  {
   "cell_type": "code",
   "execution_count": null,
   "id": "9a1af531",
   "metadata": {},
   "outputs": [],
   "source": []
  },
  {
   "cell_type": "code",
   "execution_count": null,
   "id": "b9dccadb",
   "metadata": {},
   "outputs": [],
   "source": []
  },
  {
   "cell_type": "code",
   "execution_count": null,
   "id": "6995f4ff",
   "metadata": {},
   "outputs": [],
   "source": []
  },
  {
   "cell_type": "code",
   "execution_count": null,
   "id": "a0e517a2",
   "metadata": {},
   "outputs": [],
   "source": []
  }
 ],
 "metadata": {
  "kernelspec": {
   "display_name": "firstEnv",
   "language": "python",
   "name": "firstenv"
  },
  "language_info": {
   "codemirror_mode": {
    "name": "ipython",
    "version": 3
   },
   "file_extension": ".py",
   "mimetype": "text/x-python",
   "name": "python",
   "nbconvert_exporter": "python",
   "pygments_lexer": "ipython3",
   "version": "3.9.7"
  }
 },
 "nbformat": 4,
 "nbformat_minor": 5
}
