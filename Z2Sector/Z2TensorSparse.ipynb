{
 "cells": [
  {
   "cell_type": "code",
   "execution_count": 44,
   "id": "d1deaaf6",
   "metadata": {},
   "outputs": [],
   "source": [
    "%reset -sf"
   ]
  },
  {
   "cell_type": "code",
   "execution_count": 45,
   "id": "a72c1f0a",
   "metadata": {},
   "outputs": [],
   "source": [
    "import torch\n",
    "from torch.utils.checkpoint import checkpoint\n",
    "import numpy as np\n",
    "from opt_einsum import contract\n",
    "from tqdm.auto import tqdm\n",
    "\n",
    "def _toN(t):\n",
    "    if isinstance(t,list):\n",
    "        return np.array([_toN(x) for x in t])\n",
    "    else:\n",
    "        return np.array(t.detach().cpu()) if isinstance(t,torch.Tensor) else np.array(t)\n",
    "        \n",
    "def _toT(t):\n",
    "    return torch.tensor(t) if not isinstance(t,torch.Tensor) else t\n",
    "torch.cuda.set_device(1)\n",
    "torch.set_default_tensor_type('torch.cuda.DoubleTensor')\n",
    "\n",
    "import time\n",
    "class Timer:\n",
    "    indent=0\n",
    "    def __init__(self,name=\"\"):\n",
    "        self.name=name\n",
    "    def __enter__(self):\n",
    "        self.start_time=time.time()\n",
    "        print(f'{\"    \"*Timer.indent}Start Timing {self.name}')\n",
    "        Timer.indent+=1\n",
    "    def __exit__(self,*a):\n",
    "        Timer.indent-=1\n",
    "        print(f'{\"    \"*Timer.indent}Time Useage {self.name}: {time.time()-self.start_time}s')\n"
   ]
  },
  {
   "cell_type": "markdown",
   "id": "e4502447",
   "metadata": {},
   "source": [
    "# TN representation of Ising and AKLT"
   ]
  },
  {
   "cell_type": "code",
   "execution_count": 46,
   "id": "b6ff277f",
   "metadata": {},
   "outputs": [],
   "source": [
    "def Ising_T0(beta,h):\n",
    "    beta,h=_toT(beta),_toT(h)\n",
    "    a=torch.sqrt(torch.cosh(beta))\n",
    "    b=torch.sqrt(torch.sinh(beta))\n",
    "    c=torch.exp(beta*h)\n",
    "    w=torch.stack([torch.stack([a,a]),torch.stack([b,-b])])\n",
    "    z=torch.stack([c,1/c])\n",
    "    return contract('iA,jA,kA,lA,A->ijkl',w,w,w,w,z)#UDLR\n",
    "\n",
    "def Ising_SZT0(beta,h):\n",
    "    beta,h=_toT(beta),_toT(h)\n",
    "    a=torch.sqrt(torch.cosh(beta))\n",
    "    b=torch.sqrt(torch.sinh(beta))\n",
    "    c=torch.exp(beta*h)\n",
    "    w=torch.stack([torch.stack([a,a]),torch.stack([b,-b])])\n",
    "    z=torch.stack([c,-1/c])\n",
    "    return contract('iA,jA,kA,lA,A->ijkl',w,w,w,w,z)#UDLR\n",
    "\n",
    "def Ising3D_T0(beta,h):\n",
    "    beta,h=_toT(beta),_toT(h)\n",
    "    a=torch.sqrt(torch.cosh(beta))\n",
    "    b=torch.sqrt(torch.sinh(beta))\n",
    "    c=torch.exp(beta*h)\n",
    "    w=torch.stack([torch.stack([a,a]),torch.stack([b,-b])])\n",
    "    z=torch.stack([c,1/c])\n",
    "    return contract('iA,jA,kA,lA,mA,nA,A->ijklmn',w,w,w,w,w,w,z)#UDLRFB\n",
    "\n",
    "def Ising3D_SZT0(beta,h):\n",
    "    beta,h=_toT(beta),_toT(h)\n",
    "    a=torch.sqrt(torch.cosh(beta))\n",
    "    b=torch.sqrt(torch.sinh(beta))\n",
    "    c=torch.exp(beta*h)\n",
    "    w=torch.stack([torch.stack([a,a]),torch.stack([b,-b])])\n",
    "    z=torch.stack([c,-1/c])\n",
    "    return contract('iA,jA,kA,lA,mA,nA,A->ijklmn',w,w,w,w,w,w,z)#UDLRFB"
   ]
  },
  {
   "cell_type": "code",
   "execution_count": 47,
   "id": "9961f7e0",
   "metadata": {},
   "outputs": [],
   "source": [
    "from scipy.special import comb\n",
    "def get_CG_no_normalization(j):\n",
    "    n=int(2*j)\n",
    "    if n==0:\n",
    "        return np.eye(1)\n",
    "    CG=np.zeros((n+1,)+(2,)*n)\n",
    "    for i in range(2**n):\n",
    "        indices=tuple(map(int,bin(i)[2:].zfill(n)))\n",
    "        m=np.sum(indices)\n",
    "        CG[(m,)+indices]=1\n",
    "    return CG\n",
    "def get_Lxyz(j):\n",
    "    n=int(2*j+1)\n",
    "    Lz=np.zeros((n,n))\n",
    "    for i in range(n):\n",
    "        m=i-j\n",
    "        Lz[i,i]=m\n",
    "    Lp=np.zeros((n,n))\n",
    "    for i in range(n-1):\n",
    "        m=i-j\n",
    "        Lp[i+1,i]=np.sqrt(j*(j+1)-m*(m+1))\n",
    "    Lm=Lp.T\n",
    "    Lx=(Lp+Lm)/2\n",
    "    iLy=(Lp-Lm)/2\n",
    "    return Lx,iLy,Lz\n",
    "\n",
    "AKLT_default_params={'a1':np.sqrt(6)/2,'a2':np.sqrt(6)}\n",
    "def AKLT_T0(a1,a2):\n",
    "    projector=torch.tensor(get_CG_no_normalization(2))\n",
    "    singlet=torch.tensor([[0.,-1.],[1.,0.]])\n",
    "    a0,a1,a2=_toT(1),_toT(a1),_toT(a2)\n",
    "    deform=torch.stack([a2,a1,a0,a1,a2])\n",
    "    node=contract('aijkl,io,kp,a->aojpl',projector,singlet,singlet,deform)\n",
    "    T=contract('aijkl,aopqr->iojpkqlr',node,node).reshape(4,4,4,4)#UDLR\n",
    "    r=torch.tensor([[1.,0.,0.,0.],[0.,0.,0.,1.],[0.,np.sqrt(.5),np.sqrt(.5),0.],[0.,np.sqrt(.5),-np.sqrt(.5),0.]])\n",
    "    T=contract('ijkl,Ii,Jj,Kk,Ll->IJKL',T,r,r.conj(),r,r.conj())\n",
    "    return T\n",
    "\n",
    "def AKLT_ST0(a1,a2,axis):\n",
    "    projector=torch.tensor(get_CG_no_normalization(2))\n",
    "    singlet=torch.tensor([[0.,-1.],[1.,0.]])\n",
    "    a0,a1,a2=_toT(1),_toT(a1),_toT(a2)\n",
    "    deform=torch.stack([a2,a1,a0,a1,a2])\n",
    "    node=contract('aijkl,io,kp,a->aojpl',projector,singlet,singlet,deform)\n",
    "    op=torch.tensor(get_Lxyz(2)[axis])\n",
    "    T=contract('aijkl,bopqr,ab->iojpkqlr',node,node,op).reshape(4,4,4,4)#UDLRFB\n",
    "    r=torch.tensor([[1.,0.,0.,0.],[0.,0.,0.,1.],[0.,np.sqrt(.5),np.sqrt(.5),0.],[0.,np.sqrt(.5),-np.sqrt(.5),0.]])\n",
    "    T=contract('ijkl,Ii,Jj,Kk,Ll->IJKL',T,r,r.conj(),r,r.conj())\n",
    "    return T\n",
    "\n",
    "AKLT3D_default_params={'a1':np.sqrt(20/15),'a2':np.sqrt(20/6),'a3':np.sqrt(20/1)}\n",
    "def AKLT3D_T0(a1,a2,a3):\n",
    "    projector=torch.tensor(get_CG_no_normalization(3))\n",
    "    singlet=torch.tensor([[0.,-1.],[1.,0.]])\n",
    "    a0,a1,a2,a3=_toT(1),_toT(a1),_toT(a2),_toT(a3)\n",
    "    deform=torch.stack([a3,a2,a1,a0,a1,a2,a3])\n",
    "    node=contract('aijklmn,io,kp,mq,a->aojplqn',projector,singlet,singlet,singlet,deform)\n",
    "    T=contract('aijklmn,aopqrst->iojpkqlrmsnt',node,node).reshape(4,4,4,4,4,4)#UDLRFB\n",
    "    r=torch.tensor([[1.,0.,0.,0.],[0.,0.,0.,1.],[0.,np.sqrt(.5),np.sqrt(.5),0.],[0.,np.sqrt(.5),-np.sqrt(.5),0.]])\n",
    "    T=contract('ijklmn,Ii,Jj,Kk,Ll,Mm,Nn->IJKLMN',T,r,r.conj(),r,r.conj(),r,r.conj())\n",
    "    return T\n",
    "\n",
    "def AKLT3D_ST0(a1,a2,a3,axis):\n",
    "    projector=torch.tensor(get_CG_no_normalization(3))\n",
    "    singlet=torch.tensor([[0.,-1.],[1.,0.]])\n",
    "    a0,a1,a2,a3=_toT(1),_toT(a1),_toT(a2),_toT(a3)\n",
    "    deform=torch.stack([a3,a2,a1,a0,a1,a2,a3])\n",
    "    node=contract('aijklmn,io,kp,mq,a->aojplqn',projector,singlet,singlet,singlet,deform)\n",
    "    op=torch.tensor(get_Lxyz(3)[axis])\n",
    "    T=contract('aijklmn,bopqrst,ab->iojpkqlrmsnt',node,node,op).reshape(4,4,4,4,4,4)#UDLRFB\n",
    "    r=torch.tensor([[1.,0.,0.,0.],[0.,0.,0.,1.],[0.,np.sqrt(.5),np.sqrt(.5),0.],[0.,np.sqrt(.5),-np.sqrt(.5),0.]])\n",
    "    T=contract('ijklmn,Ii,Jj,Kk,Ll,Mm,Nn->IJKLMN',T,r,r.conj(),r,r.conj(),r,r.conj())\n",
    "    return T"
   ]
  },
  {
   "cell_type": "markdown",
   "id": "84e9d79e",
   "metadata": {},
   "source": [
    "# HOTRG without symmetry consideration"
   ]
  },
  {
   "cell_type": "code",
   "execution_count": 48,
   "id": "cd7f1c07",
   "metadata": {},
   "outputs": [],
   "source": [
    "def TRG(T1,T2,w):\n",
    "    return contract('ijkl,jmno,akn,blo->abim',T1,T2,w[0],w[0].conj(),optimize=[(0, 2), (0, 1), (0, 1)])\n",
    "\n",
    "def TRG3D(T1,T2,w):\n",
    "    return contract('ijklmn,jopqrs,akp,blq,cmr,dns->abcdio',T1,T2,w[0],w[0].conj(),w[1],w[1].conj(),optimize=[(0, 2), (0, 1), (0, 2), (1, 2), (0, 1)])\n",
    "\n",
    "HOTRG_degeneracy_threshold=1e-3\n",
    "\n",
    "def HOTRG_get_isometry(MM,max_dim):\n",
    "    global HOTRG_degeneracy_threshold\n",
    "    if max_dim>=MM.shape[0]:\n",
    "        return torch.eye(MM.shape[0])\n",
    "    S,U=torch.linalg.eigh(MM)#ascending, U S Uh=MM\n",
    "    S,U=S.flip(0),U.flip(1)\n",
    "    truncated_dim=max_dim\n",
    "    if HOTRG_degeneracy_threshold is not None:\n",
    "        while truncated_dim>=1 and S[truncated_dim-1]<S[max_dim]*(1+HOTRG_degeneracy_threshold):\n",
    "            truncated_dim-=1\n",
    "        #print(truncated_dim,S[:truncated_dim],S[truncated_dim:10])\n",
    "        #print(truncated_dim,end=' ')\n",
    "    w=U[:,:truncated_dim].T\n",
    "    return w\n",
    "\n",
    "def HOTRG(T,max_dim):\n",
    "    MM1=contract('ijkl,jmno,ipql,pmro->knqr',T,T,T.conj(),T.conj()).reshape(T.shape[2]**2,T.shape[2]**2)\n",
    "    w1=HOTRG_get_isometry(MM1,max_dim)\n",
    "    w1=w1.reshape(-1,T.shape[2],T.shape[2])\n",
    "        \n",
    "    T=TRG(T,T,[w1])\n",
    "    return T,[w1]\n",
    "\n",
    "def HOTRG3D(T,max_dim):\n",
    "    MM1=contract('ijklmn,jopqrs,itulmn,tovqrs->kpuv',T,T,T.conj(),T.conj()).reshape(T.shape[2]**2,T.shape[2]**2)\n",
    "    w1=HOTRG_get_isometry(MM1,max_dim)\n",
    "    w1=w1.reshape(-1,T.shape[2],T.shape[2])\n",
    "\n",
    "    MM2=contract('ijklmn,jopqrs,itklun,topqvs->mruv',T,T,T.conj(),T.conj()).reshape(T.shape[4]**2,T.shape[4]**2)\n",
    "    w2=HOTRG_get_isometry(MM2,max_dim)\n",
    "    w2=w2.reshape(-1,T.shape[4],T.shape[4])\n",
    "        \n",
    "    T=TRG3D(T,T,[w1,w2])\n",
    "    return T,[w1,w2]\n",
    "\n",
    "# max_dim<=12\n",
    "def calc_isometries_HOTRG(T,HOTRG,max_dim,nLayers):\n",
    "    with torch.no_grad():\n",
    "        Ts,norms,ws,logZs=[T.detach().cpu()],[],[],[]\n",
    "        logTotal=0\n",
    "        contract_path='aabbccddeeff'[:len(T.shape)]+'->'\n",
    "        for layer in tqdm(range(nLayers), leave=False):\n",
    "            T,w=HOTRG(T,max_dim)\n",
    "            norm=torch.linalg.norm(T)\n",
    "            T=T/norm\n",
    "            logTotal=2*logTotal+torch.log(norm)\n",
    "            Z=contract(contract_path,T)\n",
    "            Ts.append(T.detach().cpu())\n",
    "            norms.append(norm)\n",
    "            logZs.append((logTotal+torch.log(Z))/2.**(layer+1))\n",
    "            ws.append(w)\n",
    "        return Ts,norms,ws,logZs\n",
    "\n",
    "\n",
    "def evolve_tensor(T_op,Ts,norms,ws,TRG,average=False,checkboard=False):\n",
    "    T_ops,M,M2=[T_op.detach().cpu()],[],[]\n",
    "    dim=len(T_op.shape)//2\n",
    "    contract_path1='aabbccddeeff'[:dim*2]+'->'\n",
    "    contract_path2='abccddeeffgg'[:dim*2]+','+'baCCDDEEFFGG'[:dim*2]+'->'\n",
    "    for layer in tqdm(range(len(ws)),leave=False):\n",
    "        T=Ts[layer].to(T_op.device)\n",
    "        T2=TRG(T_op,T,ws[layer])\n",
    "        if average:\n",
    "            T3=TRG(T,T_op,ws[layer])\n",
    "            T2=(T2-T3)/2 if checkboard and layer<dim else (T2+T3)/2\n",
    "        T=Ts[layer+1].to(T_op.device)\n",
    "        T_op=T2/norms[layer]\n",
    "        T_ops.append(T_op.detach().cpu())\n",
    "        M.append(contract(contract_path1,T_op)/contract(contract_path1,T))\n",
    "        M2.append(contract(contract_path2,T_op,T_op)/contract(contract_path2,T,T))\n",
    "    return T_ops,M,M2"
   ]
  },
  {
   "cell_type": "markdown",
   "id": "36259b1c",
   "metadata": {},
   "source": [
    "# Test on AKLT3D"
   ]
  },
  {
   "cell_type": "code",
   "execution_count": 40,
   "id": "8e3efc13",
   "metadata": {
    "scrolled": true
   },
   "outputs": [
    {
     "data": {
      "application/vnd.jupyter.widget-view+json": {
       "model_id": "66179f00b9b74687bb83b1e34686f561",
       "version_major": 2,
       "version_minor": 0
      },
      "text/plain": [
       "  0%|          | 0/11 [00:00<?, ?it/s]"
      ]
     },
     "metadata": {},
     "output_type": "display_data"
    },
    {
     "data": {
      "application/vnd.jupyter.widget-view+json": {
       "model_id": "",
       "version_major": 2,
       "version_minor": 0
      },
      "text/plain": [
       "  0%|          | 0/60 [00:00<?, ?it/s]"
      ]
     },
     "metadata": {},
     "output_type": "display_data"
    },
    {
     "data": {
      "application/vnd.jupyter.widget-view+json": {
       "model_id": "",
       "version_major": 2,
       "version_minor": 0
      },
      "text/plain": [
       "  0%|          | 0/60 [00:00<?, ?it/s]"
      ]
     },
     "metadata": {},
     "output_type": "display_data"
    },
    {
     "data": {
      "application/vnd.jupyter.widget-view+json": {
       "model_id": "",
       "version_major": 2,
       "version_minor": 0
      },
      "text/plain": [
       "  0%|          | 0/60 [00:00<?, ?it/s]"
      ]
     },
     "metadata": {},
     "output_type": "display_data"
    },
    {
     "data": {
      "application/vnd.jupyter.widget-view+json": {
       "model_id": "",
       "version_major": 2,
       "version_minor": 0
      },
      "text/plain": [
       "  0%|          | 0/60 [00:00<?, ?it/s]"
      ]
     },
     "metadata": {},
     "output_type": "display_data"
    },
    {
     "data": {
      "application/vnd.jupyter.widget-view+json": {
       "model_id": "",
       "version_major": 2,
       "version_minor": 0
      },
      "text/plain": [
       "  0%|          | 0/60 [00:00<?, ?it/s]"
      ]
     },
     "metadata": {},
     "output_type": "display_data"
    },
    {
     "data": {
      "application/vnd.jupyter.widget-view+json": {
       "model_id": "",
       "version_major": 2,
       "version_minor": 0
      },
      "text/plain": [
       "  0%|          | 0/60 [00:00<?, ?it/s]"
      ]
     },
     "metadata": {},
     "output_type": "display_data"
    },
    {
     "data": {
      "application/vnd.jupyter.widget-view+json": {
       "model_id": "",
       "version_major": 2,
       "version_minor": 0
      },
      "text/plain": [
       "  0%|          | 0/60 [00:00<?, ?it/s]"
      ]
     },
     "metadata": {},
     "output_type": "display_data"
    },
    {
     "data": {
      "application/vnd.jupyter.widget-view+json": {
       "model_id": "",
       "version_major": 2,
       "version_minor": 0
      },
      "text/plain": [
       "  0%|          | 0/60 [00:00<?, ?it/s]"
      ]
     },
     "metadata": {},
     "output_type": "display_data"
    },
    {
     "data": {
      "application/vnd.jupyter.widget-view+json": {
       "model_id": "",
       "version_major": 2,
       "version_minor": 0
      },
      "text/plain": [
       "  0%|          | 0/60 [00:00<?, ?it/s]"
      ]
     },
     "metadata": {},
     "output_type": "display_data"
    },
    {
     "data": {
      "application/vnd.jupyter.widget-view+json": {
       "model_id": "",
       "version_major": 2,
       "version_minor": 0
      },
      "text/plain": [
       "  0%|          | 0/60 [00:00<?, ?it/s]"
      ]
     },
     "metadata": {},
     "output_type": "display_data"
    },
    {
     "data": {
      "application/vnd.jupyter.widget-view+json": {
       "model_id": "",
       "version_major": 2,
       "version_minor": 0
      },
      "text/plain": [
       "  0%|          | 0/60 [00:00<?, ?it/s]"
      ]
     },
     "metadata": {},
     "output_type": "display_data"
    },
    {
     "data": {
      "application/vnd.jupyter.widget-view+json": {
       "model_id": "",
       "version_major": 2,
       "version_minor": 0
      },
      "text/plain": [
       "  0%|          | 0/60 [00:00<?, ?it/s]"
      ]
     },
     "metadata": {},
     "output_type": "display_data"
    },
    {
     "data": {
      "application/vnd.jupyter.widget-view+json": {
       "model_id": "",
       "version_major": 2,
       "version_minor": 0
      },
      "text/plain": [
       "  0%|          | 0/60 [00:00<?, ?it/s]"
      ]
     },
     "metadata": {},
     "output_type": "display_data"
    },
    {
     "data": {
      "application/vnd.jupyter.widget-view+json": {
       "model_id": "",
       "version_major": 2,
       "version_minor": 0
      },
      "text/plain": [
       "  0%|          | 0/60 [00:00<?, ?it/s]"
      ]
     },
     "metadata": {},
     "output_type": "display_data"
    },
    {
     "data": {
      "application/vnd.jupyter.widget-view+json": {
       "model_id": "",
       "version_major": 2,
       "version_minor": 0
      },
      "text/plain": [
       "  0%|          | 0/60 [00:00<?, ?it/s]"
      ]
     },
     "metadata": {},
     "output_type": "display_data"
    },
    {
     "data": {
      "application/vnd.jupyter.widget-view+json": {
       "model_id": "",
       "version_major": 2,
       "version_minor": 0
      },
      "text/plain": [
       "  0%|          | 0/60 [00:00<?, ?it/s]"
      ]
     },
     "metadata": {},
     "output_type": "display_data"
    },
    {
     "data": {
      "application/vnd.jupyter.widget-view+json": {
       "model_id": "",
       "version_major": 2,
       "version_minor": 0
      },
      "text/plain": [
       "  0%|          | 0/60 [00:00<?, ?it/s]"
      ]
     },
     "metadata": {},
     "output_type": "display_data"
    },
    {
     "data": {
      "application/vnd.jupyter.widget-view+json": {
       "model_id": "",
       "version_major": 2,
       "version_minor": 0
      },
      "text/plain": [
       "  0%|          | 0/60 [00:00<?, ?it/s]"
      ]
     },
     "metadata": {},
     "output_type": "display_data"
    },
    {
     "data": {
      "application/vnd.jupyter.widget-view+json": {
       "model_id": "",
       "version_major": 2,
       "version_minor": 0
      },
      "text/plain": [
       "  0%|          | 0/60 [00:00<?, ?it/s]"
      ]
     },
     "metadata": {},
     "output_type": "display_data"
    },
    {
     "data": {
      "application/vnd.jupyter.widget-view+json": {
       "model_id": "",
       "version_major": 2,
       "version_minor": 0
      },
      "text/plain": [
       "  0%|          | 0/60 [00:00<?, ?it/s]"
      ]
     },
     "metadata": {},
     "output_type": "display_data"
    },
    {
     "data": {
      "application/vnd.jupyter.widget-view+json": {
       "model_id": "",
       "version_major": 2,
       "version_minor": 0
      },
      "text/plain": [
       "  0%|          | 0/60 [00:00<?, ?it/s]"
      ]
     },
     "metadata": {},
     "output_type": "display_data"
    },
    {
     "data": {
      "application/vnd.jupyter.widget-view+json": {
       "model_id": "",
       "version_major": 2,
       "version_minor": 0
      },
      "text/plain": [
       "  0%|          | 0/60 [00:00<?, ?it/s]"
      ]
     },
     "metadata": {},
     "output_type": "display_data"
    },
    {
     "data": {
      "application/vnd.jupyter.widget-view+json": {
       "model_id": "",
       "version_major": 2,
       "version_minor": 0
      },
      "text/plain": [
       "  0%|          | 0/60 [00:00<?, ?it/s]"
      ]
     },
     "metadata": {},
     "output_type": "display_data"
    },
    {
     "data": {
      "application/vnd.jupyter.widget-view+json": {
       "model_id": "",
       "version_major": 2,
       "version_minor": 0
      },
      "text/plain": [
       "  0%|          | 0/60 [00:00<?, ?it/s]"
      ]
     },
     "metadata": {},
     "output_type": "display_data"
    },
    {
     "data": {
      "application/vnd.jupyter.widget-view+json": {
       "model_id": "",
       "version_major": 2,
       "version_minor": 0
      },
      "text/plain": [
       "  0%|          | 0/60 [00:00<?, ?it/s]"
      ]
     },
     "metadata": {},
     "output_type": "display_data"
    },
    {
     "data": {
      "application/vnd.jupyter.widget-view+json": {
       "model_id": "",
       "version_major": 2,
       "version_minor": 0
      },
      "text/plain": [
       "  0%|          | 0/60 [00:00<?, ?it/s]"
      ]
     },
     "metadata": {},
     "output_type": "display_data"
    },
    {
     "data": {
      "application/vnd.jupyter.widget-view+json": {
       "model_id": "",
       "version_major": 2,
       "version_minor": 0
      },
      "text/plain": [
       "  0%|          | 0/60 [00:00<?, ?it/s]"
      ]
     },
     "metadata": {},
     "output_type": "display_data"
    },
    {
     "data": {
      "application/vnd.jupyter.widget-view+json": {
       "model_id": "",
       "version_major": 2,
       "version_minor": 0
      },
      "text/plain": [
       "  0%|          | 0/60 [00:00<?, ?it/s]"
      ]
     },
     "metadata": {},
     "output_type": "display_data"
    },
    {
     "data": {
      "application/vnd.jupyter.widget-view+json": {
       "model_id": "",
       "version_major": 2,
       "version_minor": 0
      },
      "text/plain": [
       "  0%|          | 0/60 [00:00<?, ?it/s]"
      ]
     },
     "metadata": {},
     "output_type": "display_data"
    },
    {
     "data": {
      "application/vnd.jupyter.widget-view+json": {
       "model_id": "",
       "version_major": 2,
       "version_minor": 0
      },
      "text/plain": [
       "  0%|          | 0/60 [00:00<?, ?it/s]"
      ]
     },
     "metadata": {},
     "output_type": "display_data"
    },
    {
     "data": {
      "application/vnd.jupyter.widget-view+json": {
       "model_id": "",
       "version_major": 2,
       "version_minor": 0
      },
      "text/plain": [
       "  0%|          | 0/60 [00:00<?, ?it/s]"
      ]
     },
     "metadata": {},
     "output_type": "display_data"
    },
    {
     "data": {
      "application/vnd.jupyter.widget-view+json": {
       "model_id": "",
       "version_major": 2,
       "version_minor": 0
      },
      "text/plain": [
       "  0%|          | 0/60 [00:00<?, ?it/s]"
      ]
     },
     "metadata": {},
     "output_type": "display_data"
    },
    {
     "data": {
      "application/vnd.jupyter.widget-view+json": {
       "model_id": "",
       "version_major": 2,
       "version_minor": 0
      },
      "text/plain": [
       "  0%|          | 0/60 [00:00<?, ?it/s]"
      ]
     },
     "metadata": {},
     "output_type": "display_data"
    },
    {
     "data": {
      "application/vnd.jupyter.widget-view+json": {
       "model_id": "",
       "version_major": 2,
       "version_minor": 0
      },
      "text/plain": [
       "  0%|          | 0/60 [00:00<?, ?it/s]"
      ]
     },
     "metadata": {},
     "output_type": "display_data"
    },
    {
     "data": {
      "application/vnd.jupyter.widget-view+json": {
       "model_id": "",
       "version_major": 2,
       "version_minor": 0
      },
      "text/plain": [
       "  0%|          | 0/60 [00:00<?, ?it/s]"
      ]
     },
     "metadata": {},
     "output_type": "display_data"
    },
    {
     "data": {
      "application/vnd.jupyter.widget-view+json": {
       "model_id": "",
       "version_major": 2,
       "version_minor": 0
      },
      "text/plain": [
       "  0%|          | 0/60 [00:00<?, ?it/s]"
      ]
     },
     "metadata": {},
     "output_type": "display_data"
    },
    {
     "data": {
      "application/vnd.jupyter.widget-view+json": {
       "model_id": "",
       "version_major": 2,
       "version_minor": 0
      },
      "text/plain": [
       "  0%|          | 0/60 [00:00<?, ?it/s]"
      ]
     },
     "metadata": {},
     "output_type": "display_data"
    },
    {
     "data": {
      "application/vnd.jupyter.widget-view+json": {
       "model_id": "",
       "version_major": 2,
       "version_minor": 0
      },
      "text/plain": [
       "  0%|          | 0/60 [00:00<?, ?it/s]"
      ]
     },
     "metadata": {},
     "output_type": "display_data"
    },
    {
     "data": {
      "application/vnd.jupyter.widget-view+json": {
       "model_id": "",
       "version_major": 2,
       "version_minor": 0
      },
      "text/plain": [
       "  0%|          | 0/60 [00:00<?, ?it/s]"
      ]
     },
     "metadata": {},
     "output_type": "display_data"
    },
    {
     "data": {
      "application/vnd.jupyter.widget-view+json": {
       "model_id": "",
       "version_major": 2,
       "version_minor": 0
      },
      "text/plain": [
       "  0%|          | 0/60 [00:00<?, ?it/s]"
      ]
     },
     "metadata": {},
     "output_type": "display_data"
    },
    {
     "data": {
      "application/vnd.jupyter.widget-view+json": {
       "model_id": "",
       "version_major": 2,
       "version_minor": 0
      },
      "text/plain": [
       "  0%|          | 0/60 [00:00<?, ?it/s]"
      ]
     },
     "metadata": {},
     "output_type": "display_data"
    },
    {
     "data": {
      "application/vnd.jupyter.widget-view+json": {
       "model_id": "",
       "version_major": 2,
       "version_minor": 0
      },
      "text/plain": [
       "  0%|          | 0/60 [00:00<?, ?it/s]"
      ]
     },
     "metadata": {},
     "output_type": "display_data"
    },
    {
     "data": {
      "application/vnd.jupyter.widget-view+json": {
       "model_id": "",
       "version_major": 2,
       "version_minor": 0
      },
      "text/plain": [
       "  0%|          | 0/60 [00:00<?, ?it/s]"
      ]
     },
     "metadata": {},
     "output_type": "display_data"
    },
    {
     "data": {
      "application/vnd.jupyter.widget-view+json": {
       "model_id": "",
       "version_major": 2,
       "version_minor": 0
      },
      "text/plain": [
       "  0%|          | 0/60 [00:00<?, ?it/s]"
      ]
     },
     "metadata": {},
     "output_type": "display_data"
    },
    {
     "data": {
      "application/vnd.jupyter.widget-view+json": {
       "model_id": "",
       "version_major": 2,
       "version_minor": 0
      },
      "text/plain": [
       "  0%|          | 0/60 [00:00<?, ?it/s]"
      ]
     },
     "metadata": {},
     "output_type": "display_data"
    },
    {
     "data": {
      "application/vnd.jupyter.widget-view+json": {
       "model_id": "",
       "version_major": 2,
       "version_minor": 0
      },
      "text/plain": [
       "  0%|          | 0/60 [00:00<?, ?it/s]"
      ]
     },
     "metadata": {},
     "output_type": "display_data"
    },
    {
     "data": {
      "application/vnd.jupyter.widget-view+json": {
       "model_id": "",
       "version_major": 2,
       "version_minor": 0
      },
      "text/plain": [
       "  0%|          | 0/60 [00:00<?, ?it/s]"
      ]
     },
     "metadata": {},
     "output_type": "display_data"
    },
    {
     "data": {
      "application/vnd.jupyter.widget-view+json": {
       "model_id": "",
       "version_major": 2,
       "version_minor": 0
      },
      "text/plain": [
       "  0%|          | 0/60 [00:00<?, ?it/s]"
      ]
     },
     "metadata": {},
     "output_type": "display_data"
    },
    {
     "data": {
      "application/vnd.jupyter.widget-view+json": {
       "model_id": "",
       "version_major": 2,
       "version_minor": 0
      },
      "text/plain": [
       "  0%|          | 0/60 [00:00<?, ?it/s]"
      ]
     },
     "metadata": {},
     "output_type": "display_data"
    },
    {
     "data": {
      "application/vnd.jupyter.widget-view+json": {
       "model_id": "",
       "version_major": 2,
       "version_minor": 0
      },
      "text/plain": [
       "  0%|          | 0/60 [00:00<?, ?it/s]"
      ]
     },
     "metadata": {},
     "output_type": "display_data"
    },
    {
     "data": {
      "application/vnd.jupyter.widget-view+json": {
       "model_id": "",
       "version_major": 2,
       "version_minor": 0
      },
      "text/plain": [
       "  0%|          | 0/60 [00:00<?, ?it/s]"
      ]
     },
     "metadata": {},
     "output_type": "display_data"
    },
    {
     "data": {
      "application/vnd.jupyter.widget-view+json": {
       "model_id": "",
       "version_major": 2,
       "version_minor": 0
      },
      "text/plain": [
       "  0%|          | 0/60 [00:00<?, ?it/s]"
      ]
     },
     "metadata": {},
     "output_type": "display_data"
    },
    {
     "data": {
      "application/vnd.jupyter.widget-view+json": {
       "model_id": "",
       "version_major": 2,
       "version_minor": 0
      },
      "text/plain": [
       "  0%|          | 0/60 [00:00<?, ?it/s]"
      ]
     },
     "metadata": {},
     "output_type": "display_data"
    },
    {
     "data": {
      "application/vnd.jupyter.widget-view+json": {
       "model_id": "",
       "version_major": 2,
       "version_minor": 0
      },
      "text/plain": [
       "  0%|          | 0/60 [00:00<?, ?it/s]"
      ]
     },
     "metadata": {},
     "output_type": "display_data"
    },
    {
     "data": {
      "application/vnd.jupyter.widget-view+json": {
       "model_id": "",
       "version_major": 2,
       "version_minor": 0
      },
      "text/plain": [
       "  0%|          | 0/60 [00:00<?, ?it/s]"
      ]
     },
     "metadata": {},
     "output_type": "display_data"
    },
    {
     "data": {
      "application/vnd.jupyter.widget-view+json": {
       "model_id": "",
       "version_major": 2,
       "version_minor": 0
      },
      "text/plain": [
       "  0%|          | 0/60 [00:00<?, ?it/s]"
      ]
     },
     "metadata": {},
     "output_type": "display_data"
    },
    {
     "data": {
      "application/vnd.jupyter.widget-view+json": {
       "model_id": "",
       "version_major": 2,
       "version_minor": 0
      },
      "text/plain": [
       "  0%|          | 0/60 [00:00<?, ?it/s]"
      ]
     },
     "metadata": {},
     "output_type": "display_data"
    },
    {
     "data": {
      "application/vnd.jupyter.widget-view+json": {
       "model_id": "",
       "version_major": 2,
       "version_minor": 0
      },
      "text/plain": [
       "  0%|          | 0/60 [00:00<?, ?it/s]"
      ]
     },
     "metadata": {},
     "output_type": "display_data"
    },
    {
     "data": {
      "application/vnd.jupyter.widget-view+json": {
       "model_id": "",
       "version_major": 2,
       "version_minor": 0
      },
      "text/plain": [
       "  0%|          | 0/60 [00:00<?, ?it/s]"
      ]
     },
     "metadata": {},
     "output_type": "display_data"
    },
    {
     "data": {
      "application/vnd.jupyter.widget-view+json": {
       "model_id": "",
       "version_major": 2,
       "version_minor": 0
      },
      "text/plain": [
       "  0%|          | 0/60 [00:00<?, ?it/s]"
      ]
     },
     "metadata": {},
     "output_type": "display_data"
    },
    {
     "data": {
      "application/vnd.jupyter.widget-view+json": {
       "model_id": "",
       "version_major": 2,
       "version_minor": 0
      },
      "text/plain": [
       "  0%|          | 0/60 [00:00<?, ?it/s]"
      ]
     },
     "metadata": {},
     "output_type": "display_data"
    },
    {
     "data": {
      "application/vnd.jupyter.widget-view+json": {
       "model_id": "",
       "version_major": 2,
       "version_minor": 0
      },
      "text/plain": [
       "  0%|          | 0/60 [00:00<?, ?it/s]"
      ]
     },
     "metadata": {},
     "output_type": "display_data"
    },
    {
     "data": {
      "application/vnd.jupyter.widget-view+json": {
       "model_id": "",
       "version_major": 2,
       "version_minor": 0
      },
      "text/plain": [
       "  0%|          | 0/60 [00:00<?, ?it/s]"
      ]
     },
     "metadata": {},
     "output_type": "display_data"
    },
    {
     "data": {
      "application/vnd.jupyter.widget-view+json": {
       "model_id": "",
       "version_major": 2,
       "version_minor": 0
      },
      "text/plain": [
       "  0%|          | 0/60 [00:00<?, ?it/s]"
      ]
     },
     "metadata": {},
     "output_type": "display_data"
    },
    {
     "data": {
      "application/vnd.jupyter.widget-view+json": {
       "model_id": "",
       "version_major": 2,
       "version_minor": 0
      },
      "text/plain": [
       "  0%|          | 0/60 [00:00<?, ?it/s]"
      ]
     },
     "metadata": {},
     "output_type": "display_data"
    },
    {
     "data": {
      "application/vnd.jupyter.widget-view+json": {
       "model_id": "",
       "version_major": 2,
       "version_minor": 0
      },
      "text/plain": [
       "  0%|          | 0/60 [00:00<?, ?it/s]"
      ]
     },
     "metadata": {},
     "output_type": "display_data"
    },
    {
     "data": {
      "application/vnd.jupyter.widget-view+json": {
       "model_id": "",
       "version_major": 2,
       "version_minor": 0
      },
      "text/plain": [
       "  0%|          | 0/60 [00:00<?, ?it/s]"
      ]
     },
     "metadata": {},
     "output_type": "display_data"
    },
    {
     "data": {
      "application/vnd.jupyter.widget-view+json": {
       "model_id": "",
       "version_major": 2,
       "version_minor": 0
      },
      "text/plain": [
       "  0%|          | 0/60 [00:00<?, ?it/s]"
      ]
     },
     "metadata": {},
     "output_type": "display_data"
    },
    {
     "data": {
      "application/vnd.jupyter.widget-view+json": {
       "model_id": "",
       "version_major": 2,
       "version_minor": 0
      },
      "text/plain": [
       "  0%|          | 0/60 [00:00<?, ?it/s]"
      ]
     },
     "metadata": {},
     "output_type": "display_data"
    },
    {
     "data": {
      "application/vnd.jupyter.widget-view+json": {
       "model_id": "",
       "version_major": 2,
       "version_minor": 0
      },
      "text/plain": [
       "  0%|          | 0/60 [00:00<?, ?it/s]"
      ]
     },
     "metadata": {},
     "output_type": "display_data"
    },
    {
     "data": {
      "application/vnd.jupyter.widget-view+json": {
       "model_id": "",
       "version_major": 2,
       "version_minor": 0
      },
      "text/plain": [
       "  0%|          | 0/60 [00:00<?, ?it/s]"
      ]
     },
     "metadata": {},
     "output_type": "display_data"
    },
    {
     "data": {
      "application/vnd.jupyter.widget-view+json": {
       "model_id": "",
       "version_major": 2,
       "version_minor": 0
      },
      "text/plain": [
       "  0%|          | 0/60 [00:00<?, ?it/s]"
      ]
     },
     "metadata": {},
     "output_type": "display_data"
    },
    {
     "data": {
      "application/vnd.jupyter.widget-view+json": {
       "model_id": "",
       "version_major": 2,
       "version_minor": 0
      },
      "text/plain": [
       "  0%|          | 0/60 [00:00<?, ?it/s]"
      ]
     },
     "metadata": {},
     "output_type": "display_data"
    },
    {
     "data": {
      "application/vnd.jupyter.widget-view+json": {
       "model_id": "",
       "version_major": 2,
       "version_minor": 0
      },
      "text/plain": [
       "  0%|          | 0/60 [00:00<?, ?it/s]"
      ]
     },
     "metadata": {},
     "output_type": "display_data"
    },
    {
     "data": {
      "application/vnd.jupyter.widget-view+json": {
       "model_id": "",
       "version_major": 2,
       "version_minor": 0
      },
      "text/plain": [
       "  0%|          | 0/60 [00:00<?, ?it/s]"
      ]
     },
     "metadata": {},
     "output_type": "display_data"
    },
    {
     "data": {
      "application/vnd.jupyter.widget-view+json": {
       "model_id": "",
       "version_major": 2,
       "version_minor": 0
      },
      "text/plain": [
       "  0%|          | 0/60 [00:00<?, ?it/s]"
      ]
     },
     "metadata": {},
     "output_type": "display_data"
    },
    {
     "data": {
      "application/vnd.jupyter.widget-view+json": {
       "model_id": "",
       "version_major": 2,
       "version_minor": 0
      },
      "text/plain": [
       "  0%|          | 0/60 [00:00<?, ?it/s]"
      ]
     },
     "metadata": {},
     "output_type": "display_data"
    }
   ],
   "source": [
    "import pandas as pd\n",
    "from tqdm.auto import tqdm\n",
    "\n",
    "experiment_name='HOTRG AKLT3D'\n",
    "max_dim=4\n",
    "nLayers=60\n",
    "HOTRG_degeneracy_threshold=1e-3\n",
    "\n",
    "curve=pd.DataFrame()\n",
    "a1=AKLT3D_default_params['a1']\n",
    "a2=AKLT3D_default_params['a2']\n",
    "for a3 in tqdm(np.linspace(4.3,5.3,11)):\n",
    "    with torch.no_grad():\n",
    "        T0=AKLT3D_T0(a1,a2,a3)\n",
    "        Ts,norms,ws,logZs=calc_isometries_HOTRG(T0,HOTRG3D,max_dim=max_dim,nLayers=nLayers)\n",
    "        newRow={'a1':a1,'a2':a2,'a3':a3,'logZ':logZs[-1]}\n",
    "        \n",
    "        for axis,axisName in enumerate(['X','Y','Z']):\n",
    "            T0_op=AKLT3D_ST0(a1,a2,a3,axis)\n",
    "            \n",
    "            T_ops,M,M2=evolve_tensor(T0_op,Ts,norms,ws,TRG3D,checkboard=True,average=False)\n",
    "            newRow[f'M{axisName}']=M[-1]\n",
    "            newRow[f'sqrtM2{axisName}']=torch.sqrt(torch.abs(M2[-1]))*torch.sign(M2[-1])\n",
    "            \n",
    "            T_ops,M,M2=evolve_tensor(T0_op,Ts,norms,ws,TRG3D,checkboard=True,average=True)\n",
    "            newRow[f'M{axisName}_average']=M[-1]\n",
    "            newRow[f'sqrtM2{axisName}_average']=torch.sqrt(torch.abs(M2[-1]))*torch.sign(M2[-1])\n",
    "        \n",
    "        newRow={k:_toN(v) for k,v in newRow.items()}\n",
    "        curve=curve.append(newRow,ignore_index=True)\n",
    "        curve.to_pickle(experiment_name+'.curve')\n",
    "        curve.to_csv(experiment_name+'.curve.csv')\n"
   ]
  },
  {
   "cell_type": "code",
   "execution_count": 41,
   "id": "90bd6bc1",
   "metadata": {},
   "outputs": [
    {
     "data": {
      "image/png": "[encoded data removed]",
      "text/plain": [
       "<Figure size 432x288 with 1 Axes>"
      ]
     },
     "metadata": {
      "needs_background": "light"
     },
     "output_type": "display_data"
    },
    {
     "data": {
      "image/png": "[encoded data removed]",
      "text/plain": [
       "<Figure size 432x288 with 1 Axes>"
      ]
     },
     "metadata": {
      "needs_background": "light"
     },
     "output_type": "display_data"
    },
    {
     "data": {
      "image/png": "[encoded data removed]",
      "text/plain": [
       "<Figure size 432x288 with 1 Axes>"
      ]
     },
     "metadata": {
      "needs_background": "light"
     },
     "output_type": "display_data"
    },
    {
     "data": {
      "image/png": "[encoded data removed]",
      "text/plain": [
       "<Figure size 432x288 with 1 Axes>"
      ]
     },
     "metadata": {
      "needs_background": "light"
     },
     "output_type": "display_data"
    },
    {
     "data": {
      "image/png": "[encoded data removed]",
      "text/plain": [
       "<Figure size 432x288 with 1 Axes>"
      ]
     },
     "metadata": {
      "needs_background": "light"
     },
     "output_type": "display_data"
    },
    {
     "data": {
      "image/png": "[encoded data removed]",
      "text/plain": [
       "<Figure size 432x288 with 1 Axes>"
      ]
     },
     "metadata": {
      "needs_background": "light"
     },
     "output_type": "display_data"
    }
   ],
   "source": [
    "import matplotlib.pyplot as plt\n",
    "import pandas as pd\n",
    "import numpy as np\n",
    "ls=['.-','.--','.-.','.:']*100\n",
    "\n",
    "curve=pd.read_pickle(experiment_name+'.curve')\n",
    "\n",
    "plt.suptitle(f'{experiment_name} max_dim={max_dim},nLayers={nLayers},deg_th={HOTRG_degeneracy_threshold}')\n",
    "for i,label in enumerate(['logZ']):\n",
    "    plt.plot(curve['a3'],np.abs(curve[label]),ls[i],label=label,alpha=.5)\n",
    "plt.legend()\n",
    "plt.show()\n",
    "\n",
    "plt.suptitle(f'{experiment_name} max_dim={max_dim},nLayers={nLayers},deg_th={HOTRG_degeneracy_threshold}')\n",
    "for axis,axisName in enumerate(['X','Y','Z']):\n",
    "    for i,label in enumerate([f'sqrtM2{axisName}']):\n",
    "        plt.plot(curve['a3'],curve[label],ls[axis+1],label=label,alpha=.5)\n",
    "plt.legend()\n",
    "plt.show()\n",
    "\n",
    "plt.suptitle(f'{experiment_name} max_dim={max_dim},nLayers={nLayers},deg_th={HOTRG_degeneracy_threshold}')\n",
    "for axis,axisName in enumerate(['X','Y','Z']):\n",
    "    for i,label in enumerate([f'sqrtM2{axisName}_average']):\n",
    "        plt.plot(curve['a3'],curve[label],ls[axis+1],label=label,alpha=.5)\n",
    "plt.legend()\n",
    "plt.show()\n",
    "\n",
    "plt.suptitle(f'{experiment_name} max_dim={max_dim},nLayers={nLayers},deg_th={HOTRG_degeneracy_threshold}')\n",
    "for axis,axisName in enumerate(['X','Y','Z']):\n",
    "    for i,label in enumerate([f'M{axisName}']):\n",
    "        plt.plot(curve['a3'],np.abs(curve[label]),ls[axis+1],label=label,alpha=.5)\n",
    "plt.legend()\n",
    "plt.show()\n",
    "\n",
    "plt.suptitle(f'{experiment_name} max_dim={max_dim},nLayers={nLayers},deg_th={HOTRG_degeneracy_threshold}')\n",
    "for axis,axisName in enumerate(['X','Y','Z']):\n",
    "    for i,label in enumerate([f'M{axisName}_average']):\n",
    "        plt.plot(curve['a3'],np.abs(curve[label]),ls[axis+1],label=label,alpha=.5)\n",
    "plt.legend()\n",
    "plt.show()\n",
    "\n",
    "plt.suptitle(f'{experiment_name} max_dim={max_dim},nLayers={nLayers},deg_th={HOTRG_degeneracy_threshold}')\n",
    "for axis,axisName in enumerate(['Z']):\n",
    "    for i,label in enumerate([f'M{axisName}',f'M{axisName}_average',f'sqrtM2{axisName}',f'sqrtM2{axisName}_average']):\n",
    "        plt.plot(curve['a3'],np.abs(curve[label]),ls[axis+1],label=label,alpha=.5)\n",
    "plt.legend()\n",
    "plt.show()\n"
   ]
  },
  {
   "cell_type": "code",
   "execution_count": null,
   "id": "ceab271d",
   "metadata": {},
   "outputs": [],
   "source": []
  },
  {
   "cell_type": "markdown",
   "id": "4c843534",
   "metadata": {},
   "source": [
    "# HOTRG with Z2 Symmetry"
   ]
  },
  {
   "cell_type": "code",
   "execution_count": 69,
   "id": "8c76cc03",
   "metadata": {},
   "outputs": [],
   "source": [
    "import itertools,opt_einsum\n",
    "\n",
    "# TODO cache optimize path\n",
    "# TODO why to slow. try to improve. try to improve fragment problem also\n",
    "# TOTHINK: is contraction piece by piece more memory/flop friendly?\n",
    "# TODO optimize using symmetry group of indices\n",
    "\n",
    "def z2_contract_sectors(eq):\n",
    "    lhs,rhs=eq.split('->')\n",
    "    lhs=lhs.split(',')\n",
    "    indices=sorted(set(''.join(lhs)))\n",
    "    for sector in itertools.product((1,-1),repeat=len(indices)):\n",
    "        indice2sector={c:rep for c,rep in zip(indices,sector)}\n",
    "        operand_sectors=[tuple(indice2sector[c] for c in opr) for opr in lhs]\n",
    "        result_sector=tuple(indice2sector[c] for c in rhs)\n",
    "        yield operand_sectors,result_sector\n",
    "    \n",
    "def z2_contract(eq,*operands,optimize='auto'):\n",
    "    result={}\n",
    "    for operand_sectors,result_sector in z2_contract_sectors(eq):\n",
    "        operand_tensors=[opr.get(operand_sectors[i], None) for i,opr in enumerate(operands)]\n",
    "        if not None in operand_tensors:\n",
    "            result[result_sector]=result.get(result_sector,0)+opt_einsum.contract(eq,*operand_tensors,optimize=optimize)\n",
    "    return result\n",
    "\n",
    "def Z2Tensor(tensor,rep1_dims,tensor_rep=None):\n",
    "    z2Tensor={}\n",
    "    for reps in itertools.product((1,-1),repeat=len(tensor.shape)):\n",
    "        if tensor_rep is None or np.prod(reps)==tensor_rep: #clip parts of the tensor according to how tensor transforms\n",
    "            rep_slice=[{1:slice(None,dim),-1:slice(dim,None)}[rep] for rep,dim in zip(reps,rep1_dims)]\n",
    "            z2Tensor[reps]=tensor[rep_slice]\n",
    "    return z2Tensor\n",
    "\n",
    "def z2_get_rep_dims(z2Tensor):\n",
    "    rep_dims={}\n",
    "    for sector_reps,sector_tensor in z2Tensor.items():\n",
    "        for i,(rep,rep_dim) in enumerate(zip(sector_reps,sector_tensor.shape)):\n",
    "            assert rep_dims.get((i,rep),rep_dim)==rep_dim, 'leg representation dim of sectors not match'\n",
    "            rep_dims[(i,rep)]=rep_dim\n",
    "    return rep_dims\n",
    "\n",
    "def z2_apply(fun, *operands,default=0):\n",
    "    z2Tensor={}\n",
    "    sectors=set(rep for o in operands for rep in o.keys())\n",
    "    for sector in sectors:\n",
    "        sector_tensors=[operand.get(sector,default) for operand in operands]\n",
    "        z2Tensor[sector]=fun(*sector_tensors)\n",
    "    return z2Tensor\n",
    "        \n",
    "def z2_print(*zs):\n",
    "    for z in zs:\n",
    "        if isinstance(z,dict):\n",
    "            for s,t in z.items():\n",
    "                print(s,':\\n',t)\n",
    "        else:\n",
    "            print(z)"
   ]
  },
  {
   "cell_type": "code",
   "execution_count": 70,
   "id": "c9e8d653",
   "metadata": {},
   "outputs": [],
   "source": [
    "z2_tensor_product_to_sum_cache={}\n",
    "\n",
    "def z2_tensor_product_to_sum_get_tensor(m,n,s):\n",
    "    tensor=z2_tensor_product_to_sum_cache.get((m,n,s))\n",
    "    if tensor is None:\n",
    "        tensor=np.eye(m)\n",
    "        pad=s\n",
    "        tensor=np.concatenate((np.zeros((m,pad)),tensor),axis=1) if pad>0 else tensor\n",
    "        pad=n-m-s\n",
    "        tensor=np.concatenate((tensor,np.zeros((m,pad))),axis=1) if pad>0 else tensor\n",
    "        tensor=torch.tensor(tensor)\n",
    "        z2_tensor_product_to_sum_cache[(m,n,s)]=tensor\n",
    "    return tensor\n",
    "\n",
    "def z2_tensor_product_to_sum(rep_dims):\n",
    "    #{(leg_i,rep_+-1):dim}\n",
    "    N=len(rep_dims)//2\n",
    "    out_dim={1:0,-1:0}\n",
    "    sector_start={}\n",
    "    z2Tensor={}\n",
    "    \n",
    "    for sector_in in itertools.product((1,-1),repeat=N):\n",
    "        sector_out=np.prod(sector_in)\n",
    "        sector_in_dims=[rep_dims[(i,r)] for i,r in enumerate(sector_in)]\n",
    "        sector_out_dim=np.prod(sector_in_dims)\n",
    "        \n",
    "        sector_start[sector_in]=out_dim[sector_out]\n",
    "        out_dim[sector_out]+=sector_out_dim\n",
    "        \n",
    "    for sector_in in itertools.product((1,-1),repeat=N):\n",
    "        sector_out=np.prod(sector_in)\n",
    "        sector_in_dims=[rep_dims[(i,r)] for i,r in enumerate(sector_in)]\n",
    "        sector_out_dim=np.prod(sector_in_dims)\n",
    "        \n",
    "        tensor=z2_tensor_product_to_sum_get_tensor(sector_out_dim,out_dim[sector_out],sector_start[sector_in])\n",
    "        z2Tensor[sector_in+(sector_out,)]=tensor.view(sector_in_dims+[out_dim[sector_out],])\n",
    "        \n",
    "    return z2Tensor\n",
    "\n",
    "\n"
   ]
  },
  {
   "cell_type": "code",
   "execution_count": 71,
   "id": "8e913aa8",
   "metadata": {
    "scrolled": false
   },
   "outputs": [],
   "source": [
    "def z2_TRG(T1,T2,w):\n",
    "    T_rep_dims=z2_get_rep_dims(T1)\n",
    "    in_leg_rep_dims1={(i,r):T_rep_dims[j,r] for r in {1,-1} for i,j in enumerate([2,2])}\n",
    "    P1=z2_tensor_product_to_sum(in_leg_rep_dims1)\n",
    "    wP1=z2_contract('ab,knb->akn',w[0],P1)\n",
    "    \n",
    "    #Ta=z2_contract('akn,ijkl->anijl',wP,T1)\n",
    "    #Tb=z2_contract('blo,jmno->bljmn',wP,T2)\n",
    "    #T=z2_contract('bljmn,anijl->abim',Tb,Ta)\n",
    "    return z2_contract('ijkl,jmno,akn,blo->abim',T1,T2,wP1,wP1,optimize=[(0, 2), (0, 1), (0, 1)])\n",
    "\n",
    "def z2_TRG3D(T1,T2,w):\n",
    "    T_rep_dims=z2_get_rep_dims(T1)\n",
    "    in_leg_rep_dims1={(i,r):T_rep_dims[j,r] for r in {1,-1} for i,j in enumerate([2,2])}\n",
    "    in_leg_rep_dims2={(i,r):T_rep_dims[j,r] for r in {1,-1} for i,j in enumerate([4,4])}\n",
    "    P1=z2_tensor_product_to_sum(in_leg_rep_dims1)\n",
    "    P2=z2_tensor_product_to_sum(in_leg_rep_dims2)\n",
    "    wP1=z2_contract('ab,knb->akn',w[0],P1)\n",
    "    wP2=z2_contract('ab,knb->akn',w[1],P2)\n",
    "    \n",
    "    #Ta=z2_contract('akp,ijklmn->apijlmn',w1P,T1)\n",
    "    #Tb=z2_contract('blq,jopqrs->bljoprs',w1P,T2)\n",
    "    #T=z2_contract('apijlmn,bljoprs,cmr,dns->abcdio',Ta,Tb,w2P,w2P)\n",
    "    #Ta=z2_contract('akp,ijklmn->apijlmn',w1P,T1)\n",
    "    #Ta=z2_contract('apijlmn,cmr->apijlncr',Ta,w2P)\n",
    "    #Tb=z2_contract('blq,jopqrs->bljoprs',w1P,T2)\n",
    "    #T=z2_contract('apijlncr,bljoprs->aincbos',Ta,Tb)\n",
    "    #T=z2_contract('aincbos,dns->abcdio',T,w2P)\n",
    "    return z2_contract('ijklmn,jopqrs,akp,blq,cmr,dns->abcdio',T1,T2,wP1,wP1,wP2,wP2,optimize=[(0, 2), (0, 1), (0, 2), (1, 2), (0, 1)])\n",
    "\n",
    "def z2_HOTRG(T,max_dims):\n",
    "    TT1=z2_contract('ijkl,ipql->jpkq',T,T)\n",
    "    TT2=z2_contract('jmno,pmro->jpnr',T,T)\n",
    "    MM=z2_contract('jpkq,jpnr->knqr',TT1,TT2)\n",
    "    del TT1,TT2\n",
    "    \n",
    "    T_rep_dims=z2_get_rep_dims(T)\n",
    "    in_leg_rep_dims={(i,r):T_rep_dims[j,r] for r in {1,-1} for i,j in enumerate([2,2])}\n",
    "    P=z2_tensor_product_to_sum(in_leg_rep_dims)\n",
    "    MM=z2_contract('knqr,kna->qra',MM,P)\n",
    "    MM=z2_contract('qra,qrb->ab',MM,P)\n",
    "    w1={(1,1):HOTRG_get_isometry(MM[(1,1)],max_dims[0]),\n",
    "       (-1,-1):HOTRG_get_isometry(MM[(-1,-1)],max_dims[1])}\n",
    "    del MM,P\n",
    "    \n",
    "    T=z2_TRG(T,T,[w1])\n",
    "    return T,[w1]\n",
    "\n",
    "def z2_HOTRG3D(T,max_dims):\n",
    "    TT1=z2_contract('ijklmn,itulmn->jtku',T,T)\n",
    "    TT2=z2_contract('jopqrs,tovqrs->jtpv',T,T)\n",
    "    MM=z2_contract('jtku,jtpv->kpuv',TT1,TT2)\n",
    "    del TT1,TT2\n",
    "    \n",
    "    T_rep_dims=z2_get_rep_dims(T)\n",
    "    in_leg_rep_dims={(i,r):T_rep_dims[j,r] for r in {1,-1} for i,j in enumerate([2,2])}\n",
    "    P=z2_tensor_product_to_sum(in_leg_rep_dims)\n",
    "    MM=z2_contract('kpuv,kpa->uva',MM,P)\n",
    "    MM=z2_contract('uva,uvb->ab',MM,P)\n",
    "    w1={(1,1):HOTRG_get_isometry(MM[(1,1)],max_dims[0]),\n",
    "       (-1,-1):HOTRG_get_isometry(MM[(-1,-1)],max_dims[1])}\n",
    "    del MM,P\n",
    "    \n",
    "    TT1=z2_contract('ijklmn,itklun->jtmu',T,T)\n",
    "    TT2=z2_contract('jopqrs,topqvs->jtrv',T,T)\n",
    "    MM=z2_contract('jtmu,jtrv->mruv',TT1,TT2)\n",
    "    del TT1,TT2\n",
    "    \n",
    "    T_rep_dims=z2_get_rep_dims(T)\n",
    "    in_leg_rep_dims={(i,r):T_rep_dims[j,r] for r in {1,-1} for i,j in enumerate([4,4])}\n",
    "    P=z2_tensor_product_to_sum(in_leg_rep_dims)\n",
    "    MM=z2_contract('mruv,mra->uva',MM,P)\n",
    "    MM=z2_contract('uva,uvb->ab',MM,P)\n",
    "    w2={(1,1):HOTRG_get_isometry(MM[(1,1)],max_dims[0]),\n",
    "       (-1,-1):HOTRG_get_isometry(MM[(-1,-1)],max_dims[1])}\n",
    "    del MM,P\n",
    "    \n",
    "    T=z2_TRG3D(T,T,[w1,w2])\n",
    "    \n",
    "    return T,[w1,w2]\n",
    "\n",
    "# max_dim=12 Boom (might be okay if not cache T)\n",
    "def z2_calc_isometries_HOTRG(T,z2_HOTRG,max_dims,nLayers):\n",
    "    with torch.no_grad():\n",
    "        Ts,norms,ws,logZs=[z2_apply(lambda x:x.detach().cpu(),T)],[],[],[]\n",
    "        logTotal=0\n",
    "        contract_path='aabbccddeeff'[:len(next(iter(T.values())).shape)]+'->'\n",
    "        for layer in tqdm(range(nLayers), leave=False):\n",
    "            T,w=z2_HOTRG(T,max_dims)\n",
    "            norm=torch.sum(torch.stack([*z2_apply(lambda t:torch.linalg.norm(t)**2,T).values()]))**.5\n",
    "            T=z2_apply(lambda t:t/norm,T)\n",
    "            logTotal=2*logTotal+torch.log(norm)\n",
    "            Z=z2_contract(contract_path,T)[()]\n",
    "            Ts.append(z2_apply(lambda x:x.detach().cpu(),T))\n",
    "            norms.append(norm)\n",
    "            logZs.append((logTotal+torch.log(Z))/2.**(layer+1))\n",
    "            ws.append(w)\n",
    "        return Ts,norms,ws,logZs\n",
    "\n",
    "def z2_evolve_tensor(T_op,Ts,norms,ws,TRG,average=False,checkboard=False):\n",
    "    T_ops,M,M2=[z2_apply(lambda x:x.detach().cpu(),T_op)],[],[]\n",
    "    dim,device=len(next(iter(T_op.values())).shape)//2,next(iter(T_op.values())).device\n",
    "    contract_path1='aabbccddeeff'[:2*dim]+'->'\n",
    "    contract_path2='abccddeeffgg'[:2*dim]+','+'baCCDDEEFFGG'[:2*dim]+'->'\n",
    "    for layer in tqdm(range(len(ws)),leave=False):\n",
    "        T=z2_apply(lambda x:x.to(device),Ts[layer])\n",
    "        T2=TRG(T_op,T,ws[layer])\n",
    "        if average:\n",
    "            T3=TRG(T,T_op,ws[layer])\n",
    "            assert False\n",
    "            T2=z2_apply(lambda x,y:(x-y)/2,T2,T3) if checkboard and layer<dim else z2_apply(lambda x,y:(x+y)/2,T2,T3)\n",
    "        T=z2_apply(lambda x:x.to(device),Ts[layer+1])\n",
    "        T_op=z2_apply(lambda t:t/norms[layer],T2)\n",
    "        T_ops.append(z2_apply(lambda x:x.detach().cpu(),T_op))\n",
    "        M.append(z2_contract(contract_path1,T_op).get((),0)/z2_contract(contract_path1,T)[()])\n",
    "        M2.append(z2_contract(contract_path2,T_op,T_op).get((),0)/z2_contract(contract_path2,T,T)[()])\n",
    "    return T_ops,M,M2    \n",
    "\n",
    "#T0=Ising3D_T0(2,0)\n",
    "#z2_T0=Z2Tensor(T0,(1,1,1,1,1,1),tensor_rep=1)\n",
    "\n",
    "#torch.cuda.empty_cache()\n",
    "#with Timer():\n",
    "#    Ts,norms,ws,logZs=z2_calc_isometries_HOTRG(z2_T0,z2_HOTRG3D,max_dim=4,nLayers=30)\n",
    "#    print(logZs)\n",
    "#del Ts,ws,logZs\n",
    "#torch.cuda.empty_cache()\n",
    "\n",
    "#torch.cuda.empty_cache()\n",
    "#with Timer():\n",
    "#    Ts,ws,logZs=calc_isometries_HOTRG(T0,HOTRG3D,max_dim=12,nLayers=30) # max dim=12\n",
    "#    print(logZs)\n",
    "#del Ts,ws,logZs\n",
    "#torch.cuda.empty_cache()"
   ]
  },
  {
   "cell_type": "code",
   "execution_count": 74,
   "id": "4687d8c4",
   "metadata": {},
   "outputs": [],
   "source": [
    "import sympy"
   ]
  },
  {
   "cell_type": "code",
   "execution_count": 72,
   "id": "76618378",
   "metadata": {
    "scrolled": false
   },
   "outputs": [
    {
     "data": {
      "text/plain": [
       "tensor([[[[4.7622e+00, 1.9023e-16],\n",
       "          [1.9023e-16, 3.6269e+00]],\n",
       "\n",
       "         [[1.9023e-16, 3.6269e+00],\n",
       "          [3.6269e+00, 7.1938e-17]]],\n",
       "\n",
       "\n",
       "        [[[1.9023e-16, 3.6269e+00],\n",
       "          [3.6269e+00, 7.1938e-17]],\n",
       "\n",
       "         [[3.6269e+00, 7.1938e-17],\n",
       "          [7.1938e-17, 2.7622e+00]]]])"
      ]
     },
     "metadata": {},
     "output_type": "display_data"
    },
    {
     "data": {
      "text/plain": [
       "{(1, 1, 1, 1): tensor([[[[4.7622]]]]),\n",
       " (1, 1, -1, -1): tensor([[[[3.6269]]]]),\n",
       " (1, -1, 1, -1): tensor([[[[3.6269]]]]),\n",
       " (1, -1, -1, 1): tensor([[[[3.6269]]]]),\n",
       " (-1, 1, 1, -1): tensor([[[[3.6269]]]]),\n",
       " (-1, 1, -1, 1): tensor([[[[3.6269]]]]),\n",
       " (-1, -1, 1, 1): tensor([[[[3.6269]]]]),\n",
       " (-1, -1, -1, -1): tensor([[[[2.7622]]]])}"
      ]
     },
     "metadata": {},
     "output_type": "display_data"
    },
    {
     "data": {
      "application/vnd.jupyter.widget-view+json": {
       "model_id": "",
       "version_major": 2,
       "version_minor": 0
      },
      "text/plain": [
       "  0%|          | 0/5 [00:00<?, ?it/s]"
      ]
     },
     "metadata": {},
     "output_type": "display_data"
    },
    {
     "data": {
      "text/plain": [
       "{(1, -1, -1, 1): tensor([[[[3.6269]]]], device='cpu'),\n",
       " (-1, 1, 1, -1): tensor([[[[3.6269]]]], device='cpu'),\n",
       " (1, -1, 1, -1): tensor([[[[3.6269]]]], device='cpu'),\n",
       " (-1, -1, -1, -1): tensor([[[[2.7622]]]], device='cpu'),\n",
       " (-1, -1, 1, 1): tensor([[[[3.6269]]]], device='cpu'),\n",
       " (-1, 1, -1, 1): tensor([[[[3.6269]]]], device='cpu'),\n",
       " (1, 1, 1, 1): tensor([[[[4.7622]]]], device='cpu'),\n",
       " (1, 1, -1, -1): tensor([[[[3.6269]]]], device='cpu')}"
      ]
     },
     "metadata": {},
     "output_type": "display_data"
    },
    {
     "data": {
      "text/plain": [
       "{(1, -1, -1, 1): tensor([[[[-0.3500]]]], device='cpu'),\n",
       " (-1, 1, 1, -1): tensor([[[[-0.3500]]]], device='cpu'),\n",
       " (-1, -1, -1, -1): tensor([[[[0.2999]]]], device='cpu'),\n",
       " (1, -1, 1, -1): tensor([[[[-0.3500]]]], device='cpu'),\n",
       " (-1, -1, 1, 1): tensor([[[[0.3938]]]], device='cpu'),\n",
       " (-1, 1, -1, 1): tensor([[[[-0.3500]]]], device='cpu'),\n",
       " (1, 1, 1, 1): tensor([[[[0.4126]]]], device='cpu'),\n",
       " (1, 1, -1, -1): tensor([[[[0.3079]]]], device='cpu')}"
      ]
     },
     "metadata": {},
     "output_type": "display_data"
    },
    {
     "data": {
      "text/plain": [
       "{(1, -1, -1, 1): tensor([[[[0.3534]]]], device='cpu'),\n",
       " (-1, 1, 1, -1): tensor([[[[0.3534]]]], device='cpu'),\n",
       " (-1, -1, -1, -1): tensor([[[[0.3402]]]], device='cpu'),\n",
       " (1, -1, 1, -1): tensor([[[[0.3534]]]], device='cpu'),\n",
       " (-1, -1, 1, 1): tensor([[[[0.3529]]]], device='cpu'),\n",
       " (-1, 1, -1, 1): tensor([[[[0.3534]]]], device='cpu'),\n",
       " (1, 1, 1, 1): tensor([[[[0.3686]]]], device='cpu'),\n",
       " (1, 1, -1, -1): tensor([[[[0.3524]]]], device='cpu')}"
      ]
     },
     "metadata": {},
     "output_type": "display_data"
    },
    {
     "data": {
      "text/plain": [
       "{(1, -1, -1, 1): tensor([[[[-0.3535]]]], device='cpu'),\n",
       " (-1, 1, 1, -1): tensor([[[[-0.3535]]]], device='cpu'),\n",
       " (-1, -1, -1, -1): tensor([[[[0.3464]]]], device='cpu'),\n",
       " (1, -1, 1, -1): tensor([[[[-0.3535]]]], device='cpu'),\n",
       " (-1, -1, 1, 1): tensor([[[[0.3604]]]], device='cpu'),\n",
       " (-1, 1, -1, 1): tensor([[[[-0.3535]]]], device='cpu'),\n",
       " (1, 1, 1, 1): tensor([[[[0.3608]]]], device='cpu'),\n",
       " (1, 1, -1, -1): tensor([[[[0.3466]]]], device='cpu')}"
      ]
     },
     "metadata": {},
     "output_type": "display_data"
    },
    {
     "data": {
      "text/plain": [
       "{(1, -1, -1, 1): tensor([[[[0.3536]]]], device='cpu'),\n",
       " (-1, 1, 1, -1): tensor([[[[0.3536]]]], device='cpu'),\n",
       " (-1, -1, -1, -1): tensor([[[[0.3533]]]], device='cpu'),\n",
       " (1, -1, 1, -1): tensor([[[[0.3536]]]], device='cpu'),\n",
       " (-1, -1, 1, 1): tensor([[[[0.3536]]]], device='cpu'),\n",
       " (-1, 1, -1, 1): tensor([[[[0.3536]]]], device='cpu'),\n",
       " (1, 1, 1, 1): tensor([[[[0.3538]]]], device='cpu'),\n",
       " (1, 1, -1, -1): tensor([[[[0.3535]]]], device='cpu')}"
      ]
     },
     "metadata": {},
     "output_type": "display_data"
    },
    {
     "data": {
      "text/plain": [
       "{(1, -1, -1, 1): tensor([[[[-0.3536]]]], device='cpu'),\n",
       " (-1, 1, 1, -1): tensor([[[[-0.3536]]]], device='cpu'),\n",
       " (-1, -1, -1, -1): tensor([[[[0.3534]]]], device='cpu'),\n",
       " (1, -1, 1, -1): tensor([[[[-0.3536]]]], device='cpu'),\n",
       " (-1, -1, 1, 1): tensor([[[[0.3537]]]], device='cpu'),\n",
       " (-1, 1, -1, 1): tensor([[[[-0.3536]]]], device='cpu'),\n",
       " (1, 1, 1, 1): tensor([[[[0.3537]]]], device='cpu'),\n",
       " (1, 1, -1, -1): tensor([[[[0.3534]]]], device='cpu')}"
      ]
     },
     "metadata": {},
     "output_type": "display_data"
    }
   ],
   "source": [
    "display(Ising_T0(1,0))\n",
    "T0=Z2Tensor(Ising_T0(1,0),(1,)*4,tensor_rep=1)\n",
    "display(T0)\n",
    "Ts,norms,ws,logZs=z2_calc_isometries_HOTRG(T0,z2_HOTRG,max_dims=[1,1],nLayers=5)\n",
    "for T in Ts:\n",
    "    display(T)"
   ]
  },
  {
   "cell_type": "code",
   "execution_count": null,
   "id": "50333303",
   "metadata": {},
   "outputs": [],
   "source": []
  },
  {
   "cell_type": "code",
   "execution_count": null,
   "id": "c22032a0",
   "metadata": {},
   "outputs": [],
   "source": [
    "import pandas as pd\n",
    "from tqdm.auto import tqdm\n",
    "\n",
    "experiment_name='HOTRG Z2 AKLT3D'\n",
    "max_dim=(4,4)\n",
    "nLayers=30\n",
    "HOTRG_degeneracy_threshold=1e-3\n",
    "\n",
    "curve=pd.DataFrame()\n",
    "a1=AKLT3D_default_params['a1']\n",
    "a2=AKLT3D_default_params['a2']\n",
    "for a3 in tqdm(np.linspace(4,4.5,11)):\n",
    "    with torch.no_grad():\n",
    "        T0=Z2Tensor(AKLT3D_T0(a1,a2,a3),(3,)*6,tensor_rep=1)\n",
    "        Ts,norms,ws,logZs=z2_calc_isometries_HOTRG(T0,z2_HOTRG3D,max_dims=max_dim,nLayers=nLayers)\n",
    "        newRow={'a1':a1,'a2':a2,'a3':a3,'logZ':logZs[-1]}\n",
    "        \n",
    "        for axis,axisName in enumerate(['X','Y','Z']):\n",
    "            T0_op=Z2Tensor(AKLT3D_ST0(a1,a2,a3,axis),(3,)*6,tensor_rep=[1,-1,1][axis])\n",
    "            T_ops,M,M2=z2_evolve_tensor(T0_op,Ts,norms,ws,z2_TRG3D,checkboard=True,average=False)\n",
    "            \n",
    "            newRow[f'M{axisName}']=M[-1]\n",
    "            newRow[f'sqrtM2{axisName}']=torch.sqrt(torch.abs(M2[-1]))*torch.sign(M2[-1])\n",
    "        \n",
    "        newRow={k:_toN(v) for k,v in newRow.items()}\n",
    "        curve=curve.append(newRow,ignore_index=True)\n",
    "        curve.to_pickle(experiment_name+'.curve')\n",
    "        curve.to_csv(experiment_name+'.curve.csv')\n",
    "    \n"
   ]
  },
  {
   "cell_type": "code",
   "execution_count": 3,
   "id": "162aaef9",
   "metadata": {},
   "outputs": [
    {
     "data": {
      "image/png": "[encoded data removed]",
      "text/plain": [
       "<Figure size 432x288 with 1 Axes>"
      ]
     },
     "metadata": {
      "needs_background": "light"
     },
     "output_type": "display_data"
    },
    {
     "data": {
      "image/png": "[encoded data removed]",
      "text/plain": [
       "<Figure size 432x288 with 1 Axes>"
      ]
     },
     "metadata": {
      "needs_background": "light"
     },
     "output_type": "display_data"
    }
   ],
   "source": [
    "import matplotlib.pyplot as plt\n",
    "import pandas as pd\n",
    "import numpy as np\n",
    "ls=['.-','.--','.-.','.:']*100\n",
    "\n",
    "curve=pd.read_pickle(experiment_name+'.curve')\n",
    "\n",
    "plt.suptitle(f'{experiment_name} max_dim={max_dim},nLayers={nLayers},deg_th={HOTRG_degeneracy_threshold}')\n",
    "for i,label in enumerate(['logZ']):\n",
    "    plt.plot(curve['a3'],np.abs(curve[label]),ls[i],label=label,alpha=.5)\n",
    "plt.legend()\n",
    "plt.show()\n",
    "\n",
    "plt.suptitle(f'{experiment_name} max_dim={max_dim},nLayers={nLayers},deg_th={HOTRG_degeneracy_threshold}')\n",
    "for axis,axisName in enumerate(['X','Y','Z']):\n",
    "    for i,label in enumerate([f'sqrtM2{axisName}']):\n",
    "        plt.plot(curve['a3'],curve[label],ls[axis+1],label=label,alpha=.5)\n",
    "plt.legend()\n",
    "plt.show()\n"
   ]
  },
  {
   "cell_type": "code",
   "execution_count": null,
   "id": "c7916cf1",
   "metadata": {},
   "outputs": [],
   "source": []
  }
 ],
 "metadata": {
  "kernelspec": {
   "display_name": "firstEnv",
   "language": "python",
   "name": "firstenv"
  },
  "language_info": {
   "codemirror_mode": {
    "name": "ipython",
    "version": 3
   },
   "file_extension": ".py",
   "mimetype": "text/x-python",
   "name": "python",
   "nbconvert_exporter": "python",
   "pygments_lexer": "ipython3",
   "version": "3.9.7"
  }
 },
 "nbformat": 4,
 "nbformat_minor": 5
}
