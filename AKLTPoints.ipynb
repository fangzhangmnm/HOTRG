{
 "cells": [
  {
   "cell_type": "code",
   "execution_count": 225,
   "id": "a925e497",
   "metadata": {},
   "outputs": [],
   "source": [
    "import torch\n",
    "def _toN(t):\n",
    "    return t.detach().cpu().numpy()\n",
    "torch.set_default_tensor_type(torch.cuda.FloatTensor)"
   ]
  },
  {
   "cell_type": "code",
   "execution_count": 226,
   "id": "8164c326",
   "metadata": {},
   "outputs": [],
   "source": [
    "import importlib\n",
    "import HOTRGZ2,TNModels,DHOTRG,utils,ScalingDimensions\n",
    "importlib.reload(HOTRGZ2)\n",
    "importlib.reload(TNModels)\n",
    "importlib.reload(DHOTRG)\n",
    "importlib.reload(utils)\n",
    "importlib.reload(ScalingDimensions)\n",
    "from HOTRGZ2 import *\n",
    "from TNModels import *\n",
    "from DHOTRG import *\n",
    "from utils import *\n",
    "from ScalingDimensions import *"
   ]
  },
  {
   "cell_type": "code",
   "execution_count": 227,
   "id": "c6c8d402",
   "metadata": {},
   "outputs": [
    {
     "data": {
      "text/plain": [
       "{'Ising2D': TNModels.Ising2D,\n",
       " 'Ising3D': TNModels.Ising3D,\n",
       " 'AKLT2D': TNModels.AKLT2D,\n",
       " 'AKLT3D': TNModels.AKLT3D,\n",
       " 'AKLTHoneycomb': TNModels.AKLTHoneycomb,\n",
       " 'AKLTDiamond': TNModels.AKLTDiamond,\n",
       " 'AKLTSinglyDecoratedDiamond': TNModels.AKLTSinglyDecoratedDiamond}"
      ]
     },
     "execution_count": 227,
     "metadata": {},
     "output_type": "execute_result"
    }
   ],
   "source": [
    "Models"
   ]
  },
  {
   "cell_type": "code",
   "execution_count": 228,
   "id": "569cf3ef",
   "metadata": {},
   "outputs": [
    {
     "data": {
      "application/vnd.jupyter.widget-view+json": {
       "model_id": "",
       "version_major": 2,
       "version_minor": 0
      },
      "text/plain": [
       "  0%|          | 0/30 [00:00<?, ?it/s]"
      ]
     },
     "metadata": {},
     "output_type": "display_data"
    }
   ],
   "source": [
    "options={\n",
    "    'nLayers':30,\n",
    "    'max_dim':6,\n",
    "    'Z2':False,\n",
    "}\n",
    "model=AKLT2D()\n",
    "checkboard=True\n",
    "T0,dimR0=model.get_T0(),model.get_dimR(Z2=options['Z2'])\n",
    "\n",
    "T0=project_Z2(T0,dimR0)\n",
    "\n",
    "isometries,dimRs,Ts=calc_isometries(T0,dimR0,max_dim=options['max_dim'],nLayers=options['nLayers'],return_tensors=True)\n"
   ]
  },
  {
   "cell_type": "code",
   "execution_count": 229,
   "id": "f0d0ad9d",
   "metadata": {
    "scrolled": false
   },
   "outputs": [
    {
     "ename": "AttributeError",
     "evalue": "'Ising2D' object has no attribute 'get_ST0'",
     "output_type": "error",
     "traceback": [
      "\u001b[0;31m---------------------------------------------------------------------------\u001b[0m",
      "\u001b[0;31mAttributeError\u001b[0m                            Traceback (most recent call last)",
      "\u001b[0;32m/tmp/ipykernel_734690/2101721549.py\u001b[0m in \u001b[0;36m<module>\u001b[0;34m\u001b[0m\n\u001b[1;32m      2\u001b[0m \u001b[0mSdotSEuc\u001b[0m\u001b[0;34m=\u001b[0m\u001b[0;36m0\u001b[0m\u001b[0;34m\u001b[0m\u001b[0;34m\u001b[0m\u001b[0m\n\u001b[1;32m      3\u001b[0m \u001b[0;32mfor\u001b[0m \u001b[0maxis\u001b[0m \u001b[0;32min\u001b[0m \u001b[0mrange\u001b[0m\u001b[0;34m(\u001b[0m\u001b[0;36m3\u001b[0m\u001b[0;34m)\u001b[0m\u001b[0;34m:\u001b[0m\u001b[0;34m\u001b[0m\u001b[0;34m\u001b[0m\u001b[0m\n\u001b[0;32m----> 4\u001b[0;31m     \u001b[0mT_op0\u001b[0m\u001b[0;34m=\u001b[0m\u001b[0mmodel\u001b[0m\u001b[0;34m.\u001b[0m\u001b[0mget_ST0\u001b[0m\u001b[0;34m(\u001b[0m\u001b[0maxis\u001b[0m\u001b[0;34m)\u001b[0m\u001b[0;34m;\u001b[0m\u001b[0;31m#T_op0[T_op0.abs()<1e-6]=0\u001b[0m\u001b[0;34m\u001b[0m\u001b[0;34m\u001b[0m\u001b[0m\n\u001b[0m\u001b[1;32m      5\u001b[0m     \u001b[0mTs\u001b[0m\u001b[0;34m,\u001b[0m\u001b[0mT_ops\u001b[0m\u001b[0;34m,\u001b[0m\u001b[0mlogTotals\u001b[0m\u001b[0;34m=\u001b[0m\u001b[0mforward_observable_tensor\u001b[0m\u001b[0;34m(\u001b[0m\u001b[0mT0\u001b[0m\u001b[0;34m,\u001b[0m\u001b[0mT_op0\u001b[0m\u001b[0;34m,\u001b[0m\u001b[0misometries\u001b[0m\u001b[0;34m,\u001b[0m\u001b[0mdimRs\u001b[0m\u001b[0;34m,\u001b[0m\u001b[0mcheckboard\u001b[0m\u001b[0;34m=\u001b[0m\u001b[0mcheckboard\u001b[0m\u001b[0;34m,\u001b[0m\u001b[0mreturn_layers\u001b[0m\u001b[0;34m=\u001b[0m\u001b[0;32mTrue\u001b[0m\u001b[0;34m)\u001b[0m\u001b[0;34m\u001b[0m\u001b[0;34m\u001b[0m\u001b[0m\n\u001b[1;32m      6\u001b[0m \u001b[0;34m\u001b[0m\u001b[0m\n",
      "\u001b[0;31mAttributeError\u001b[0m: 'Ising2D' object has no attribute 'get_ST0'"
     ]
    }
   ],
   "source": [
    "\n",
    "\n",
    "SdotS=0\n",
    "SdotSEuc=0\n",
    "for axis in range(3):\n",
    "    T_op0=model.get_ST0(axis);#T_op0[T_op0.abs()<1e-6]=0\n",
    "    Ts,T_ops,logTotals=forward_observable_tensor(T0,T_op0,isometries,dimRs,checkboard=checkboard,return_layers=True)\n",
    "\n",
    "    \n",
    "    T,T_op=Ts[-1],T_ops[-1]\n",
    "    magnetization_squared=_toN((trace_two_tensors(T_op)/trace_two_tensors(T)))\n",
    "    magnetization1=_toN(torch.abs(trace_tensor(T_op)/trace_tensor(T)))\n",
    "    SdotS+=magnetization_squared\n",
    "    SdotSEuc+=np.abs(magnetization_squared)\n",
    "    magnetization=np.abs(magnetization_squared)**.5*{1:1,-1:1j}[np.sign(magnetization_squared)]\n",
    "    print(magnetization,magnetization1)\n",
    "print(SdotSEuc,SdotS)\n",
    "\n"
   ]
  },
  {
   "cell_type": "markdown",
   "id": "e7bc9b8a",
   "metadata": {},
   "source": [
    "- AKLT2D->\n",
    "- AKLTHoneycomb->\n",
    "- AKLT3D->(0.02728337088698606,1.908337497567821j,0.44629473859987956)(6,30,True)\n",
    "- AKLT3D->(0.4472143485315358,1.9082477919661858j,8.083704015909316e-05)(6,30,False)\n",
    "- AKLT3D->(0.03003317044248835,0.86271680097394j,1.7354798105879463)(7,30,True)\n",
    "- AKLT3D->(0.9265890339595024,2.061316264711383e-06j,1.6733871466632573)(7,30,False)\n",
    "\n",
    "- AKLTSinglyDecoratedDiamond->(1.900183449178995e-09,4.8115579207886e-10j,6.2657771960345844e-09)(6,30,True)\n",
    "- AKLTDiamond->(1.3150400175641232e-07,2.685106073896534e-08j,3.7358066177676224e-06)(6,30,True)"
   ]
  },
  {
   "cell_type": "code",
   "execution_count": null,
   "id": "7f4cc8f6",
   "metadata": {},
   "outputs": [],
   "source": []
  }
 ],
 "metadata": {
  "kernelspec": {
   "display_name": "firstEnv",
   "language": "python",
   "name": "firstenv"
  },
  "language_info": {
   "codemirror_mode": {
    "name": "ipython",
    "version": 3
   },
   "file_extension": ".py",
   "mimetype": "text/x-python",
   "name": "python",
   "nbconvert_exporter": "python",
   "pygments_lexer": "ipython3",
   "version": "3.9.7"
  }
 },
 "nbformat": 4,
 "nbformat_minor": 5
}
