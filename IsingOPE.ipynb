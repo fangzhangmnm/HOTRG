{
 "cells": [
  {
   "cell_type": "code",
   "execution_count": 3,
   "id": "661b7b71",
   "metadata": {},
   "outputs": [],
   "source": [
    "import sympy as sy"
   ]
  },
  {
   "cell_type": "code",
   "execution_count": 8,
   "id": "a0b99579",
   "metadata": {},
   "outputs": [],
   "source": [
    "x,y,z,w=sy.symbols('x y z w')"
   ]
  },
  {
   "cell_type": "code",
   "execution_count": 9,
   "id": "07585b5e",
   "metadata": {},
   "outputs": [],
   "source": [
    "zinv,winv=z/(z**2+w**2),w/(z**2+w**2)"
   ]
  },
  {
   "cell_type": "code",
   "execution_count": 32,
   "id": "ccbd82cd",
   "metadata": {},
   "outputs": [
    {
     "data": {
      "text/latex": [
       "$\\displaystyle \\frac{0.5 \\left(x^{2}\\right)^{0.375}}{\\sqrt{z^{2}} \\sqrt{\\left(- x + z\\right)^{2}}}$"
      ],
      "text/plain": [
       "0.5*(x**2)**0.375/(sqrt(z**2)*sqrt((-x + z)**2))"
      ]
     },
     "execution_count": 32,
     "metadata": {},
     "output_type": "execute_result"
    }
   ],
   "source": [
    "def dist(x,y):\n",
    "    return sp.sqrt(x**2+y**2)\n",
    "def inv(x,y):\n",
    "    return x/dist(x,y)**2,y/dist(x,y)**2\n",
    "def corr_sse(x,y,z,w):\n",
    "    return 1/2*dist(x,y)**(3/4)/dist(z,w)/dist(z-x,w-y)\n",
    "corr_sse(x,0,z,0)"
   ]
  },
  {
   "cell_type": "code",
   "execution_count": 34,
   "id": "3a231adf",
   "metadata": {
    "scrolled": true
   },
   "outputs": [
    {
     "data": {
      "text/latex": [
       "$\\displaystyle \\frac{0.5 \\left(x^{2}\\right)^{0.375}}{z^{2} \\sqrt{\\frac{1}{z^{2}}} \\sqrt{\\left(- x + \\frac{1}{z}\\right)^{2}}}$"
      ],
      "text/plain": [
       "0.5*(x**2)**0.375/(z**2*sqrt(z**(-2))*sqrt((-x + 1/z)**2))"
      ]
     },
     "execution_count": 34,
     "metadata": {},
     "output_type": "execute_result"
    }
   ],
   "source": [
    "def ope_sse(x,y,z,w):\n",
    "    return dist(z,w)**-2*corr_sse(x,y,*inv(z,w))\n",
    "ope_sse(x,0,z,0)"
   ]
  },
  {
   "cell_type": "code",
   "execution_count": 44,
   "id": "79ffb5e7",
   "metadata": {},
   "outputs": [
    {
     "data": {
      "text/latex": [
       "$\\displaystyle - \\frac{3 x^{3} \\left(x^{2}\\right)^{\\frac{3}{8}}}{2}$"
      ],
      "text/plain": [
       "-3*x**3*(x**2)**(3/8)/2"
      ]
     },
     "execution_count": 44,
     "metadata": {},
     "output_type": "execute_result"
    }
   ],
   "source": [
    "ope_sse(x,0,z,w).diff(z,w,w).limit(z,0).limit(w,0)"
   ]
  },
  {
   "cell_type": "code",
   "execution_count": null,
   "id": "120a4ddf",
   "metadata": {},
   "outputs": [],
   "source": []
  }
 ],
 "metadata": {
  "kernelspec": {
   "display_name": "tensorflow2",
   "language": "python",
   "name": "tensorflow2"
  },
  "language_info": {
   "codemirror_mode": {
    "name": "ipython",
    "version": 3
   },
   "file_extension": ".py",
   "mimetype": "text/x-python",
   "name": "python",
   "nbconvert_exporter": "python",
   "pygments_lexer": "ipython3",
   "version": "3.9.15"
  }
 },
 "nbformat": 4,
 "nbformat_minor": 5
}
