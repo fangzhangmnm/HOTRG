{
 "cells": [
  {
   "cell_type": "code",
   "execution_count": 3,
   "metadata": {},
   "outputs": [],
   "source": [
    "from opt_einsum import contract\n",
    "import torch\n",
    "torch.set_default_tensor_type(torch.cuda.DoubleTensor)\n",
    "device=torch.device('cuda:1')\n",
    "torch.cuda.set_device(device)\n",
    "import numpy as np\n",
    "from tqdm.auto import tqdm\n",
    "import pandas as pd \n",
    "import matplotlib.pyplot as plt"
   ]
  },
  {
   "cell_type": "code",
   "execution_count": 4,
   "metadata": {},
   "outputs": [],
   "source": [
    "from TNModels import Ising3D"
   ]
  },
  {
   "cell_type": "code",
   "execution_count": 5,
   "metadata": {},
   "outputs": [],
   "source": [
    "model=Ising3D(Ising3D.get_default_params())\n",
    "T0=model.get_T0()\n",
    "T0_op,checkerboard=model.get_observables()['magnetization']"
   ]
  },
  {
   "cell_type": "code",
   "execution_count": 6,
   "metadata": {},
   "outputs": [],
   "source": [
    "from HOSVD import _HOSVD_layer_3D,gauge_invariant_norm\n",
    "from HOTRGZ2 import HOTRG_layers,trace_tensor,_forward_layer,forward_observable_tensor,trace_two_tensors\n",
    "\n",
    "def _XTRG_layer_3D(Ta,Tb,max_dim):\n",
    "    Tn,layer=_HOSVD_layer_3D(Ta,Tb,max_dim=max_dim)\n",
    "    Tn=contract('abcdio->ioabcd',Tn)\n",
    "    return Tn,layer\n",
    "\n",
    "def _forward_XTRG_layer_3D(Ta,Tb,layer):\n",
    "    T=_forward_layer(Ta,Tb,layer)\n",
    "    T=contract('abcdio->ioabcd',T)\n",
    "    return T\n",
    "\n",
    "\n",
    "def XTRG_layers(T0,max_dim,nLayers,return_tensors=False):\n",
    "    T,logTotal=T0,0\n",
    "    Ts,logTotals=[T],[0]\n",
    "    layers=[]\n",
    "    print('Generating XTRG layers')\n",
    "    for i in tqdm(list(range(nLayers)),leave=False):\n",
    "        norm=gauge_invariant_norm(T)\n",
    "        T=T/norm\n",
    "        logTotal=2*(logTotal+norm.log())\n",
    "\n",
    "        T,layer=_XTRG_layer_3D(T,T,max_dim=max_dim)\n",
    "\n",
    "        layers.append(layer)\n",
    "        Ts.append(T);logTotals.append(logTotal)\n",
    "    print('XTRG layers generated')\n",
    "    return (layers,Ts,logTotals) if return_tensors else layers\n",
    "\n",
    "def partial_trace_XTRG_tensor(T):\n",
    "    return contract('aaijkl->ijkl',T)\n",
    "\n",
    "def forward_XTRG_observable_tensor(T0,T0_op,layers,checkerboard=False,\n",
    "                                   return_layers=False,cached_Ts=None):\n",
    "    T,logTotal=T0,0\n",
    "    T_op=T0_op\n",
    "    if return_layers:\n",
    "        Ts,logTotals=[T],[0]\n",
    "        T_ops=[T_op]\n",
    "    for iLayer,layer in tqdm(enumerate(layers),leave=False):\n",
    "        norm=gauge_invariant_norm(T)\n",
    "        T,T_op=T/norm,T_op/norm\n",
    "        logTotal=2*(logTotal+norm.log())\n",
    "\n",
    "        if cached_Ts:\n",
    "            T1=cached_Ts[iLayer+1]\n",
    "        else:\n",
    "            T1=_forward_XTRG_layer_3D(T,T,layer)\n",
    "        T2=_forward_XTRG_layer_3D(T,T_op,layer)\n",
    "        T3=_forward_XTRG_layer_3D(T_op,T,layer)\n",
    "        T3=-T3 if checkerboard and iLayer==0 else T3\n",
    "        T,T_op=T1,(T2+T3)/2\n",
    "        if return_layers:\n",
    "            Ts.append(T);logTotals.append(logTotal)\n",
    "            T_ops.append(T_op)\n",
    "    return (Ts,T_ops,logTotals) if return_layers else (T,T_op,logTotal)\n"
   ]
  },
  {
   "cell_type": "code",
   "execution_count": null,
   "metadata": {},
   "outputs": [],
   "source": []
  },
  {
   "cell_type": "code",
   "execution_count": 12,
   "metadata": {},
   "outputs": [
    {
     "name": "stdout",
     "output_type": "stream",
     "text": [
      "Generating XTRG layers\n"
     ]
    },
    {
     "data": {
      "application/vnd.jupyter.widget-view+json": {
       "model_id": "42678ad2aed24e64a4882cdfcf5847f7",
       "version_major": 2,
       "version_minor": 0
      },
      "text/plain": [
       "  0%|          | 0/10 [00:00<?, ?it/s]"
      ]
     },
     "metadata": {},
     "output_type": "display_data"
    },
    {
     "name": "stdout",
     "output_type": "stream",
     "text": [
      "XTRG layers generated\n"
     ]
    },
    {
     "data": {
      "application/vnd.jupyter.widget-view+json": {
       "model_id": "1d6dd68c084441cf89a30bfbd53c7cb5",
       "version_major": 2,
       "version_minor": 0
      },
      "text/plain": [
       "0it [00:00, ?it/s]"
      ]
     },
     "metadata": {},
     "output_type": "display_data"
    },
    {
     "name": "stdout",
     "output_type": "stream",
     "text": [
      "Generating HOTRG layers\n"
     ]
    },
    {
     "data": {
      "application/vnd.jupyter.widget-view+json": {
       "model_id": "233abfcc0d3946a6b2c06b25b86548e2",
       "version_major": 2,
       "version_minor": 0
      },
      "text/plain": [
       "  0%|          | 0/20 [00:00<?, ?it/s]"
      ]
     },
     "metadata": {},
     "output_type": "display_data"
    },
    {
     "name": "stdout",
     "output_type": "stream",
     "text": [
      "HOTRG layers generated\n"
     ]
    },
    {
     "data": {
      "application/vnd.jupyter.widget-view+json": {
       "model_id": "e58ffe63a0494dce816a956874683b50",
       "version_major": 2,
       "version_minor": 0
      },
      "text/plain": [
       "0it [00:00, ?it/s]"
      ]
     },
     "metadata": {},
     "output_type": "display_data"
    },
    {
     "data": {
      "application/vnd.jupyter.widget-view+json": {
       "model_id": "275e405e969b463b81fedfdd64eba55b",
       "version_major": 2,
       "version_minor": 0
      },
      "text/plain": [
       "  0%|          | 0/20 [00:00<?, ?it/s]"
      ]
     },
     "metadata": {},
     "output_type": "display_data"
    },
    {
     "name": "stdout",
     "output_type": "stream",
     "text": [
      "beta= 0.24 logTotal= 0.7862322705020336 magnetization= 0.018578197833302668\n",
      "Generating XTRG layers\n"
     ]
    },
    {
     "data": {
      "application/vnd.jupyter.widget-view+json": {
       "model_id": "d31da4b96d5c41f5a360698f6fb7d050",
       "version_major": 2,
       "version_minor": 0
      },
      "text/plain": [
       "  0%|          | 0/10 [00:00<?, ?it/s]"
      ]
     },
     "metadata": {},
     "output_type": "display_data"
    },
    {
     "name": "stdout",
     "output_type": "stream",
     "text": [
      "XTRG layers generated\n"
     ]
    },
    {
     "data": {
      "application/vnd.jupyter.widget-view+json": {
       "model_id": "95495fa3e0eb431fb74924723830d181",
       "version_major": 2,
       "version_minor": 0
      },
      "text/plain": [
       "0it [00:00, ?it/s]"
      ]
     },
     "metadata": {},
     "output_type": "display_data"
    },
    {
     "name": "stdout",
     "output_type": "stream",
     "text": [
      "Generating HOTRG layers\n"
     ]
    },
    {
     "data": {
      "application/vnd.jupyter.widget-view+json": {
       "model_id": "d75ebdb3048448c1ae60bf574a46eca8",
       "version_major": 2,
       "version_minor": 0
      },
      "text/plain": [
       "  0%|          | 0/20 [00:00<?, ?it/s]"
      ]
     },
     "metadata": {},
     "output_type": "display_data"
    },
    {
     "name": "stdout",
     "output_type": "stream",
     "text": [
      "HOTRG layers generated\n"
     ]
    },
    {
     "data": {
      "application/vnd.jupyter.widget-view+json": {
       "model_id": "2bd06268e93d421da03b45275a59f28c",
       "version_major": 2,
       "version_minor": 0
      },
      "text/plain": [
       "0it [00:00, ?it/s]"
      ]
     },
     "metadata": {},
     "output_type": "display_data"
    },
    {
     "data": {
      "application/vnd.jupyter.widget-view+json": {
       "model_id": "1a3a2b03aaaa465d8ebd517b0836100e",
       "version_major": 2,
       "version_minor": 0
      },
      "text/plain": [
       "  0%|          | 0/20 [00:00<?, ?it/s]"
      ]
     },
     "metadata": {},
     "output_type": "display_data"
    },
    {
     "name": "stdout",
     "output_type": "stream",
     "text": [
      "beta= 0.244 logTotal= 0.7896534811555743 magnetization= 0.017934286278473915\n",
      "Generating XTRG layers\n"
     ]
    },
    {
     "data": {
      "application/vnd.jupyter.widget-view+json": {
       "model_id": "095c0e264a004624a65e3da65fb1ef49",
       "version_major": 2,
       "version_minor": 0
      },
      "text/plain": [
       "  0%|          | 0/10 [00:00<?, ?it/s]"
      ]
     },
     "metadata": {},
     "output_type": "display_data"
    },
    {
     "name": "stdout",
     "output_type": "stream",
     "text": [
      "XTRG layers generated\n"
     ]
    },
    {
     "data": {
      "application/vnd.jupyter.widget-view+json": {
       "model_id": "396dffe4b45346d29a6e68470aa934ae",
       "version_major": 2,
       "version_minor": 0
      },
      "text/plain": [
       "0it [00:00, ?it/s]"
      ]
     },
     "metadata": {},
     "output_type": "display_data"
    },
    {
     "name": "stdout",
     "output_type": "stream",
     "text": [
      "Generating HOTRG layers\n"
     ]
    },
    {
     "data": {
      "application/vnd.jupyter.widget-view+json": {
       "model_id": "7190f708edba4594981a791e94f4c955",
       "version_major": 2,
       "version_minor": 0
      },
      "text/plain": [
       "  0%|          | 0/20 [00:00<?, ?it/s]"
      ]
     },
     "metadata": {},
     "output_type": "display_data"
    },
    {
     "name": "stdout",
     "output_type": "stream",
     "text": [
      "HOTRG layers generated\n"
     ]
    },
    {
     "data": {
      "application/vnd.jupyter.widget-view+json": {
       "model_id": "40f413a9937d4ac1bca859ceaabbe752",
       "version_major": 2,
       "version_minor": 0
      },
      "text/plain": [
       "0it [00:00, ?it/s]"
      ]
     },
     "metadata": {},
     "output_type": "display_data"
    },
    {
     "data": {
      "application/vnd.jupyter.widget-view+json": {
       "model_id": "bd33a16c07c0408ea6ad5822460b2c54",
       "version_major": 2,
       "version_minor": 0
      },
      "text/plain": [
       "  0%|          | 0/20 [00:00<?, ?it/s]"
      ]
     },
     "metadata": {},
     "output_type": "display_data"
    },
    {
     "name": "stdout",
     "output_type": "stream",
     "text": [
      "beta= 0.248 logTotal= 0.7931330194381152 magnetization= 0.005549967443215266\n",
      "Generating XTRG layers\n"
     ]
    },
    {
     "data": {
      "application/vnd.jupyter.widget-view+json": {
       "model_id": "a3b516e9348f468b85c4431ee3b9ccc7",
       "version_major": 2,
       "version_minor": 0
      },
      "text/plain": [
       "  0%|          | 0/10 [00:00<?, ?it/s]"
      ]
     },
     "metadata": {},
     "output_type": "display_data"
    },
    {
     "name": "stdout",
     "output_type": "stream",
     "text": [
      "XTRG layers generated\n"
     ]
    },
    {
     "data": {
      "application/vnd.jupyter.widget-view+json": {
       "model_id": "48a9d161bcac490a963dab9e0d30e052",
       "version_major": 2,
       "version_minor": 0
      },
      "text/plain": [
       "0it [00:00, ?it/s]"
      ]
     },
     "metadata": {},
     "output_type": "display_data"
    },
    {
     "name": "stdout",
     "output_type": "stream",
     "text": [
      "Generating HOTRG layers\n"
     ]
    },
    {
     "data": {
      "application/vnd.jupyter.widget-view+json": {
       "model_id": "02e13efbb15446ca9afdd430e1a9c45f",
       "version_major": 2,
       "version_minor": 0
      },
      "text/plain": [
       "  0%|          | 0/20 [00:00<?, ?it/s]"
      ]
     },
     "metadata": {},
     "output_type": "display_data"
    },
    {
     "name": "stdout",
     "output_type": "stream",
     "text": [
      "HOTRG layers generated\n"
     ]
    },
    {
     "data": {
      "application/vnd.jupyter.widget-view+json": {
       "model_id": "dbb8fd6e43ec4c58be2f8f37de96107b",
       "version_major": 2,
       "version_minor": 0
      },
      "text/plain": [
       "0it [00:00, ?it/s]"
      ]
     },
     "metadata": {},
     "output_type": "display_data"
    },
    {
     "data": {
      "application/vnd.jupyter.widget-view+json": {
       "model_id": "618b518eecb1444b99f196f53f789523",
       "version_major": 2,
       "version_minor": 0
      },
      "text/plain": [
       "  0%|          | 0/20 [00:00<?, ?it/s]"
      ]
     },
     "metadata": {},
     "output_type": "display_data"
    },
    {
     "name": "stdout",
     "output_type": "stream",
     "text": [
      "beta= 0.252 logTotal= 0.7972740439031099 magnetization= 0.030902209239894844\n",
      "Generating XTRG layers\n"
     ]
    },
    {
     "data": {
      "application/vnd.jupyter.widget-view+json": {
       "model_id": "2661b3b9bdd2416bbc14237dc2a399f6",
       "version_major": 2,
       "version_minor": 0
      },
      "text/plain": [
       "  0%|          | 0/10 [00:00<?, ?it/s]"
      ]
     },
     "metadata": {},
     "output_type": "display_data"
    },
    {
     "name": "stdout",
     "output_type": "stream",
     "text": [
      "XTRG layers generated\n"
     ]
    },
    {
     "data": {
      "application/vnd.jupyter.widget-view+json": {
       "model_id": "74c5f523f54949efbd998223783c6cdf",
       "version_major": 2,
       "version_minor": 0
      },
      "text/plain": [
       "0it [00:00, ?it/s]"
      ]
     },
     "metadata": {},
     "output_type": "display_data"
    },
    {
     "name": "stdout",
     "output_type": "stream",
     "text": [
      "Generating HOTRG layers\n"
     ]
    },
    {
     "data": {
      "application/vnd.jupyter.widget-view+json": {
       "model_id": "f62bac24230b44b8ade3f09afa5f6020",
       "version_major": 2,
       "version_minor": 0
      },
      "text/plain": [
       "  0%|          | 0/20 [00:00<?, ?it/s]"
      ]
     },
     "metadata": {},
     "output_type": "display_data"
    },
    {
     "name": "stdout",
     "output_type": "stream",
     "text": [
      "HOTRG layers generated\n"
     ]
    },
    {
     "data": {
      "application/vnd.jupyter.widget-view+json": {
       "model_id": "37cee8372adf4839a258995c7adbf777",
       "version_major": 2,
       "version_minor": 0
      },
      "text/plain": [
       "0it [00:00, ?it/s]"
      ]
     },
     "metadata": {},
     "output_type": "display_data"
    },
    {
     "data": {
      "application/vnd.jupyter.widget-view+json": {
       "model_id": "1c68e69299fc480593798ec0a31d07b7",
       "version_major": 2,
       "version_minor": 0
      },
      "text/plain": [
       "  0%|          | 0/20 [00:00<?, ?it/s]"
      ]
     },
     "metadata": {},
     "output_type": "display_data"
    },
    {
     "name": "stdout",
     "output_type": "stream",
     "text": [
      "beta= 0.256 logTotal= 0.8020975817325058 magnetization= 0.04981596055939205\n",
      "Generating XTRG layers\n"
     ]
    },
    {
     "data": {
      "application/vnd.jupyter.widget-view+json": {
       "model_id": "ef6c1ff17b284e6f8be6b94ee79a52cd",
       "version_major": 2,
       "version_minor": 0
      },
      "text/plain": [
       "  0%|          | 0/10 [00:00<?, ?it/s]"
      ]
     },
     "metadata": {},
     "output_type": "display_data"
    },
    {
     "name": "stdout",
     "output_type": "stream",
     "text": [
      "XTRG layers generated\n"
     ]
    },
    {
     "data": {
      "application/vnd.jupyter.widget-view+json": {
       "model_id": "e7ef9fd8d6044a03806c602a571754c6",
       "version_major": 2,
       "version_minor": 0
      },
      "text/plain": [
       "0it [00:00, ?it/s]"
      ]
     },
     "metadata": {},
     "output_type": "display_data"
    },
    {
     "name": "stdout",
     "output_type": "stream",
     "text": [
      "Generating HOTRG layers\n"
     ]
    },
    {
     "data": {
      "application/vnd.jupyter.widget-view+json": {
       "model_id": "6633bf8e584047d985ed5f3cb1ed6d2f",
       "version_major": 2,
       "version_minor": 0
      },
      "text/plain": [
       "  0%|          | 0/20 [00:00<?, ?it/s]"
      ]
     },
     "metadata": {},
     "output_type": "display_data"
    },
    {
     "name": "stdout",
     "output_type": "stream",
     "text": [
      "HOTRG layers generated\n"
     ]
    },
    {
     "data": {
      "application/vnd.jupyter.widget-view+json": {
       "model_id": "205ade2364864b5b90b03e4fc87cc517",
       "version_major": 2,
       "version_minor": 0
      },
      "text/plain": [
       "0it [00:00, ?it/s]"
      ]
     },
     "metadata": {},
     "output_type": "display_data"
    },
    {
     "data": {
      "application/vnd.jupyter.widget-view+json": {
       "model_id": "90d763b8b2fc434c820f8cf670286590",
       "version_major": 2,
       "version_minor": 0
      },
      "text/plain": [
       "  0%|          | 0/20 [00:00<?, ?it/s]"
      ]
     },
     "metadata": {},
     "output_type": "display_data"
    },
    {
     "name": "stdout",
     "output_type": "stream",
     "text": [
      "beta= 0.26 logTotal= 0.8079646948467488 magnetization= 0.08514984678635602\n",
      "Generating XTRG layers\n"
     ]
    },
    {
     "data": {
      "application/vnd.jupyter.widget-view+json": {
       "model_id": "911af9fbb80c446a827d3c9404cd8232",
       "version_major": 2,
       "version_minor": 0
      },
      "text/plain": [
       "  0%|          | 0/10 [00:00<?, ?it/s]"
      ]
     },
     "metadata": {},
     "output_type": "display_data"
    },
    {
     "name": "stdout",
     "output_type": "stream",
     "text": [
      "XTRG layers generated\n"
     ]
    },
    {
     "data": {
      "application/vnd.jupyter.widget-view+json": {
       "model_id": "16de7f2a9a4347eb9a215f5f894cfa76",
       "version_major": 2,
       "version_minor": 0
      },
      "text/plain": [
       "0it [00:00, ?it/s]"
      ]
     },
     "metadata": {},
     "output_type": "display_data"
    },
    {
     "name": "stdout",
     "output_type": "stream",
     "text": [
      "Generating HOTRG layers\n"
     ]
    },
    {
     "data": {
      "application/vnd.jupyter.widget-view+json": {
       "model_id": "d44be7ba0ea3441e886d51add6b0ce7f",
       "version_major": 2,
       "version_minor": 0
      },
      "text/plain": [
       "  0%|          | 0/20 [00:00<?, ?it/s]"
      ]
     },
     "metadata": {},
     "output_type": "display_data"
    },
    {
     "name": "stdout",
     "output_type": "stream",
     "text": [
      "HOTRG layers generated\n"
     ]
    },
    {
     "data": {
      "application/vnd.jupyter.widget-view+json": {
       "model_id": "3723f9ac49d14517b1a5d62e0dea8daa",
       "version_major": 2,
       "version_minor": 0
      },
      "text/plain": [
       "0it [00:00, ?it/s]"
      ]
     },
     "metadata": {},
     "output_type": "display_data"
    },
    {
     "data": {
      "application/vnd.jupyter.widget-view+json": {
       "model_id": "b62e3a02beb5418f8d4e1653868d7b04",
       "version_major": 2,
       "version_minor": 0
      },
      "text/plain": [
       "  0%|          | 0/20 [00:00<?, ?it/s]"
      ]
     },
     "metadata": {},
     "output_type": "display_data"
    },
    {
     "name": "stdout",
     "output_type": "stream",
     "text": [
      "beta= 0.264 logTotal= 0.8151673795111487 magnetization= 0.13186209848279168\n",
      "Generating XTRG layers\n"
     ]
    },
    {
     "data": {
      "application/vnd.jupyter.widget-view+json": {
       "model_id": "f02dc8be5e6b400faa1abbb1b6eca855",
       "version_major": 2,
       "version_minor": 0
      },
      "text/plain": [
       "  0%|          | 0/10 [00:00<?, ?it/s]"
      ]
     },
     "metadata": {},
     "output_type": "display_data"
    },
    {
     "name": "stdout",
     "output_type": "stream",
     "text": [
      "XTRG layers generated\n"
     ]
    },
    {
     "data": {
      "application/vnd.jupyter.widget-view+json": {
       "model_id": "4c7a49c798574a10992f744b469e313d",
       "version_major": 2,
       "version_minor": 0
      },
      "text/plain": [
       "0it [00:00, ?it/s]"
      ]
     },
     "metadata": {},
     "output_type": "display_data"
    },
    {
     "name": "stdout",
     "output_type": "stream",
     "text": [
      "Generating HOTRG layers\n"
     ]
    },
    {
     "data": {
      "application/vnd.jupyter.widget-view+json": {
       "model_id": "f7453cd44a8b4621ae8f5469e90c761b",
       "version_major": 2,
       "version_minor": 0
      },
      "text/plain": [
       "  0%|          | 0/20 [00:00<?, ?it/s]"
      ]
     },
     "metadata": {},
     "output_type": "display_data"
    },
    {
     "name": "stdout",
     "output_type": "stream",
     "text": [
      "HOTRG layers generated\n"
     ]
    },
    {
     "data": {
      "application/vnd.jupyter.widget-view+json": {
       "model_id": "0e1cc95b299e4c7087042d362fd02f88",
       "version_major": 2,
       "version_minor": 0
      },
      "text/plain": [
       "0it [00:00, ?it/s]"
      ]
     },
     "metadata": {},
     "output_type": "display_data"
    },
    {
     "data": {
      "application/vnd.jupyter.widget-view+json": {
       "model_id": "d92508973a1142d9b18e262d1bb49731",
       "version_major": 2,
       "version_minor": 0
      },
      "text/plain": [
       "  0%|          | 0/20 [00:00<?, ?it/s]"
      ]
     },
     "metadata": {},
     "output_type": "display_data"
    },
    {
     "name": "stdout",
     "output_type": "stream",
     "text": [
      "beta= 0.268 logTotal= 0.8260447531940887 magnetization= 0.22816314089931716\n",
      "Generating XTRG layers\n"
     ]
    },
    {
     "data": {
      "application/vnd.jupyter.widget-view+json": {
       "model_id": "9b11b8d8924c4042bd6f2b98f22a88ce",
       "version_major": 2,
       "version_minor": 0
      },
      "text/plain": [
       "  0%|          | 0/10 [00:00<?, ?it/s]"
      ]
     },
     "metadata": {},
     "output_type": "display_data"
    },
    {
     "name": "stdout",
     "output_type": "stream",
     "text": [
      "XTRG layers generated\n"
     ]
    },
    {
     "data": {
      "application/vnd.jupyter.widget-view+json": {
       "model_id": "c8a295968dbe4ec49399f24341f83ee8",
       "version_major": 2,
       "version_minor": 0
      },
      "text/plain": [
       "0it [00:00, ?it/s]"
      ]
     },
     "metadata": {},
     "output_type": "display_data"
    },
    {
     "name": "stdout",
     "output_type": "stream",
     "text": [
      "Generating HOTRG layers\n"
     ]
    },
    {
     "data": {
      "application/vnd.jupyter.widget-view+json": {
       "model_id": "e75efd7ac0cc456e8c1ffaa5459856ef",
       "version_major": 2,
       "version_minor": 0
      },
      "text/plain": [
       "  0%|          | 0/20 [00:00<?, ?it/s]"
      ]
     },
     "metadata": {},
     "output_type": "display_data"
    },
    {
     "name": "stdout",
     "output_type": "stream",
     "text": [
      "HOTRG layers generated\n"
     ]
    },
    {
     "data": {
      "application/vnd.jupyter.widget-view+json": {
       "model_id": "199974037cac4ff3a6973d4bc3061161",
       "version_major": 2,
       "version_minor": 0
      },
      "text/plain": [
       "0it [00:00, ?it/s]"
      ]
     },
     "metadata": {},
     "output_type": "display_data"
    },
    {
     "data": {
      "application/vnd.jupyter.widget-view+json": {
       "model_id": "2d3e6e96ddea4678bff589189637f957",
       "version_major": 2,
       "version_minor": 0
      },
      "text/plain": [
       "  0%|          | 0/20 [00:00<?, ?it/s]"
      ]
     },
     "metadata": {},
     "output_type": "display_data"
    },
    {
     "name": "stdout",
     "output_type": "stream",
     "text": [
      "beta= 0.272 logTotal= 0.8376619532853554 magnetization= 0.31616593809477483\n",
      "Generating XTRG layers\n"
     ]
    },
    {
     "data": {
      "application/vnd.jupyter.widget-view+json": {
       "model_id": "6d89cecf65e841cb88c6e8072396c38a",
       "version_major": 2,
       "version_minor": 0
      },
      "text/plain": [
       "  0%|          | 0/10 [00:00<?, ?it/s]"
      ]
     },
     "metadata": {},
     "output_type": "display_data"
    },
    {
     "name": "stdout",
     "output_type": "stream",
     "text": [
      "XTRG layers generated\n"
     ]
    },
    {
     "data": {
      "application/vnd.jupyter.widget-view+json": {
       "model_id": "45daa161dea54c6da3a57ed47ad7a9c9",
       "version_major": 2,
       "version_minor": 0
      },
      "text/plain": [
       "0it [00:00, ?it/s]"
      ]
     },
     "metadata": {},
     "output_type": "display_data"
    },
    {
     "name": "stdout",
     "output_type": "stream",
     "text": [
      "Generating HOTRG layers\n"
     ]
    },
    {
     "data": {
      "application/vnd.jupyter.widget-view+json": {
       "model_id": "54a8aaa7fb9e4c37890b125cedca08fa",
       "version_major": 2,
       "version_minor": 0
      },
      "text/plain": [
       "  0%|          | 0/20 [00:00<?, ?it/s]"
      ]
     },
     "metadata": {},
     "output_type": "display_data"
    },
    {
     "name": "stdout",
     "output_type": "stream",
     "text": [
      "HOTRG layers generated\n"
     ]
    },
    {
     "data": {
      "application/vnd.jupyter.widget-view+json": {
       "model_id": "6a8ddb4415d74111965b3ffddb310ce2",
       "version_major": 2,
       "version_minor": 0
      },
      "text/plain": [
       "0it [00:00, ?it/s]"
      ]
     },
     "metadata": {},
     "output_type": "display_data"
    },
    {
     "data": {
      "application/vnd.jupyter.widget-view+json": {
       "model_id": "d625c7baaf0249cab2143de0322f2af7",
       "version_major": 2,
       "version_minor": 0
      },
      "text/plain": [
       "  0%|          | 0/20 [00:00<?, ?it/s]"
      ]
     },
     "metadata": {},
     "output_type": "display_data"
    },
    {
     "name": "stdout",
     "output_type": "stream",
     "text": [
      "beta= 0.276 logTotal= 0.8525524382326071 magnetization= 0.42245527240389674\n",
      "Generating XTRG layers\n"
     ]
    },
    {
     "data": {
      "application/vnd.jupyter.widget-view+json": {
       "model_id": "91db0e67ce584303a078880fa48a8226",
       "version_major": 2,
       "version_minor": 0
      },
      "text/plain": [
       "  0%|          | 0/10 [00:00<?, ?it/s]"
      ]
     },
     "metadata": {},
     "output_type": "display_data"
    },
    {
     "name": "stdout",
     "output_type": "stream",
     "text": [
      "XTRG layers generated\n"
     ]
    },
    {
     "data": {
      "application/vnd.jupyter.widget-view+json": {
       "model_id": "104868f432ee479081cf01d14b0ef34b",
       "version_major": 2,
       "version_minor": 0
      },
      "text/plain": [
       "0it [00:00, ?it/s]"
      ]
     },
     "metadata": {},
     "output_type": "display_data"
    },
    {
     "name": "stdout",
     "output_type": "stream",
     "text": [
      "Generating HOTRG layers\n"
     ]
    },
    {
     "data": {
      "application/vnd.jupyter.widget-view+json": {
       "model_id": "457b0649d0784213a7900c4ef8f59ea7",
       "version_major": 2,
       "version_minor": 0
      },
      "text/plain": [
       "  0%|          | 0/20 [00:00<?, ?it/s]"
      ]
     },
     "metadata": {},
     "output_type": "display_data"
    },
    {
     "name": "stdout",
     "output_type": "stream",
     "text": [
      "HOTRG layers generated\n"
     ]
    },
    {
     "data": {
      "application/vnd.jupyter.widget-view+json": {
       "model_id": "78bf5c2a860a47e5868592f76e310573",
       "version_major": 2,
       "version_minor": 0
      },
      "text/plain": [
       "0it [00:00, ?it/s]"
      ]
     },
     "metadata": {},
     "output_type": "display_data"
    },
    {
     "data": {
      "application/vnd.jupyter.widget-view+json": {
       "model_id": "9889cb241b804d28859473f307969c42",
       "version_major": 2,
       "version_minor": 0
      },
      "text/plain": [
       "  0%|          | 0/20 [00:00<?, ?it/s]"
      ]
     },
     "metadata": {},
     "output_type": "display_data"
    },
    {
     "name": "stdout",
     "output_type": "stream",
     "text": [
      "beta= 0.28 logTotal= 0.8612582327395342 magnetization= 0.45493127445976306\n"
     ]
    }
   ],
   "source": [
    "data=[]\n",
    "for beta in np.linspace(0.20,0.24,11):\n",
    "    model=Ising3D({'beta': beta})\n",
    "    T0=model.get_T0()\n",
    "    T0_op,checkerboard=model.get_observables()['magnetization']\n",
    "\n",
    "    layers,Ts,logTotals=XTRG_layers(T0,max_dim=16,nLayers=10,return_tensors=True)\n",
    "    Ts,T_ops,logTotals=forward_XTRG_observable_tensor(T0,T0_op,layers,checkerboard=checkerboard,\n",
    "                                                        return_layers=True,cached_Ts=Ts)\n",
    "    \n",
    "    T10=partial_trace_XTRG_tensor(Ts[-1])\n",
    "    T10_op=partial_trace_XTRG_tensor(T_ops[-1])\n",
    "    layers1,Ts1,logTotals1=HOTRG_layers(T10,max_dim=24,nLayers=20,return_tensors=True)\n",
    "    Ts1,T_ops1,logTotals1=forward_observable_tensor(T10,T10_op,layers1,checkerboard=checkerboard,\n",
    "                                                        return_layers=True,cached_Ts=Ts1)\n",
    "    logTotal=logTotals[-1]*2**20+logTotals1[-1]+trace_tensor(Ts1[-1]).log()\n",
    "    logTotal=logTotal/2**30\n",
    "\n",
    "    magnetization=trace_two_tensors(T_ops1[-1],T_ops1[-1])/trace_two_tensors(Ts1[-1],Ts1[-1])\n",
    "\n",
    "\n",
    "    print('beta=',beta,'logTotal=',logTotal.item(),'magnetization=',magnetization.item())\n",
    "    data.append({'beta':beta,'logTotal':logTotal.item(),'magnetization':magnetization.item()})\n"
   ]
  },
  {
   "cell_type": "code",
   "execution_count": 13,
   "metadata": {},
   "outputs": [
    {
     "data": {
      "image/png": "[encoded data removed]",
      "text/plain": [
       "<Figure size 432x288 with 1 Axes>"
      ]
     },
     "metadata": {
      "needs_background": "light"
     },
     "output_type": "display_data"
    },
    {
     "data": {
      "image/png": "[encoded data removed]",
      "text/plain": [
       "<Figure size 432x288 with 1 Axes>"
      ]
     },
     "metadata": {
      "needs_background": "light"
     },
     "output_type": "display_data"
    }
   ],
   "source": [
    "curve=pd.DataFrame(data)\n",
    "plt.plot(curve['beta'],curve['logTotal'],'o-')\n",
    "plt.show()\n",
    "\n",
    "plt.plot(curve['beta'],curve['magnetization'],'o-')\n",
    "plt.show()\n"
   ]
  },
  {
   "cell_type": "code",
   "execution_count": null,
   "metadata": {},
   "outputs": [],
   "source": []
  },
  {
   "cell_type": "code",
   "execution_count": null,
   "metadata": {},
   "outputs": [],
   "source": [
    "def XTRG_3D_defect(T0,T0_op,max_dim,nLayers):\n",
    "    T,T_op,logTotal=T0,T0_op,0\n",
    "    for i in tqdm(range(nLayers),leave=False):\n",
    "        norm=gauge_invariant_norm(T)\n",
    "        logTotal=2*(logTotal+norm.log())\n",
    "        T,T_op=T/norm,T_op/norm\n",
    "        T_op=_XTRG_layer_3D(T_op,T,max_dim=max_dim)[0]\n",
    "        T=_XTRG_layer_3D(T,T,max_dim=max_dim)[0]\n",
    "    return T,T_op\n"
   ]
  },
  {
   "cell_type": "code",
   "execution_count": 11,
   "metadata": {},
   "outputs": [],
   "source": [
    "T,T_op=XTRG_3D_defect(T0,T0_op,max_dim=16,nLayers=20)\n",
    "Y0=contract('aaijkl->ijkl',T)\n",
    "Y0_op=contract('aaijkl->ijkl',T_op)"
   ]
  },
  {
   "cell_type": "code",
   "execution_count": 13,
   "metadata": {},
   "outputs": [
    {
     "name": "stdout",
     "output_type": "stream",
     "text": [
      "Generating HOTRG layers\n"
     ]
    },
    {
     "data": {
      "application/vnd.jupyter.widget-view+json": {
       "model_id": "6be4885dd1a144bb982ae9907c419439",
       "version_major": 2,
       "version_minor": 0
      },
      "text/plain": [
       "  0%|          | 0/30 [00:00<?, ?it/s]"
      ]
     },
     "metadata": {},
     "output_type": "display_data"
    },
    {
     "name": "stdout",
     "output_type": "stream",
     "text": [
      "HOTRG layers generated\n"
     ]
    }
   ],
   "source": [
    "from HOTRGZ2 import forward_observable_tensors,HOTRG_layers,trace_tensor\n",
    "\n",
    "\n",
    "layers,Ys,logTotals=HOTRG_layers(Y0,max_dim=16,nLayers=30,return_tensors=True)"
   ]
  },
  {
   "cell_type": "code",
   "execution_count": 15,
   "metadata": {},
   "outputs": [
    {
     "data": {
      "application/vnd.jupyter.widget-view+json": {
       "model_id": "4503e6bef1b647ef9184ff3f23d95339",
       "version_major": 2,
       "version_minor": 0
      },
      "text/plain": [
       "  0%|          | 0/32 [00:00<?, ?it/s]"
      ]
     },
     "metadata": {},
     "output_type": "display_data"
    }
   ],
   "source": [
    "filename='./data/ising3d_xtrg_X16_corr'\n",
    "T0_op,checkerboard=model.get_observables()['magnetization']\n",
    "data=[]\n",
    "for r in tqdm(np.geomspace(2,1023,32)):\n",
    "    theta=np.random.uniform(0,.5*np.pi)\n",
    "    dx,dy=int(r*np.sin(theta)),int(r*np.cos(theta))\n",
    "    x1,y1=np.random.randint(0,1024-dx),np.random.randint(0,1024-dy)\n",
    "    x2,y2=x1+dx,y1+dy\n",
    "    T,T_op,logTotal=forward_observable_tensors(Y0,[Y0_op,Y0_op],[(x1,y1),(x2,y2)],layers,cached_Ts=Ys,user_tqdm=False)\n",
    "    corr=trace_tensor(T_op)/trace_tensor(T)\n",
    "    data.append({'corr':corr.item(),\n",
    "                 'x1':x1,'y1':y1,\n",
    "                 'x2':x2,'y2':y2,\n",
    "    })\n",
    "# save \n",
    "torch.save(data,filename)\n"
   ]
  },
  {
   "cell_type": "code",
   "execution_count": 16,
   "metadata": {},
   "outputs": [
    {
     "data": {
      "image/png": "[encoded data removed]",
      "text/plain": [
       "<Figure size 432x288 with 1 Axes>"
      ]
     },
     "metadata": {
      "needs_background": "light"
     },
     "output_type": "display_data"
    }
   ],
   "source": [
    "curve=pd.DataFrame(torch.load('./data/ising3d_xtrg_X16_corr'))\n",
    "curve['r']=np.sqrt((curve['x1']-curve['x2'])**2+(curve['y1']-curve['y2'])**2)\n",
    "\n",
    "import scipy.stats\n",
    "slope,intercept,r_value,p_value,std_err=scipy.stats.linregress(np.log(curve['r']),np.log(np.abs(curve['corr'])))\n",
    "\n",
    "\n",
    "plt.plot(curve['r'],np.abs(curve['corr']),'o',label='data')\n",
    "plt.plot(curve['r'],np.exp(intercept)*curve['r']**slope,label=f'fit: {slope:.2f}')\n",
    "plt.legend()\n",
    "plt.xscale('log')\n",
    "plt.yscale('log')\n",
    "plt.xlabel('r')\n",
    "plt.ylabel('correlation function')\n",
    "plt.ylim([1e-7,1])\n",
    "plt.title('Ising 3D, XTRG, X=16, Tc')\n",
    "plt.show()"
   ]
  }
 ],
 "metadata": {
  "kernelspec": {
   "display_name": "Julia 1.8.5",
   "language": "julia",
   "name": "julia-1.8"
  },
  "language_info": {
   "file_extension": ".jl",
   "mimetype": "application/julia",
   "name": "julia",
   "version": "1.8.5"
  },
  "vscode": {
   "interpreter": {
    "hash": "290ca843ed4e373177a40a12867399d06f98eef90a593236e21573dfbc92bc66"
   }
  }
 },
 "nbformat": 4,
 "nbformat_minor": 2
}
