{
 "cells": [
  {
   "cell_type": "code",
   "execution_count": 1,
   "metadata": {},
   "outputs": [],
   "source": [
    "from opt_einsum import contract\n",
    "import torch\n",
    "torch.set_default_tensor_type(torch.cuda.DoubleTensor)\n",
    "device=torch.device('cuda:1')\n",
    "torch.cuda.set_device(device)\n",
    "import numpy as np\n",
    "from tqdm.auto import tqdm\n",
    "import pandas as pd \n",
    "import matplotlib.pyplot as plt"
   ]
  },
  {
   "cell_type": "code",
   "execution_count": 2,
   "metadata": {},
   "outputs": [],
   "source": [
    "from TNModels import Ising3D"
   ]
  },
  {
   "cell_type": "code",
   "execution_count": 8,
   "metadata": {},
   "outputs": [],
   "source": [
    "model=Ising3D(Ising3D.get_default_params())\n",
    "T0=model.get_T0()\n",
    "T0_op,checkerboard=model.get_observables()['magnetization']"
   ]
  },
  {
   "cell_type": "code",
   "execution_count": 9,
   "metadata": {},
   "outputs": [
    {
     "data": {
      "application/vnd.jupyter.widget-view+json": {
       "model_id": "36ca4f65820f46d3aebc0308b6466e99",
       "version_major": 2,
       "version_minor": 0
      },
      "text/plain": [
       "  0%|          | 0/20 [00:00<?, ?it/s]"
      ]
     },
     "metadata": {},
     "output_type": "display_data"
    }
   ],
   "source": [
    "from HOSVD import _HOSVD_layer_3D,gauge_invariant_norm\n",
    "def _XTRG_layer_3D(Ta,Tb,max_dim):\n",
    "    Tn,layer=_HOSVD_layer_3D(Ta,Tb,max_dim=max_dim)\n",
    "    Tn=contract('abcdio->ioabcd',Tn)\n",
    "    return Tn,layer\n",
    "\n",
    "def XTRG_3D_defect(T0,T0_op,max_dim,nLayers):\n",
    "    T,T_op,logTotal=T0,T0_op,0\n",
    "    for i in tqdm(range(nLayers),leave=False):\n",
    "        norm=gauge_invariant_norm(T)\n",
    "        logTotal=2*(logTotal+norm.log())\n",
    "        T,T_op=T/norm,T_op/norm\n",
    "        T_op=_XTRG_layer_3D(T_op,T,max_dim=max_dim)[0]\n",
    "        T=_XTRG_layer_3D(T,T,max_dim=max_dim)[0]\n",
    "    return T,T_op\n",
    "\n",
    "T,T_op=XTRG_3D_defect(T0,T0_op,max_dim=16,nLayers=20)"
   ]
  },
  {
   "cell_type": "code",
   "execution_count": 11,
   "metadata": {},
   "outputs": [],
   "source": [
    "Y0=contract('aaijkl->ijkl',T)\n",
    "Y0_op=contract('aaijkl->ijkl',T_op)"
   ]
  },
  {
   "cell_type": "code",
   "execution_count": 13,
   "metadata": {},
   "outputs": [
    {
     "name": "stdout",
     "output_type": "stream",
     "text": [
      "Generating HOTRG layers\n"
     ]
    },
    {
     "data": {
      "application/vnd.jupyter.widget-view+json": {
       "model_id": "6be4885dd1a144bb982ae9907c419439",
       "version_major": 2,
       "version_minor": 0
      },
      "text/plain": [
       "  0%|          | 0/30 [00:00<?, ?it/s]"
      ]
     },
     "metadata": {},
     "output_type": "display_data"
    },
    {
     "name": "stdout",
     "output_type": "stream",
     "text": [
      "HOTRG layers generated\n"
     ]
    }
   ],
   "source": [
    "from HOTRGZ2 import forward_observable_tensors,HOTRG_layers,trace_tensor\n",
    "\n",
    "\n",
    "layers,Ys,logTotals=HOTRG_layers(Y0,max_dim=16,nLayers=30,return_tensors=True)"
   ]
  },
  {
   "cell_type": "code",
   "execution_count": 15,
   "metadata": {},
   "outputs": [
    {
     "data": {
      "application/vnd.jupyter.widget-view+json": {
       "model_id": "4503e6bef1b647ef9184ff3f23d95339",
       "version_major": 2,
       "version_minor": 0
      },
      "text/plain": [
       "  0%|          | 0/32 [00:00<?, ?it/s]"
      ]
     },
     "metadata": {},
     "output_type": "display_data"
    }
   ],
   "source": [
    "filename='./data/ising3d_xtrg_X16_corr'\n",
    "T0_op,checkerboard=model.get_observables()['magnetization']\n",
    "data=[]\n",
    "for r in tqdm(np.geomspace(2,1023,32)):\n",
    "    theta=np.random.uniform(0,.5*np.pi)\n",
    "    dx,dy=int(r*np.sin(theta)),int(r*np.cos(theta))\n",
    "    x1,y1=np.random.randint(0,1024-dx),np.random.randint(0,1024-dy)\n",
    "    x2,y2=x1+dx,y1+dy\n",
    "    T,T_op,logTotal=forward_observable_tensors(Y0,[Y0_op,Y0_op],[(x1,y1),(x2,y2)],layers,cached_Ts=Ys,user_tqdm=False)\n",
    "    corr=trace_tensor(T_op)/trace_tensor(T)\n",
    "    data.append({'corr':corr.item(),\n",
    "                 'x1':x1,'y1':y1,\n",
    "                 'x2':x2,'y2':y2,\n",
    "    })\n",
    "# save \n",
    "torch.save(data,filename)\n"
   ]
  },
  {
   "cell_type": "code",
   "execution_count": 16,
   "metadata": {},
   "outputs": [
    {
     "data": {
      "image/png": "[encoded data removed]",
      "text/plain": [
       "<Figure size 432x288 with 1 Axes>"
      ]
     },
     "metadata": {
      "needs_background": "light"
     },
     "output_type": "display_data"
    }
   ],
   "source": [
    "curve=pd.DataFrame(torch.load('./data/ising3d_xtrg_X16_corr'))\n",
    "curve['r']=np.sqrt((curve['x1']-curve['x2'])**2+(curve['y1']-curve['y2'])**2)\n",
    "\n",
    "import scipy.stats\n",
    "slope,intercept,r_value,p_value,std_err=scipy.stats.linregress(np.log(curve['r']),np.log(np.abs(curve['corr'])))\n",
    "\n",
    "\n",
    "plt.plot(curve['r'],np.abs(curve['corr']),'o',label='data')\n",
    "plt.plot(curve['r'],np.exp(intercept)*curve['r']**slope,label=f'fit: {slope:.2f}')\n",
    "plt.legend()\n",
    "plt.xscale('log')\n",
    "plt.yscale('log')\n",
    "plt.xlabel('r')\n",
    "plt.ylabel('correlation function')\n",
    "plt.ylim([1e-7,1])\n",
    "plt.title('Ising 3D, XTRG, X=16, Tc')\n",
    "plt.show()"
   ]
  },
  {
   "cell_type": "code",
   "execution_count": null,
   "metadata": {},
   "outputs": [],
   "source": []
  }
 ],
 "metadata": {
  "kernelspec": {
   "display_name": "tf-gpu",
   "language": "python",
   "name": "tf-gpu"
  },
  "language_info": {
   "codemirror_mode": {
    "name": "ipython",
    "version": 3
   },
   "file_extension": ".py",
   "mimetype": "text/x-python",
   "name": "python",
   "nbconvert_exporter": "python",
   "pygments_lexer": "ipython3",
   "version": "3.9.15"
  }
 },
 "nbformat": 4,
 "nbformat_minor": 2
}
