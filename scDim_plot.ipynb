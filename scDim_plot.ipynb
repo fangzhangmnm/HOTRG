{
 "cells": [
  {
   "cell_type": "code",
   "execution_count": 4,
   "id": "b754df03",
   "metadata": {},
   "outputs": [],
   "source": [
    "import torch\n",
    "import numpy as np\n",
    "torch.set_default_tensor_type(torch.cuda.DoubleTensor)\n",
    "options1, params, layers, Ts, logTotals = torch.load('data/hotrg_gilt_X24.pkl')\n"
   ]
  },
  {
   "cell_type": "code",
   "execution_count": 3,
   "id": "547d03a6",
   "metadata": {},
   "outputs": [],
   "source": [
    "from ScalingDimensions import get_transfer_matrix_spectrum_2D, get_scaling_dimensions"
   ]
  },
  {
   "cell_type": "code",
   "execution_count": 11,
   "id": "2dd29987",
   "metadata": {},
   "outputs": [
    {
     "name": "stdout",
     "output_type": "stream",
     "text": [
      "layer  0  T= tensor([[[[ 2.4142e+00,  5.3260e-18],\n",
      "          [ 5.3260e-18,  1.0000e+00]],\n",
      "\n",
      "         [[ 5.3260e-18,  1.0000e+00],\n",
      "          [ 1.0000e+00, -8.5109e-19]]],\n",
      "\n",
      "\n",
      "        [[[ 5.3260e-18,  1.0000e+00],\n",
      "          [ 1.0000e+00, -8.5109e-19]],\n",
      "\n",
      "         [[ 1.0000e+00, -8.5109e-19],\n",
      "          [-8.5109e-19,  4.1421e-01]]]])\n",
      "torch.Size([4])\n"
     ]
    }
   ],
   "source": [
    "for iLayer,T in enumerate(Ts[:1]):\n",
    "    print('layer ',iLayer)\n",
    "    loop_length=2\n",
    "    aspect=[loop_length,loop_length*2][iLayer%2]\n",
    "    u,s,_=get_transfer_matrix_spectrum_2D(T,loop_length=loop_length)\n",
    "    scaling_dimensions=get_scaling_dimensions(s,scaling=np.exp(2*np.pi/aspect))\n",
    "    print(s.shape)"
   ]
  },
  {
   "cell_type": "code",
   "execution_count": null,
   "id": "8980d033",
   "metadata": {},
   "outputs": [],
   "source": []
  }
 ],
 "metadata": {
  "kernelspec": {
   "display_name": "tf-gpu",
   "language": "python",
   "name": "tf-gpu"
  },
  "language_info": {
   "codemirror_mode": {
    "name": "ipython",
    "version": 3
   },
   "file_extension": ".py",
   "mimetype": "text/x-python",
   "name": "python",
   "nbconvert_exporter": "python",
   "pygments_lexer": "ipython3",
   "version": "3.9.15"
  }
 },
 "nbformat": 4,
 "nbformat_minor": 5
}
